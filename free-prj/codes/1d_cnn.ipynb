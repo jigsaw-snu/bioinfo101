{
 "cells": [
  {
   "cell_type": "markdown",
   "metadata": {},
   "source": [
    "### Construct simple CNN model (1D Convolutional Network)"
   ]
  },
  {
   "cell_type": "code",
   "execution_count": 3,
   "metadata": {},
   "outputs": [],
   "source": [
    "import numpy as np\n",
    "import pandas as pd\n",
    "\n",
    "from sklearn.model_selection import train_test_split\n",
    "\n",
    "import tensorflow as tf\n",
    "from tensorflow.keras import Model\n",
    "from tensorflow.keras.layers import Layer, Input, Embedding, Conv1D, BatchNormalization, LeakyReLU, MaxPooling1D, Flatten, Dense, Softmax\n",
    "from tensorflow.keras.optimizers import Adam"
   ]
  },
  {
   "cell_type": "markdown",
   "metadata": {},
   "source": [
    "#### Prepare Training Datset"
   ]
  },
  {
   "cell_type": "code",
   "execution_count": 4,
   "metadata": {},
   "outputs": [
    {
     "name": "stdout",
     "output_type": "stream",
     "text": [
      "                                                 Sequence        RBP Class\n",
      "80583   GTCTGCTGTCTCTACACCATCTCCATCATGGGCAATACCACCATCC...   hnRNPC-2     0\n",
      "11124   AAAAAAAGTTCAAGAGTGTAACTAGTTCACCCCAAGGTAGTGTGTG...     Ago2-1     0\n",
      "26845   TGAAGATGAGAAACTTCAAGGCAAGATTAACGATGAGGACAAACAG...  eIF4III-1     1\n",
      "81415   CCCACCCCATCCCAGGTCACCACCTGGCTGAACCCAGGTCCCCGAC...   hnRNPC-2     0\n",
      "130220  CTGTTCCTATATGCTTCTTAGAATCCTTAAGCCACCTCTCTTGCCT...     TDP-43     0 \n",
      "\n",
      "                                                 Sequence           RBP Class\n",
      "58619   GCAGACTTACCATGCCAAAGTGAGCTCTCTTCAGAAGATTCTTTTG...         ESWR1     1\n",
      "6660    AAATTTGAATAGGAATTGGGTATGAAATCATACAAAGATGATCTAT...    Ago2-MNase     0\n",
      "42266   GTAGCACCCCGAAGTAGAGCTTTCTGCTCTGCTCCTGGAAAAGGCT...  ELAVL1-MNase     1\n",
      "142944  CCAGGCGGGGTCAGTGTTGCGCACTGGGGATAGTGCCTCTGCTCGG...         TIAL1     0\n",
      "119316  ATGTGTAGTCATGGTTTTGATTTTTATTTACACCTTTTGAAATTTG...           QKI     0 \n",
      "\n",
      "                                            Sequence      RBP Class\n",
      "0  TTAATTGGCCGGGACTTAATTTGATTCCATCTTATACTTTGTTACC...  Ago-EIF     0\n",
      "1  TGAGGCCTAGAGCCAGTGGAGCTCTCACACAGTTGATGAGCCCGTG...  Ago-EIF     0\n",
      "2  GACCAGCTTTCAGGAGTTGATCTTTTTGCTGTAGGATAATTTTCTG...  Ago-EIF     0\n",
      "3  AGGTGCAGTGGCACAATCAGAGCTCACTGCAGCCTCCAGCTCCTGG...  Ago-EIF     0\n",
      "4  AAAGTAATGTCACAGCGACATATGATAGATGGACGATGGTGTGACT...  Ago-EIF     1 \n",
      "\n",
      "(124000, 3)\t(31000, 3)\t(31000, 3)\n"
     ]
    }
   ],
   "source": [
    "train_5k = pd.read_feather('./../dataset/objs/train_5k.ftr')\n",
    "test_5k = pd.read_feather('./../dataset/objs/test_5k.ftr')\n",
    "\n",
    "train_5k, validate_5k = train_test_split(train_5k, train_size = 0.8, random_state=42)\n",
    "\n",
    "train_X = train_5k['Sequence']\n",
    "train_y = train_5k['Class']\n",
    "\n",
    "validate_X = validate_5k['Sequence']\n",
    "validate_y = validate_5k['Class']\n",
    "\n",
    "test_X = test_5k['Sequence']\n",
    "test_y = test_5k['Class']\n",
    "\n",
    "print(train_5k.head(), '\\n') # 80% of train set\n",
    "print(validate_5k.head(), '\\n') # 20% of train set\n",
    "print(test_5k.head(), '\\n') # 100% of test set\n",
    "print(train_5k.shape, validate_5k.shape, test_5k.shape, sep='\\t')"
   ]
  },
  {
   "cell_type": "code",
   "execution_count": 15,
   "metadata": {},
   "outputs": [
    {
     "data": {
      "text/plain": [
       "'G'"
      ]
     },
     "execution_count": 15,
     "metadata": {},
     "output_type": "execute_result"
    }
   ],
   "source": [
    "train_X.tolist()[:5][0][0]"
   ]
  },
  {
   "cell_type": "code",
   "execution_count": 27,
   "metadata": {},
   "outputs": [
    {
     "data": {
      "text/plain": [
       "{'A', 'C', 'G', 'N', 'T'}"
      ]
     },
     "execution_count": 27,
     "metadata": {},
     "output_type": "execute_result"
    }
   ],
   "source": [
    "set([x for seq in train_X.tolist() for x in seq])"
   ]
  },
  {
   "cell_type": "markdown",
   "metadata": {},
   "source": [
    "#### One Hot Encoding & Embedding"
   ]
  },
  {
   "cell_type": "code",
   "execution_count": 35,
   "metadata": {},
   "outputs": [
    {
     "name": "stdout",
     "output_type": "stream",
     "text": [
      "ACGNT\n"
     ]
    }
   ],
   "source": [
    "# Check bases\n",
    "bases = ''.join(sorted(set([x for seq in train_X.tolist() for x in seq])))\n",
    "\n",
    "base_dict = dict((v, k) for (k, v) in dict(enumerate(bases)).items())\n",
    "\n",
    "train_X_int = [[bases.index(c) for c in seq] for seq in train_X.tolist()]\n",
    "\n",
    "train_X_onehot = np.eye(len(bases))[train_X_int]"
   ]
  },
  {
   "cell_type": "code",
   "execution_count": 40,
   "metadata": {},
   "outputs": [
    {
     "name": "stdout",
     "output_type": "stream",
     "text": [
      "ACGNT\n",
      "(124000, 101, 5)\n"
     ]
    }
   ],
   "source": [
    "print(bases)\n",
    "print(train_X_onehot.shape)"
   ]
  },
  {
   "cell_type": "markdown",
   "metadata": {},
   "source": [
    "#### Model Construction"
   ]
  },
  {
   "cell_type": "code",
   "execution_count": null,
   "metadata": {},
   "outputs": [],
   "source": [
    "model_config = dict()\n",
    "model_config['conv1d_dim']\n",
    "model_config['']"
   ]
  },
  {
   "cell_type": "code",
   "execution_count": null,
   "metadata": {},
   "outputs": [],
   "source": [
    "# 1D Convolution Network with One Hot Encoding\n",
    "def model_1dcnn_onehot(Model):\n",
    "\n",
    "    def __init__(self):\n",
    "        super(model_1dcnn_onehot, self).__init__()\n",
    "\n",
    "        self.conv1d = Conv1D(filters=num_filters, kernel_size=kernel_size, strides=strides, padding='same')\n",
    "        self.bnrm = BatchNormalization()\n",
    "        self.lrelu = LeakyReLU()\n",
    "        self.flateen = Flatten()\n",
    "        self.dense = Dense(1) # 1('Y') or 0('N')\n",
    "\n",
    "    def call(self, inputs):\n",
    "        x = tf.expand_dims()\n",
    "\n",
    "\n",
    "\n",
    "# 1D Convolution Network with Embedding Layer\n",
    "def model_1dcnn_embed(Model):\n",
    "\n",
    "    def __init__(self):\n",
    "        super(model_1dcnn_embed, self).__init__()"
   ]
  }
 ],
 "metadata": {
  "interpreter": {
   "hash": "c51666a50ffeaa16e3d0b681020e9d30ab6b2a31023c896cc4f4794ea395fe4a"
  },
  "kernelspec": {
   "display_name": "Python 3.8.13",
   "language": "python",
   "name": "python3"
  },
  "language_info": {
   "codemirror_mode": {
    "name": "ipython",
    "version": 3
   },
   "file_extension": ".py",
   "mimetype": "text/x-python",
   "name": "python",
   "nbconvert_exporter": "python",
   "pygments_lexer": "ipython3",
   "version": "3.8.13"
  },
  "orig_nbformat": 4
 },
 "nbformat": 4,
 "nbformat_minor": 2
}
