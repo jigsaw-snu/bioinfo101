{
 "cells": [
  {
   "cell_type": "markdown",
   "metadata": {},
   "source": [
    "### Construct simple CNN model (1D Convolutional Network)"
   ]
  },
  {
   "cell_type": "code",
   "execution_count": 1,
   "metadata": {},
   "outputs": [],
   "source": [
    "import numpy as np\n",
    "import pandas as pd\n",
    "\n",
    "import tensorflow as tf\n",
    "from tensorflow.keras import Model\n",
    "from tensorflow.keras.layers import Layer, Input, Embedding, Conv1D, BatchNormalization, LeakyReLU, MaxPooling2D, Flatten, Dense, Softmax\n",
    "from tensorflow.keras.optimizers import Adam"
   ]
  },
  {
   "cell_type": "markdown",
   "metadata": {},
   "source": [
    "#### Model Construction"
   ]
  },
  {
   "cell_type": "code",
   "execution_count": null,
   "metadata": {},
   "outputs": [],
   "source": [
    "num_filters = 64\n",
    "kernel_size = 3,\n",
    "strides = 3\n",
    "hidden_units = 64"
   ]
  },
  {
   "cell_type": "code",
   "execution_count": null,
   "metadata": {},
   "outputs": [],
   "source": [
    "# 1D Convolution Network\n",
    "def cnn1d(Model):\n",
    "\n",
    "    def __init__(self):\n",
    "        super(cnn1d, self).__init__()\n",
    "\n",
    "        self.conv1d = Conv1D(filters=num_filters, kernel_size=kernel_size, strides=strides, padding='same')\n",
    "        self.bnrm = BatchNormalization()\n",
    "        self.lrelu = LeakyReLU()\n",
    "        self.flateen = Flatten()\n",
    "        self.dense = Dense(1) # 1('Y') or 0('N')\n",
    "\n",
    "    def call(self, inputs):\n",
    "        x = tf.expand_dims()"
   ]
  }
 ],
 "metadata": {
  "interpreter": {
   "hash": "c51666a50ffeaa16e3d0b681020e9d30ab6b2a31023c896cc4f4794ea395fe4a"
  },
  "kernelspec": {
   "display_name": "Python 3.8.13",
   "language": "python",
   "name": "python3"
  },
  "language_info": {
   "codemirror_mode": {
    "name": "ipython",
    "version": 3
   },
   "file_extension": ".py",
   "mimetype": "text/x-python",
   "name": "python",
   "nbconvert_exporter": "python",
   "pygments_lexer": "ipython3",
   "version": "3.8.13"
  },
  "orig_nbformat": 4
 },
 "nbformat": 4,
 "nbformat_minor": 2
}
