{
 "cells": [
  {
   "cell_type": "markdown",
   "metadata": {},
   "source": [
    "### Construct simple CNN model (1D Convolutional Network)"
   ]
  },
  {
   "cell_type": "code",
   "execution_count": null,
   "metadata": {},
   "outputs": [],
   "source": [
    "import numpy as np\n",
    "import pandas as pd\n",
    "\n",
    "import tensorflow as tf\n",
    "from tensorflow.keras import Model\n",
    "from tensorflow.keras.layers import Layer, Input, Embedding, Conv1D, BatchNormalization, ReLU, MaxPooling2D, Flatten, Dense, Softmax\n",
    "from tensorflow.keras.optimizers import Adam"
   ]
  },
  {
   "cell_type": "markdown",
   "metadata": {},
   "source": [
    "#### Sample Preparation & Preprocessing"
   ]
  },
  {
   "cell_type": "markdown",
   "metadata": {},
   "source": [
    "##### Preprocessing Positive Samples"
   ]
  },
  {
   "cell_type": "code",
   "execution_count": 1,
   "metadata": {},
   "outputs": [
    {
     "data": {
      "text/plain": [
       "31"
      ]
     },
     "execution_count": 1,
     "metadata": {},
     "output_type": "execute_result"
    }
   ],
   "source": [
    "clip_dir = \"./../data/clip5000\"\n",
    "\n",
    "clip_list = [\n",
    "    'Ago_EIF',\n",
    "    'Ago2-MNase',\n",
    "    'Ago2-1',\n",
    "    'Ago2-2',\n",
    "    'Ago2',\n",
    "    'eIF4III-1',\n",
    "    'eIF4III-2',\n",
    "    'ELAVL1-1',\n",
    "    'ELAVL1-MNase',\n",
    "    'ELAVL1A',\n",
    "    'ELAVL1-2',\n",
    "    'ESWR1',\n",
    "    'FUS',\n",
    "    'Mut_FUS',\n",
    "    'IGFBP1-3',\n",
    "    'hnRNPC-1',\n",
    "    'hnRNPC-2',\n",
    "    'hnRNPL-1',\n",
    "    'hnRNPL-2',\n",
    "    'hnRNPL-like',\n",
    "    'MOV10',\n",
    "    'Nsun2',\n",
    "    'PUM2',\n",
    "    'QKI',\n",
    "    'SRSF1',\n",
    "    'TAF15',\n",
    "    'TDP-43',\n",
    "    'TIA1',\n",
    "    'TIAL1',\n",
    "    'U2AF2',\n",
    "    'U2AF2_KD'\n",
    "]\n",
    "\n",
    "len(clip_list)"
   ]
  },
  {
   "cell_type": "markdown",
   "metadata": {},
   "source": [
    "##### Preprocessing Negative Samples"
   ]
  },
  {
   "cell_type": "code",
   "execution_count": null,
   "metadata": {},
   "outputs": [],
   "source": []
  },
  {
   "cell_type": "markdown",
   "metadata": {},
   "source": [
    "#### Model Construction"
   ]
  },
  {
   "cell_type": "code",
   "execution_count": null,
   "metadata": {},
   "outputs": [],
   "source": [
    "# 1D Convolution Network\n",
    "def cnn1d():\n"
   ]
  }
 ],
 "metadata": {
  "interpreter": {
   "hash": "c51666a50ffeaa16e3d0b681020e9d30ab6b2a31023c896cc4f4794ea395fe4a"
  },
  "kernelspec": {
   "display_name": "Python 3.8.13",
   "language": "python",
   "name": "python3"
  },
  "language_info": {
   "codemirror_mode": {
    "name": "ipython",
    "version": 3
   },
   "file_extension": ".py",
   "mimetype": "text/x-python",
   "name": "python",
   "nbconvert_exporter": "python",
   "pygments_lexer": "ipython3",
   "version": "3.8.13"
  },
  "orig_nbformat": 4
 },
 "nbformat": 4,
 "nbformat_minor": 2
}
