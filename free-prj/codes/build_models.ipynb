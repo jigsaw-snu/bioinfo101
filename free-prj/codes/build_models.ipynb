{
 "cells": [
  {
   "cell_type": "markdown",
   "metadata": {},
   "source": [
    "### Construct simple CNN model (1D Convolutional Network)"
   ]
  },
  {
   "cell_type": "code",
   "execution_count": 81,
   "metadata": {},
   "outputs": [],
   "source": [
    "import numpy as np\n",
    "import pandas as pd\n",
    "\n",
    "from sklearn.model_selection import train_test_split\n",
    "\n",
    "import tensorflow as tf\n",
    "from tensorflow.keras import Model\n",
    "from tensorflow.keras.layers import Layer, Input, Embedding, Conv1D, BatchNormalization, ReLU, LeakyReLU, MaxPooling1D, Flatten, Dense, Softmax, Dropout\n",
    "from tensorflow.keras.optimizers import Adam\n",
    "from tensorflow.keras.callbacks import EarlyStopping"
   ]
  },
  {
   "cell_type": "markdown",
   "metadata": {},
   "source": [
    "#### Prepare Training Datset"
   ]
  },
  {
   "cell_type": "code",
   "execution_count": 2,
   "metadata": {},
   "outputs": [
    {
     "name": "stdout",
     "output_type": "stream",
     "text": [
      "                                                 Sequence        RBP Class\n",
      "80583   GTCTGCTGTCTCTACACCATCTCCATCATGGGCAATACCACCATCC...   hnRNPC-2     0\n",
      "11124   AAAAAAAGTTCAAGAGTGTAACTAGTTCACCCCAAGGTAGTGTGTG...     Ago2-1     0\n",
      "26845   TGAAGATGAGAAACTTCAAGGCAAGATTAACGATGAGGACAAACAG...  eIF4III-1     1\n",
      "81415   CCCACCCCATCCCAGGTCACCACCTGGCTGAACCCAGGTCCCCGAC...   hnRNPC-2     0\n",
      "130220  CTGTTCCTATATGCTTCTTAGAATCCTTAAGCCACCTCTCTTGCCT...     TDP-43     0 \n",
      "\n",
      "                                                 Sequence           RBP Class\n",
      "58619   GCAGACTTACCATGCCAAAGTGAGCTCTCTTCAGAAGATTCTTTTG...         ESWR1     1\n",
      "6660    AAATTTGAATAGGAATTGGGTATGAAATCATACAAAGATGATCTAT...    Ago2-MNase     0\n",
      "42266   GTAGCACCCCGAAGTAGAGCTTTCTGCTCTGCTCCTGGAAAAGGCT...  ELAVL1-MNase     1\n",
      "142944  CCAGGCGGGGTCAGTGTTGCGCACTGGGGATAGTGCCTCTGCTCGG...         TIAL1     0\n",
      "119316  ATGTGTAGTCATGGTTTTGATTTTTATTTACACCTTTTGAAATTTG...           QKI     0 \n",
      "\n",
      "                                            Sequence      RBP Class\n",
      "0  TTAATTGGCCGGGACTTAATTTGATTCCATCTTATACTTTGTTACC...  Ago-EIF     0\n",
      "1  TGAGGCCTAGAGCCAGTGGAGCTCTCACACAGTTGATGAGCCCGTG...  Ago-EIF     0\n",
      "2  GACCAGCTTTCAGGAGTTGATCTTTTTGCTGTAGGATAATTTTCTG...  Ago-EIF     0\n",
      "3  AGGTGCAGTGGCACAATCAGAGCTCACTGCAGCCTCCAGCTCCTGG...  Ago-EIF     0\n",
      "4  AAAGTAATGTCACAGCGACATATGATAGATGGACGATGGTGTGACT...  Ago-EIF     1 \n",
      "\n",
      "(124000, 3)\t(31000, 3)\t(31000, 3)\n"
     ]
    }
   ],
   "source": [
    "train_5k = pd.read_feather('./../dataset/objs/train_5k.ftr')\n",
    "test_5k = pd.read_feather('./../dataset/objs/test_5k.ftr')\n",
    "\n",
    "train_5k, validate_5k = train_test_split(train_5k, train_size = 0.8, random_state=42)\n",
    "\n",
    "train_X = train_5k['Sequence']\n",
    "train_y = train_5k['Class']\n",
    "\n",
    "validate_X = validate_5k['Sequence']\n",
    "validate_y = validate_5k['Class']\n",
    "\n",
    "test_X = test_5k['Sequence']\n",
    "test_y = test_5k['Class']\n",
    "\n",
    "print(train_5k.head(), '\\n') # 80% of train set\n",
    "print(validate_5k.head(), '\\n') # 20% of train set\n",
    "print(test_5k.head(), '\\n') # 100% of test set\n",
    "print(train_5k.shape, validate_5k.shape, test_5k.shape, sep='\\t')"
   ]
  },
  {
   "cell_type": "code",
   "execution_count": 3,
   "metadata": {},
   "outputs": [
    {
     "data": {
      "text/plain": [
       "{'A', 'C', 'G', 'N', 'T'}"
      ]
     },
     "execution_count": 3,
     "metadata": {},
     "output_type": "execute_result"
    }
   ],
   "source": [
    "set([x for seq in train_X.tolist() for x in seq])"
   ]
  },
  {
   "cell_type": "markdown",
   "metadata": {},
   "source": [
    "#### One Hot Encoding & Embedding"
   ]
  },
  {
   "cell_type": "code",
   "execution_count": 4,
   "metadata": {},
   "outputs": [],
   "source": [
    "# Check bases\n",
    "bases = ''.join(sorted(set([x for seq in train_X.tolist() for x in seq])))\n",
    "\n",
    "base_dict = dict((v, k) for (k, v) in dict(enumerate(bases)).items())\n",
    "\n",
    "train_X_int = [[bases.index(c) for c in seq] for seq in train_X.tolist()]\n",
    "\n",
    "train_X_onehot = np.eye(len(bases))[train_X_int]"
   ]
  },
  {
   "cell_type": "code",
   "execution_count": 5,
   "metadata": {},
   "outputs": [
    {
     "name": "stdout",
     "output_type": "stream",
     "text": [
      "ACGNT\n",
      "(124000, 101, 5)\n"
     ]
    }
   ],
   "source": [
    "print(bases)\n",
    "print(train_X_onehot.shape)"
   ]
  },
  {
   "cell_type": "code",
   "execution_count": 6,
   "metadata": {},
   "outputs": [
    {
     "data": {
      "text/plain": [
       "80583     0\n",
       "11124     0\n",
       "26845     1\n",
       "81415     0\n",
       "130220    0\n",
       "Name: Class, dtype: category\n",
       "Categories (2, int64): [0, 1]"
      ]
     },
     "execution_count": 6,
     "metadata": {},
     "output_type": "execute_result"
    }
   ],
   "source": [
    "train_y.head()"
   ]
  },
  {
   "cell_type": "markdown",
   "metadata": {},
   "source": [
    "##### try using only single RBP"
   ]
  },
  {
   "cell_type": "code",
   "execution_count": 57,
   "metadata": {},
   "outputs": [],
   "source": [
    "train_5k = pd.read_feather('./../dataset/objs/train_5k.ftr')\n",
    "test_5k = pd.read_feather('./../dataset/objs/test_5k.ftr')"
   ]
  },
  {
   "cell_type": "code",
   "execution_count": 63,
   "metadata": {},
   "outputs": [
    {
     "data": {
      "text/plain": [
       "(5000, 3)"
      ]
     },
     "execution_count": 63,
     "metadata": {},
     "output_type": "execute_result"
    }
   ],
   "source": [
    "ago_eif_train = train_5k[train_5k['RBP'] == 'Ago-EIF']\n",
    "ago_eif_test = test_5k[test_5k['RBP'] == 'Ago-EIF']\n",
    "ago_eif_train.shape"
   ]
  },
  {
   "cell_type": "code",
   "execution_count": 70,
   "metadata": {},
   "outputs": [
    {
     "data": {
      "text/html": [
       "<div>\n",
       "<style scoped>\n",
       "    .dataframe tbody tr th:only-of-type {\n",
       "        vertical-align: middle;\n",
       "    }\n",
       "\n",
       "    .dataframe tbody tr th {\n",
       "        vertical-align: top;\n",
       "    }\n",
       "\n",
       "    .dataframe thead th {\n",
       "        text-align: right;\n",
       "    }\n",
       "</style>\n",
       "<table border=\"1\" class=\"dataframe\">\n",
       "  <thead>\n",
       "    <tr style=\"text-align: right;\">\n",
       "      <th></th>\n",
       "      <th>Sequence</th>\n",
       "      <th>RBP</th>\n",
       "      <th>Class</th>\n",
       "    </tr>\n",
       "  </thead>\n",
       "  <tbody>\n",
       "    <tr>\n",
       "      <th>0</th>\n",
       "      <td>AAGGGGCTAGGATGAGTTTCTGAATCTCCCAAGGGCGAGATTTCGG...</td>\n",
       "      <td>Ago-EIF</td>\n",
       "      <td>0</td>\n",
       "    </tr>\n",
       "    <tr>\n",
       "      <th>1</th>\n",
       "      <td>CCTGAAGCAGCAAGTGAGCGGGCTGGAGGGTGTGCAGGACGACCTG...</td>\n",
       "      <td>Ago-EIF</td>\n",
       "      <td>0</td>\n",
       "    </tr>\n",
       "    <tr>\n",
       "      <th>2</th>\n",
       "      <td>CACGGCTCCCCCTCGGCCTATTACACGCGTGCGCAGCCAGGCCTCG...</td>\n",
       "      <td>Ago-EIF</td>\n",
       "      <td>0</td>\n",
       "    </tr>\n",
       "    <tr>\n",
       "      <th>3</th>\n",
       "      <td>ATACAAGCAGGAGCACATCGCTCTTTTATGAAAGCCCTTCAACATT...</td>\n",
       "      <td>Ago-EIF</td>\n",
       "      <td>0</td>\n",
       "    </tr>\n",
       "    <tr>\n",
       "      <th>4</th>\n",
       "      <td>TCCCTTCAAAGGCGACAGACCCAAGCCCACGTCAGGAGAGGAGCGT...</td>\n",
       "      <td>Ago-EIF</td>\n",
       "      <td>0</td>\n",
       "    </tr>\n",
       "    <tr>\n",
       "      <th>5</th>\n",
       "      <td>GCTTTGCAACCCTTGTGTTACGGTGCACAGGTGTGCAAAAATTCTC...</td>\n",
       "      <td>Ago-EIF</td>\n",
       "      <td>0</td>\n",
       "    </tr>\n",
       "    <tr>\n",
       "      <th>6</th>\n",
       "      <td>TGGGTGATTCCTGAGCAAGCATGCTGCTGTCTCTCTGGCTCTGGGG...</td>\n",
       "      <td>Ago-EIF</td>\n",
       "      <td>0</td>\n",
       "    </tr>\n",
       "    <tr>\n",
       "      <th>7</th>\n",
       "      <td>TGCAGACCCCTGCGGCCAGGGCGAGGACGGATCTGAGCAGCTGGGC...</td>\n",
       "      <td>Ago-EIF</td>\n",
       "      <td>0</td>\n",
       "    </tr>\n",
       "    <tr>\n",
       "      <th>8</th>\n",
       "      <td>CAGCTGCTGTGGAAAATAGTCTGGCAGTTTCTCAACAATTACACAG...</td>\n",
       "      <td>Ago-EIF</td>\n",
       "      <td>0</td>\n",
       "    </tr>\n",
       "    <tr>\n",
       "      <th>9</th>\n",
       "      <td>TTATGGCCAACACTTCCATTTATTTATCAACAGATTCACCCGTGTC...</td>\n",
       "      <td>Ago-EIF</td>\n",
       "      <td>0</td>\n",
       "    </tr>\n",
       "  </tbody>\n",
       "</table>\n",
       "</div>"
      ],
      "text/plain": [
       "                                            Sequence      RBP Class\n",
       "0  AAGGGGCTAGGATGAGTTTCTGAATCTCCCAAGGGCGAGATTTCGG...  Ago-EIF     0\n",
       "1  CCTGAAGCAGCAAGTGAGCGGGCTGGAGGGTGTGCAGGACGACCTG...  Ago-EIF     0\n",
       "2  CACGGCTCCCCCTCGGCCTATTACACGCGTGCGCAGCCAGGCCTCG...  Ago-EIF     0\n",
       "3  ATACAAGCAGGAGCACATCGCTCTTTTATGAAAGCCCTTCAACATT...  Ago-EIF     0\n",
       "4  TCCCTTCAAAGGCGACAGACCCAAGCCCACGTCAGGAGAGGAGCGT...  Ago-EIF     0\n",
       "5  GCTTTGCAACCCTTGTGTTACGGTGCACAGGTGTGCAAAAATTCTC...  Ago-EIF     0\n",
       "6  TGGGTGATTCCTGAGCAAGCATGCTGCTGTCTCTCTGGCTCTGGGG...  Ago-EIF     0\n",
       "7  TGCAGACCCCTGCGGCCAGGGCGAGGACGGATCTGAGCAGCTGGGC...  Ago-EIF     0\n",
       "8  CAGCTGCTGTGGAAAATAGTCTGGCAGTTTCTCAACAATTACACAG...  Ago-EIF     0\n",
       "9  TTATGGCCAACACTTCCATTTATTTATCAACAGATTCACCCGTGTC...  Ago-EIF     0"
      ]
     },
     "execution_count": 70,
     "metadata": {},
     "output_type": "execute_result"
    }
   ],
   "source": [
    "train_5k[train_5k['RBP'] == 'Ago-EIF'][:10]"
   ]
  },
  {
   "cell_type": "code",
   "execution_count": 95,
   "metadata": {},
   "outputs": [],
   "source": [
    "#train_X, train_y = train_5k[train_5k['RBP'] == 'Ago-EIF'][:4000]['Sequence'], train_5k[train_5k['RBP'] == 'Ago-EIF'][:4000]['Class']\n",
    "#valid_X, valid_y = train_5k[train_5k['RBP'] == 'Ago-EIF'][4000:]['Sequence'], train_5k[train_5k['RBP'] == 'Ago-EIF'][4000:]['Class']\n",
    "train_X, train_y = train_5k[train_5k['RBP'] == 'Ago-EIF']['Sequence'], train_5k[train_5k['RBP'] == 'Ago-EIF']['Class']\n",
    "test_X, test_y = test_5k[test_5k['RBP'] == 'Ago-EIF']['Sequence'], test_5k[test_5k['RBP'] == 'Ago-EIF']['Class']\n",
    "\n",
    "train_X_int = [[bases.index(c) for c in seq] for seq in train_X.tolist()]\n",
    "train_X_onehot = np.eye(len(bases))[train_X_int]\n",
    "\n",
    "#valid_X_int = [[bases.index(c) for c in seq] for seq in valid_X.tolist()]\n",
    "#valid_X_onehot = np.eye(len(bases))[valid_X_int]\n",
    "\n",
    "test_X_int = [[bases.index(c) for c in seq] for seq in test_X.tolist()]\n",
    "test_X_onehot = np.eye(len(bases))[test_X_int]"
   ]
  },
  {
   "cell_type": "code",
   "execution_count": 92,
   "metadata": {},
   "outputs": [
    {
     "data": {
      "text/plain": [
       "count                                                     5\n",
       "unique                                                    5\n",
       "top       CTATAAAGTTCAGGACAGTTTGAAATAAAACCCAGGAAACAAGATT...\n",
       "freq                                                      1\n",
       "Name: Sequence, dtype: object"
      ]
     },
     "execution_count": 92,
     "metadata": {},
     "output_type": "execute_result"
    }
   ],
   "source": [
    "valid_X.head().describe()"
   ]
  },
  {
   "cell_type": "markdown",
   "metadata": {},
   "source": [
    "#### Model Construction"
   ]
  },
  {
   "cell_type": "code",
   "execution_count": 50,
   "metadata": {},
   "outputs": [],
   "source": [
    "mymodel_inputs = Input(shape=(101, 5))\n",
    "\n",
    "x = Conv1D(filters=64, kernel_size=19, strides=1, padding='same')(mymodel_inputs)\n",
    "x = BatchNormalization()(x)\n",
    "x = ReLU()(x)\n",
    "x = MaxPooling1D(strides=2)(x)\n",
    "x = Dropout(.1)(x)\n",
    "x = Conv1D(filters=128, kernel_size=5, strides=1, padding='same')(x)\n",
    "x = BatchNormalization()(x)\n",
    "x = ReLU()(x)\n",
    "x = MaxPooling1D(strides=2)(x)\n",
    "x = Dropout(.1)(x)\n",
    "x = Flatten()(x)\n",
    "x = Dense(units=512)(x)\n",
    "x = BatchNormalization()(x)\n",
    "x = ReLU()(x)\n",
    "x = Dropout(.5)(x)\n",
    "x = Dense(units=2)(x)\n",
    "mymodel_outputs = Softmax()(x)\n",
    "\n",
    "mymodel = Model(inputs=mymodel_inputs, outputs=mymodel_outputs)"
   ]
  },
  {
   "cell_type": "code",
   "execution_count": 51,
   "metadata": {},
   "outputs": [
    {
     "name": "stdout",
     "output_type": "stream",
     "text": [
      "Model: \"model_2\"\n",
      "_________________________________________________________________\n",
      " Layer (type)                Output Shape              Param #   \n",
      "=================================================================\n",
      " input_4 (InputLayer)        [(None, 101, 5)]          0         \n",
      "                                                                 \n",
      " conv1d_17 (Conv1D)          (None, 101, 64)           6144      \n",
      "                                                                 \n",
      " batch_normalization_22 (Bat  (None, 101, 64)          256       \n",
      " chNormalization)                                                \n",
      "                                                                 \n",
      " re_lu_10 (ReLU)             (None, 101, 64)           0         \n",
      "                                                                 \n",
      " max_pooling1d_16 (MaxPoolin  (None, 50, 64)           0         \n",
      " g1D)                                                            \n",
      "                                                                 \n",
      " dropout_6 (Dropout)         (None, 50, 64)            0         \n",
      "                                                                 \n",
      " conv1d_18 (Conv1D)          (None, 50, 128)           41088     \n",
      "                                                                 \n",
      " batch_normalization_23 (Bat  (None, 50, 128)          512       \n",
      " chNormalization)                                                \n",
      "                                                                 \n",
      " re_lu_11 (ReLU)             (None, 50, 128)           0         \n",
      "                                                                 \n",
      " max_pooling1d_17 (MaxPoolin  (None, 25, 128)          0         \n",
      " g1D)                                                            \n",
      "                                                                 \n",
      " dropout_7 (Dropout)         (None, 25, 128)           0         \n",
      "                                                                 \n",
      " flatten_7 (Flatten)         (None, 3200)              0         \n",
      "                                                                 \n",
      " dense_16 (Dense)            (None, 512)               1638912   \n",
      "                                                                 \n",
      " batch_normalization_24 (Bat  (None, 512)              2048      \n",
      " chNormalization)                                                \n",
      "                                                                 \n",
      " re_lu_12 (ReLU)             (None, 512)               0         \n",
      "                                                                 \n",
      " dropout_8 (Dropout)         (None, 512)               0         \n",
      "                                                                 \n",
      " dense_17 (Dense)            (None, 2)                 1026      \n",
      "                                                                 \n",
      " softmax_8 (Softmax)         (None, 2)                 0         \n",
      "                                                                 \n",
      "=================================================================\n",
      "Total params: 1,689,986\n",
      "Trainable params: 1,688,578\n",
      "Non-trainable params: 1,408\n",
      "_________________________________________________________________\n"
     ]
    }
   ],
   "source": [
    "mymodel.summary()"
   ]
  },
  {
   "cell_type": "code",
   "execution_count": 96,
   "metadata": {},
   "outputs": [],
   "source": [
    "mymodel2 = tf.keras.models.Sequential([\n",
    "    Conv1D(filters=64, kernel_size=19, strides=1, padding='same', input_shape=(101, 5)),\n",
    "    BatchNormalization(),\n",
    "    ReLU(),\n",
    "    MaxPooling1D(strides=2),\n",
    "    Dropout(.1),\n",
    "\n",
    "    Conv1D(filters=128, kernel_size=5, strides=1, padding='same'),\n",
    "    BatchNormalization(),\n",
    "    ReLU(),\n",
    "    MaxPooling1D(strides=2),\n",
    "    Dropout(.1),\n",
    "\n",
    "    Flatten(),\n",
    "    Dense(units=512),\n",
    "    BatchNormalization(),\n",
    "    ReLU(),\n",
    "    Dropout(.5),\n",
    "    Dense(units=2),\n",
    "    Softmax()\n",
    "])"
   ]
  },
  {
   "cell_type": "code",
   "execution_count": 97,
   "metadata": {},
   "outputs": [
    {
     "name": "stdout",
     "output_type": "stream",
     "text": [
      "Model: \"sequential_6\"\n",
      "_________________________________________________________________\n",
      " Layer (type)                Output Shape              Param #   \n",
      "=================================================================\n",
      " conv1d_31 (Conv1D)          (None, 101, 64)           6144      \n",
      "                                                                 \n",
      " batch_normalization_43 (Bat  (None, 101, 64)          256       \n",
      " chNormalization)                                                \n",
      "                                                                 \n",
      " re_lu_31 (ReLU)             (None, 101, 64)           0         \n",
      "                                                                 \n",
      " max_pooling1d_30 (MaxPoolin  (None, 50, 64)           0         \n",
      " g1D)                                                            \n",
      "                                                                 \n",
      " dropout_27 (Dropout)        (None, 50, 64)            0         \n",
      "                                                                 \n",
      " conv1d_32 (Conv1D)          (None, 50, 128)           41088     \n",
      "                                                                 \n",
      " batch_normalization_44 (Bat  (None, 50, 128)          512       \n",
      " chNormalization)                                                \n",
      "                                                                 \n",
      " re_lu_32 (ReLU)             (None, 50, 128)           0         \n",
      "                                                                 \n",
      " max_pooling1d_31 (MaxPoolin  (None, 25, 128)          0         \n",
      " g1D)                                                            \n",
      "                                                                 \n",
      " dropout_28 (Dropout)        (None, 25, 128)           0         \n",
      "                                                                 \n",
      " flatten_14 (Flatten)        (None, 3200)              0         \n",
      "                                                                 \n",
      " dense_30 (Dense)            (None, 512)               1638912   \n",
      "                                                                 \n",
      " batch_normalization_45 (Bat  (None, 512)              2048      \n",
      " chNormalization)                                                \n",
      "                                                                 \n",
      " re_lu_33 (ReLU)             (None, 512)               0         \n",
      "                                                                 \n",
      " dropout_29 (Dropout)        (None, 512)               0         \n",
      "                                                                 \n",
      " dense_31 (Dense)            (None, 2)                 1026      \n",
      "                                                                 \n",
      " softmax_15 (Softmax)        (None, 2)                 0         \n",
      "                                                                 \n",
      "=================================================================\n",
      "Total params: 1,689,986\n",
      "Trainable params: 1,688,578\n",
      "Non-trainable params: 1,408\n",
      "_________________________________________________________________\n"
     ]
    }
   ],
   "source": [
    "mymodel2.summary()"
   ]
  },
  {
   "cell_type": "code",
   "execution_count": 102,
   "metadata": {},
   "outputs": [],
   "source": [
    "mymodel2.compile(optimizer='adam', loss='binary_crossentropy', metrics=['accuracy'])\n",
    "#early_stopping = EarlyStopping(monitor='accuracy', patience=20)"
   ]
  },
  {
   "cell_type": "code",
   "execution_count": null,
   "metadata": {},
   "outputs": [],
   "source": [
    "mymodel2.fit(train_X_onehot, train_y, epochs=500, validation_split=0.2)#, callbacks=[early_stopping])"
   ]
  },
  {
   "cell_type": "code",
   "execution_count": null,
   "metadata": {},
   "outputs": [],
   "source": [
    "mymodel3 = tf.keras.Sequential([\n",
    "    Conv1D(filters=1, kernel_size=10, strides=1, )\n",
    "])"
   ]
  }
 ],
 "metadata": {
  "interpreter": {
   "hash": "c51666a50ffeaa16e3d0b681020e9d30ab6b2a31023c896cc4f4794ea395fe4a"
  },
  "kernelspec": {
   "display_name": "Python 3.8.13",
   "language": "python",
   "name": "python3"
  },
  "language_info": {
   "codemirror_mode": {
    "name": "ipython",
    "version": 3
   },
   "file_extension": ".py",
   "mimetype": "text/x-python",
   "name": "python",
   "nbconvert_exporter": "python",
   "pygments_lexer": "ipython3",
   "version": "3.8.13"
  },
  "orig_nbformat": 4
 },
 "nbformat": 4,
 "nbformat_minor": 2
}
