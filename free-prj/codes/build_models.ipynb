{
 "cells": [
  {
   "cell_type": "markdown",
   "metadata": {},
   "source": [
    "### Construct simple CNN model (1D Convolutional Network)"
   ]
  },
  {
   "cell_type": "code",
   "execution_count": 4,
   "metadata": {},
   "outputs": [
    {
     "name": "stderr",
     "output_type": "stream",
     "text": [
      "2022-06-08 04:01:58.984500: I tensorflow/stream_executor/platform/default/dso_loader.cc:49] Successfully opened dynamic library libcudart.so.10.1\n"
     ]
    }
   ],
   "source": [
    "import numpy as np\n",
    "import pandas as pd\n",
    "\n",
    "from sklearn.model_selection import train_test_split\n",
    "\n",
    "import tensorflow as tf\n",
    "from tensorflow.keras import Model\n",
    "from tensorflow.keras.layers import Layer, Input, Embedding, Conv1D, BatchNormalization, LeakyReLU, MaxPooling1D, Flatten, Dense, Softmax\n",
    "from tensorflow.keras.optimizers import Adam"
   ]
  },
  {
   "cell_type": "markdown",
   "metadata": {},
   "source": [
    "#### Prepare Training Datset"
   ]
  },
  {
   "cell_type": "code",
   "execution_count": 5,
   "metadata": {},
   "outputs": [
    {
     "name": "stdout",
     "output_type": "stream",
     "text": [
      "                                                 Sequence        RBP Class\n",
      "80583   GTCTGCTGTCTCTACACCATCTCCATCATGGGCAATACCACCATCC...   hnRNPC-2     0\n",
      "11124   AAAAAAAGTTCAAGAGTGTAACTAGTTCACCCCAAGGTAGTGTGTG...     Ago2-1     0\n",
      "26845   TGAAGATGAGAAACTTCAAGGCAAGATTAACGATGAGGACAAACAG...  eIF4III-1     1\n",
      "81415   CCCACCCCATCCCAGGTCACCACCTGGCTGAACCCAGGTCCCCGAC...   hnRNPC-2     0\n",
      "130220  CTGTTCCTATATGCTTCTTAGAATCCTTAAGCCACCTCTCTTGCCT...     TDP-43     0 \n",
      "\n",
      "                                                 Sequence           RBP Class\n",
      "58619   GCAGACTTACCATGCCAAAGTGAGCTCTCTTCAGAAGATTCTTTTG...         ESWR1     1\n",
      "6660    AAATTTGAATAGGAATTGGGTATGAAATCATACAAAGATGATCTAT...    Ago2-MNase     0\n",
      "42266   GTAGCACCCCGAAGTAGAGCTTTCTGCTCTGCTCCTGGAAAAGGCT...  ELAVL1-MNase     1\n",
      "142944  CCAGGCGGGGTCAGTGTTGCGCACTGGGGATAGTGCCTCTGCTCGG...         TIAL1     0\n",
      "119316  ATGTGTAGTCATGGTTTTGATTTTTATTTACACCTTTTGAAATTTG...           QKI     0 \n",
      "\n",
      "                                            Sequence      RBP Class\n",
      "0  TTAATTGGCCGGGACTTAATTTGATTCCATCTTATACTTTGTTACC...  Ago-EIF     0\n",
      "1  TGAGGCCTAGAGCCAGTGGAGCTCTCACACAGTTGATGAGCCCGTG...  Ago-EIF     0\n",
      "2  GACCAGCTTTCAGGAGTTGATCTTTTTGCTGTAGGATAATTTTCTG...  Ago-EIF     0\n",
      "3  AGGTGCAGTGGCACAATCAGAGCTCACTGCAGCCTCCAGCTCCTGG...  Ago-EIF     0\n",
      "4  AAAGTAATGTCACAGCGACATATGATAGATGGACGATGGTGTGACT...  Ago-EIF     1 \n",
      "\n",
      "(124000, 3)\t(31000, 3)\t(31000, 3)\n"
     ]
    }
   ],
   "source": [
    "train_5k = pd.read_feather('./../dataset/objs/train_5k.ftr')\n",
    "test_5k = pd.read_feather('./../dataset/objs/test_5k.ftr')\n",
    "\n",
    "train_5k, validate_5k = train_test_split(train_5k, train_size = 0.8, random_state=42)\n",
    "\n",
    "train_X = train_5k['Sequence']\n",
    "train_y = train_5k['Class']\n",
    "\n",
    "validate_X = validate_5k['Sequence']\n",
    "validate_y = validate_5k['Class']\n",
    "\n",
    "test_X = test_5k['Sequence']\n",
    "test_y = test_5k['Class']\n",
    "\n",
    "print(train_5k.head(), '\\n') # 80% of train set\n",
    "print(validate_5k.head(), '\\n') # 20% of train set\n",
    "print(test_5k.head(), '\\n') # 100% of test set\n",
    "print(train_5k.shape, validate_5k.shape, test_5k.shape, sep='\\t')"
   ]
  },
  {
   "cell_type": "code",
   "execution_count": 3,
   "metadata": {},
   "outputs": [
    {
     "data": {
      "text/plain": [
       "{'A', 'C', 'G', 'N', 'T'}"
      ]
     },
     "execution_count": 3,
     "metadata": {},
     "output_type": "execute_result"
    }
   ],
   "source": [
    "set([x for seq in train_X.tolist() for x in seq])"
   ]
  },
  {
   "cell_type": "markdown",
   "metadata": {},
   "source": [
    "#### One Hot Encoding & Embedding"
   ]
  },
  {
   "cell_type": "code",
   "execution_count": 6,
   "metadata": {},
   "outputs": [],
   "source": [
    "# Check bases\n",
    "bases = ''.join(sorted(set([x for seq in train_X.tolist() for x in seq])))\n",
    "\n",
    "base_dict = dict((v, k) for (k, v) in dict(enumerate(bases)).items())\n",
    "\n",
    "train_X_int = [[bases.index(c) for c in seq] for seq in train_X.tolist()]\n",
    "\n",
    "train_X_onehot = np.eye(len(bases))[train_X_int]"
   ]
  },
  {
   "cell_type": "code",
   "execution_count": 40,
   "metadata": {},
   "outputs": [
    {
     "name": "stdout",
     "output_type": "stream",
     "text": [
      "ACGNT\n",
      "(124000, 101, 5)\n"
     ]
    }
   ],
   "source": [
    "print(bases)\n",
    "print(train_X_onehot.shape)"
   ]
  },
  {
   "cell_type": "code",
   "execution_count": 14,
   "metadata": {},
   "outputs": [
    {
     "data": {
      "text/plain": [
       "80583     0\n",
       "11124     0\n",
       "26845     1\n",
       "81415     0\n",
       "130220    0\n",
       "Name: Class, dtype: category\n",
       "Categories (2, int64): [0, 1]"
      ]
     },
     "execution_count": 14,
     "metadata": {},
     "output_type": "execute_result"
    }
   ],
   "source": [
    "train_y.head()"
   ]
  },
  {
   "cell_type": "markdown",
   "metadata": {},
   "source": [
    "#### Model Construction"
   ]
  },
  {
   "cell_type": "markdown",
   "metadata": {},
   "source": [
    "##### Model Configuration"
   ]
  },
  {
   "cell_type": "code",
   "execution_count": 13,
   "metadata": {},
   "outputs": [],
   "source": [
    "model_config = dict()\n",
    "model_config['num_filters'] = 64\n",
    "model_config['kernel_size'] = 3 # codon length == 3\n",
    "model_config['strides'] = 3 # next codon starts at 3 + previous_codon\n",
    "model_config['pad_opt'] = 'same'"
   ]
  },
  {
   "cell_type": "markdown",
   "metadata": {},
   "source": [
    "##### Set Hyperparameters"
   ]
  },
  {
   "cell_type": "code",
   "execution_count": 8,
   "metadata": {},
   "outputs": [],
   "source": [
    "epoch = 50\n",
    "lr = 0.001"
   ]
  },
  {
   "cell_type": "markdown",
   "metadata": {},
   "source": [
    "##### Make 1D-CNN Block"
   ]
  },
  {
   "cell_type": "code",
   "execution_count": 9,
   "metadata": {},
   "outputs": [],
   "source": [
    "class block1d(Layer):\n",
    "    def __init__(self, **kwargs): # kwargs allow giving parameters\n",
    "        super(block1d, self).__init__()\n",
    "\n",
    "        self.conv1d = Conv1D(\n",
    "            filters=num_filters,\n",
    "            kernel_size=kernel_size,\n",
    "            strides=strides,\n",
    "            padding=pad_opt\n",
    "        )\n",
    "        self.bnrm = BatchNormalization()\n",
    "        self.lrelu = LeakyReLU()\n",
    "        self.mxpl1d = MaxPooling1D()\n",
    "    \n",
    "    def call(self, inputs):\n",
    "        x = self.conv1d(inputs)\n",
    "        x = self.bnrm(x)\n",
    "        x = self.lrelu(x)\n",
    "        x = self.mxpl1d(x)\n",
    "\n",
    "        return x"
   ]
  },
  {
   "cell_type": "code",
   "execution_count": null,
   "metadata": {},
   "outputs": [],
   "source": [
    "class blockMLP(Layer):\n",
    "    def __init__(self):\n",
    "        super(blockMLP, self).__init__()\n",
    "\n",
    "        self.dense"
   ]
  },
  {
   "cell_type": "markdown",
   "metadata": {},
   "source": [
    "##### Define Model using pre-defined Blocks"
   ]
  },
  {
   "cell_type": "code",
   "execution_count": 11,
   "metadata": {},
   "outputs": [],
   "source": [
    "# 1D Convolution Network with One Hot Encoding\n",
    "class model_1dcnn_onehot(Model):\n",
    "\n",
    "    def __init__(self):\n",
    "        super(model_1dcnn_onehot, self).__init__()\n",
    "\n",
    "        self.num_blocks = 3\n",
    "        self.blocks1d = [block1d() for i in range(self.num_blocks)] # stack up 3 1D-CNN layers\n",
    "\n",
    "        self.flatten = Flatten()\n",
    "        self.dense_h1 = Dense(64)\n",
    "        self.dense_out = Dense(2) # use 2 output layers for Softmax() ; 1 output for sigmoid()\n",
    "        self.softmax = Softmax()\n",
    "\n",
    "    def call(self, inputs):\n",
    "        # convolution layer\n",
    "        x = inputs\n",
    "        for blk in self.blocks1d:\n",
    "            x = blk(x)\n",
    "\n",
    "        # FC layer\n",
    "        x = self.flatten(x)\n",
    "        x = self.dense_h1(x)\n",
    "        x = self.dense_out(x)\n",
    "        \n",
    "        output = self.softmax(x)\n",
    "\n",
    "        return output"
   ]
  },
  {
   "cell_type": "code",
   "execution_count": null,
   "metadata": {},
   "outputs": [],
   "source": [
    "# 1D Convolution Network with Embedding Layer\n",
    "class model_1dcnn_embed(Model):\n",
    "\n",
    "    def __init__(self):\n",
    "        super(model_1dcnn_embed, self).__init__()"
   ]
  },
  {
   "cell_type": "code",
   "execution_count": 14,
   "metadata": {},
   "outputs": [
    {
     "ename": "ValueError",
     "evalue": "in user code:\n\n    /tmp/ipykernel_6024/3545025351.py:19 call  *\n        x = self.mxpl1d(x)\n    /home/myrmecia/anaconda3/envs/ML/lib/python3.8/site-packages/tensorflow/python/keras/engine/base_layer.py:1012 __call__  **\n        outputs = call_fn(inputs, *args, **kwargs)\n    /home/myrmecia/anaconda3/envs/ML/lib/python3.8/site-packages/tensorflow/python/keras/layers/pooling.py:75 call\n        outputs = self.pool_function(\n    /home/myrmecia/anaconda3/envs/ML/lib/python3.8/site-packages/tensorflow/python/util/dispatch.py:201 wrapper\n        return target(*args, **kwargs)\n    /home/myrmecia/anaconda3/envs/ML/lib/python3.8/site-packages/tensorflow/python/keras/backend.py:5696 pool2d\n        x = nn.max_pool(\n    /home/myrmecia/anaconda3/envs/ML/lib/python3.8/site-packages/tensorflow/python/util/dispatch.py:201 wrapper\n        return target(*args, **kwargs)\n    /home/myrmecia/anaconda3/envs/ML/lib/python3.8/site-packages/tensorflow/python/ops/nn_ops.py:4606 max_pool\n        return gen_nn_ops.max_pool(\n    /home/myrmecia/anaconda3/envs/ML/lib/python3.8/site-packages/tensorflow/python/ops/gen_nn_ops.py:5327 max_pool\n        _, _, _op, _outputs = _op_def_library._apply_op_helper(\n    /home/myrmecia/anaconda3/envs/ML/lib/python3.8/site-packages/tensorflow/python/framework/op_def_library.py:748 _apply_op_helper\n        op = g._create_op_internal(op_type_name, inputs, dtypes=None,\n    /home/myrmecia/anaconda3/envs/ML/lib/python3.8/site-packages/tensorflow/python/framework/func_graph.py:590 _create_op_internal\n        return super(FuncGraph, self)._create_op_internal(  # pylint: disable=protected-access\n    /home/myrmecia/anaconda3/envs/ML/lib/python3.8/site-packages/tensorflow/python/framework/ops.py:3528 _create_op_internal\n        ret = Operation(\n    /home/myrmecia/anaconda3/envs/ML/lib/python3.8/site-packages/tensorflow/python/framework/ops.py:2015 __init__\n        self._c_op = _create_c_op(self._graph, node_def, inputs,\n    /home/myrmecia/anaconda3/envs/ML/lib/python3.8/site-packages/tensorflow/python/framework/ops.py:1856 _create_c_op\n        raise ValueError(str(e))\n\n    ValueError: Negative dimension size caused by subtracting 2 from 1 for '{{node block1d_3/max_pooling1d_2/MaxPool}} = MaxPool[T=DT_FLOAT, data_format=\"NHWC\", explicit_paddings=[], ksize=[1, 2, 1, 1], padding=\"VALID\", strides=[1, 2, 1, 1]](block1d_3/max_pooling1d_2/ExpandDims)' with input shapes: [?,1,1,64].\n",
     "output_type": "error",
     "traceback": [
      "\u001b[0;31m---------------------------------------------------------------------------\u001b[0m",
      "\u001b[0;31mValueError\u001b[0m                                Traceback (most recent call last)",
      "\u001b[1;32m/home/myrmecia/Workspace/ml-motif/bioinfo101/free-prj/codes/build_models.ipynb Cell 21'\u001b[0m in \u001b[0;36m<cell line: 7>\u001b[0;34m()\u001b[0m\n\u001b[1;32m      <a href='vscode-notebook-cell://wsl%2Bubuntu/home/myrmecia/Workspace/ml-motif/bioinfo101/free-prj/codes/build_models.ipynb#ch0000023vscode-remote?line=3'>4</a>\u001b[0m pad_opt \u001b[39m=\u001b[39m \u001b[39m'\u001b[39m\u001b[39msame\u001b[39m\u001b[39m'\u001b[39m\n\u001b[1;32m      <a href='vscode-notebook-cell://wsl%2Bubuntu/home/myrmecia/Workspace/ml-motif/bioinfo101/free-prj/codes/build_models.ipynb#ch0000023vscode-remote?line=5'>6</a>\u001b[0m test_model \u001b[39m=\u001b[39m model_1dcnn_onehot()\n\u001b[0;32m----> <a href='vscode-notebook-cell://wsl%2Bubuntu/home/myrmecia/Workspace/ml-motif/bioinfo101/free-prj/codes/build_models.ipynb#ch0000023vscode-remote?line=6'>7</a>\u001b[0m test_model\u001b[39m.\u001b[39;49mbuild(input_shape\u001b[39m=\u001b[39;49m(\u001b[39mNone\u001b[39;49;00m, \u001b[39m101\u001b[39;49m, \u001b[39m5\u001b[39;49m))\n",
      "File \u001b[0;32m~/anaconda3/envs/ML/lib/python3.8/site-packages/tensorflow/python/keras/engine/training.py:419\u001b[0m, in \u001b[0;36mModel.build\u001b[0;34m(self, input_shape)\u001b[0m\n\u001b[1;32m    <a href='file:///home/myrmecia/anaconda3/envs/ML/lib/python3.8/site-packages/tensorflow/python/keras/engine/training.py?line=415'>416</a>\u001b[0m   \u001b[39mraise\u001b[39;00m \u001b[39mValueError\u001b[39;00m(\u001b[39m'\u001b[39m\u001b[39mYou can only call `build` on a model if its `call` \u001b[39m\u001b[39m'\u001b[39m\n\u001b[1;32m    <a href='file:///home/myrmecia/anaconda3/envs/ML/lib/python3.8/site-packages/tensorflow/python/keras/engine/training.py?line=416'>417</a>\u001b[0m                    \u001b[39m'\u001b[39m\u001b[39mmethod accepts an `inputs` argument.\u001b[39m\u001b[39m'\u001b[39m)\n\u001b[1;32m    <a href='file:///home/myrmecia/anaconda3/envs/ML/lib/python3.8/site-packages/tensorflow/python/keras/engine/training.py?line=417'>418</a>\u001b[0m \u001b[39mtry\u001b[39;00m:\n\u001b[0;32m--> <a href='file:///home/myrmecia/anaconda3/envs/ML/lib/python3.8/site-packages/tensorflow/python/keras/engine/training.py?line=418'>419</a>\u001b[0m   \u001b[39mself\u001b[39;49m\u001b[39m.\u001b[39;49mcall(x, \u001b[39m*\u001b[39;49m\u001b[39m*\u001b[39;49mkwargs)\n\u001b[1;32m    <a href='file:///home/myrmecia/anaconda3/envs/ML/lib/python3.8/site-packages/tensorflow/python/keras/engine/training.py?line=419'>420</a>\u001b[0m \u001b[39mexcept\u001b[39;00m (errors\u001b[39m.\u001b[39mInvalidArgumentError, \u001b[39mTypeError\u001b[39;00m):\n\u001b[1;32m    <a href='file:///home/myrmecia/anaconda3/envs/ML/lib/python3.8/site-packages/tensorflow/python/keras/engine/training.py?line=420'>421</a>\u001b[0m   \u001b[39mraise\u001b[39;00m \u001b[39mValueError\u001b[39;00m(\u001b[39m'\u001b[39m\u001b[39mYou cannot build your model by calling `build` \u001b[39m\u001b[39m'\u001b[39m\n\u001b[1;32m    <a href='file:///home/myrmecia/anaconda3/envs/ML/lib/python3.8/site-packages/tensorflow/python/keras/engine/training.py?line=421'>422</a>\u001b[0m                    \u001b[39m'\u001b[39m\u001b[39mif your layers do not support float type inputs. \u001b[39m\u001b[39m'\u001b[39m\n\u001b[1;32m    <a href='file:///home/myrmecia/anaconda3/envs/ML/lib/python3.8/site-packages/tensorflow/python/keras/engine/training.py?line=422'>423</a>\u001b[0m                    \u001b[39m'\u001b[39m\u001b[39mInstead, in order to instantiate and build your \u001b[39m\u001b[39m'\u001b[39m\n\u001b[1;32m    <a href='file:///home/myrmecia/anaconda3/envs/ML/lib/python3.8/site-packages/tensorflow/python/keras/engine/training.py?line=423'>424</a>\u001b[0m                    \u001b[39m'\u001b[39m\u001b[39mmodel, `call` your model on real tensor data (of \u001b[39m\u001b[39m'\u001b[39m\n\u001b[1;32m    <a href='file:///home/myrmecia/anaconda3/envs/ML/lib/python3.8/site-packages/tensorflow/python/keras/engine/training.py?line=424'>425</a>\u001b[0m                    \u001b[39m'\u001b[39m\u001b[39mthe correct dtype).\u001b[39m\u001b[39m'\u001b[39m)\n",
      "\u001b[1;32m/home/myrmecia/Workspace/ml-motif/bioinfo101/free-prj/codes/build_models.ipynb Cell 19'\u001b[0m in \u001b[0;36mmodel_1dcnn_onehot.call\u001b[0;34m(self, inputs)\u001b[0m\n\u001b[1;32m     <a href='vscode-notebook-cell://wsl%2Bubuntu/home/myrmecia/Workspace/ml-motif/bioinfo101/free-prj/codes/build_models.ipynb#ch0000018vscode-remote?line=16'>17</a>\u001b[0m x \u001b[39m=\u001b[39m inputs\n\u001b[1;32m     <a href='vscode-notebook-cell://wsl%2Bubuntu/home/myrmecia/Workspace/ml-motif/bioinfo101/free-prj/codes/build_models.ipynb#ch0000018vscode-remote?line=17'>18</a>\u001b[0m \u001b[39mfor\u001b[39;00m blk \u001b[39min\u001b[39;00m \u001b[39mself\u001b[39m\u001b[39m.\u001b[39mblocks1d:\n\u001b[0;32m---> <a href='vscode-notebook-cell://wsl%2Bubuntu/home/myrmecia/Workspace/ml-motif/bioinfo101/free-prj/codes/build_models.ipynb#ch0000018vscode-remote?line=18'>19</a>\u001b[0m     x \u001b[39m=\u001b[39m blk(x)\n\u001b[1;32m     <a href='vscode-notebook-cell://wsl%2Bubuntu/home/myrmecia/Workspace/ml-motif/bioinfo101/free-prj/codes/build_models.ipynb#ch0000018vscode-remote?line=20'>21</a>\u001b[0m \u001b[39m# FC layer\u001b[39;00m\n\u001b[1;32m     <a href='vscode-notebook-cell://wsl%2Bubuntu/home/myrmecia/Workspace/ml-motif/bioinfo101/free-prj/codes/build_models.ipynb#ch0000018vscode-remote?line=21'>22</a>\u001b[0m x \u001b[39m=\u001b[39m \u001b[39mself\u001b[39m\u001b[39m.\u001b[39mflatten(x)\n",
      "File \u001b[0;32m~/anaconda3/envs/ML/lib/python3.8/site-packages/tensorflow/python/keras/engine/base_layer.py:1012\u001b[0m, in \u001b[0;36mLayer.__call__\u001b[0;34m(self, *args, **kwargs)\u001b[0m\n\u001b[1;32m   <a href='file:///home/myrmecia/anaconda3/envs/ML/lib/python3.8/site-packages/tensorflow/python/keras/engine/base_layer.py?line=1007'>1008</a>\u001b[0m   \u001b[39mself\u001b[39m\u001b[39m.\u001b[39m_maybe_build(inputs)\n\u001b[1;32m   <a href='file:///home/myrmecia/anaconda3/envs/ML/lib/python3.8/site-packages/tensorflow/python/keras/engine/base_layer.py?line=1009'>1010</a>\u001b[0m \u001b[39mwith\u001b[39;00m autocast_variable\u001b[39m.\u001b[39menable_auto_cast_variables(\n\u001b[1;32m   <a href='file:///home/myrmecia/anaconda3/envs/ML/lib/python3.8/site-packages/tensorflow/python/keras/engine/base_layer.py?line=1010'>1011</a>\u001b[0m     \u001b[39mself\u001b[39m\u001b[39m.\u001b[39m_compute_dtype_object):\n\u001b[0;32m-> <a href='file:///home/myrmecia/anaconda3/envs/ML/lib/python3.8/site-packages/tensorflow/python/keras/engine/base_layer.py?line=1011'>1012</a>\u001b[0m   outputs \u001b[39m=\u001b[39m call_fn(inputs, \u001b[39m*\u001b[39;49margs, \u001b[39m*\u001b[39;49m\u001b[39m*\u001b[39;49mkwargs)\n\u001b[1;32m   <a href='file:///home/myrmecia/anaconda3/envs/ML/lib/python3.8/site-packages/tensorflow/python/keras/engine/base_layer.py?line=1013'>1014</a>\u001b[0m \u001b[39mif\u001b[39;00m \u001b[39mself\u001b[39m\u001b[39m.\u001b[39m_activity_regularizer:\n\u001b[1;32m   <a href='file:///home/myrmecia/anaconda3/envs/ML/lib/python3.8/site-packages/tensorflow/python/keras/engine/base_layer.py?line=1014'>1015</a>\u001b[0m   \u001b[39mself\u001b[39m\u001b[39m.\u001b[39m_handle_activity_regularization(inputs, outputs)\n",
      "File \u001b[0;32m~/anaconda3/envs/ML/lib/python3.8/site-packages/tensorflow/python/autograph/impl/api.py:670\u001b[0m, in \u001b[0;36mconvert.<locals>.decorator.<locals>.wrapper\u001b[0;34m(*args, **kwargs)\u001b[0m\n\u001b[1;32m    <a href='file:///home/myrmecia/anaconda3/envs/ML/lib/python3.8/site-packages/tensorflow/python/autograph/impl/api.py?line=667'>668</a>\u001b[0m \u001b[39mexcept\u001b[39;00m \u001b[39mException\u001b[39;00m \u001b[39mas\u001b[39;00m e:  \u001b[39m# pylint:disable=broad-except\u001b[39;00m\n\u001b[1;32m    <a href='file:///home/myrmecia/anaconda3/envs/ML/lib/python3.8/site-packages/tensorflow/python/autograph/impl/api.py?line=668'>669</a>\u001b[0m   \u001b[39mif\u001b[39;00m \u001b[39mhasattr\u001b[39m(e, \u001b[39m'\u001b[39m\u001b[39mag_error_metadata\u001b[39m\u001b[39m'\u001b[39m):\n\u001b[0;32m--> <a href='file:///home/myrmecia/anaconda3/envs/ML/lib/python3.8/site-packages/tensorflow/python/autograph/impl/api.py?line=669'>670</a>\u001b[0m     \u001b[39mraise\u001b[39;00m e\u001b[39m.\u001b[39mag_error_metadata\u001b[39m.\u001b[39mto_exception(e)\n\u001b[1;32m    <a href='file:///home/myrmecia/anaconda3/envs/ML/lib/python3.8/site-packages/tensorflow/python/autograph/impl/api.py?line=670'>671</a>\u001b[0m   \u001b[39melse\u001b[39;00m:\n\u001b[1;32m    <a href='file:///home/myrmecia/anaconda3/envs/ML/lib/python3.8/site-packages/tensorflow/python/autograph/impl/api.py?line=671'>672</a>\u001b[0m     \u001b[39mraise\u001b[39;00m\n",
      "\u001b[0;31mValueError\u001b[0m: in user code:\n\n    /tmp/ipykernel_6024/3545025351.py:19 call  *\n        x = self.mxpl1d(x)\n    /home/myrmecia/anaconda3/envs/ML/lib/python3.8/site-packages/tensorflow/python/keras/engine/base_layer.py:1012 __call__  **\n        outputs = call_fn(inputs, *args, **kwargs)\n    /home/myrmecia/anaconda3/envs/ML/lib/python3.8/site-packages/tensorflow/python/keras/layers/pooling.py:75 call\n        outputs = self.pool_function(\n    /home/myrmecia/anaconda3/envs/ML/lib/python3.8/site-packages/tensorflow/python/util/dispatch.py:201 wrapper\n        return target(*args, **kwargs)\n    /home/myrmecia/anaconda3/envs/ML/lib/python3.8/site-packages/tensorflow/python/keras/backend.py:5696 pool2d\n        x = nn.max_pool(\n    /home/myrmecia/anaconda3/envs/ML/lib/python3.8/site-packages/tensorflow/python/util/dispatch.py:201 wrapper\n        return target(*args, **kwargs)\n    /home/myrmecia/anaconda3/envs/ML/lib/python3.8/site-packages/tensorflow/python/ops/nn_ops.py:4606 max_pool\n        return gen_nn_ops.max_pool(\n    /home/myrmecia/anaconda3/envs/ML/lib/python3.8/site-packages/tensorflow/python/ops/gen_nn_ops.py:5327 max_pool\n        _, _, _op, _outputs = _op_def_library._apply_op_helper(\n    /home/myrmecia/anaconda3/envs/ML/lib/python3.8/site-packages/tensorflow/python/framework/op_def_library.py:748 _apply_op_helper\n        op = g._create_op_internal(op_type_name, inputs, dtypes=None,\n    /home/myrmecia/anaconda3/envs/ML/lib/python3.8/site-packages/tensorflow/python/framework/func_graph.py:590 _create_op_internal\n        return super(FuncGraph, self)._create_op_internal(  # pylint: disable=protected-access\n    /home/myrmecia/anaconda3/envs/ML/lib/python3.8/site-packages/tensorflow/python/framework/ops.py:3528 _create_op_internal\n        ret = Operation(\n    /home/myrmecia/anaconda3/envs/ML/lib/python3.8/site-packages/tensorflow/python/framework/ops.py:2015 __init__\n        self._c_op = _create_c_op(self._graph, node_def, inputs,\n    /home/myrmecia/anaconda3/envs/ML/lib/python3.8/site-packages/tensorflow/python/framework/ops.py:1856 _create_c_op\n        raise ValueError(str(e))\n\n    ValueError: Negative dimension size caused by subtracting 2 from 1 for '{{node block1d_3/max_pooling1d_2/MaxPool}} = MaxPool[T=DT_FLOAT, data_format=\"NHWC\", explicit_paddings=[], ksize=[1, 2, 1, 1], padding=\"VALID\", strides=[1, 2, 1, 1]](block1d_3/max_pooling1d_2/ExpandDims)' with input shapes: [?,1,1,64].\n"
     ]
    }
   ],
   "source": [
    "num_filters = 64\n",
    "kernel_size = 3 # codon length == 3\n",
    "strides = 3 # next codon starts at 3 + previous_codon\n",
    "pad_opt = 'same'\n",
    "\n",
    "test_model = model_1dcnn_onehot()\n",
    "test_model.build(input_shape=(None, 101, 5))"
   ]
  },
  {
   "cell_type": "code",
   "execution_count": null,
   "metadata": {},
   "outputs": [],
   "source": [
    "# User might give customly separated train / test set\n",
    "# user might give \n",
    "def train_model(df, model_config, epoch, learning_rate, onehot=True, save=False):"
   ]
  },
  {
   "cell_type": "code",
   "execution_count": null,
   "metadata": {},
   "outputs": [],
   "source": [
    "inputs = Input(shape=())"
   ]
  }
 ],
 "metadata": {
  "interpreter": {
   "hash": "5f81ca079b9101c07fe85c8b090c9e2cc9c56a877851e75c4fbd4dbec9ea9fed"
  },
  "kernelspec": {
   "display_name": "Python 3.8.13 ('ML')",
   "language": "python",
   "name": "python3"
  },
  "language_info": {
   "codemirror_mode": {
    "name": "ipython",
    "version": 3
   },
   "file_extension": ".py",
   "mimetype": "text/x-python",
   "name": "python",
   "nbconvert_exporter": "python",
   "pygments_lexer": "ipython3",
   "version": "3.8.13"
  },
  "orig_nbformat": 4
 },
 "nbformat": 4,
 "nbformat_minor": 2
}
