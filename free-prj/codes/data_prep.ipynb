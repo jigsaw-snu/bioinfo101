{
 "cells": [
  {
   "cell_type": "markdown",
   "metadata": {},
   "source": [
    "#### Data Preparation and Preprocessing"
   ]
  },
  {
   "cell_type": "code",
   "execution_count": 67,
   "metadata": {},
   "outputs": [],
   "source": [
    "from utility import *\n",
    "import os, gzip\n",
    "import pandas as pd\n",
    "from natsort import natsorted"
   ]
  },
  {
   "cell_type": "markdown",
   "metadata": {},
   "source": [
    "##### Positive Samples"
   ]
  },
  {
   "cell_type": "code",
   "execution_count": 60,
   "metadata": {},
   "outputs": [
    {
     "name": "stdout",
     "output_type": "stream",
     "text": [
      "4999\n",
      "999\n",
      "(154969, 3)\n",
      "(30969, 3)\n"
     ]
    }
   ],
   "source": [
    "# Make Dataframe with clip dataset\n",
    "# @Sequence @RBP @Label\n",
    "\n",
    "\n",
    "clip_list = [\n",
    "    'Ago-EIF',\n",
    "    'Ago2-MNase',\n",
    "    'Ago2-1',\n",
    "    'Ago2-2',\n",
    "    'Ago2',\n",
    "    'eIF4III-1',\n",
    "    'eIF4III-2',\n",
    "    'ELAVL1-1',\n",
    "    'ELAVL1-MNase',\n",
    "    'ELAVL1A',\n",
    "    'ELAVL1-2',\n",
    "    'ESWR1',\n",
    "    'FUS',\n",
    "    'Mut_FUS',\n",
    "    'IGFBP1-3',\n",
    "    'hnRNPC-1',\n",
    "    'hnRNPC-2',\n",
    "    'hnRNPL-1',\n",
    "    'hnRNPL-2',\n",
    "    'hnRNPL-like',\n",
    "    'MOV10',\n",
    "    'Nsun2',\n",
    "    'PUM2',\n",
    "    'QKI',\n",
    "    'SRSF1',\n",
    "    'TAF15',\n",
    "    'TDP-43',\n",
    "    'TIA1',\n",
    "    'TIAL1',\n",
    "    'U2AF2',\n",
    "    'U2AF2-KD'\n",
    "]\n",
    "\n",
    "# read (FASTA) file path and return list of parsed object (sequences)\n",
    "def read_fa(fa_path, cls_path):\n",
    "    seqs = []\n",
    "    seq = ''    \n",
    "    with gzip.open(fa_path, 'r') as fa, gzip.open(cls_path, 'r') as cl:# files are compressed with bgzip\n",
    "        cls = cl.readlines()\n",
    "        cls = [int(x.decode('utf-8')) for x in cls[1:]] # class label\n",
    "\n",
    "        i = 0\n",
    "        for line in fa:\n",
    "            line = line.decode('utf-8') # bytes -> string\n",
    "            if line[0] == '>': # need to skip this header line with after extra jobs\n",
    "                if len(seqs) == 0 and seq == '': # just skip header of fisrst sequence in fa\n",
    "                    continue\n",
    "                else:\n",
    "                    seqs.append((seq, cls[i])) # add sequence to seqs\n",
    "                    i += 1\n",
    "                    seq = '' # reinitialize with empty string\n",
    "                    continue\n",
    "            else:\n",
    "                seq += line.rstrip() # concatenate sequence without '\\n' to seq\n",
    "        \n",
    "        seqs.append((seq, cls[i]))\n",
    "    \n",
    "    if (i != 4999):\n",
    "        raise IndexNotMatching\n",
    "    \n",
    "    return seqs\n",
    "\n",
    "\n",
    "clip_dir = \"./../data/clip5000\"\n",
    "dirs = natsorted(os.listdir(clip_dir))\n",
    "\n",
    "# Training Dataset\n",
    "seqs_train = {}\n",
    "i = 0\n",
    "for dir in dirs:\n",
    "    file_path = clip_dir + '/' + dir + '/5000/training_sample_0/sequences.fa.gz'\n",
    "    class_path = clip_dir + '/' + dir + '/5000/training_sample_0/matrix_Response.tab.gz'\n",
    "    seqs_train[clip_list[i]] = read_fa(file_path)\n",
    "    i += 1\n",
    "\n",
    "# Test Dataset\n",
    "seqs_test = {}\n",
    "i = 0\n",
    "for dir in dirs:\n",
    "    file_path = clip_dir + '/' + dir + '/5000/test_sample_0/sequences.fa.gz' \n",
    "    seqs_test[clip_list[i]] = read_fa(file_path)\n",
    "    i += 1\n",
    "\n",
    "\n",
    "print(len(seqs_train['Ago-EIF']))\n",
    "print(len(seqs_test['Ago-EIF']))\n",
    "\n",
    "# Make Dataframe\n",
    "df_positive_train = pd.DataFrame(\n",
    "    [(var, key) for (key, L) in seqs_train.items() for var in L],\n",
    "    columns=['Sequence', 'RBP']\n",
    ")\n",
    "\n",
    "df_positive_train['Label'] = pd.Series(['Y'] * df_positive_train.shape[0])\n",
    "\n",
    "df_positive_test = pd.DataFrame(\n",
    "    [(var, key) for (key, L) in seqs_test.items() for var in L],\n",
    "    columns=['Sequence', 'RBP']\n",
    ")\n",
    "df_positive_test['Label'] = pd.Series(['Y'] * df_positive_test.shape[0])\n",
    "\n",
    "print(df_positive_train.shape)\n",
    "print(df_positive_test.shape)"
   ]
  },
  {
   "cell_type": "code",
   "execution_count": 62,
   "metadata": {},
   "outputs": [],
   "source": [
    "with gzip.open(clip_dir + '/1_PARCLIP_AGO1234_hg19/5000/training_sample_0/matrix_Response.tab.gz', 'r') as test:\n",
    "    test_l = test.readlines()\n",
    "\n",
    "test_l = [int(x.decode('utf-8')) for x in test_l[1:]]"
   ]
  },
  {
   "cell_type": "code",
   "execution_count": 65,
   "metadata": {},
   "outputs": [
    {
     "data": {
      "text/plain": [
       "[0, 0, 0, 0, 0, 0, 0, 0, 0, 0, 0, 0, 0, 0, 0, 1, 0, 0, 0, 0]"
      ]
     },
     "execution_count": 65,
     "metadata": {},
     "output_type": "execute_result"
    }
   ],
   "source": [
    "test_l[0:20]"
   ]
  },
  {
   "cell_type": "code",
   "execution_count": 55,
   "metadata": {},
   "outputs": [
    {
     "data": {
      "text/plain": [
       "5001"
      ]
     },
     "execution_count": 55,
     "metadata": {},
     "output_type": "execute_result"
    }
   ],
   "source": [
    "len(test_l)"
   ]
  },
  {
   "cell_type": "markdown",
   "metadata": {},
   "source": [
    "##### Negative Samples"
   ]
  },
  {
   "cell_type": "code",
   "execution_count": null,
   "metadata": {},
   "outputs": [],
   "source": [
    "# Make Dataframe with artificial sequences\n",
    "# @Sequence @Label\n",
    "\n",
    "bases = ['A', 'C', 'G', 'T']\n",
    "\n",
    "# Training Dataset\n",
    "\n",
    "\n",
    "# Test Dataset"
   ]
  },
  {
   "cell_type": "markdown",
   "metadata": {},
   "source": [
    "##### Concatenate Samples"
   ]
  },
  {
   "cell_type": "code",
   "execution_count": null,
   "metadata": {},
   "outputs": [],
   "source": []
  },
  {
   "cell_type": "markdown",
   "metadata": {},
   "source": []
  },
  {
   "cell_type": "code",
   "execution_count": null,
   "metadata": {},
   "outputs": [],
   "source": []
  }
 ],
 "metadata": {
  "interpreter": {
   "hash": "c51666a50ffeaa16e3d0b681020e9d30ab6b2a31023c896cc4f4794ea395fe4a"
  },
  "kernelspec": {
   "display_name": "Python 3.8.13",
   "language": "python",
   "name": "python3"
  },
  "language_info": {
   "codemirror_mode": {
    "name": "ipython",
    "version": 3
   },
   "file_extension": ".py",
   "mimetype": "text/x-python",
   "name": "python",
   "nbconvert_exporter": "python",
   "pygments_lexer": "ipython3",
   "version": "3.8.13"
  },
  "orig_nbformat": 4
 },
 "nbformat": 4,
 "nbformat_minor": 2
}
