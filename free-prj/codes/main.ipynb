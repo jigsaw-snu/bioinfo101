{
 "cells": [
  {
   "cell_type": "code",
   "execution_count": 3,
   "metadata": {},
   "outputs": [],
   "source": [
    "import pandas as pd"
   ]
  },
  {
   "cell_type": "code",
   "execution_count": 8,
   "metadata": {},
   "outputs": [
    {
     "data": {
      "text/html": [
       "<div>\n",
       "<style scoped>\n",
       "    .dataframe tbody tr th:only-of-type {\n",
       "        vertical-align: middle;\n",
       "    }\n",
       "\n",
       "    .dataframe tbody tr th {\n",
       "        vertical-align: top;\n",
       "    }\n",
       "\n",
       "    .dataframe thead th {\n",
       "        text-align: right;\n",
       "    }\n",
       "</style>\n",
       "<table border=\"1\" class=\"dataframe\">\n",
       "  <thead>\n",
       "    <tr style=\"text-align: right;\">\n",
       "      <th></th>\n",
       "      <th>3</th>\n",
       "      <th>4</th>\n",
       "    </tr>\n",
       "  </thead>\n",
       "  <tbody>\n",
       "    <tr>\n",
       "      <th>0</th>\n",
       "      <td>1</td>\n",
       "      <td>NAGAAGCTGAGAGGCGCTGGGAACAAGTTCTGTAGGCACCATCAA</td>\n",
       "    </tr>\n",
       "    <tr>\n",
       "      <th>1</th>\n",
       "      <td>1</td>\n",
       "      <td>NCTGGAGGTGTATAATATGAGACTGTAGGCACCATCAA</td>\n",
       "    </tr>\n",
       "    <tr>\n",
       "      <th>2</th>\n",
       "      <td>1</td>\n",
       "      <td>NGCTTCCGGGAAACCAAAGTCTTTGGGTTCCGGGGGGAGTCTGTAG...</td>\n",
       "    </tr>\n",
       "    <tr>\n",
       "      <th>3</th>\n",
       "      <td>1</td>\n",
       "      <td>NGGTGTGGTGGGACTGCTCAGGGAGTGGTGCAGTGTGATTCCCGCC...</td>\n",
       "    </tr>\n",
       "    <tr>\n",
       "      <th>4</th>\n",
       "      <td>1</td>\n",
       "      <td>NGAAACTCGTGGTGATTTTAAGATTGGAAAAGAATCTGAGGAAGAG...</td>\n",
       "    </tr>\n",
       "  </tbody>\n",
       "</table>\n",
       "</div>"
      ],
      "text/plain": [
       "   3                                                  4\n",
       "0  1      NAGAAGCTGAGAGGCGCTGGGAACAAGTTCTGTAGGCACCATCAA\n",
       "1  1             NCTGGAGGTGTATAATATGAGACTGTAGGCACCATCAA\n",
       "2  1  NGCTTCCGGGAAACCAAAGTCTTTGGGTTCCGGGGGGAGTCTGTAG...\n",
       "3  1  NGGTGTGGTGGGACTGCTCAGGGAGTGGTGCAGTGTGATTCCCGCC...\n",
       "4  1  NGAAACTCGTGGTGATTTTAAGATTGGAAAAGAATCTGAGGAAGAG..."
      ]
     },
     "execution_count": 8,
     "metadata": {},
     "output_type": "execute_result"
    }
   ],
   "source": [
    "positive_seqs = pd.read_csv('./../dataset/lin28/uniq.SRR458758.txt', header=None, sep=' ').iloc[:, 3:5]\n",
    "\n",
    "positive_seqs.head()"
   ]
  },
  {
   "cell_type": "code",
   "execution_count": 10,
   "metadata": {},
   "outputs": [
    {
     "data": {
      "text/plain": [
       "1    31577775\n",
       "2       24569\n",
       "3         400\n",
       "4          12\n",
       "Name: 3, dtype: int64"
      ]
     },
     "execution_count": 10,
     "metadata": {},
     "output_type": "execute_result"
    }
   ],
   "source": [
    "positive_seqs.iloc[:, 0].value_counts()"
   ]
  },
  {
   "cell_type": "code",
   "execution_count": null,
   "metadata": {},
   "outputs": [],
   "source": []
  },
  {
   "cell_type": "code",
   "execution_count": null,
   "metadata": {},
   "outputs": [],
   "source": []
  }
 ],
 "metadata": {
  "interpreter": {
   "hash": "c51666a50ffeaa16e3d0b681020e9d30ab6b2a31023c896cc4f4794ea395fe4a"
  },
  "kernelspec": {
   "display_name": "Python 3.8.13",
   "language": "python",
   "name": "python3"
  },
  "language_info": {
   "codemirror_mode": {
    "name": "ipython",
    "version": 3
   },
   "file_extension": ".py",
   "mimetype": "text/x-python",
   "name": "python",
   "nbconvert_exporter": "python",
   "pygments_lexer": "ipython3",
   "version": "3.8.13"
  },
  "orig_nbformat": 4
 },
 "nbformat": 4,
 "nbformat_minor": 2
}
