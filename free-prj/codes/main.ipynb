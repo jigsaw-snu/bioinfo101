{
 "cells": [
  {
   "cell_type": "code",
   "execution_count": 1,
   "metadata": {},
   "outputs": [],
   "source": [
    "import pandas as pd"
   ]
  },
  {
   "cell_type": "code",
   "execution_count": 2,
   "metadata": {},
   "outputs": [],
   "source": [
    "positive_seqs = pd.read_csv('./../dataset/lin28/uniq.SRR458758.txt', header=None, names=['Sequence'])"
   ]
  },
  {
   "cell_type": "code",
   "execution_count": 3,
   "metadata": {},
   "outputs": [
    {
     "data": {
      "text/html": [
       "<div>\n",
       "<style scoped>\n",
       "    .dataframe tbody tr th:only-of-type {\n",
       "        vertical-align: middle;\n",
       "    }\n",
       "\n",
       "    .dataframe tbody tr th {\n",
       "        vertical-align: top;\n",
       "    }\n",
       "\n",
       "    .dataframe thead th {\n",
       "        text-align: right;\n",
       "    }\n",
       "</style>\n",
       "<table border=\"1\" class=\"dataframe\">\n",
       "  <thead>\n",
       "    <tr style=\"text-align: right;\">\n",
       "      <th></th>\n",
       "      <th>Sequence</th>\n",
       "    </tr>\n",
       "  </thead>\n",
       "  <tbody>\n",
       "    <tr>\n",
       "      <th>56</th>\n",
       "      <td>12 AAAAAAAAAAAAAAAAAAAAAAAAAAAAAAAAAAAAAAAAA...</td>\n",
       "    </tr>\n",
       "    <tr>\n",
       "      <th>57</th>\n",
       "      <td>31 AAAAAAAAAAAAAAAAAAAAAAAAAAAAAAAAAAAAAAAAA...</td>\n",
       "    </tr>\n",
       "    <tr>\n",
       "      <th>58</th>\n",
       "      <td>35 AAAAAAAAAAAAAAAAAAAAAAAAAAAAAAAAAAAAAAAAA...</td>\n",
       "    </tr>\n",
       "    <tr>\n",
       "      <th>59</th>\n",
       "      <td>45 AAAAAAAAAAAAAAAAAAAAAAAAAAAAAAAAAAAAAAAAA...</td>\n",
       "    </tr>\n",
       "    <tr>\n",
       "      <th>60</th>\n",
       "      <td>117 AAAAAAAAAAAAAAAAAAAAAAAAAAAAAAAAAAAAAAAAA...</td>\n",
       "    </tr>\n",
       "  </tbody>\n",
       "</table>\n",
       "</div>"
      ],
      "text/plain": [
       "                                             Sequence\n",
       "56    12 AAAAAAAAAAAAAAAAAAAAAAAAAAAAAAAAAAAAAAAAA...\n",
       "57    31 AAAAAAAAAAAAAAAAAAAAAAAAAAAAAAAAAAAAAAAAA...\n",
       "58    35 AAAAAAAAAAAAAAAAAAAAAAAAAAAAAAAAAAAAAAAAA...\n",
       "59    45 AAAAAAAAAAAAAAAAAAAAAAAAAAAAAAAAAAAAAAAAA...\n",
       "60   117 AAAAAAAAAAAAAAAAAAAAAAAAAAAAAAAAAAAAAAAAA..."
      ]
     },
     "execution_count": 3,
     "metadata": {},
     "output_type": "execute_result"
    }
   ],
   "source": [
    "positive_seqs_ln = positive_seqs[positive_seqs['Sequence'].str.len() > 70]\n",
    "\n",
    "positive_seqs_ln.head()"
   ]
  },
  {
   "cell_type": "code",
   "execution_count": 4,
   "metadata": {},
   "outputs": [
    {
     "data": {
      "text/plain": [
       "(2257841, 1)"
      ]
     },
     "execution_count": 4,
     "metadata": {},
     "output_type": "execute_result"
    }
   ],
   "source": [
    "positive_seqs_ln.shape"
   ]
  },
  {
   "cell_type": "code",
   "execution_count": 4,
   "metadata": {},
   "outputs": [],
   "source": [
    "# random sampling\n",
    "seq_pos = positive_seqs_ln.sample(n=10000, replace=False, random_state=42)\n",
    "seq_pos['Sequence'] = [''.join(filter(str.isalpha, seq)) for seq in seq_pos['Sequence']]"
   ]
  },
  {
   "cell_type": "code",
   "execution_count": 5,
   "metadata": {},
   "outputs": [
    {
     "data": {
      "text/plain": [
       "78"
      ]
     },
     "execution_count": 5,
     "metadata": {},
     "output_type": "execute_result"
    }
   ],
   "source": [
    "seq_len = [len(x) for x in seq_pos['Sequence']]\n",
    "max(seq_len)"
   ]
  },
  {
   "cell_type": "code",
   "execution_count": 6,
   "metadata": {},
   "outputs": [],
   "source": [
    "# make every sequence same length\n",
    "MAX_LEN = 78\n",
    "\n",
    "def padding_seq(seq):\n",
    "    gap = MAX_LEN - len(seq)\n",
    "    res = 'N'*int(gap/2) + seq + 'N'*int(gap/2)\n",
    "    \n",
    "    if gap % 2 == 1:\n",
    "        res += 'N'\n",
    "    \n",
    "    return res"
   ]
  },
  {
   "cell_type": "code",
   "execution_count": 7,
   "metadata": {},
   "outputs": [],
   "source": [
    "seqs = [padding_seq(seq) for seq in seq_pos['Sequence']]"
   ]
  },
  {
   "cell_type": "code",
   "execution_count": 8,
   "metadata": {},
   "outputs": [
    {
     "data": {
      "text/plain": [
       "['GTTGTAAAACCTGTTCACCAGCACCTGCGGAATTGTTGCCCTGCCTTCATTTCTTTCCCAGCCTGTAGGCACCATCAA',\n",
       " 'ATTCTCTTCTGTGTGTCACCAAGTTCAGGCCTGGTGGCCAGGCCTGCTCTGTAGGCACCATCAATCGTATGCCGTCTT',\n",
       " 'NAGAACGGCTGGTCTTTCATCAGAATTCCAGGCAAGAAGAGCCTCATCACTGACAGTGGAAAGCCTGTAGGCACCANN',\n",
       " 'TGGGATGTGTGTGTGTGTTACTGGGATGGGGTGAGTGTGTGTGTGTGTGTGCTCTCTCGCGCATATGCACACAAGCCT',\n",
       " 'AGCTTAACTCATTTGAATGTTGTTGCTTCTGAGTTTAGGCTAACGGAAGTCTGTAGGCACCATCAATTCGTATGCCGT']"
      ]
     },
     "execution_count": 8,
     "metadata": {},
     "output_type": "execute_result"
    }
   ],
   "source": [
    "seqs[:5]"
   ]
  },
  {
   "cell_type": "code",
   "execution_count": 9,
   "metadata": {},
   "outputs": [],
   "source": [
    "seq_pos['Sequence'] = seqs\n",
    "seq_pos['y'] = '1'"
   ]
  },
  {
   "cell_type": "code",
   "execution_count": 10,
   "metadata": {},
   "outputs": [
    {
     "name": "stdout",
     "output_type": "stream",
     "text": [
      "78 78\n"
     ]
    }
   ],
   "source": [
    "print(max([len(x) for x in seq_pos['Sequence']]), min([len(x) for x in seq_pos['Sequence']]))"
   ]
  },
  {
   "cell_type": "code",
   "execution_count": 11,
   "metadata": {},
   "outputs": [],
   "source": [
    "# random sequence for negative sample\n",
    "import random\n",
    "\n",
    "seq_len = 78\n",
    "\n",
    "ranseq = []\n",
    "for i in range(10000):\n",
    "    ranseq.append(''.join(random.choices(['A', 'C', 'T', 'G', 'N'], k=seq_len)))"
   ]
  },
  {
   "cell_type": "code",
   "execution_count": 12,
   "metadata": {},
   "outputs": [
    {
     "data": {
      "text/plain": [
       "['AACTNTCAGCCTNCATTNGANGTANTTGGNGGGNCAACGCCCATNNGCCACTGTGAGGTNANNAAGTTTGGTGNCAAG',\n",
       " 'TGAGAGTATGNCGGNTTTTGTTTNNGAGTCGATGATTTGTCCNNGACGCTACTCNNNCCTNNAAAGCNTAGTGCANTT',\n",
       " 'TTACNCTCGCGCTCGCTTATGTGCTGTTTNTNAANCTAGGGGCTGTAATGAGCATTTNTNACNGNGGNANTTAGGCNA',\n",
       " 'TCAGAGATGCNCATATCTNGNGGNCGGGCNATTTNGTCGCNCNAAATTNCNAGNTNTANGTTGNNANTCGCGTNNNAC',\n",
       " 'TANAAAAGCANGAAAAATNGGCNGNCCNCCAGTCNNCCTTTAANGNTANATNCNANCNCNTGNTNGTNGTGCNCNGGA']"
      ]
     },
     "execution_count": 12,
     "metadata": {},
     "output_type": "execute_result"
    }
   ],
   "source": [
    "ranseq[:5]"
   ]
  },
  {
   "cell_type": "code",
   "execution_count": 13,
   "metadata": {},
   "outputs": [
    {
     "data": {
      "text/html": [
       "<div>\n",
       "<style scoped>\n",
       "    .dataframe tbody tr th:only-of-type {\n",
       "        vertical-align: middle;\n",
       "    }\n",
       "\n",
       "    .dataframe tbody tr th {\n",
       "        vertical-align: top;\n",
       "    }\n",
       "\n",
       "    .dataframe thead th {\n",
       "        text-align: right;\n",
       "    }\n",
       "</style>\n",
       "<table border=\"1\" class=\"dataframe\">\n",
       "  <thead>\n",
       "    <tr style=\"text-align: right;\">\n",
       "      <th></th>\n",
       "      <th>Sequence</th>\n",
       "      <th>y</th>\n",
       "    </tr>\n",
       "  </thead>\n",
       "  <tbody>\n",
       "    <tr>\n",
       "      <th>0</th>\n",
       "      <td>AACTNTCAGCCTNCATTNGANGTANTTGGNGGGNCAACGCCCATNN...</td>\n",
       "      <td>0</td>\n",
       "    </tr>\n",
       "    <tr>\n",
       "      <th>1</th>\n",
       "      <td>TGAGAGTATGNCGGNTTTTGTTTNNGAGTCGATGATTTGTCCNNGA...</td>\n",
       "      <td>0</td>\n",
       "    </tr>\n",
       "    <tr>\n",
       "      <th>2</th>\n",
       "      <td>TTACNCTCGCGCTCGCTTATGTGCTGTTTNTNAANCTAGGGGCTGT...</td>\n",
       "      <td>0</td>\n",
       "    </tr>\n",
       "    <tr>\n",
       "      <th>3</th>\n",
       "      <td>TCAGAGATGCNCATATCTNGNGGNCGGGCNATTTNGTCGCNCNAAA...</td>\n",
       "      <td>0</td>\n",
       "    </tr>\n",
       "    <tr>\n",
       "      <th>4</th>\n",
       "      <td>TANAAAAGCANGAAAAATNGGCNGNCCNCCAGTCNNCCTTTAANGN...</td>\n",
       "      <td>0</td>\n",
       "    </tr>\n",
       "  </tbody>\n",
       "</table>\n",
       "</div>"
      ],
      "text/plain": [
       "                                            Sequence  y\n",
       "0  AACTNTCAGCCTNCATTNGANGTANTTGGNGGGNCAACGCCCATNN...  0\n",
       "1  TGAGAGTATGNCGGNTTTTGTTTNNGAGTCGATGATTTGTCCNNGA...  0\n",
       "2  TTACNCTCGCGCTCGCTTATGTGCTGTTTNTNAANCTAGGGGCTGT...  0\n",
       "3  TCAGAGATGCNCATATCTNGNGGNCGGGCNATTTNGTCGCNCNAAA...  0\n",
       "4  TANAAAAGCANGAAAAATNGGCNGNCCNCCAGTCNNCCTTTAANGN...  0"
      ]
     },
     "execution_count": 13,
     "metadata": {},
     "output_type": "execute_result"
    }
   ],
   "source": [
    "seq_neg = pd.DataFrame(ranseq, columns=['Sequence'])\n",
    "seq_neg['y'] = '0'\n",
    "\n",
    "seq_neg.head()"
   ]
  },
  {
   "cell_type": "code",
   "execution_count": 14,
   "metadata": {},
   "outputs": [
    {
     "data": {
      "text/html": [
       "<div>\n",
       "<style scoped>\n",
       "    .dataframe tbody tr th:only-of-type {\n",
       "        vertical-align: middle;\n",
       "    }\n",
       "\n",
       "    .dataframe tbody tr th {\n",
       "        vertical-align: top;\n",
       "    }\n",
       "\n",
       "    .dataframe thead th {\n",
       "        text-align: right;\n",
       "    }\n",
       "</style>\n",
       "<table border=\"1\" class=\"dataframe\">\n",
       "  <thead>\n",
       "    <tr style=\"text-align: right;\">\n",
       "      <th></th>\n",
       "      <th>Sequence</th>\n",
       "      <th>y</th>\n",
       "    </tr>\n",
       "  </thead>\n",
       "  <tbody>\n",
       "    <tr>\n",
       "      <th>7601271</th>\n",
       "      <td>GTTGTAAAACCTGTTCACCAGCACCTGCGGAATTGTTGCCCTGCCT...</td>\n",
       "      <td>1</td>\n",
       "    </tr>\n",
       "    <tr>\n",
       "      <th>5073481</th>\n",
       "      <td>ATTCTCTTCTGTGTGTCACCAAGTTCAGGCCTGGTGGCCAGGCCTG...</td>\n",
       "      <td>1</td>\n",
       "    </tr>\n",
       "    <tr>\n",
       "      <th>2669291</th>\n",
       "      <td>NAGAACGGCTGGTCTTTCATCAGAATTCCAGGCAAGAAGAGCCTCA...</td>\n",
       "      <td>1</td>\n",
       "    </tr>\n",
       "    <tr>\n",
       "      <th>8012620</th>\n",
       "      <td>TGGGATGTGTGTGTGTGTTACTGGGATGGGGTGAGTGTGTGTGTGT...</td>\n",
       "      <td>1</td>\n",
       "    </tr>\n",
       "    <tr>\n",
       "      <th>3455182</th>\n",
       "      <td>AGCTTAACTCATTTGAATGTTGTTGCTTCTGAGTTTAGGCTAACGG...</td>\n",
       "      <td>1</td>\n",
       "    </tr>\n",
       "  </tbody>\n",
       "</table>\n",
       "</div>"
      ],
      "text/plain": [
       "                                                  Sequence  y\n",
       "7601271  GTTGTAAAACCTGTTCACCAGCACCTGCGGAATTGTTGCCCTGCCT...  1\n",
       "5073481  ATTCTCTTCTGTGTGTCACCAAGTTCAGGCCTGGTGGCCAGGCCTG...  1\n",
       "2669291  NAGAACGGCTGGTCTTTCATCAGAATTCCAGGCAAGAAGAGCCTCA...  1\n",
       "8012620  TGGGATGTGTGTGTGTGTTACTGGGATGGGGTGAGTGTGTGTGTGT...  1\n",
       "3455182  AGCTTAACTCATTTGAATGTTGTTGCTTCTGAGTTTAGGCTAACGG...  1"
      ]
     },
     "execution_count": 14,
     "metadata": {},
     "output_type": "execute_result"
    }
   ],
   "source": [
    "seq_pos.head()"
   ]
  },
  {
   "cell_type": "code",
   "execution_count": 15,
   "metadata": {},
   "outputs": [
    {
     "data": {
      "text/html": [
       "<div>\n",
       "<style scoped>\n",
       "    .dataframe tbody tr th:only-of-type {\n",
       "        vertical-align: middle;\n",
       "    }\n",
       "\n",
       "    .dataframe tbody tr th {\n",
       "        vertical-align: top;\n",
       "    }\n",
       "\n",
       "    .dataframe thead th {\n",
       "        text-align: right;\n",
       "    }\n",
       "</style>\n",
       "<table border=\"1\" class=\"dataframe\">\n",
       "  <thead>\n",
       "    <tr style=\"text-align: right;\">\n",
       "      <th></th>\n",
       "      <th>Sequence</th>\n",
       "      <th>y</th>\n",
       "    </tr>\n",
       "  </thead>\n",
       "  <tbody>\n",
       "    <tr>\n",
       "      <th>0</th>\n",
       "      <td>GAAGGTTTATCTCCTATACGCCTGCGCCTTCNTNNACANAAGCTCG...</td>\n",
       "      <td>0</td>\n",
       "    </tr>\n",
       "    <tr>\n",
       "      <th>1</th>\n",
       "      <td>AGGAAGAACGACCAAAGGAAAAGAGGGGACGCCCTCGGCACGGTGG...</td>\n",
       "      <td>1</td>\n",
       "    </tr>\n",
       "    <tr>\n",
       "      <th>2</th>\n",
       "      <td>GNNCNANNCGCTCTGAGTCGTCGCNGGGAAAANTNACCNACNAGAG...</td>\n",
       "      <td>0</td>\n",
       "    </tr>\n",
       "    <tr>\n",
       "      <th>3</th>\n",
       "      <td>TCCCGATGAGCATCAGGAAGGCGAAGCTGAGTGTGCGGGGGGGGGT...</td>\n",
       "      <td>1</td>\n",
       "    </tr>\n",
       "    <tr>\n",
       "      <th>4</th>\n",
       "      <td>CTCGCGCCGGGCCGTACCCATATCCGCAGCAGGTCTCCAAGGTGAA...</td>\n",
       "      <td>1</td>\n",
       "    </tr>\n",
       "  </tbody>\n",
       "</table>\n",
       "</div>"
      ],
      "text/plain": [
       "                                            Sequence  y\n",
       "0  GAAGGTTTATCTCCTATACGCCTGCGCCTTCNTNNACANAAGCTCG...  0\n",
       "1  AGGAAGAACGACCAAAGGAAAAGAGGGGACGCCCTCGGCACGGTGG...  1\n",
       "2  GNNCNANNCGCTCTGAGTCGTCGCNGGGAAAANTNACCNACNAGAG...  0\n",
       "3  TCCCGATGAGCATCAGGAAGGCGAAGCTGAGTGTGCGGGGGGGGGT...  1\n",
       "4  CTCGCGCCGGGCCGTACCCATATCCGCAGCAGGTCTCCAAGGTGAA...  1"
      ]
     },
     "execution_count": 15,
     "metadata": {},
     "output_type": "execute_result"
    }
   ],
   "source": [
    "seqs = pd.concat([seq_pos, seq_neg])\n",
    "seqs = seqs.sample(frac=1).reset_index(drop=True)\n",
    "seqs.head()"
   ]
  },
  {
   "cell_type": "code",
   "execution_count": 16,
   "metadata": {},
   "outputs": [
    {
     "name": "stderr",
     "output_type": "stream",
     "text": [
      "2022-06-10 07:03:11.451654: I tensorflow/stream_executor/platform/default/dso_loader.cc:49] Successfully opened dynamic library libcudart.so.10.1\n"
     ]
    }
   ],
   "source": [
    "import numpy as np\n",
    "import tensorflow as tf\n",
    "from tensorflow.keras import Model, regularizers, constraints\n",
    "from tensorflow.keras.layers import Layer, Input, Embedding, Conv1D, Conv2D, BatchNormalization, ReLU, LeakyReLU, MaxPooling1D, Flatten, Dense, Softmax, Dropout, MaxPooling2D\n",
    "from tensorflow.keras.optimizers import Adam\n",
    "from tensorflow.keras.callbacks import EarlyStopping"
   ]
  },
  {
   "cell_type": "code",
   "execution_count": 17,
   "metadata": {},
   "outputs": [],
   "source": [
    "train_X = seqs['Sequence'][:15000]\n",
    "train_y = seqs['y'][:15000]\n",
    "\n",
    "test_X = seqs['Sequence'][15000:]\n",
    "test_y = seqs['y'][15000:]"
   ]
  },
  {
   "cell_type": "code",
   "execution_count": 18,
   "metadata": {},
   "outputs": [],
   "source": [
    "BASE=sorted(\"ACGTN\")\n",
    "\n",
    "train_X_int = [[BASE.index(c) for c in seq] for seq in train_X.tolist()]\n",
    "train_X_onehot = np.eye(len(BASE))[train_X_int]\n",
    "\n",
    "test_X_int = [[BASE.index(c) for c in seq] for seq in test_X.tolist()]\n",
    "test_X_onehot = np.eye(len(BASE))[test_X_int]\n",
    "\n",
    "train_X_onehot_ = train_X_onehot[:, :, :, np.newaxis]\n",
    "test_X_onehot_ = test_X_onehot[:, :, :, np.newaxis]"
   ]
  },
  {
   "cell_type": "code",
   "execution_count": 77,
   "metadata": {},
   "outputs": [
    {
     "data": {
      "text/plain": [
       "(15000, 78, 5, 1)"
      ]
     },
     "execution_count": 77,
     "metadata": {},
     "output_type": "execute_result"
    }
   ],
   "source": [
    "train_X_onehot_.shape"
   ]
  },
  {
   "cell_type": "code",
   "execution_count": 78,
   "metadata": {},
   "outputs": [
    {
     "data": {
      "text/plain": [
       "(5000, 78, 5, 1)"
      ]
     },
     "execution_count": 78,
     "metadata": {},
     "output_type": "execute_result"
    }
   ],
   "source": [
    "test_X_onehot_.shape"
   ]
  },
  {
   "cell_type": "code",
   "execution_count": 19,
   "metadata": {},
   "outputs": [],
   "source": [
    "train_X_onehot_ = np.array(train_X_onehot_)\n",
    "test_X_onehot_ = np.array(test_X_onehot_)\n",
    "\n",
    "train_y = train_y.astype('int32')\n",
    "test_y = test_y.astype('int32')"
   ]
  },
  {
   "cell_type": "code",
   "execution_count": 21,
   "metadata": {},
   "outputs": [
    {
     "data": {
      "text/plain": [
       "0    0\n",
       "1    1\n",
       "2    0\n",
       "3    1\n",
       "4    1\n",
       "Name: y, dtype: int32"
      ]
     },
     "execution_count": 21,
     "metadata": {},
     "output_type": "execute_result"
    }
   ],
   "source": [
    "train_y[:5]"
   ]
  },
  {
   "cell_type": "code",
   "execution_count": 24,
   "metadata": {},
   "outputs": [
    {
     "name": "stderr",
     "output_type": "stream",
     "text": [
      "2022-06-10 07:05:39.368283: W tensorflow/core/common_runtime/bfc_allocator.cc:433] Allocator (GPU_0_bfc) ran out of memory trying to allocate 1.0KiB (rounded to 1280)requested by op ScratchBuffer\n",
      "Current allocation summary follows.\n",
      "2022-06-10 07:05:39.368444: I tensorflow/core/common_runtime/bfc_allocator.cc:972] BFCAllocator dump for GPU_0_bfc\n",
      "2022-06-10 07:05:39.368482: I tensorflow/core/common_runtime/bfc_allocator.cc:979] Bin (256): \tTotal Chunks: 0, Chunks in use: 0. 0B allocated for chunks. 0B in use in bin. 0B client-requested in use in bin.\n",
      "2022-06-10 07:05:39.368505: I tensorflow/core/common_runtime/bfc_allocator.cc:979] Bin (512): \tTotal Chunks: 0, Chunks in use: 0. 0B allocated for chunks. 0B in use in bin. 0B client-requested in use in bin.\n",
      "2022-06-10 07:05:39.368559: I tensorflow/core/common_runtime/bfc_allocator.cc:979] Bin (1024): \tTotal Chunks: 0, Chunks in use: 0. 0B allocated for chunks. 0B in use in bin. 0B client-requested in use in bin.\n",
      "2022-06-10 07:05:39.368714: I tensorflow/core/common_runtime/bfc_allocator.cc:979] Bin (2048): \tTotal Chunks: 0, Chunks in use: 0. 0B allocated for chunks. 0B in use in bin. 0B client-requested in use in bin.\n",
      "2022-06-10 07:05:39.368740: I tensorflow/core/common_runtime/bfc_allocator.cc:979] Bin (4096): \tTotal Chunks: 0, Chunks in use: 0. 0B allocated for chunks. 0B in use in bin. 0B client-requested in use in bin.\n",
      "2022-06-10 07:05:39.368759: I tensorflow/core/common_runtime/bfc_allocator.cc:979] Bin (8192): \tTotal Chunks: 0, Chunks in use: 0. 0B allocated for chunks. 0B in use in bin. 0B client-requested in use in bin.\n",
      "2022-06-10 07:05:39.368777: I tensorflow/core/common_runtime/bfc_allocator.cc:979] Bin (16384): \tTotal Chunks: 0, Chunks in use: 0. 0B allocated for chunks. 0B in use in bin. 0B client-requested in use in bin.\n",
      "2022-06-10 07:05:39.368795: I tensorflow/core/common_runtime/bfc_allocator.cc:979] Bin (32768): \tTotal Chunks: 0, Chunks in use: 0. 0B allocated for chunks. 0B in use in bin. 0B client-requested in use in bin.\n",
      "2022-06-10 07:05:39.368813: I tensorflow/core/common_runtime/bfc_allocator.cc:979] Bin (65536): \tTotal Chunks: 0, Chunks in use: 0. 0B allocated for chunks. 0B in use in bin. 0B client-requested in use in bin.\n",
      "2022-06-10 07:05:39.368832: I tensorflow/core/common_runtime/bfc_allocator.cc:979] Bin (131072): \tTotal Chunks: 0, Chunks in use: 0. 0B allocated for chunks. 0B in use in bin. 0B client-requested in use in bin.\n",
      "2022-06-10 07:05:39.368850: I tensorflow/core/common_runtime/bfc_allocator.cc:979] Bin (262144): \tTotal Chunks: 0, Chunks in use: 0. 0B allocated for chunks. 0B in use in bin. 0B client-requested in use in bin.\n",
      "2022-06-10 07:05:39.368868: I tensorflow/core/common_runtime/bfc_allocator.cc:979] Bin (524288): \tTotal Chunks: 0, Chunks in use: 0. 0B allocated for chunks. 0B in use in bin. 0B client-requested in use in bin.\n",
      "2022-06-10 07:05:39.368886: I tensorflow/core/common_runtime/bfc_allocator.cc:979] Bin (1048576): \tTotal Chunks: 0, Chunks in use: 0. 0B allocated for chunks. 0B in use in bin. 0B client-requested in use in bin.\n",
      "2022-06-10 07:05:39.368905: I tensorflow/core/common_runtime/bfc_allocator.cc:979] Bin (2097152): \tTotal Chunks: 0, Chunks in use: 0. 0B allocated for chunks. 0B in use in bin. 0B client-requested in use in bin.\n",
      "2022-06-10 07:05:39.368923: I tensorflow/core/common_runtime/bfc_allocator.cc:979] Bin (4194304): \tTotal Chunks: 0, Chunks in use: 0. 0B allocated for chunks. 0B in use in bin. 0B client-requested in use in bin.\n",
      "2022-06-10 07:05:39.368941: I tensorflow/core/common_runtime/bfc_allocator.cc:979] Bin (8388608): \tTotal Chunks: 0, Chunks in use: 0. 0B allocated for chunks. 0B in use in bin. 0B client-requested in use in bin.\n",
      "2022-06-10 07:05:39.368959: I tensorflow/core/common_runtime/bfc_allocator.cc:979] Bin (16777216): \tTotal Chunks: 0, Chunks in use: 0. 0B allocated for chunks. 0B in use in bin. 0B client-requested in use in bin.\n",
      "2022-06-10 07:05:39.368978: I tensorflow/core/common_runtime/bfc_allocator.cc:979] Bin (33554432): \tTotal Chunks: 0, Chunks in use: 0. 0B allocated for chunks. 0B in use in bin. 0B client-requested in use in bin.\n",
      "2022-06-10 07:05:39.368996: I tensorflow/core/common_runtime/bfc_allocator.cc:979] Bin (67108864): \tTotal Chunks: 0, Chunks in use: 0. 0B allocated for chunks. 0B in use in bin. 0B client-requested in use in bin.\n",
      "2022-06-10 07:05:39.369014: I tensorflow/core/common_runtime/bfc_allocator.cc:979] Bin (134217728): \tTotal Chunks: 0, Chunks in use: 0. 0B allocated for chunks. 0B in use in bin. 0B client-requested in use in bin.\n",
      "2022-06-10 07:05:39.369047: I tensorflow/core/common_runtime/bfc_allocator.cc:979] Bin (268435456): \tTotal Chunks: 0, Chunks in use: 0. 0B allocated for chunks. 0B in use in bin. 0B client-requested in use in bin.\n",
      "2022-06-10 07:05:39.369074: I tensorflow/core/common_runtime/bfc_allocator.cc:995] Bin for 1.2KiB was 1.0KiB, Chunk State: \n",
      "2022-06-10 07:05:39.369092: I tensorflow/core/common_runtime/bfc_allocator.cc:1033]      Summary of in-use Chunks by size: \n",
      "2022-06-10 07:05:39.369108: I tensorflow/core/common_runtime/bfc_allocator.cc:1040] Sum Total of in-use chunks: 0B\n",
      "2022-06-10 07:05:39.369124: I tensorflow/core/common_runtime/bfc_allocator.cc:1042] total_region_allocated_bytes_: 0 memory_limit_: 0 available bytes: 0 curr_region_allocation_bytes_: 0\n",
      "2022-06-10 07:05:39.369152: I tensorflow/core/common_runtime/bfc_allocator.cc:1048] Stats: \n",
      "Limit:                               0\n",
      "InUse:                               0\n",
      "MaxInUse:                            0\n",
      "NumAllocs:                           0\n",
      "MaxAllocSize:                        0\n",
      "Reserved:                            0\n",
      "PeakReserved:                        0\n",
      "LargestFreeBlock:                    0\n",
      "\n",
      "2022-06-10 07:05:39.369172: W tensorflow/core/common_runtime/bfc_allocator.cc:441] <allocator contains no memory>\n"
     ]
    },
    {
     "ename": "FailedPreconditionError",
     "evalue": "Failed to allocate scratch buffer for device 0 [Op:VarHandleOp] name: Variable/",
     "output_type": "error",
     "traceback": [
      "\u001b[0;31m---------------------------------------------------------------------------\u001b[0m",
      "\u001b[0;31mFailedPreconditionError\u001b[0m                   Traceback (most recent call last)",
      "\u001b[1;32m/home/myrmecia/Workspace/ml-motif/bioinfo101/free-prj/codes/main.ipynb Cell 24'\u001b[0m in \u001b[0;36m<cell line: 1>\u001b[0;34m()\u001b[0m\n\u001b[0;32m----> <a href='vscode-notebook-cell://wsl%2Bubuntu/home/myrmecia/Workspace/ml-motif/bioinfo101/free-prj/codes/main.ipynb#ch0000021vscode-remote?line=0'>1</a>\u001b[0m mymodel \u001b[39m=\u001b[39m tf\u001b[39m.\u001b[39;49mkeras\u001b[39m.\u001b[39;49mSequential([\n\u001b[1;32m      <a href='vscode-notebook-cell://wsl%2Bubuntu/home/myrmecia/Workspace/ml-motif/bioinfo101/free-prj/codes/main.ipynb#ch0000021vscode-remote?line=1'>2</a>\u001b[0m     Conv2D(\u001b[39m1\u001b[39;49m, (\u001b[39m14\u001b[39;49m, \u001b[39m5\u001b[39;49m), padding\u001b[39m=\u001b[39;49m\u001b[39m'\u001b[39;49m\u001b[39msame\u001b[39;49m\u001b[39m'\u001b[39;49m, strides\u001b[39m=\u001b[39;49m\u001b[39m1\u001b[39;49m, input_shape\u001b[39m=\u001b[39;49m(\u001b[39m78\u001b[39;49m, \u001b[39m5\u001b[39;49m, \u001b[39m1\u001b[39;49m), kernel_regularizer\u001b[39m=\u001b[39;49mregularizers\u001b[39m.\u001b[39;49ml1(\u001b[39m3e-3\u001b[39;49m), kernel_constraint\u001b[39m=\u001b[39;49mconstraints\u001b[39m.\u001b[39;49mNonNeg()),\n\u001b[1;32m      <a href='vscode-notebook-cell://wsl%2Bubuntu/home/myrmecia/Workspace/ml-motif/bioinfo101/free-prj/codes/main.ipynb#ch0000021vscode-remote?line=2'>3</a>\u001b[0m     BatchNormalization(),\n\u001b[1;32m      <a href='vscode-notebook-cell://wsl%2Bubuntu/home/myrmecia/Workspace/ml-motif/bioinfo101/free-prj/codes/main.ipynb#ch0000021vscode-remote?line=3'>4</a>\u001b[0m     ReLU(),\n\u001b[1;32m      <a href='vscode-notebook-cell://wsl%2Bubuntu/home/myrmecia/Workspace/ml-motif/bioinfo101/free-prj/codes/main.ipynb#ch0000021vscode-remote?line=4'>5</a>\u001b[0m     MaxPooling2D(),\n\u001b[1;32m      <a href='vscode-notebook-cell://wsl%2Bubuntu/home/myrmecia/Workspace/ml-motif/bioinfo101/free-prj/codes/main.ipynb#ch0000021vscode-remote?line=5'>6</a>\u001b[0m     \n\u001b[1;32m      <a href='vscode-notebook-cell://wsl%2Bubuntu/home/myrmecia/Workspace/ml-motif/bioinfo101/free-prj/codes/main.ipynb#ch0000021vscode-remote?line=6'>7</a>\u001b[0m     Flatten(),\n\u001b[1;32m      <a href='vscode-notebook-cell://wsl%2Bubuntu/home/myrmecia/Workspace/ml-motif/bioinfo101/free-prj/codes/main.ipynb#ch0000021vscode-remote?line=7'>8</a>\u001b[0m     Dense(\u001b[39m1\u001b[39;49m, activation\u001b[39m=\u001b[39;49m\u001b[39m'\u001b[39;49m\u001b[39msigmoid\u001b[39;49m\u001b[39m'\u001b[39;49m)\n\u001b[1;32m      <a href='vscode-notebook-cell://wsl%2Bubuntu/home/myrmecia/Workspace/ml-motif/bioinfo101/free-prj/codes/main.ipynb#ch0000021vscode-remote?line=8'>9</a>\u001b[0m ])\n",
      "File \u001b[0;32m~/anaconda3/envs/ML/lib/python3.8/site-packages/tensorflow/python/training/tracking/base.py:517\u001b[0m, in \u001b[0;36mno_automatic_dependency_tracking.<locals>._method_wrapper\u001b[0;34m(self, *args, **kwargs)\u001b[0m\n\u001b[1;32m    <a href='file:///home/myrmecia/anaconda3/envs/ML/lib/python3.8/site-packages/tensorflow/python/training/tracking/base.py?line=514'>515</a>\u001b[0m \u001b[39mself\u001b[39m\u001b[39m.\u001b[39m_self_setattr_tracking \u001b[39m=\u001b[39m \u001b[39mFalse\u001b[39;00m  \u001b[39m# pylint: disable=protected-access\u001b[39;00m\n\u001b[1;32m    <a href='file:///home/myrmecia/anaconda3/envs/ML/lib/python3.8/site-packages/tensorflow/python/training/tracking/base.py?line=515'>516</a>\u001b[0m \u001b[39mtry\u001b[39;00m:\n\u001b[0;32m--> <a href='file:///home/myrmecia/anaconda3/envs/ML/lib/python3.8/site-packages/tensorflow/python/training/tracking/base.py?line=516'>517</a>\u001b[0m   result \u001b[39m=\u001b[39m method(\u001b[39mself\u001b[39;49m, \u001b[39m*\u001b[39;49margs, \u001b[39m*\u001b[39;49m\u001b[39m*\u001b[39;49mkwargs)\n\u001b[1;32m    <a href='file:///home/myrmecia/anaconda3/envs/ML/lib/python3.8/site-packages/tensorflow/python/training/tracking/base.py?line=517'>518</a>\u001b[0m \u001b[39mfinally\u001b[39;00m:\n\u001b[1;32m    <a href='file:///home/myrmecia/anaconda3/envs/ML/lib/python3.8/site-packages/tensorflow/python/training/tracking/base.py?line=518'>519</a>\u001b[0m   \u001b[39mself\u001b[39m\u001b[39m.\u001b[39m_self_setattr_tracking \u001b[39m=\u001b[39m previous_value  \u001b[39m# pylint: disable=protected-access\u001b[39;00m\n",
      "File \u001b[0;32m~/anaconda3/envs/ML/lib/python3.8/site-packages/tensorflow/python/keras/engine/sequential.py:117\u001b[0m, in \u001b[0;36mSequential.__init__\u001b[0;34m(self, layers, name)\u001b[0m\n\u001b[1;32m    <a href='file:///home/myrmecia/anaconda3/envs/ML/lib/python3.8/site-packages/tensorflow/python/keras/engine/sequential.py?line=109'>110</a>\u001b[0m \u001b[39m\"\"\"Creates a `Sequential` model instance.\u001b[39;00m\n\u001b[1;32m    <a href='file:///home/myrmecia/anaconda3/envs/ML/lib/python3.8/site-packages/tensorflow/python/keras/engine/sequential.py?line=110'>111</a>\u001b[0m \n\u001b[1;32m    <a href='file:///home/myrmecia/anaconda3/envs/ML/lib/python3.8/site-packages/tensorflow/python/keras/engine/sequential.py?line=111'>112</a>\u001b[0m \u001b[39mArgs:\u001b[39;00m\n\u001b[1;32m    <a href='file:///home/myrmecia/anaconda3/envs/ML/lib/python3.8/site-packages/tensorflow/python/keras/engine/sequential.py?line=112'>113</a>\u001b[0m \u001b[39m  layers: Optional list of layers to add to the model.\u001b[39;00m\n\u001b[1;32m    <a href='file:///home/myrmecia/anaconda3/envs/ML/lib/python3.8/site-packages/tensorflow/python/keras/engine/sequential.py?line=113'>114</a>\u001b[0m \u001b[39m  name: Optional name for the model.\u001b[39;00m\n\u001b[1;32m    <a href='file:///home/myrmecia/anaconda3/envs/ML/lib/python3.8/site-packages/tensorflow/python/keras/engine/sequential.py?line=114'>115</a>\u001b[0m \u001b[39m\"\"\"\u001b[39;00m\n\u001b[1;32m    <a href='file:///home/myrmecia/anaconda3/envs/ML/lib/python3.8/site-packages/tensorflow/python/keras/engine/sequential.py?line=115'>116</a>\u001b[0m \u001b[39m# Skip the init in FunctionalModel since model doesn't have input/output yet\u001b[39;00m\n\u001b[0;32m--> <a href='file:///home/myrmecia/anaconda3/envs/ML/lib/python3.8/site-packages/tensorflow/python/keras/engine/sequential.py?line=116'>117</a>\u001b[0m \u001b[39msuper\u001b[39;49m(functional\u001b[39m.\u001b[39;49mFunctional, \u001b[39mself\u001b[39;49m)\u001b[39m.\u001b[39;49m\u001b[39m__init__\u001b[39;49m(  \u001b[39m# pylint: disable=bad-super-call\u001b[39;49;00m\n\u001b[1;32m    <a href='file:///home/myrmecia/anaconda3/envs/ML/lib/python3.8/site-packages/tensorflow/python/keras/engine/sequential.py?line=117'>118</a>\u001b[0m     name\u001b[39m=\u001b[39;49mname, autocast\u001b[39m=\u001b[39;49m\u001b[39mFalse\u001b[39;49;00m)\n\u001b[1;32m    <a href='file:///home/myrmecia/anaconda3/envs/ML/lib/python3.8/site-packages/tensorflow/python/keras/engine/sequential.py?line=118'>119</a>\u001b[0m base_layer\u001b[39m.\u001b[39mkeras_api_gauge\u001b[39m.\u001b[39mget_cell(\u001b[39m'\u001b[39m\u001b[39mSequential\u001b[39m\u001b[39m'\u001b[39m)\u001b[39m.\u001b[39mset(\u001b[39mTrue\u001b[39;00m)\n\u001b[1;32m    <a href='file:///home/myrmecia/anaconda3/envs/ML/lib/python3.8/site-packages/tensorflow/python/keras/engine/sequential.py?line=119'>120</a>\u001b[0m \u001b[39mself\u001b[39m\u001b[39m.\u001b[39msupports_masking \u001b[39m=\u001b[39m \u001b[39mTrue\u001b[39;00m\n",
      "File \u001b[0;32m~/anaconda3/envs/ML/lib/python3.8/site-packages/tensorflow/python/training/tracking/base.py:517\u001b[0m, in \u001b[0;36mno_automatic_dependency_tracking.<locals>._method_wrapper\u001b[0;34m(self, *args, **kwargs)\u001b[0m\n\u001b[1;32m    <a href='file:///home/myrmecia/anaconda3/envs/ML/lib/python3.8/site-packages/tensorflow/python/training/tracking/base.py?line=514'>515</a>\u001b[0m \u001b[39mself\u001b[39m\u001b[39m.\u001b[39m_self_setattr_tracking \u001b[39m=\u001b[39m \u001b[39mFalse\u001b[39;00m  \u001b[39m# pylint: disable=protected-access\u001b[39;00m\n\u001b[1;32m    <a href='file:///home/myrmecia/anaconda3/envs/ML/lib/python3.8/site-packages/tensorflow/python/training/tracking/base.py?line=515'>516</a>\u001b[0m \u001b[39mtry\u001b[39;00m:\n\u001b[0;32m--> <a href='file:///home/myrmecia/anaconda3/envs/ML/lib/python3.8/site-packages/tensorflow/python/training/tracking/base.py?line=516'>517</a>\u001b[0m   result \u001b[39m=\u001b[39m method(\u001b[39mself\u001b[39;49m, \u001b[39m*\u001b[39;49margs, \u001b[39m*\u001b[39;49m\u001b[39m*\u001b[39;49mkwargs)\n\u001b[1;32m    <a href='file:///home/myrmecia/anaconda3/envs/ML/lib/python3.8/site-packages/tensorflow/python/training/tracking/base.py?line=517'>518</a>\u001b[0m \u001b[39mfinally\u001b[39;00m:\n\u001b[1;32m    <a href='file:///home/myrmecia/anaconda3/envs/ML/lib/python3.8/site-packages/tensorflow/python/training/tracking/base.py?line=518'>519</a>\u001b[0m   \u001b[39mself\u001b[39m\u001b[39m.\u001b[39m_self_setattr_tracking \u001b[39m=\u001b[39m previous_value  \u001b[39m# pylint: disable=protected-access\u001b[39;00m\n",
      "File \u001b[0;32m~/anaconda3/envs/ML/lib/python3.8/site-packages/tensorflow/python/keras/engine/training.py:293\u001b[0m, in \u001b[0;36mModel.__init__\u001b[0;34m(self, *args, **kwargs)\u001b[0m\n\u001b[1;32m    <a href='file:///home/myrmecia/anaconda3/envs/ML/lib/python3.8/site-packages/tensorflow/python/keras/engine/training.py?line=287'>288</a>\u001b[0m \u001b[39mself\u001b[39m\u001b[39m.\u001b[39m_trackable_saver \u001b[39m=\u001b[39m (\n\u001b[1;32m    <a href='file:///home/myrmecia/anaconda3/envs/ML/lib/python3.8/site-packages/tensorflow/python/keras/engine/training.py?line=288'>289</a>\u001b[0m     trackable_utils\u001b[39m.\u001b[39msaver_with_op_caching(\u001b[39mself\u001b[39m))\n\u001b[1;32m    <a href='file:///home/myrmecia/anaconda3/envs/ML/lib/python3.8/site-packages/tensorflow/python/keras/engine/training.py?line=290'>291</a>\u001b[0m \u001b[39mself\u001b[39m\u001b[39m.\u001b[39m_steps_per_execution \u001b[39m=\u001b[39m \u001b[39mNone\u001b[39;00m\n\u001b[0;32m--> <a href='file:///home/myrmecia/anaconda3/envs/ML/lib/python3.8/site-packages/tensorflow/python/keras/engine/training.py?line=292'>293</a>\u001b[0m \u001b[39mself\u001b[39;49m\u001b[39m.\u001b[39;49m_init_batch_counters()\n\u001b[1;32m    <a href='file:///home/myrmecia/anaconda3/envs/ML/lib/python3.8/site-packages/tensorflow/python/keras/engine/training.py?line=293'>294</a>\u001b[0m \u001b[39mself\u001b[39m\u001b[39m.\u001b[39m_base_model_initialized \u001b[39m=\u001b[39m \u001b[39mTrue\u001b[39;00m\n",
      "File \u001b[0;32m~/anaconda3/envs/ML/lib/python3.8/site-packages/tensorflow/python/training/tracking/base.py:517\u001b[0m, in \u001b[0;36mno_automatic_dependency_tracking.<locals>._method_wrapper\u001b[0;34m(self, *args, **kwargs)\u001b[0m\n\u001b[1;32m    <a href='file:///home/myrmecia/anaconda3/envs/ML/lib/python3.8/site-packages/tensorflow/python/training/tracking/base.py?line=514'>515</a>\u001b[0m \u001b[39mself\u001b[39m\u001b[39m.\u001b[39m_self_setattr_tracking \u001b[39m=\u001b[39m \u001b[39mFalse\u001b[39;00m  \u001b[39m# pylint: disable=protected-access\u001b[39;00m\n\u001b[1;32m    <a href='file:///home/myrmecia/anaconda3/envs/ML/lib/python3.8/site-packages/tensorflow/python/training/tracking/base.py?line=515'>516</a>\u001b[0m \u001b[39mtry\u001b[39;00m:\n\u001b[0;32m--> <a href='file:///home/myrmecia/anaconda3/envs/ML/lib/python3.8/site-packages/tensorflow/python/training/tracking/base.py?line=516'>517</a>\u001b[0m   result \u001b[39m=\u001b[39m method(\u001b[39mself\u001b[39;49m, \u001b[39m*\u001b[39;49margs, \u001b[39m*\u001b[39;49m\u001b[39m*\u001b[39;49mkwargs)\n\u001b[1;32m    <a href='file:///home/myrmecia/anaconda3/envs/ML/lib/python3.8/site-packages/tensorflow/python/training/tracking/base.py?line=517'>518</a>\u001b[0m \u001b[39mfinally\u001b[39;00m:\n\u001b[1;32m    <a href='file:///home/myrmecia/anaconda3/envs/ML/lib/python3.8/site-packages/tensorflow/python/training/tracking/base.py?line=518'>519</a>\u001b[0m   \u001b[39mself\u001b[39m\u001b[39m.\u001b[39m_self_setattr_tracking \u001b[39m=\u001b[39m previous_value  \u001b[39m# pylint: disable=protected-access\u001b[39;00m\n",
      "File \u001b[0;32m~/anaconda3/envs/ML/lib/python3.8/site-packages/tensorflow/python/keras/engine/training.py:301\u001b[0m, in \u001b[0;36mModel._init_batch_counters\u001b[0;34m(self)\u001b[0m\n\u001b[1;32m    <a href='file:///home/myrmecia/anaconda3/envs/ML/lib/python3.8/site-packages/tensorflow/python/keras/engine/training.py?line=295'>296</a>\u001b[0m \u001b[39m@trackable\u001b[39m\u001b[39m.\u001b[39mno_automatic_dependency_tracking\n\u001b[1;32m    <a href='file:///home/myrmecia/anaconda3/envs/ML/lib/python3.8/site-packages/tensorflow/python/keras/engine/training.py?line=296'>297</a>\u001b[0m \u001b[39mdef\u001b[39;00m \u001b[39m_init_batch_counters\u001b[39m(\u001b[39mself\u001b[39m):\n\u001b[1;32m    <a href='file:///home/myrmecia/anaconda3/envs/ML/lib/python3.8/site-packages/tensorflow/python/keras/engine/training.py?line=297'>298</a>\u001b[0m   \u001b[39m# Untracked Variables, used to keep track of mini-batches seen in `fit`,\u001b[39;00m\n\u001b[1;32m    <a href='file:///home/myrmecia/anaconda3/envs/ML/lib/python3.8/site-packages/tensorflow/python/keras/engine/training.py?line=298'>299</a>\u001b[0m   \u001b[39m# `evaluate`, and `predict`.\u001b[39;00m\n\u001b[1;32m    <a href='file:///home/myrmecia/anaconda3/envs/ML/lib/python3.8/site-packages/tensorflow/python/keras/engine/training.py?line=299'>300</a>\u001b[0m   agg \u001b[39m=\u001b[39m variables\u001b[39m.\u001b[39mVariableAggregationV2\u001b[39m.\u001b[39mONLY_FIRST_REPLICA\n\u001b[0;32m--> <a href='file:///home/myrmecia/anaconda3/envs/ML/lib/python3.8/site-packages/tensorflow/python/keras/engine/training.py?line=300'>301</a>\u001b[0m   \u001b[39mself\u001b[39m\u001b[39m.\u001b[39m_train_counter \u001b[39m=\u001b[39m variables\u001b[39m.\u001b[39;49mVariable(\u001b[39m0\u001b[39;49m, dtype\u001b[39m=\u001b[39;49m\u001b[39m'\u001b[39;49m\u001b[39mint64\u001b[39;49m\u001b[39m'\u001b[39;49m, aggregation\u001b[39m=\u001b[39;49magg)\n\u001b[1;32m    <a href='file:///home/myrmecia/anaconda3/envs/ML/lib/python3.8/site-packages/tensorflow/python/keras/engine/training.py?line=301'>302</a>\u001b[0m   \u001b[39mself\u001b[39m\u001b[39m.\u001b[39m_test_counter \u001b[39m=\u001b[39m variables\u001b[39m.\u001b[39mVariable(\u001b[39m0\u001b[39m, dtype\u001b[39m=\u001b[39m\u001b[39m'\u001b[39m\u001b[39mint64\u001b[39m\u001b[39m'\u001b[39m, aggregation\u001b[39m=\u001b[39magg)\n\u001b[1;32m    <a href='file:///home/myrmecia/anaconda3/envs/ML/lib/python3.8/site-packages/tensorflow/python/keras/engine/training.py?line=302'>303</a>\u001b[0m   \u001b[39mself\u001b[39m\u001b[39m.\u001b[39m_predict_counter \u001b[39m=\u001b[39m variables\u001b[39m.\u001b[39mVariable(\n\u001b[1;32m    <a href='file:///home/myrmecia/anaconda3/envs/ML/lib/python3.8/site-packages/tensorflow/python/keras/engine/training.py?line=303'>304</a>\u001b[0m       \u001b[39m0\u001b[39m, dtype\u001b[39m=\u001b[39m\u001b[39m'\u001b[39m\u001b[39mint64\u001b[39m\u001b[39m'\u001b[39m, aggregation\u001b[39m=\u001b[39magg)\n",
      "File \u001b[0;32m~/anaconda3/envs/ML/lib/python3.8/site-packages/tensorflow/python/ops/variables.py:262\u001b[0m, in \u001b[0;36mVariableMetaclass.__call__\u001b[0;34m(cls, *args, **kwargs)\u001b[0m\n\u001b[1;32m    <a href='file:///home/myrmecia/anaconda3/envs/ML/lib/python3.8/site-packages/tensorflow/python/ops/variables.py?line=259'>260</a>\u001b[0m   \u001b[39mreturn\u001b[39;00m \u001b[39mcls\u001b[39m\u001b[39m.\u001b[39m_variable_v1_call(\u001b[39m*\u001b[39margs, \u001b[39m*\u001b[39m\u001b[39m*\u001b[39mkwargs)\n\u001b[1;32m    <a href='file:///home/myrmecia/anaconda3/envs/ML/lib/python3.8/site-packages/tensorflow/python/ops/variables.py?line=260'>261</a>\u001b[0m \u001b[39melif\u001b[39;00m \u001b[39mcls\u001b[39m \u001b[39mis\u001b[39;00m Variable:\n\u001b[0;32m--> <a href='file:///home/myrmecia/anaconda3/envs/ML/lib/python3.8/site-packages/tensorflow/python/ops/variables.py?line=261'>262</a>\u001b[0m   \u001b[39mreturn\u001b[39;00m \u001b[39mcls\u001b[39;49m\u001b[39m.\u001b[39;49m_variable_v2_call(\u001b[39m*\u001b[39;49margs, \u001b[39m*\u001b[39;49m\u001b[39m*\u001b[39;49mkwargs)\n\u001b[1;32m    <a href='file:///home/myrmecia/anaconda3/envs/ML/lib/python3.8/site-packages/tensorflow/python/ops/variables.py?line=262'>263</a>\u001b[0m \u001b[39melse\u001b[39;00m:\n\u001b[1;32m    <a href='file:///home/myrmecia/anaconda3/envs/ML/lib/python3.8/site-packages/tensorflow/python/ops/variables.py?line=263'>264</a>\u001b[0m   \u001b[39mreturn\u001b[39;00m \u001b[39msuper\u001b[39m(VariableMetaclass, \u001b[39mcls\u001b[39m)\u001b[39m.\u001b[39m\u001b[39m__call__\u001b[39m(\u001b[39m*\u001b[39margs, \u001b[39m*\u001b[39m\u001b[39m*\u001b[39mkwargs)\n",
      "File \u001b[0;32m~/anaconda3/envs/ML/lib/python3.8/site-packages/tensorflow/python/ops/variables.py:244\u001b[0m, in \u001b[0;36mVariableMetaclass._variable_v2_call\u001b[0;34m(cls, initial_value, trainable, validate_shape, caching_device, name, variable_def, dtype, import_scope, constraint, synchronization, aggregation, shape)\u001b[0m\n\u001b[1;32m    <a href='file:///home/myrmecia/anaconda3/envs/ML/lib/python3.8/site-packages/tensorflow/python/ops/variables.py?line=241'>242</a>\u001b[0m \u001b[39mif\u001b[39;00m aggregation \u001b[39mis\u001b[39;00m \u001b[39mNone\u001b[39;00m:\n\u001b[1;32m    <a href='file:///home/myrmecia/anaconda3/envs/ML/lib/python3.8/site-packages/tensorflow/python/ops/variables.py?line=242'>243</a>\u001b[0m   aggregation \u001b[39m=\u001b[39m VariableAggregation\u001b[39m.\u001b[39mNONE\n\u001b[0;32m--> <a href='file:///home/myrmecia/anaconda3/envs/ML/lib/python3.8/site-packages/tensorflow/python/ops/variables.py?line=243'>244</a>\u001b[0m \u001b[39mreturn\u001b[39;00m previous_getter(\n\u001b[1;32m    <a href='file:///home/myrmecia/anaconda3/envs/ML/lib/python3.8/site-packages/tensorflow/python/ops/variables.py?line=244'>245</a>\u001b[0m     initial_value\u001b[39m=\u001b[39;49minitial_value,\n\u001b[1;32m    <a href='file:///home/myrmecia/anaconda3/envs/ML/lib/python3.8/site-packages/tensorflow/python/ops/variables.py?line=245'>246</a>\u001b[0m     trainable\u001b[39m=\u001b[39;49mtrainable,\n\u001b[1;32m    <a href='file:///home/myrmecia/anaconda3/envs/ML/lib/python3.8/site-packages/tensorflow/python/ops/variables.py?line=246'>247</a>\u001b[0m     validate_shape\u001b[39m=\u001b[39;49mvalidate_shape,\n\u001b[1;32m    <a href='file:///home/myrmecia/anaconda3/envs/ML/lib/python3.8/site-packages/tensorflow/python/ops/variables.py?line=247'>248</a>\u001b[0m     caching_device\u001b[39m=\u001b[39;49mcaching_device,\n\u001b[1;32m    <a href='file:///home/myrmecia/anaconda3/envs/ML/lib/python3.8/site-packages/tensorflow/python/ops/variables.py?line=248'>249</a>\u001b[0m     name\u001b[39m=\u001b[39;49mname,\n\u001b[1;32m    <a href='file:///home/myrmecia/anaconda3/envs/ML/lib/python3.8/site-packages/tensorflow/python/ops/variables.py?line=249'>250</a>\u001b[0m     variable_def\u001b[39m=\u001b[39;49mvariable_def,\n\u001b[1;32m    <a href='file:///home/myrmecia/anaconda3/envs/ML/lib/python3.8/site-packages/tensorflow/python/ops/variables.py?line=250'>251</a>\u001b[0m     dtype\u001b[39m=\u001b[39;49mdtype,\n\u001b[1;32m    <a href='file:///home/myrmecia/anaconda3/envs/ML/lib/python3.8/site-packages/tensorflow/python/ops/variables.py?line=251'>252</a>\u001b[0m     import_scope\u001b[39m=\u001b[39;49mimport_scope,\n\u001b[1;32m    <a href='file:///home/myrmecia/anaconda3/envs/ML/lib/python3.8/site-packages/tensorflow/python/ops/variables.py?line=252'>253</a>\u001b[0m     constraint\u001b[39m=\u001b[39;49mconstraint,\n\u001b[1;32m    <a href='file:///home/myrmecia/anaconda3/envs/ML/lib/python3.8/site-packages/tensorflow/python/ops/variables.py?line=253'>254</a>\u001b[0m     synchronization\u001b[39m=\u001b[39;49msynchronization,\n\u001b[1;32m    <a href='file:///home/myrmecia/anaconda3/envs/ML/lib/python3.8/site-packages/tensorflow/python/ops/variables.py?line=254'>255</a>\u001b[0m     aggregation\u001b[39m=\u001b[39;49maggregation,\n\u001b[1;32m    <a href='file:///home/myrmecia/anaconda3/envs/ML/lib/python3.8/site-packages/tensorflow/python/ops/variables.py?line=255'>256</a>\u001b[0m     shape\u001b[39m=\u001b[39;49mshape)\n",
      "File \u001b[0;32m~/anaconda3/envs/ML/lib/python3.8/site-packages/tensorflow/python/ops/variables.py:237\u001b[0m, in \u001b[0;36mVariableMetaclass._variable_v2_call.<locals>.<lambda>\u001b[0;34m(**kws)\u001b[0m\n\u001b[1;32m    <a href='file:///home/myrmecia/anaconda3/envs/ML/lib/python3.8/site-packages/tensorflow/python/ops/variables.py?line=222'>223</a>\u001b[0m \u001b[39mdef\u001b[39;00m \u001b[39m_variable_v2_call\u001b[39m(\u001b[39mcls\u001b[39m,\n\u001b[1;32m    <a href='file:///home/myrmecia/anaconda3/envs/ML/lib/python3.8/site-packages/tensorflow/python/ops/variables.py?line=223'>224</a>\u001b[0m                       initial_value\u001b[39m=\u001b[39m\u001b[39mNone\u001b[39;00m,\n\u001b[1;32m    <a href='file:///home/myrmecia/anaconda3/envs/ML/lib/python3.8/site-packages/tensorflow/python/ops/variables.py?line=224'>225</a>\u001b[0m                       trainable\u001b[39m=\u001b[39m\u001b[39mNone\u001b[39;00m,\n\u001b[0;32m   (...)\u001b[0m\n\u001b[1;32m    <a href='file:///home/myrmecia/anaconda3/envs/ML/lib/python3.8/site-packages/tensorflow/python/ops/variables.py?line=233'>234</a>\u001b[0m                       aggregation\u001b[39m=\u001b[39mVariableAggregation\u001b[39m.\u001b[39mNONE,\n\u001b[1;32m    <a href='file:///home/myrmecia/anaconda3/envs/ML/lib/python3.8/site-packages/tensorflow/python/ops/variables.py?line=234'>235</a>\u001b[0m                       shape\u001b[39m=\u001b[39m\u001b[39mNone\u001b[39;00m):\n\u001b[1;32m    <a href='file:///home/myrmecia/anaconda3/envs/ML/lib/python3.8/site-packages/tensorflow/python/ops/variables.py?line=235'>236</a>\u001b[0m   \u001b[39m\"\"\"Call on Variable class. Useful to force the signature.\"\"\"\u001b[39;00m\n\u001b[0;32m--> <a href='file:///home/myrmecia/anaconda3/envs/ML/lib/python3.8/site-packages/tensorflow/python/ops/variables.py?line=236'>237</a>\u001b[0m   previous_getter \u001b[39m=\u001b[39m \u001b[39mlambda\u001b[39;00m \u001b[39m*\u001b[39m\u001b[39m*\u001b[39mkws: default_variable_creator_v2(\u001b[39mNone\u001b[39;49;00m, \u001b[39m*\u001b[39;49m\u001b[39m*\u001b[39;49mkws)\n\u001b[1;32m    <a href='file:///home/myrmecia/anaconda3/envs/ML/lib/python3.8/site-packages/tensorflow/python/ops/variables.py?line=237'>238</a>\u001b[0m   \u001b[39mfor\u001b[39;00m _, getter \u001b[39min\u001b[39;00m ops\u001b[39m.\u001b[39mget_default_graph()\u001b[39m.\u001b[39m_variable_creator_stack:  \u001b[39m# pylint: disable=protected-access\u001b[39;00m\n\u001b[1;32m    <a href='file:///home/myrmecia/anaconda3/envs/ML/lib/python3.8/site-packages/tensorflow/python/ops/variables.py?line=238'>239</a>\u001b[0m     previous_getter \u001b[39m=\u001b[39m _make_getter(getter, previous_getter)\n",
      "File \u001b[0;32m~/anaconda3/envs/ML/lib/python3.8/site-packages/tensorflow/python/ops/variable_scope.py:2654\u001b[0m, in \u001b[0;36mdefault_variable_creator_v2\u001b[0;34m(next_creator, **kwargs)\u001b[0m\n\u001b[1;32m   <a href='file:///home/myrmecia/anaconda3/envs/ML/lib/python3.8/site-packages/tensorflow/python/ops/variable_scope.py?line=2650'>2651</a>\u001b[0m aggregation \u001b[39m=\u001b[39m kwargs\u001b[39m.\u001b[39mget(\u001b[39m\"\u001b[39m\u001b[39maggregation\u001b[39m\u001b[39m\"\u001b[39m, \u001b[39mNone\u001b[39;00m)\n\u001b[1;32m   <a href='file:///home/myrmecia/anaconda3/envs/ML/lib/python3.8/site-packages/tensorflow/python/ops/variable_scope.py?line=2651'>2652</a>\u001b[0m shape \u001b[39m=\u001b[39m kwargs\u001b[39m.\u001b[39mget(\u001b[39m\"\u001b[39m\u001b[39mshape\u001b[39m\u001b[39m\"\u001b[39m, \u001b[39mNone\u001b[39;00m)\n\u001b[0;32m-> <a href='file:///home/myrmecia/anaconda3/envs/ML/lib/python3.8/site-packages/tensorflow/python/ops/variable_scope.py?line=2653'>2654</a>\u001b[0m \u001b[39mreturn\u001b[39;00m resource_variable_ops\u001b[39m.\u001b[39;49mResourceVariable(\n\u001b[1;32m   <a href='file:///home/myrmecia/anaconda3/envs/ML/lib/python3.8/site-packages/tensorflow/python/ops/variable_scope.py?line=2654'>2655</a>\u001b[0m     initial_value\u001b[39m=\u001b[39;49minitial_value,\n\u001b[1;32m   <a href='file:///home/myrmecia/anaconda3/envs/ML/lib/python3.8/site-packages/tensorflow/python/ops/variable_scope.py?line=2655'>2656</a>\u001b[0m     trainable\u001b[39m=\u001b[39;49mtrainable,\n\u001b[1;32m   <a href='file:///home/myrmecia/anaconda3/envs/ML/lib/python3.8/site-packages/tensorflow/python/ops/variable_scope.py?line=2656'>2657</a>\u001b[0m     validate_shape\u001b[39m=\u001b[39;49mvalidate_shape,\n\u001b[1;32m   <a href='file:///home/myrmecia/anaconda3/envs/ML/lib/python3.8/site-packages/tensorflow/python/ops/variable_scope.py?line=2657'>2658</a>\u001b[0m     caching_device\u001b[39m=\u001b[39;49mcaching_device,\n\u001b[1;32m   <a href='file:///home/myrmecia/anaconda3/envs/ML/lib/python3.8/site-packages/tensorflow/python/ops/variable_scope.py?line=2658'>2659</a>\u001b[0m     name\u001b[39m=\u001b[39;49mname,\n\u001b[1;32m   <a href='file:///home/myrmecia/anaconda3/envs/ML/lib/python3.8/site-packages/tensorflow/python/ops/variable_scope.py?line=2659'>2660</a>\u001b[0m     dtype\u001b[39m=\u001b[39;49mdtype,\n\u001b[1;32m   <a href='file:///home/myrmecia/anaconda3/envs/ML/lib/python3.8/site-packages/tensorflow/python/ops/variable_scope.py?line=2660'>2661</a>\u001b[0m     constraint\u001b[39m=\u001b[39;49mconstraint,\n\u001b[1;32m   <a href='file:///home/myrmecia/anaconda3/envs/ML/lib/python3.8/site-packages/tensorflow/python/ops/variable_scope.py?line=2661'>2662</a>\u001b[0m     variable_def\u001b[39m=\u001b[39;49mvariable_def,\n\u001b[1;32m   <a href='file:///home/myrmecia/anaconda3/envs/ML/lib/python3.8/site-packages/tensorflow/python/ops/variable_scope.py?line=2662'>2663</a>\u001b[0m     import_scope\u001b[39m=\u001b[39;49mimport_scope,\n\u001b[1;32m   <a href='file:///home/myrmecia/anaconda3/envs/ML/lib/python3.8/site-packages/tensorflow/python/ops/variable_scope.py?line=2663'>2664</a>\u001b[0m     distribute_strategy\u001b[39m=\u001b[39;49mdistribute_strategy,\n\u001b[1;32m   <a href='file:///home/myrmecia/anaconda3/envs/ML/lib/python3.8/site-packages/tensorflow/python/ops/variable_scope.py?line=2664'>2665</a>\u001b[0m     synchronization\u001b[39m=\u001b[39;49msynchronization,\n\u001b[1;32m   <a href='file:///home/myrmecia/anaconda3/envs/ML/lib/python3.8/site-packages/tensorflow/python/ops/variable_scope.py?line=2665'>2666</a>\u001b[0m     aggregation\u001b[39m=\u001b[39;49maggregation,\n\u001b[1;32m   <a href='file:///home/myrmecia/anaconda3/envs/ML/lib/python3.8/site-packages/tensorflow/python/ops/variable_scope.py?line=2666'>2667</a>\u001b[0m     shape\u001b[39m=\u001b[39;49mshape)\n",
      "File \u001b[0;32m~/anaconda3/envs/ML/lib/python3.8/site-packages/tensorflow/python/ops/variables.py:264\u001b[0m, in \u001b[0;36mVariableMetaclass.__call__\u001b[0;34m(cls, *args, **kwargs)\u001b[0m\n\u001b[1;32m    <a href='file:///home/myrmecia/anaconda3/envs/ML/lib/python3.8/site-packages/tensorflow/python/ops/variables.py?line=261'>262</a>\u001b[0m   \u001b[39mreturn\u001b[39;00m \u001b[39mcls\u001b[39m\u001b[39m.\u001b[39m_variable_v2_call(\u001b[39m*\u001b[39margs, \u001b[39m*\u001b[39m\u001b[39m*\u001b[39mkwargs)\n\u001b[1;32m    <a href='file:///home/myrmecia/anaconda3/envs/ML/lib/python3.8/site-packages/tensorflow/python/ops/variables.py?line=262'>263</a>\u001b[0m \u001b[39melse\u001b[39;00m:\n\u001b[0;32m--> <a href='file:///home/myrmecia/anaconda3/envs/ML/lib/python3.8/site-packages/tensorflow/python/ops/variables.py?line=263'>264</a>\u001b[0m   \u001b[39mreturn\u001b[39;00m \u001b[39msuper\u001b[39;49m(VariableMetaclass, \u001b[39mcls\u001b[39;49m)\u001b[39m.\u001b[39;49m\u001b[39m__call__\u001b[39;49m(\u001b[39m*\u001b[39;49margs, \u001b[39m*\u001b[39;49m\u001b[39m*\u001b[39;49mkwargs)\n",
      "File \u001b[0;32m~/anaconda3/envs/ML/lib/python3.8/site-packages/tensorflow/python/ops/resource_variable_ops.py:1574\u001b[0m, in \u001b[0;36mResourceVariable.__init__\u001b[0;34m(self, initial_value, trainable, collections, validate_shape, caching_device, name, dtype, variable_def, import_scope, constraint, distribute_strategy, synchronization, aggregation, shape)\u001b[0m\n\u001b[1;32m   <a href='file:///home/myrmecia/anaconda3/envs/ML/lib/python3.8/site-packages/tensorflow/python/ops/resource_variable_ops.py?line=1571'>1572</a>\u001b[0m   \u001b[39mself\u001b[39m\u001b[39m.\u001b[39m_init_from_proto(variable_def, import_scope\u001b[39m=\u001b[39mimport_scope)\n\u001b[1;32m   <a href='file:///home/myrmecia/anaconda3/envs/ML/lib/python3.8/site-packages/tensorflow/python/ops/resource_variable_ops.py?line=1572'>1573</a>\u001b[0m \u001b[39melse\u001b[39;00m:\n\u001b[0;32m-> <a href='file:///home/myrmecia/anaconda3/envs/ML/lib/python3.8/site-packages/tensorflow/python/ops/resource_variable_ops.py?line=1573'>1574</a>\u001b[0m   \u001b[39mself\u001b[39;49m\u001b[39m.\u001b[39;49m_init_from_args(\n\u001b[1;32m   <a href='file:///home/myrmecia/anaconda3/envs/ML/lib/python3.8/site-packages/tensorflow/python/ops/resource_variable_ops.py?line=1574'>1575</a>\u001b[0m       initial_value\u001b[39m=\u001b[39;49minitial_value,\n\u001b[1;32m   <a href='file:///home/myrmecia/anaconda3/envs/ML/lib/python3.8/site-packages/tensorflow/python/ops/resource_variable_ops.py?line=1575'>1576</a>\u001b[0m       trainable\u001b[39m=\u001b[39;49mtrainable,\n\u001b[1;32m   <a href='file:///home/myrmecia/anaconda3/envs/ML/lib/python3.8/site-packages/tensorflow/python/ops/resource_variable_ops.py?line=1576'>1577</a>\u001b[0m       collections\u001b[39m=\u001b[39;49mcollections,\n\u001b[1;32m   <a href='file:///home/myrmecia/anaconda3/envs/ML/lib/python3.8/site-packages/tensorflow/python/ops/resource_variable_ops.py?line=1577'>1578</a>\u001b[0m       caching_device\u001b[39m=\u001b[39;49mcaching_device,\n\u001b[1;32m   <a href='file:///home/myrmecia/anaconda3/envs/ML/lib/python3.8/site-packages/tensorflow/python/ops/resource_variable_ops.py?line=1578'>1579</a>\u001b[0m       name\u001b[39m=\u001b[39;49mname,\n\u001b[1;32m   <a href='file:///home/myrmecia/anaconda3/envs/ML/lib/python3.8/site-packages/tensorflow/python/ops/resource_variable_ops.py?line=1579'>1580</a>\u001b[0m       dtype\u001b[39m=\u001b[39;49mdtype,\n\u001b[1;32m   <a href='file:///home/myrmecia/anaconda3/envs/ML/lib/python3.8/site-packages/tensorflow/python/ops/resource_variable_ops.py?line=1580'>1581</a>\u001b[0m       constraint\u001b[39m=\u001b[39;49mconstraint,\n\u001b[1;32m   <a href='file:///home/myrmecia/anaconda3/envs/ML/lib/python3.8/site-packages/tensorflow/python/ops/resource_variable_ops.py?line=1581'>1582</a>\u001b[0m       synchronization\u001b[39m=\u001b[39;49msynchronization,\n\u001b[1;32m   <a href='file:///home/myrmecia/anaconda3/envs/ML/lib/python3.8/site-packages/tensorflow/python/ops/resource_variable_ops.py?line=1582'>1583</a>\u001b[0m       aggregation\u001b[39m=\u001b[39;49maggregation,\n\u001b[1;32m   <a href='file:///home/myrmecia/anaconda3/envs/ML/lib/python3.8/site-packages/tensorflow/python/ops/resource_variable_ops.py?line=1583'>1584</a>\u001b[0m       shape\u001b[39m=\u001b[39;49mshape,\n\u001b[1;32m   <a href='file:///home/myrmecia/anaconda3/envs/ML/lib/python3.8/site-packages/tensorflow/python/ops/resource_variable_ops.py?line=1584'>1585</a>\u001b[0m       distribute_strategy\u001b[39m=\u001b[39;49mdistribute_strategy)\n",
      "File \u001b[0;32m~/anaconda3/envs/ML/lib/python3.8/site-packages/tensorflow/python/ops/resource_variable_ops.py:1728\u001b[0m, in \u001b[0;36mResourceVariable._init_from_args\u001b[0;34m(self, initial_value, trainable, collections, caching_device, name, dtype, constraint, synchronization, aggregation, distribute_strategy, shape)\u001b[0m\n\u001b[1;32m   <a href='file:///home/myrmecia/anaconda3/envs/ML/lib/python3.8/site-packages/tensorflow/python/ops/resource_variable_ops.py?line=1725'>1726</a>\u001b[0m   \u001b[39melse\u001b[39;00m:\n\u001b[1;32m   <a href='file:///home/myrmecia/anaconda3/envs/ML/lib/python3.8/site-packages/tensorflow/python/ops/resource_variable_ops.py?line=1726'>1727</a>\u001b[0m     shape \u001b[39m=\u001b[39m initial_value\u001b[39m.\u001b[39mshape\n\u001b[0;32m-> <a href='file:///home/myrmecia/anaconda3/envs/ML/lib/python3.8/site-packages/tensorflow/python/ops/resource_variable_ops.py?line=1727'>1728</a>\u001b[0m   handle \u001b[39m=\u001b[39m eager_safe_variable_handle(\n\u001b[1;32m   <a href='file:///home/myrmecia/anaconda3/envs/ML/lib/python3.8/site-packages/tensorflow/python/ops/resource_variable_ops.py?line=1728'>1729</a>\u001b[0m       initial_value\u001b[39m=\u001b[39;49minitial_value,\n\u001b[1;32m   <a href='file:///home/myrmecia/anaconda3/envs/ML/lib/python3.8/site-packages/tensorflow/python/ops/resource_variable_ops.py?line=1729'>1730</a>\u001b[0m       shape\u001b[39m=\u001b[39;49mshape,\n\u001b[1;32m   <a href='file:///home/myrmecia/anaconda3/envs/ML/lib/python3.8/site-packages/tensorflow/python/ops/resource_variable_ops.py?line=1730'>1731</a>\u001b[0m       shared_name\u001b[39m=\u001b[39;49mshared_name,\n\u001b[1;32m   <a href='file:///home/myrmecia/anaconda3/envs/ML/lib/python3.8/site-packages/tensorflow/python/ops/resource_variable_ops.py?line=1731'>1732</a>\u001b[0m       name\u001b[39m=\u001b[39;49mname,\n\u001b[1;32m   <a href='file:///home/myrmecia/anaconda3/envs/ML/lib/python3.8/site-packages/tensorflow/python/ops/resource_variable_ops.py?line=1732'>1733</a>\u001b[0m       graph_mode\u001b[39m=\u001b[39;49m\u001b[39mself\u001b[39;49m\u001b[39m.\u001b[39;49m_in_graph_mode)\n\u001b[1;32m   <a href='file:///home/myrmecia/anaconda3/envs/ML/lib/python3.8/site-packages/tensorflow/python/ops/resource_variable_ops.py?line=1733'>1734</a>\u001b[0m \u001b[39m# pylint: disable=protected-access\u001b[39;00m\n\u001b[1;32m   <a href='file:///home/myrmecia/anaconda3/envs/ML/lib/python3.8/site-packages/tensorflow/python/ops/resource_variable_ops.py?line=1734'>1735</a>\u001b[0m \u001b[39mif\u001b[39;00m (\u001b[39mself\u001b[39m\u001b[39m.\u001b[39m_in_graph_mode \u001b[39mand\u001b[39;00m initial_value \u001b[39mis\u001b[39;00m \u001b[39mnot\u001b[39;00m \u001b[39mNone\u001b[39;00m \u001b[39mand\u001b[39;00m\n\u001b[1;32m   <a href='file:///home/myrmecia/anaconda3/envs/ML/lib/python3.8/site-packages/tensorflow/python/ops/resource_variable_ops.py?line=1735'>1736</a>\u001b[0m     initial_value\u001b[39m.\u001b[39mop\u001b[39m.\u001b[39m_get_control_flow_context() \u001b[39mis\u001b[39;00m \u001b[39mnot\u001b[39;00m \u001b[39mNone\u001b[39;00m):\n",
      "File \u001b[0;32m~/anaconda3/envs/ML/lib/python3.8/site-packages/tensorflow/python/ops/resource_variable_ops.py:236\u001b[0m, in \u001b[0;36meager_safe_variable_handle\u001b[0;34m(initial_value, shape, shared_name, name, graph_mode)\u001b[0m\n\u001b[1;32m    <a href='file:///home/myrmecia/anaconda3/envs/ML/lib/python3.8/site-packages/tensorflow/python/ops/resource_variable_ops.py?line=193'>194</a>\u001b[0m \u001b[39m\"\"\"Creates a variable handle with information to do shape inference.\u001b[39;00m\n\u001b[1;32m    <a href='file:///home/myrmecia/anaconda3/envs/ML/lib/python3.8/site-packages/tensorflow/python/ops/resource_variable_ops.py?line=194'>195</a>\u001b[0m \n\u001b[1;32m    <a href='file:///home/myrmecia/anaconda3/envs/ML/lib/python3.8/site-packages/tensorflow/python/ops/resource_variable_ops.py?line=195'>196</a>\u001b[0m \u001b[39mThe dtype is read from `initial_value` and stored in the returned\u001b[39;00m\n\u001b[0;32m   (...)\u001b[0m\n\u001b[1;32m    <a href='file:///home/myrmecia/anaconda3/envs/ML/lib/python3.8/site-packages/tensorflow/python/ops/resource_variable_ops.py?line=232'>233</a>\u001b[0m \u001b[39m  The handle, a `Tensor` of type `resource`.\u001b[39;00m\n\u001b[1;32m    <a href='file:///home/myrmecia/anaconda3/envs/ML/lib/python3.8/site-packages/tensorflow/python/ops/resource_variable_ops.py?line=233'>234</a>\u001b[0m \u001b[39m\"\"\"\u001b[39;00m\n\u001b[1;32m    <a href='file:///home/myrmecia/anaconda3/envs/ML/lib/python3.8/site-packages/tensorflow/python/ops/resource_variable_ops.py?line=234'>235</a>\u001b[0m dtype \u001b[39m=\u001b[39m initial_value\u001b[39m.\u001b[39mdtype\u001b[39m.\u001b[39mbase_dtype\n\u001b[0;32m--> <a href='file:///home/myrmecia/anaconda3/envs/ML/lib/python3.8/site-packages/tensorflow/python/ops/resource_variable_ops.py?line=235'>236</a>\u001b[0m \u001b[39mreturn\u001b[39;00m _variable_handle_from_shape_and_dtype(shape, dtype, shared_name, name,\n\u001b[1;32m    <a href='file:///home/myrmecia/anaconda3/envs/ML/lib/python3.8/site-packages/tensorflow/python/ops/resource_variable_ops.py?line=236'>237</a>\u001b[0m                                              graph_mode, initial_value)\n",
      "File \u001b[0;32m~/anaconda3/envs/ML/lib/python3.8/site-packages/tensorflow/python/ops/resource_variable_ops.py:160\u001b[0m, in \u001b[0;36m_variable_handle_from_shape_and_dtype\u001b[0;34m(shape, dtype, shared_name, name, graph_mode, initial_value)\u001b[0m\n\u001b[1;32m    <a href='file:///home/myrmecia/anaconda3/envs/ML/lib/python3.8/site-packages/tensorflow/python/ops/resource_variable_ops.py?line=155'>156</a>\u001b[0m     \u001b[39mraise\u001b[39;00m errors\u001b[39m.\u001b[39mInternalError(\n\u001b[1;32m    <a href='file:///home/myrmecia/anaconda3/envs/ML/lib/python3.8/site-packages/tensorflow/python/ops/resource_variable_ops.py?line=156'>157</a>\u001b[0m         \u001b[39m\"\u001b[39m\u001b[39mUsing an explicit shared_name is not supported executing eagerly.\u001b[39m\u001b[39m\"\u001b[39m)\n\u001b[1;32m    <a href='file:///home/myrmecia/anaconda3/envs/ML/lib/python3.8/site-packages/tensorflow/python/ops/resource_variable_ops.py?line=157'>158</a>\u001b[0m   shared_name \u001b[39m=\u001b[39m context\u001b[39m.\u001b[39mshared_name()\n\u001b[0;32m--> <a href='file:///home/myrmecia/anaconda3/envs/ML/lib/python3.8/site-packages/tensorflow/python/ops/resource_variable_ops.py?line=159'>160</a>\u001b[0m handle \u001b[39m=\u001b[39m gen_resource_variable_ops\u001b[39m.\u001b[39;49mvar_handle_op(\n\u001b[1;32m    <a href='file:///home/myrmecia/anaconda3/envs/ML/lib/python3.8/site-packages/tensorflow/python/ops/resource_variable_ops.py?line=160'>161</a>\u001b[0m     shape\u001b[39m=\u001b[39;49mshape,\n\u001b[1;32m    <a href='file:///home/myrmecia/anaconda3/envs/ML/lib/python3.8/site-packages/tensorflow/python/ops/resource_variable_ops.py?line=161'>162</a>\u001b[0m     dtype\u001b[39m=\u001b[39;49mdtype,\n\u001b[1;32m    <a href='file:///home/myrmecia/anaconda3/envs/ML/lib/python3.8/site-packages/tensorflow/python/ops/resource_variable_ops.py?line=162'>163</a>\u001b[0m     shared_name\u001b[39m=\u001b[39;49mshared_name,\n\u001b[1;32m    <a href='file:///home/myrmecia/anaconda3/envs/ML/lib/python3.8/site-packages/tensorflow/python/ops/resource_variable_ops.py?line=163'>164</a>\u001b[0m     name\u001b[39m=\u001b[39;49mname,\n\u001b[1;32m    <a href='file:///home/myrmecia/anaconda3/envs/ML/lib/python3.8/site-packages/tensorflow/python/ops/resource_variable_ops.py?line=164'>165</a>\u001b[0m     container\u001b[39m=\u001b[39;49mcontainer)\n\u001b[1;32m    <a href='file:///home/myrmecia/anaconda3/envs/ML/lib/python3.8/site-packages/tensorflow/python/ops/resource_variable_ops.py?line=165'>166</a>\u001b[0m \u001b[39mif\u001b[39;00m initial_value \u001b[39mis\u001b[39;00m \u001b[39mNone\u001b[39;00m:\n\u001b[1;32m    <a href='file:///home/myrmecia/anaconda3/envs/ML/lib/python3.8/site-packages/tensorflow/python/ops/resource_variable_ops.py?line=166'>167</a>\u001b[0m   initial_value \u001b[39m=\u001b[39m handle\n",
      "File \u001b[0;32m~/anaconda3/envs/ML/lib/python3.8/site-packages/tensorflow/python/ops/gen_resource_variable_ops.py:1178\u001b[0m, in \u001b[0;36mvar_handle_op\u001b[0;34m(dtype, shape, container, shared_name, allowed_devices, name)\u001b[0m\n\u001b[1;32m   <a href='file:///home/myrmecia/anaconda3/envs/ML/lib/python3.8/site-packages/tensorflow/python/ops/gen_resource_variable_ops.py?line=1175'>1176</a>\u001b[0m   \u001b[39mreturn\u001b[39;00m _result\n\u001b[1;32m   <a href='file:///home/myrmecia/anaconda3/envs/ML/lib/python3.8/site-packages/tensorflow/python/ops/gen_resource_variable_ops.py?line=1176'>1177</a>\u001b[0m \u001b[39mexcept\u001b[39;00m _core\u001b[39m.\u001b[39m_NotOkStatusException \u001b[39mas\u001b[39;00m e:\n\u001b[0;32m-> <a href='file:///home/myrmecia/anaconda3/envs/ML/lib/python3.8/site-packages/tensorflow/python/ops/gen_resource_variable_ops.py?line=1177'>1178</a>\u001b[0m   _ops\u001b[39m.\u001b[39;49mraise_from_not_ok_status(e, name)\n\u001b[1;32m   <a href='file:///home/myrmecia/anaconda3/envs/ML/lib/python3.8/site-packages/tensorflow/python/ops/gen_resource_variable_ops.py?line=1178'>1179</a>\u001b[0m \u001b[39mexcept\u001b[39;00m _core\u001b[39m.\u001b[39m_FallbackException:\n\u001b[1;32m   <a href='file:///home/myrmecia/anaconda3/envs/ML/lib/python3.8/site-packages/tensorflow/python/ops/gen_resource_variable_ops.py?line=1179'>1180</a>\u001b[0m   \u001b[39mpass\u001b[39;00m\n",
      "File \u001b[0;32m~/anaconda3/envs/ML/lib/python3.8/site-packages/tensorflow/python/framework/ops.py:6862\u001b[0m, in \u001b[0;36mraise_from_not_ok_status\u001b[0;34m(e, name)\u001b[0m\n\u001b[1;32m   <a href='file:///home/myrmecia/anaconda3/envs/ML/lib/python3.8/site-packages/tensorflow/python/framework/ops.py?line=6859'>6860</a>\u001b[0m message \u001b[39m=\u001b[39m e\u001b[39m.\u001b[39mmessage \u001b[39m+\u001b[39m (\u001b[39m\"\u001b[39m\u001b[39m name: \u001b[39m\u001b[39m\"\u001b[39m \u001b[39m+\u001b[39m name \u001b[39mif\u001b[39;00m name \u001b[39mis\u001b[39;00m \u001b[39mnot\u001b[39;00m \u001b[39mNone\u001b[39;00m \u001b[39melse\u001b[39;00m \u001b[39m\"\u001b[39m\u001b[39m\"\u001b[39m)\n\u001b[1;32m   <a href='file:///home/myrmecia/anaconda3/envs/ML/lib/python3.8/site-packages/tensorflow/python/framework/ops.py?line=6860'>6861</a>\u001b[0m \u001b[39m# pylint: disable=protected-access\u001b[39;00m\n\u001b[0;32m-> <a href='file:///home/myrmecia/anaconda3/envs/ML/lib/python3.8/site-packages/tensorflow/python/framework/ops.py?line=6861'>6862</a>\u001b[0m six\u001b[39m.\u001b[39;49mraise_from(core\u001b[39m.\u001b[39;49m_status_to_exception(e\u001b[39m.\u001b[39;49mcode, message), \u001b[39mNone\u001b[39;49;00m)\n",
      "File \u001b[0;32m<string>:3\u001b[0m, in \u001b[0;36mraise_from\u001b[0;34m(value, from_value)\u001b[0m\n",
      "\u001b[0;31mFailedPreconditionError\u001b[0m: Failed to allocate scratch buffer for device 0 [Op:VarHandleOp] name: Variable/"
     ]
    }
   ],
   "source": [
    "mymodel = tf.keras.Sequential([\n",
    "    Conv2D(1, (14, 5), padding='same', strides=1, input_shape=(78, 5, 1), kernel_regularizer=regularizers.l1(3e-3), kernel_constraint=constraints.NonNeg()),\n",
    "    BatchNormalization(),\n",
    "    ReLU(),\n",
    "    MaxPooling2D(),\n",
    "    \n",
    "    Flatten(),\n",
    "    Dense(1, activation='sigmoid')\n",
    "])"
   ]
  },
  {
   "cell_type": "code",
   "execution_count": 21,
   "metadata": {},
   "outputs": [
    {
     "name": "stdout",
     "output_type": "stream",
     "text": [
      "Model: \"sequential\"\n",
      "_________________________________________________________________\n",
      "Layer (type)                 Output Shape              Param #   \n",
      "=================================================================\n",
      "conv2d (Conv2D)              (None, 78, 5, 1)          71        \n",
      "_________________________________________________________________\n",
      "batch_normalization (BatchNo (None, 78, 5, 1)          4         \n",
      "_________________________________________________________________\n",
      "re_lu (ReLU)                 (None, 78, 5, 1)          0         \n",
      "_________________________________________________________________\n",
      "max_pooling2d (MaxPooling2D) (None, 39, 2, 1)          0         \n",
      "_________________________________________________________________\n",
      "flatten (Flatten)            (None, 78)                0         \n",
      "_________________________________________________________________\n",
      "dense (Dense)                (None, 1)                 79        \n",
      "=================================================================\n",
      "Total params: 154\n",
      "Trainable params: 152\n",
      "Non-trainable params: 2\n",
      "_________________________________________________________________\n"
     ]
    }
   ],
   "source": [
    "mymodel.summary()"
   ]
  },
  {
   "cell_type": "code",
   "execution_count": 22,
   "metadata": {},
   "outputs": [],
   "source": [
    "mymodel.compile(optimizer='adam', loss='binary_crossentropy', metrics=['accuracy'])"
   ]
  },
  {
   "cell_type": "code",
   "execution_count": 38,
   "metadata": {},
   "outputs": [
    {
     "name": "stdout",
     "output_type": "stream",
     "text": [
      "Epoch 1/20\n"
     ]
    },
    {
     "name": "stderr",
     "output_type": "stream",
     "text": [
      "2022-06-10 07:00:40.359769: I tensorflow/stream_executor/platform/default/dso_loader.cc:49] Successfully opened dynamic library libcublas.so.10\n",
      "2022-06-10 07:00:40.814453: I tensorflow/stream_executor/platform/default/dso_loader.cc:49] Successfully opened dynamic library libcudnn.so.7\n"
     ]
    },
    {
     "ename": "",
     "evalue": "",
     "output_type": "error",
     "traceback": [
      "\u001b[1;31mCanceled future for execute_request message before replies were done"
     ]
    },
    {
     "ename": "",
     "evalue": "",
     "output_type": "error",
     "traceback": [
      "\u001b[1;31mThe Kernel crashed while executing code in the the current cell or a previous cell. Please review the code in the cell(s) to identify a possible cause of the failure. Click <a href='https://aka.ms/vscodeJupyterKernelCrash'>here</a> for more info. View Jupyter <a href='command:jupyter.viewOutput'>log</a> for further details."
     ]
    }
   ],
   "source": [
    "mymodel.fit(train_X_onehot_, train_y, epochs=20, validation_split=0.2)"
   ]
  },
  {
   "cell_type": "code",
   "execution_count": null,
   "metadata": {},
   "outputs": [],
   "source": []
  }
 ],
 "metadata": {
  "interpreter": {
   "hash": "5f81ca079b9101c07fe85c8b090c9e2cc9c56a877851e75c4fbd4dbec9ea9fed"
  },
  "kernelspec": {
   "display_name": "Python 3.8.13 ('ML')",
   "language": "python",
   "name": "python3"
  },
  "language_info": {
   "codemirror_mode": {
    "name": "ipython",
    "version": 3
   },
   "file_extension": ".py",
   "mimetype": "text/x-python",
   "name": "python",
   "nbconvert_exporter": "python",
   "pygments_lexer": "ipython3",
   "version": "3.8.13"
  },
  "orig_nbformat": 4
 },
 "nbformat": 4,
 "nbformat_minor": 2
}
