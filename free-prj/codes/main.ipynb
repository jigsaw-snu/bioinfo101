{
 "cells": [
  {
   "cell_type": "code",
   "execution_count": 1,
   "metadata": {},
   "outputs": [],
   "source": [
    "import pandas as pd"
   ]
  },
  {
   "cell_type": "code",
   "execution_count": 3,
   "metadata": {},
   "outputs": [],
   "source": [
    "positive_seqs = pd.read_csv('./../dataset/lin28/uniq.SRR458758.txt', header=None, names=['Sequence'])"
   ]
  },
  {
   "cell_type": "code",
   "execution_count": 4,
   "metadata": {},
   "outputs": [
    {
     "data": {
      "text/html": [
       "<div>\n",
       "<style scoped>\n",
       "    .dataframe tbody tr th:only-of-type {\n",
       "        vertical-align: middle;\n",
       "    }\n",
       "\n",
       "    .dataframe tbody tr th {\n",
       "        vertical-align: top;\n",
       "    }\n",
       "\n",
       "    .dataframe thead th {\n",
       "        text-align: right;\n",
       "    }\n",
       "</style>\n",
       "<table border=\"1\" class=\"dataframe\">\n",
       "  <thead>\n",
       "    <tr style=\"text-align: right;\">\n",
       "      <th></th>\n",
       "      <th>Sequence</th>\n",
       "    </tr>\n",
       "  </thead>\n",
       "  <tbody>\n",
       "    <tr>\n",
       "      <th>56</th>\n",
       "      <td>12 AAAAAAAAAAAAAAAAAAAAAAAAAAAAAAAAAAAAAAAAA...</td>\n",
       "    </tr>\n",
       "    <tr>\n",
       "      <th>57</th>\n",
       "      <td>31 AAAAAAAAAAAAAAAAAAAAAAAAAAAAAAAAAAAAAAAAA...</td>\n",
       "    </tr>\n",
       "    <tr>\n",
       "      <th>58</th>\n",
       "      <td>35 AAAAAAAAAAAAAAAAAAAAAAAAAAAAAAAAAAAAAAAAA...</td>\n",
       "    </tr>\n",
       "    <tr>\n",
       "      <th>59</th>\n",
       "      <td>45 AAAAAAAAAAAAAAAAAAAAAAAAAAAAAAAAAAAAAAAAA...</td>\n",
       "    </tr>\n",
       "    <tr>\n",
       "      <th>60</th>\n",
       "      <td>117 AAAAAAAAAAAAAAAAAAAAAAAAAAAAAAAAAAAAAAAAA...</td>\n",
       "    </tr>\n",
       "  </tbody>\n",
       "</table>\n",
       "</div>"
      ],
      "text/plain": [
       "                                             Sequence\n",
       "56    12 AAAAAAAAAAAAAAAAAAAAAAAAAAAAAAAAAAAAAAAAA...\n",
       "57    31 AAAAAAAAAAAAAAAAAAAAAAAAAAAAAAAAAAAAAAAAA...\n",
       "58    35 AAAAAAAAAAAAAAAAAAAAAAAAAAAAAAAAAAAAAAAAA...\n",
       "59    45 AAAAAAAAAAAAAAAAAAAAAAAAAAAAAAAAAAAAAAAAA...\n",
       "60   117 AAAAAAAAAAAAAAAAAAAAAAAAAAAAAAAAAAAAAAAAA..."
      ]
     },
     "execution_count": 4,
     "metadata": {},
     "output_type": "execute_result"
    }
   ],
   "source": [
    "positive_seqs_ln = positive_seqs[positive_seqs['Sequence'].str.len() > 70]\n",
    "\n",
    "positive_seqs_ln.head()"
   ]
  },
  {
   "cell_type": "code",
   "execution_count": 4,
   "metadata": {},
   "outputs": [
    {
     "data": {
      "text/plain": [
       "(2257841, 1)"
      ]
     },
     "execution_count": 4,
     "metadata": {},
     "output_type": "execute_result"
    }
   ],
   "source": [
    "positive_seqs_ln.shape"
   ]
  },
  {
   "cell_type": "code",
   "execution_count": 5,
   "metadata": {},
   "outputs": [],
   "source": [
    "# random sampling\n",
    "seq_pos = positive_seqs_ln.sample(n=10000, replace=False, random_state=42)\n",
    "seq_pos['Sequence'] = [''.join(filter(str.isalpha, seq)) for seq in seq_pos['Sequence']]"
   ]
  },
  {
   "cell_type": "code",
   "execution_count": 6,
   "metadata": {},
   "outputs": [
    {
     "data": {
      "text/plain": [
       "78"
      ]
     },
     "execution_count": 6,
     "metadata": {},
     "output_type": "execute_result"
    }
   ],
   "source": [
    "seq_len = [len(x) for x in seq_pos['Sequence']]\n",
    "max(seq_len)"
   ]
  },
  {
   "cell_type": "code",
   "execution_count": 7,
   "metadata": {},
   "outputs": [],
   "source": [
    "# make every sequence same length\n",
    "MAX_LEN = 78\n",
    "\n",
    "def padding_seq(seq):\n",
    "    gap = MAX_LEN - len(seq)\n",
    "    res = 'N'*int(gap/2) + seq + 'N'*int(gap/2)\n",
    "    \n",
    "    if gap % 2 == 1:\n",
    "        res += 'N'\n",
    "    \n",
    "    return res"
   ]
  },
  {
   "cell_type": "code",
   "execution_count": 8,
   "metadata": {},
   "outputs": [],
   "source": [
    "seqs = [padding_seq(seq) for seq in seq_pos['Sequence']]"
   ]
  },
  {
   "cell_type": "code",
   "execution_count": 9,
   "metadata": {},
   "outputs": [
    {
     "data": {
      "text/plain": [
       "['GTTGTAAAACCTGTTCACCAGCACCTGCGGAATTGTTGCCCTGCCTTCATTTCTTTCCCAGCCTGTAGGCACCATCAA',\n",
       " 'ATTCTCTTCTGTGTGTCACCAAGTTCAGGCCTGGTGGCCAGGCCTGCTCTGTAGGCACCATCAATCGTATGCCGTCTT',\n",
       " 'NAGAACGGCTGGTCTTTCATCAGAATTCCAGGCAAGAAGAGCCTCATCACTGACAGTGGAAAGCCTGTAGGCACCANN',\n",
       " 'TGGGATGTGTGTGTGTGTTACTGGGATGGGGTGAGTGTGTGTGTGTGTGTGCTCTCTCGCGCATATGCACACAAGCCT',\n",
       " 'AGCTTAACTCATTTGAATGTTGTTGCTTCTGAGTTTAGGCTAACGGAAGTCTGTAGGCACCATCAATTCGTATGCCGT']"
      ]
     },
     "execution_count": 9,
     "metadata": {},
     "output_type": "execute_result"
    }
   ],
   "source": [
    "seqs[:5]"
   ]
  },
  {
   "cell_type": "code",
   "execution_count": 10,
   "metadata": {},
   "outputs": [],
   "source": [
    "seq_pos['Sequence'] = seqs\n",
    "seq_pos['y'] = '1'"
   ]
  },
  {
   "cell_type": "code",
   "execution_count": 11,
   "metadata": {},
   "outputs": [
    {
     "name": "stdout",
     "output_type": "stream",
     "text": [
      "78 78\n"
     ]
    }
   ],
   "source": [
    "print(max([len(x) for x in seq_pos['Sequence']]), min([len(x) for x in seq_pos['Sequence']]))"
   ]
  },
  {
   "cell_type": "code",
   "execution_count": 12,
   "metadata": {},
   "outputs": [],
   "source": [
    "# random sequence for negative sample\n",
    "import random\n",
    "\n",
    "seq_len = 78\n",
    "\n",
    "ranseq = []\n",
    "for i in range(10000):\n",
    "    ranseq.append(''.join(random.choices(['A', 'C', 'T', 'G', 'N'], k=seq_len)))"
   ]
  },
  {
   "cell_type": "code",
   "execution_count": 13,
   "metadata": {},
   "outputs": [
    {
     "data": {
      "text/plain": [
       "['TTGTTAGATGCTCAGGNGTTGGGCNTCCTCCNTGTAGATTGCCTAGNGAATNTANNTCCGNTCTCNATGAAAATTNGT',\n",
       " 'CCTCGCCNTNNGANGTTGCNGNGACCNANACAGNNATGCAGNCAANCATACTTANGGNGTNTCANAAANGGTCCANCG',\n",
       " 'CGNGCTCNTGNCNGTGCGCNGTNAGATAATCCNGAGCGGANGGGCCNATCGCCNGTTNGTAGNCTTTAGAAAATTATN',\n",
       " 'TGTGAGTAGNAGATATTNNGGGGGGAGNNANNNTNGAAAATTGAAGTAGCGNCCNTGACCCCCANAGNTAGTGNGTCA',\n",
       " 'GAGGGTTTTTATGCCANGACCGTNCCGGCCGGTNGTATCGCACANCGCGCCNTTGAATGNGTTGCGCGNTGANTANTC']"
      ]
     },
     "execution_count": 13,
     "metadata": {},
     "output_type": "execute_result"
    }
   ],
   "source": [
    "ranseq[:5]"
   ]
  },
  {
   "cell_type": "code",
   "execution_count": 14,
   "metadata": {},
   "outputs": [
    {
     "data": {
      "text/html": [
       "<div>\n",
       "<style scoped>\n",
       "    .dataframe tbody tr th:only-of-type {\n",
       "        vertical-align: middle;\n",
       "    }\n",
       "\n",
       "    .dataframe tbody tr th {\n",
       "        vertical-align: top;\n",
       "    }\n",
       "\n",
       "    .dataframe thead th {\n",
       "        text-align: right;\n",
       "    }\n",
       "</style>\n",
       "<table border=\"1\" class=\"dataframe\">\n",
       "  <thead>\n",
       "    <tr style=\"text-align: right;\">\n",
       "      <th></th>\n",
       "      <th>Sequence</th>\n",
       "      <th>y</th>\n",
       "    </tr>\n",
       "  </thead>\n",
       "  <tbody>\n",
       "    <tr>\n",
       "      <th>0</th>\n",
       "      <td>TTGTTAGATGCTCAGGNGTTGGGCNTCCTCCNTGTAGATTGCCTAG...</td>\n",
       "      <td>0</td>\n",
       "    </tr>\n",
       "    <tr>\n",
       "      <th>1</th>\n",
       "      <td>CCTCGCCNTNNGANGTTGCNGNGACCNANACAGNNATGCAGNCAAN...</td>\n",
       "      <td>0</td>\n",
       "    </tr>\n",
       "    <tr>\n",
       "      <th>2</th>\n",
       "      <td>CGNGCTCNTGNCNGTGCGCNGTNAGATAATCCNGAGCGGANGGGCC...</td>\n",
       "      <td>0</td>\n",
       "    </tr>\n",
       "    <tr>\n",
       "      <th>3</th>\n",
       "      <td>TGTGAGTAGNAGATATTNNGGGGGGAGNNANNNTNGAAAATTGAAG...</td>\n",
       "      <td>0</td>\n",
       "    </tr>\n",
       "    <tr>\n",
       "      <th>4</th>\n",
       "      <td>GAGGGTTTTTATGCCANGACCGTNCCGGCCGGTNGTATCGCACANC...</td>\n",
       "      <td>0</td>\n",
       "    </tr>\n",
       "  </tbody>\n",
       "</table>\n",
       "</div>"
      ],
      "text/plain": [
       "                                            Sequence  y\n",
       "0  TTGTTAGATGCTCAGGNGTTGGGCNTCCTCCNTGTAGATTGCCTAG...  0\n",
       "1  CCTCGCCNTNNGANGTTGCNGNGACCNANACAGNNATGCAGNCAAN...  0\n",
       "2  CGNGCTCNTGNCNGTGCGCNGTNAGATAATCCNGAGCGGANGGGCC...  0\n",
       "3  TGTGAGTAGNAGATATTNNGGGGGGAGNNANNNTNGAAAATTGAAG...  0\n",
       "4  GAGGGTTTTTATGCCANGACCGTNCCGGCCGGTNGTATCGCACANC...  0"
      ]
     },
     "execution_count": 14,
     "metadata": {},
     "output_type": "execute_result"
    }
   ],
   "source": [
    "seq_neg = pd.DataFrame(ranseq, columns=['Sequence'])\n",
    "seq_neg['y'] = '0'\n",
    "\n",
    "seq_neg.head()"
   ]
  },
  {
   "cell_type": "code",
   "execution_count": 15,
   "metadata": {},
   "outputs": [
    {
     "data": {
      "text/html": [
       "<div>\n",
       "<style scoped>\n",
       "    .dataframe tbody tr th:only-of-type {\n",
       "        vertical-align: middle;\n",
       "    }\n",
       "\n",
       "    .dataframe tbody tr th {\n",
       "        vertical-align: top;\n",
       "    }\n",
       "\n",
       "    .dataframe thead th {\n",
       "        text-align: right;\n",
       "    }\n",
       "</style>\n",
       "<table border=\"1\" class=\"dataframe\">\n",
       "  <thead>\n",
       "    <tr style=\"text-align: right;\">\n",
       "      <th></th>\n",
       "      <th>Sequence</th>\n",
       "      <th>y</th>\n",
       "    </tr>\n",
       "  </thead>\n",
       "  <tbody>\n",
       "    <tr>\n",
       "      <th>7601271</th>\n",
       "      <td>GTTGTAAAACCTGTTCACCAGCACCTGCGGAATTGTTGCCCTGCCT...</td>\n",
       "      <td>1</td>\n",
       "    </tr>\n",
       "    <tr>\n",
       "      <th>5073481</th>\n",
       "      <td>ATTCTCTTCTGTGTGTCACCAAGTTCAGGCCTGGTGGCCAGGCCTG...</td>\n",
       "      <td>1</td>\n",
       "    </tr>\n",
       "    <tr>\n",
       "      <th>2669291</th>\n",
       "      <td>NAGAACGGCTGGTCTTTCATCAGAATTCCAGGCAAGAAGAGCCTCA...</td>\n",
       "      <td>1</td>\n",
       "    </tr>\n",
       "    <tr>\n",
       "      <th>8012620</th>\n",
       "      <td>TGGGATGTGTGTGTGTGTTACTGGGATGGGGTGAGTGTGTGTGTGT...</td>\n",
       "      <td>1</td>\n",
       "    </tr>\n",
       "    <tr>\n",
       "      <th>3455182</th>\n",
       "      <td>AGCTTAACTCATTTGAATGTTGTTGCTTCTGAGTTTAGGCTAACGG...</td>\n",
       "      <td>1</td>\n",
       "    </tr>\n",
       "  </tbody>\n",
       "</table>\n",
       "</div>"
      ],
      "text/plain": [
       "                                                  Sequence  y\n",
       "7601271  GTTGTAAAACCTGTTCACCAGCACCTGCGGAATTGTTGCCCTGCCT...  1\n",
       "5073481  ATTCTCTTCTGTGTGTCACCAAGTTCAGGCCTGGTGGCCAGGCCTG...  1\n",
       "2669291  NAGAACGGCTGGTCTTTCATCAGAATTCCAGGCAAGAAGAGCCTCA...  1\n",
       "8012620  TGGGATGTGTGTGTGTGTTACTGGGATGGGGTGAGTGTGTGTGTGT...  1\n",
       "3455182  AGCTTAACTCATTTGAATGTTGTTGCTTCTGAGTTTAGGCTAACGG...  1"
      ]
     },
     "execution_count": 15,
     "metadata": {},
     "output_type": "execute_result"
    }
   ],
   "source": [
    "seq_pos.head()"
   ]
  },
  {
   "cell_type": "code",
   "execution_count": 16,
   "metadata": {},
   "outputs": [
    {
     "data": {
      "text/html": [
       "<div>\n",
       "<style scoped>\n",
       "    .dataframe tbody tr th:only-of-type {\n",
       "        vertical-align: middle;\n",
       "    }\n",
       "\n",
       "    .dataframe tbody tr th {\n",
       "        vertical-align: top;\n",
       "    }\n",
       "\n",
       "    .dataframe thead th {\n",
       "        text-align: right;\n",
       "    }\n",
       "</style>\n",
       "<table border=\"1\" class=\"dataframe\">\n",
       "  <thead>\n",
       "    <tr style=\"text-align: right;\">\n",
       "      <th></th>\n",
       "      <th>Sequence</th>\n",
       "      <th>y</th>\n",
       "    </tr>\n",
       "  </thead>\n",
       "  <tbody>\n",
       "    <tr>\n",
       "      <th>0</th>\n",
       "      <td>GGCTGCNTCGGNNAGTATANNCNTTTAGGGGGCGTCAAANTTATAA...</td>\n",
       "      <td>0</td>\n",
       "    </tr>\n",
       "    <tr>\n",
       "      <th>1</th>\n",
       "      <td>AGCAGAGGCCTCGGAAGCTGACTCTGATGGGCAGCAATGGGCATGA...</td>\n",
       "      <td>1</td>\n",
       "    </tr>\n",
       "    <tr>\n",
       "      <th>2</th>\n",
       "      <td>GCTGCTNTCTCCTCANNNCAAATCNCCNCNAGACGCTGTNNNCTNN...</td>\n",
       "      <td>0</td>\n",
       "    </tr>\n",
       "    <tr>\n",
       "      <th>3</th>\n",
       "      <td>GAACAGNTATCCNTACGAGTNCGCCCCACNGGAACAAANTTGANAA...</td>\n",
       "      <td>0</td>\n",
       "    </tr>\n",
       "    <tr>\n",
       "      <th>4</th>\n",
       "      <td>AGNACGGACCCGATNGNCGCGNAGTCANGATNGANNNCNCNAAANN...</td>\n",
       "      <td>0</td>\n",
       "    </tr>\n",
       "  </tbody>\n",
       "</table>\n",
       "</div>"
      ],
      "text/plain": [
       "                                            Sequence  y\n",
       "0  GGCTGCNTCGGNNAGTATANNCNTTTAGGGGGCGTCAAANTTATAA...  0\n",
       "1  AGCAGAGGCCTCGGAAGCTGACTCTGATGGGCAGCAATGGGCATGA...  1\n",
       "2  GCTGCTNTCTCCTCANNNCAAATCNCCNCNAGACGCTGTNNNCTNN...  0\n",
       "3  GAACAGNTATCCNTACGAGTNCGCCCCACNGGAACAAANTTGANAA...  0\n",
       "4  AGNACGGACCCGATNGNCGCGNAGTCANGATNGANNNCNCNAAANN...  0"
      ]
     },
     "execution_count": 16,
     "metadata": {},
     "output_type": "execute_result"
    }
   ],
   "source": [
    "seqs = pd.concat([seq_pos, seq_neg])\n",
    "seqs = seqs.sample(frac=1).reset_index(drop=True)\n",
    "seqs.head()"
   ]
  },
  {
   "cell_type": "code",
   "execution_count": 17,
   "metadata": {},
   "outputs": [],
   "source": [
    "import numpy as np\n",
    "import tensorflow as tf\n",
    "from tensorflow.keras import Model, regularizers, constraints\n",
    "from tensorflow.keras.layers import Layer, Input, Embedding, Conv1D, Conv2D, BatchNormalization, ReLU, LeakyReLU, MaxPooling1D, Flatten, Dense, Softmax, Dropout, MaxPooling2D\n",
    "from tensorflow.keras.optimizers import Adam\n",
    "from tensorflow.keras.callbacks import EarlyStopping"
   ]
  },
  {
   "cell_type": "code",
   "execution_count": 18,
   "metadata": {},
   "outputs": [],
   "source": [
    "train_X = seqs['Sequence'][:15000]\n",
    "train_y = seqs['y'][:15000]\n",
    "\n",
    "test_X = seqs['Sequence'][15000:]\n",
    "test_y = seqs['y'][15000:]"
   ]
  },
  {
   "cell_type": "code",
   "execution_count": 19,
   "metadata": {},
   "outputs": [],
   "source": [
    "BASE=sorted(\"ACGTN\")\n",
    "\n",
    "train_X_int = [[BASE.index(c) for c in seq] for seq in train_X.tolist()]\n",
    "train_X_onehot = np.eye(len(BASE))[train_X_int]\n",
    "\n",
    "test_X_int = [[BASE.index(c) for c in seq] for seq in test_X.tolist()]\n",
    "test_X_onehot = np.eye(len(BASE))[test_X_int]\n",
    "\n",
    "train_X_onehot_ = train_X_onehot[:, :, :, np.newaxis]\n",
    "test_X_onehot_ = test_X_onehot[:, :, :, np.newaxis]"
   ]
  },
  {
   "cell_type": "code",
   "execution_count": 20,
   "metadata": {},
   "outputs": [
    {
     "data": {
      "text/plain": [
       "(15000, 78, 5, 1)"
      ]
     },
     "execution_count": 20,
     "metadata": {},
     "output_type": "execute_result"
    }
   ],
   "source": [
    "train_X_onehot_.shape"
   ]
  },
  {
   "cell_type": "code",
   "execution_count": 21,
   "metadata": {},
   "outputs": [
    {
     "data": {
      "text/plain": [
       "(5000, 78, 5, 1)"
      ]
     },
     "execution_count": 21,
     "metadata": {},
     "output_type": "execute_result"
    }
   ],
   "source": [
    "test_X_onehot_.shape"
   ]
  },
  {
   "cell_type": "code",
   "execution_count": 22,
   "metadata": {},
   "outputs": [],
   "source": [
    "train_X_onehot_ = np.array(train_X_onehot_)\n",
    "test_X_onehot_ = np.array(test_X_onehot_)\n",
    "\n",
    "train_y = train_y.astype('int32')\n",
    "test_y = test_y.astype('int32')"
   ]
  },
  {
   "cell_type": "code",
   "execution_count": 23,
   "metadata": {},
   "outputs": [
    {
     "data": {
      "text/plain": [
       "0    0\n",
       "1    1\n",
       "2    0\n",
       "3    0\n",
       "4    0\n",
       "Name: y, dtype: int32"
      ]
     },
     "execution_count": 23,
     "metadata": {},
     "output_type": "execute_result"
    }
   ],
   "source": [
    "train_y[:5]"
   ]
  },
  {
   "cell_type": "code",
   "execution_count": 24,
   "metadata": {},
   "outputs": [
    {
     "name": "stdout",
     "output_type": "stream",
     "text": [
      "Metal device set to: Apple M1 Max\n",
      "\n",
      "systemMemory: 64.00 GB\n",
      "maxCacheSize: 24.00 GB\n",
      "\n"
     ]
    },
    {
     "name": "stderr",
     "output_type": "stream",
     "text": [
      "2022-06-10 07:25:20.449986: I tensorflow/core/common_runtime/pluggable_device/pluggable_device_factory.cc:305] Could not identify NUMA node of platform GPU ID 0, defaulting to 0. Your kernel may not have been built with NUMA support.\n",
      "2022-06-10 07:25:20.450118: I tensorflow/core/common_runtime/pluggable_device/pluggable_device_factory.cc:271] Created TensorFlow device (/job:localhost/replica:0/task:0/device:GPU:0 with 0 MB memory) -> physical PluggableDevice (device: 0, name: METAL, pci bus id: <undefined>)\n"
     ]
    }
   ],
   "source": [
    "mymodel = tf.keras.Sequential([\n",
    "    Conv2D(1, (14, 5), padding='same', strides=1, input_shape=(78, 5, 1), kernel_regularizer=regularizers.l1(3e-3), kernel_constraint=constraints.NonNeg()),\n",
    "    BatchNormalization(),\n",
    "    ReLU(),\n",
    "    MaxPooling2D(),\n",
    "    \n",
    "    Flatten(),\n",
    "    Dense(1, activation='sigmoid')\n",
    "])"
   ]
  },
  {
   "cell_type": "code",
   "execution_count": 25,
   "metadata": {},
   "outputs": [
    {
     "name": "stdout",
     "output_type": "stream",
     "text": [
      "Model: \"sequential\"\n",
      "_________________________________________________________________\n",
      " Layer (type)                Output Shape              Param #   \n",
      "=================================================================\n",
      " conv2d (Conv2D)             (None, 78, 5, 1)          71        \n",
      "                                                                 \n",
      " batch_normalization (BatchN  (None, 78, 5, 1)         4         \n",
      " ormalization)                                                   \n",
      "                                                                 \n",
      " re_lu (ReLU)                (None, 78, 5, 1)          0         \n",
      "                                                                 \n",
      " max_pooling2d (MaxPooling2D  (None, 39, 2, 1)         0         \n",
      " )                                                               \n",
      "                                                                 \n",
      " flatten (Flatten)           (None, 78)                0         \n",
      "                                                                 \n",
      " dense (Dense)               (None, 1)                 79        \n",
      "                                                                 \n",
      "=================================================================\n",
      "Total params: 154\n",
      "Trainable params: 152\n",
      "Non-trainable params: 2\n",
      "_________________________________________________________________\n"
     ]
    }
   ],
   "source": [
    "mymodel.summary()"
   ]
  },
  {
   "cell_type": "code",
   "execution_count": 26,
   "metadata": {},
   "outputs": [],
   "source": [
    "mymodel.compile(optimizer='adam', loss='binary_crossentropy', metrics=['accuracy'])"
   ]
  },
  {
   "cell_type": "code",
   "execution_count": 27,
   "metadata": {},
   "outputs": [
    {
     "name": "stdout",
     "output_type": "stream",
     "text": [
      "Epoch 1/20\n"
     ]
    },
    {
     "name": "stderr",
     "output_type": "stream",
     "text": [
      "2022-06-10 07:25:40.296447: W tensorflow/core/platform/profile_utils/cpu_utils.cc:128] Failed to get CPU frequency: 0 Hz\n",
      "2022-06-10 07:25:40.517159: I tensorflow/core/grappler/optimizers/custom_graph_optimizer_registry.cc:113] Plugin optimizer for device_type GPU is enabled.\n"
     ]
    },
    {
     "name": "stdout",
     "output_type": "stream",
     "text": [
      "365/375 [============================>.] - ETA: 0s - loss: 0.6726 - accuracy: 0.6050"
     ]
    },
    {
     "name": "stderr",
     "output_type": "stream",
     "text": [
      "2022-06-10 07:25:44.398877: I tensorflow/core/grappler/optimizers/custom_graph_optimizer_registry.cc:113] Plugin optimizer for device_type GPU is enabled.\n"
     ]
    },
    {
     "name": "stdout",
     "output_type": "stream",
     "text": [
      "375/375 [==============================] - 5s 6ms/step - loss: 0.6635 - accuracy: 0.6127 - val_loss: 0.3817 - val_accuracy: 0.8573\n",
      "Epoch 2/20\n",
      "375/375 [==============================] - 2s 6ms/step - loss: 0.2738 - accuracy: 0.9034 - val_loss: 0.1971 - val_accuracy: 0.9393\n",
      "Epoch 3/20\n",
      "375/375 [==============================] - 2s 6ms/step - loss: 0.1738 - accuracy: 0.9467 - val_loss: 0.1281 - val_accuracy: 0.9647\n",
      "Epoch 4/20\n",
      "375/375 [==============================] - 2s 6ms/step - loss: 0.1281 - accuracy: 0.9602 - val_loss: 0.1002 - val_accuracy: 0.9723\n",
      "Epoch 5/20\n",
      "375/375 [==============================] - 2s 6ms/step - loss: 0.0948 - accuracy: 0.9743 - val_loss: 0.0739 - val_accuracy: 0.9813\n",
      "Epoch 6/20\n",
      "375/375 [==============================] - 2s 6ms/step - loss: 0.0699 - accuracy: 0.9818 - val_loss: 0.0658 - val_accuracy: 0.9823\n",
      "Epoch 7/20\n",
      "375/375 [==============================] - 2s 6ms/step - loss: 0.0615 - accuracy: 0.9839 - val_loss: 0.0566 - val_accuracy: 0.9863\n",
      "Epoch 8/20\n",
      "375/375 [==============================] - 2s 6ms/step - loss: 0.0536 - accuracy: 0.9871 - val_loss: 0.0626 - val_accuracy: 0.9783\n",
      "Epoch 9/20\n",
      "375/375 [==============================] - 2s 6ms/step - loss: 0.0480 - accuracy: 0.9883 - val_loss: 0.0524 - val_accuracy: 0.9833\n",
      "Epoch 10/20\n",
      "375/375 [==============================] - 2s 6ms/step - loss: 0.0455 - accuracy: 0.9889 - val_loss: 0.0416 - val_accuracy: 0.9907\n",
      "Epoch 11/20\n",
      "375/375 [==============================] - 2s 6ms/step - loss: 0.0424 - accuracy: 0.9890 - val_loss: 0.0433 - val_accuracy: 0.9903\n",
      "Epoch 12/20\n",
      "375/375 [==============================] - 2s 6ms/step - loss: 0.0408 - accuracy: 0.9897 - val_loss: 0.0361 - val_accuracy: 0.9910\n",
      "Epoch 13/20\n",
      "375/375 [==============================] - 2s 6ms/step - loss: 0.0372 - accuracy: 0.9923 - val_loss: 0.0358 - val_accuracy: 0.9927\n",
      "Epoch 14/20\n",
      "375/375 [==============================] - 2s 6ms/step - loss: 0.0357 - accuracy: 0.9915 - val_loss: 0.0336 - val_accuracy: 0.9920\n",
      "Epoch 15/20\n",
      "375/375 [==============================] - 2s 6ms/step - loss: 0.0348 - accuracy: 0.9922 - val_loss: 0.0323 - val_accuracy: 0.9947\n",
      "Epoch 16/20\n",
      "375/375 [==============================] - 2s 6ms/step - loss: 0.0321 - accuracy: 0.9937 - val_loss: 0.0309 - val_accuracy: 0.9947\n",
      "Epoch 17/20\n",
      "375/375 [==============================] - 2s 6ms/step - loss: 0.0302 - accuracy: 0.9942 - val_loss: 0.0440 - val_accuracy: 0.9897\n",
      "Epoch 18/20\n",
      "375/375 [==============================] - 2s 6ms/step - loss: 0.0285 - accuracy: 0.9946 - val_loss: 0.0257 - val_accuracy: 0.9967\n",
      "Epoch 19/20\n",
      "375/375 [==============================] - 2s 6ms/step - loss: 0.0277 - accuracy: 0.9944 - val_loss: 0.0313 - val_accuracy: 0.9933\n",
      "Epoch 20/20\n",
      "375/375 [==============================] - 2s 6ms/step - loss: 0.0283 - accuracy: 0.9944 - val_loss: 0.0242 - val_accuracy: 0.9970\n"
     ]
    },
    {
     "data": {
      "text/plain": [
       "<keras.callbacks.History at 0x2e1abd670>"
      ]
     },
     "execution_count": 27,
     "metadata": {},
     "output_type": "execute_result"
    }
   ],
   "source": [
    "mymodel.fit(train_X_onehot_, train_y, epochs=20, validation_split=0.2)"
   ]
  },
  {
   "cell_type": "code",
   "execution_count": 28,
   "metadata": {},
   "outputs": [
    {
     "name": "stdout",
     "output_type": "stream",
     "text": [
      "157/157 - 1s - loss: 0.0254 - accuracy: 0.9950 - 585ms/epoch - 4ms/step\n"
     ]
    },
    {
     "data": {
      "text/plain": [
       "[0.025430822744965553, 0.9950000643730164]"
      ]
     },
     "execution_count": 28,
     "metadata": {},
     "output_type": "execute_result"
    }
   ],
   "source": [
    "mymodel.evaluate(test_X_onehot_, test_y, verbose=2)"
   ]
  },
  {
   "cell_type": "code",
   "execution_count": 29,
   "metadata": {},
   "outputs": [],
   "source": [
    "weights = mymodel.get_weights()\n",
    "weight = pd.DataFrame(np.squeeze(weights[0].transpose()))"
   ]
  },
  {
   "cell_type": "code",
   "execution_count": 30,
   "metadata": {},
   "outputs": [
    {
     "data": {
      "text/html": [
       "<div>\n",
       "<style scoped>\n",
       "    .dataframe tbody tr th:only-of-type {\n",
       "        vertical-align: middle;\n",
       "    }\n",
       "\n",
       "    .dataframe tbody tr th {\n",
       "        vertical-align: top;\n",
       "    }\n",
       "\n",
       "    .dataframe thead th {\n",
       "        text-align: right;\n",
       "    }\n",
       "</style>\n",
       "<table border=\"1\" class=\"dataframe\">\n",
       "  <thead>\n",
       "    <tr style=\"text-align: right;\">\n",
       "      <th></th>\n",
       "      <th>0</th>\n",
       "      <th>1</th>\n",
       "      <th>2</th>\n",
       "      <th>3</th>\n",
       "      <th>4</th>\n",
       "      <th>5</th>\n",
       "      <th>6</th>\n",
       "      <th>7</th>\n",
       "      <th>8</th>\n",
       "      <th>9</th>\n",
       "      <th>10</th>\n",
       "      <th>11</th>\n",
       "      <th>12</th>\n",
       "      <th>13</th>\n",
       "    </tr>\n",
       "  </thead>\n",
       "  <tbody>\n",
       "    <tr>\n",
       "      <th>0</th>\n",
       "      <td>0.067291</td>\n",
       "      <td>0.116742</td>\n",
       "      <td>0.177601</td>\n",
       "      <td>0.129128</td>\n",
       "      <td>0.130714</td>\n",
       "      <td>0.116229</td>\n",
       "      <td>0.090775</td>\n",
       "      <td>0.079382</td>\n",
       "      <td>0.114714</td>\n",
       "      <td>0.090486</td>\n",
       "      <td>0.145544</td>\n",
       "      <td>0.034634</td>\n",
       "      <td>0.116574</td>\n",
       "      <td>0.141821</td>\n",
       "    </tr>\n",
       "    <tr>\n",
       "      <th>1</th>\n",
       "      <td>0.040393</td>\n",
       "      <td>0.021171</td>\n",
       "      <td>0.028777</td>\n",
       "      <td>0.058148</td>\n",
       "      <td>0.081159</td>\n",
       "      <td>0.028351</td>\n",
       "      <td>0.044380</td>\n",
       "      <td>0.081534</td>\n",
       "      <td>0.016225</td>\n",
       "      <td>0.069410</td>\n",
       "      <td>0.000682</td>\n",
       "      <td>0.015767</td>\n",
       "      <td>0.090529</td>\n",
       "      <td>0.033255</td>\n",
       "    </tr>\n",
       "    <tr>\n",
       "      <th>2</th>\n",
       "      <td>0.012622</td>\n",
       "      <td>0.017880</td>\n",
       "      <td>0.004180</td>\n",
       "      <td>0.019306</td>\n",
       "      <td>0.025775</td>\n",
       "      <td>0.004676</td>\n",
       "      <td>0.023750</td>\n",
       "      <td>0.040249</td>\n",
       "      <td>0.015801</td>\n",
       "      <td>0.000106</td>\n",
       "      <td>0.142618</td>\n",
       "      <td>-0.000000</td>\n",
       "      <td>0.001033</td>\n",
       "      <td>0.018530</td>\n",
       "    </tr>\n",
       "    <tr>\n",
       "      <th>3</th>\n",
       "      <td>-0.000000</td>\n",
       "      <td>-0.000000</td>\n",
       "      <td>0.004139</td>\n",
       "      <td>0.006274</td>\n",
       "      <td>0.000199</td>\n",
       "      <td>0.000202</td>\n",
       "      <td>0.007436</td>\n",
       "      <td>0.017027</td>\n",
       "      <td>-0.000000</td>\n",
       "      <td>0.056852</td>\n",
       "      <td>0.048528</td>\n",
       "      <td>0.004457</td>\n",
       "      <td>-0.000000</td>\n",
       "      <td>0.002183</td>\n",
       "    </tr>\n",
       "    <tr>\n",
       "      <th>4</th>\n",
       "      <td>-0.000000</td>\n",
       "      <td>-0.000000</td>\n",
       "      <td>-0.000000</td>\n",
       "      <td>-0.000000</td>\n",
       "      <td>-0.000000</td>\n",
       "      <td>-0.000000</td>\n",
       "      <td>-0.000000</td>\n",
       "      <td>-0.000000</td>\n",
       "      <td>-0.000000</td>\n",
       "      <td>-0.000000</td>\n",
       "      <td>0.425731</td>\n",
       "      <td>-0.000000</td>\n",
       "      <td>-0.000000</td>\n",
       "      <td>-0.000000</td>\n",
       "    </tr>\n",
       "  </tbody>\n",
       "</table>\n",
       "</div>"
      ],
      "text/plain": [
       "         0         1         2         3         4         5         6   \\\n",
       "0  0.067291  0.116742  0.177601  0.129128  0.130714  0.116229  0.090775   \n",
       "1  0.040393  0.021171  0.028777  0.058148  0.081159  0.028351  0.044380   \n",
       "2  0.012622  0.017880  0.004180  0.019306  0.025775  0.004676  0.023750   \n",
       "3 -0.000000 -0.000000  0.004139  0.006274  0.000199  0.000202  0.007436   \n",
       "4 -0.000000 -0.000000 -0.000000 -0.000000 -0.000000 -0.000000 -0.000000   \n",
       "\n",
       "         7         8         9         10        11        12        13  \n",
       "0  0.079382  0.114714  0.090486  0.145544  0.034634  0.116574  0.141821  \n",
       "1  0.081534  0.016225  0.069410  0.000682  0.015767  0.090529  0.033255  \n",
       "2  0.040249  0.015801  0.000106  0.142618 -0.000000  0.001033  0.018530  \n",
       "3  0.017027 -0.000000  0.056852  0.048528  0.004457 -0.000000  0.002183  \n",
       "4 -0.000000 -0.000000 -0.000000  0.425731 -0.000000 -0.000000 -0.000000  "
      ]
     },
     "execution_count": 30,
     "metadata": {},
     "output_type": "execute_result"
    }
   ],
   "source": [
    "weight"
   ]
  },
  {
   "cell_type": "code",
   "execution_count": 31,
   "metadata": {},
   "outputs": [
    {
     "data": {
      "text/plain": [
       "0     1.0\n",
       "1     1.0\n",
       "2     1.0\n",
       "3     1.0\n",
       "4     1.0\n",
       "5     1.0\n",
       "6     1.0\n",
       "7     1.0\n",
       "8     1.0\n",
       "9     1.0\n",
       "10    1.0\n",
       "11    1.0\n",
       "12    1.0\n",
       "13    1.0\n",
       "dtype: float32"
      ]
     },
     "execution_count": 31,
     "metadata": {},
     "output_type": "execute_result"
    }
   ],
   "source": [
    "weight += 0.001\n",
    "weight = weight / weight.sum(axis=0)\n",
    "\n",
    "weight.sum(axis=0)"
   ]
  },
  {
   "cell_type": "code",
   "execution_count": 32,
   "metadata": {},
   "outputs": [
    {
     "data": {
      "text/html": [
       "<div>\n",
       "<style scoped>\n",
       "    .dataframe tbody tr th:only-of-type {\n",
       "        vertical-align: middle;\n",
       "    }\n",
       "\n",
       "    .dataframe tbody tr th {\n",
       "        vertical-align: top;\n",
       "    }\n",
       "\n",
       "    .dataframe thead th {\n",
       "        text-align: right;\n",
       "    }\n",
       "</style>\n",
       "<table border=\"1\" class=\"dataframe\">\n",
       "  <thead>\n",
       "    <tr style=\"text-align: right;\">\n",
       "      <th></th>\n",
       "      <th>A</th>\n",
       "      <th>C</th>\n",
       "      <th>G</th>\n",
       "      <th>N</th>\n",
       "      <th>T</th>\n",
       "      <th>-</th>\n",
       "    </tr>\n",
       "  </thead>\n",
       "  <tbody>\n",
       "    <tr>\n",
       "      <th>0</th>\n",
       "      <td>0.544993</td>\n",
       "      <td>0.330335</td>\n",
       "      <td>0.108711</td>\n",
       "      <td>0.007980</td>\n",
       "      <td>0.007980</td>\n",
       "      <td>0.0</td>\n",
       "    </tr>\n",
       "    <tr>\n",
       "      <th>1</th>\n",
       "      <td>0.732256</td>\n",
       "      <td>0.137888</td>\n",
       "      <td>0.117418</td>\n",
       "      <td>0.006219</td>\n",
       "      <td>0.006219</td>\n",
       "      <td>0.0</td>\n",
       "    </tr>\n",
       "    <tr>\n",
       "      <th>2</th>\n",
       "      <td>0.812938</td>\n",
       "      <td>0.135538</td>\n",
       "      <td>0.023579</td>\n",
       "      <td>0.023393</td>\n",
       "      <td>0.004552</td>\n",
       "      <td>0.0</td>\n",
       "    </tr>\n",
       "    <tr>\n",
       "      <th>3</th>\n",
       "      <td>0.597310</td>\n",
       "      <td>0.271500</td>\n",
       "      <td>0.093209</td>\n",
       "      <td>0.033390</td>\n",
       "      <td>0.004590</td>\n",
       "      <td>0.0</td>\n",
       "    </tr>\n",
       "    <tr>\n",
       "      <th>4</th>\n",
       "      <td>0.542374</td>\n",
       "      <td>0.338318</td>\n",
       "      <td>0.110253</td>\n",
       "      <td>0.004937</td>\n",
       "      <td>0.004118</td>\n",
       "      <td>0.0</td>\n",
       "    </tr>\n",
       "    <tr>\n",
       "      <th>5</th>\n",
       "      <td>0.758970</td>\n",
       "      <td>0.190027</td>\n",
       "      <td>0.036747</td>\n",
       "      <td>0.007782</td>\n",
       "      <td>0.006474</td>\n",
       "      <td>0.0</td>\n",
       "    </tr>\n",
       "    <tr>\n",
       "      <th>6</th>\n",
       "      <td>0.535630</td>\n",
       "      <td>0.264851</td>\n",
       "      <td>0.144447</td>\n",
       "      <td>0.049236</td>\n",
       "      <td>0.005836</td>\n",
       "      <td>0.0</td>\n",
       "    </tr>\n",
       "    <tr>\n",
       "      <th>7</th>\n",
       "      <td>0.360147</td>\n",
       "      <td>0.369789</td>\n",
       "      <td>0.184813</td>\n",
       "      <td>0.080771</td>\n",
       "      <td>0.004480</td>\n",
       "      <td>0.0</td>\n",
       "    </tr>\n",
       "    <tr>\n",
       "      <th>8</th>\n",
       "      <td>0.762583</td>\n",
       "      <td>0.113516</td>\n",
       "      <td>0.110721</td>\n",
       "      <td>0.006590</td>\n",
       "      <td>0.006590</td>\n",
       "      <td>0.0</td>\n",
       "    </tr>\n",
       "    <tr>\n",
       "      <th>9</th>\n",
       "      <td>0.412369</td>\n",
       "      <td>0.317372</td>\n",
       "      <td>0.004984</td>\n",
       "      <td>0.260767</td>\n",
       "      <td>0.004507</td>\n",
       "      <td>0.0</td>\n",
       "    </tr>\n",
       "    <tr>\n",
       "      <th>10</th>\n",
       "      <td>0.190788</td>\n",
       "      <td>0.002190</td>\n",
       "      <td>0.186977</td>\n",
       "      <td>0.064481</td>\n",
       "      <td>0.555565</td>\n",
       "      <td>0.0</td>\n",
       "    </tr>\n",
       "    <tr>\n",
       "      <th>11</th>\n",
       "      <td>0.595315</td>\n",
       "      <td>0.280112</td>\n",
       "      <td>0.016706</td>\n",
       "      <td>0.091160</td>\n",
       "      <td>0.016706</td>\n",
       "      <td>0.0</td>\n",
       "    </tr>\n",
       "    <tr>\n",
       "      <th>12</th>\n",
       "      <td>0.551636</td>\n",
       "      <td>0.429440</td>\n",
       "      <td>0.009540</td>\n",
       "      <td>0.004692</td>\n",
       "      <td>0.004692</td>\n",
       "      <td>0.0</td>\n",
       "    </tr>\n",
       "    <tr>\n",
       "      <th>13</th>\n",
       "      <td>0.711298</td>\n",
       "      <td>0.170601</td>\n",
       "      <td>0.097268</td>\n",
       "      <td>0.015852</td>\n",
       "      <td>0.004980</td>\n",
       "      <td>0.0</td>\n",
       "    </tr>\n",
       "  </tbody>\n",
       "</table>\n",
       "</div>"
      ],
      "text/plain": [
       "           A         C         G         N         T    -\n",
       "0   0.544993  0.330335  0.108711  0.007980  0.007980  0.0\n",
       "1   0.732256  0.137888  0.117418  0.006219  0.006219  0.0\n",
       "2   0.812938  0.135538  0.023579  0.023393  0.004552  0.0\n",
       "3   0.597310  0.271500  0.093209  0.033390  0.004590  0.0\n",
       "4   0.542374  0.338318  0.110253  0.004937  0.004118  0.0\n",
       "5   0.758970  0.190027  0.036747  0.007782  0.006474  0.0\n",
       "6   0.535630  0.264851  0.144447  0.049236  0.005836  0.0\n",
       "7   0.360147  0.369789  0.184813  0.080771  0.004480  0.0\n",
       "8   0.762583  0.113516  0.110721  0.006590  0.006590  0.0\n",
       "9   0.412369  0.317372  0.004984  0.260767  0.004507  0.0\n",
       "10  0.190788  0.002190  0.186977  0.064481  0.555565  0.0\n",
       "11  0.595315  0.280112  0.016706  0.091160  0.016706  0.0\n",
       "12  0.551636  0.429440  0.009540  0.004692  0.004692  0.0\n",
       "13  0.711298  0.170601  0.097268  0.015852  0.004980  0.0"
      ]
     },
     "execution_count": 32,
     "metadata": {},
     "output_type": "execute_result"
    }
   ],
   "source": [
    "weight.index = sorted(list('ACGTN'))\n",
    "\n",
    "weight = weight.transpose()\n",
    "weight['-'] = 0.0\n",
    "\n",
    "weight"
   ]
  },
  {
   "cell_type": "code",
   "execution_count": null,
   "metadata": {},
   "outputs": [],
   "source": [
    "weight.to_csv('pfm.csv')"
   ]
  },
  {
   "cell_type": "code",
   "execution_count": 8,
   "metadata": {},
   "outputs": [
    {
     "ename": "RuntimeError",
     "evalue": "Unrecoverable error : Ghostscript conversion failed (Invalid postscript?). /opt/Homebrew/Caskroom/miniforge/base/envs/x64bioinfo/bin/gs -sDEVICE=pdfwrite -dPDFSETTINGS=/printer -sstdout=%stderr -dColorConversionStrategy=/LeaveColorUnchanged -sOutputFile=- -dDEVICEWIDTHPOINTS=398 -dDEVICEHEIGHTPOINTS=148 -dSAFER -dNOPAUSE -r300 -\nReturn code: -6\nb\"dyld[43279]: Library not loaded: /opt/X11/lib/libXt.7.dylib\\n  Referenced from: /opt/homebrew/Caskroom/miniforge/base/envs/x64bioinfo/bin/gs\\n  Reason: tried: '/opt/X11/lib/libXt.7.dylib' (no such file), '/usr/local/lib/libXt.7.dylib' (no such file), '/usr/lib/libXt.7.dylib' (no such file)\\n\"",
     "output_type": "error",
     "traceback": [
      "\u001b[0;31m---------------------------------------------------------------------------\u001b[0m",
      "\u001b[0;31mRuntimeError\u001b[0m                              Traceback (most recent call last)",
      "\u001b[1;32m/Users/jigsaw-0/Workspace/Test/bioinfo101/free-prj/codes/main.ipynb Cell 34'\u001b[0m in \u001b[0;36m<cell line: 8>\u001b[0;34m()\u001b[0m\n\u001b[1;32m      <a href='vscode-notebook-cell:/Users/jigsaw-0/Workspace/Test/bioinfo101/free-prj/codes/main.ipynb#ch0000030?line=3'>4</a>\u001b[0m weight \u001b[39m=\u001b[39m pd\u001b[39m.\u001b[39mread_csv(\u001b[39m'\u001b[39m\u001b[39mpfm.csv\u001b[39m\u001b[39m'\u001b[39m)\u001b[39m.\u001b[39miloc[:, \u001b[39m1\u001b[39m:]\n\u001b[1;32m      <a href='vscode-notebook-cell:/Users/jigsaw-0/Workspace/Test/bioinfo101/free-prj/codes/main.ipynb#ch0000030?line=5'>6</a>\u001b[0m logoPm \u001b[39m=\u001b[39m seqlogo\u001b[39m.\u001b[39mCompletePm(pfm\u001b[39m=\u001b[39mweight, background\u001b[39m=\u001b[39m\u001b[39m0.25\u001b[39m, alphabet_type\u001b[39m=\u001b[39m\u001b[39m\"\u001b[39m\u001b[39mreduced DNA\u001b[39m\u001b[39m\"\u001b[39m)\n\u001b[0;32m----> <a href='vscode-notebook-cell:/Users/jigsaw-0/Workspace/Test/bioinfo101/free-prj/codes/main.ipynb#ch0000030?line=7'>8</a>\u001b[0m seqlogo\u001b[39m.\u001b[39;49mseqlogo(logoPm)\n",
      "File \u001b[0;32m/opt/Homebrew/Caskroom/miniforge/base/envs/x64bioinfo/lib/python3.8/site-packages/seqlogo/seqlogo.py:91\u001b[0m, in \u001b[0;36mseqlogo\u001b[0;34m(pm, ic_scale, color_scheme, size, format, filename, **kwargs)\u001b[0m\n\u001b[1;32m     <a href='file:///opt/Homebrew/Caskroom/miniforge/base/envs/x64bioinfo/lib/python3.8/site-packages/seqlogo/seqlogo.py?line=87'>88</a>\u001b[0m \u001b[39m#Initialize the output format\u001b[39;00m\n\u001b[1;32m     <a href='file:///opt/Homebrew/Caskroom/miniforge/base/envs/x64bioinfo/lib/python3.8/site-packages/seqlogo/seqlogo.py?line=88'>89</a>\u001b[0m logo_format \u001b[39m=\u001b[39m wl\u001b[39m.\u001b[39mLogoFormat(pm, options)\n\u001b[0;32m---> <a href='file:///opt/Homebrew/Caskroom/miniforge/base/envs/x64bioinfo/lib/python3.8/site-packages/seqlogo/seqlogo.py?line=90'>91</a>\u001b[0m out \u001b[39m=\u001b[39m out_format(pm, logo_format)\n\u001b[1;32m     <a href='file:///opt/Homebrew/Caskroom/miniforge/base/envs/x64bioinfo/lib/python3.8/site-packages/seqlogo/seqlogo.py?line=92'>93</a>\u001b[0m \u001b[39m# Create the file if the user supplied an filename\u001b[39;00m\n\u001b[1;32m     <a href='file:///opt/Homebrew/Caskroom/miniforge/base/envs/x64bioinfo/lib/python3.8/site-packages/seqlogo/seqlogo.py?line=93'>94</a>\u001b[0m \u001b[39mif\u001b[39;00m filename:\n",
      "File \u001b[0;32m/opt/Homebrew/Caskroom/miniforge/base/envs/x64bioinfo/lib/python3.8/site-packages/weblogo/logo_formatter.py:74\u001b[0m, in \u001b[0;36msvg_formatter\u001b[0;34m(logodata, logoformat)\u001b[0m\n\u001b[1;32m     <a href='file:///opt/Homebrew/Caskroom/miniforge/base/envs/x64bioinfo/lib/python3.8/site-packages/weblogo/logo_formatter.py?line=69'>70</a>\u001b[0m \u001b[39mdef\u001b[39;00m \u001b[39msvg_formatter\u001b[39m(logodata: LogoData, logoformat: LogoFormat) \u001b[39m-\u001b[39m\u001b[39m>\u001b[39m \u001b[39mbytes\u001b[39m:\n\u001b[1;32m     <a href='file:///opt/Homebrew/Caskroom/miniforge/base/envs/x64bioinfo/lib/python3.8/site-packages/weblogo/logo_formatter.py?line=70'>71</a>\u001b[0m     \u001b[39m\"\"\"Generate a logo in Scalable Vector Graphics (SVG) format.\u001b[39;00m\n\u001b[1;32m     <a href='file:///opt/Homebrew/Caskroom/miniforge/base/envs/x64bioinfo/lib/python3.8/site-packages/weblogo/logo_formatter.py?line=71'>72</a>\u001b[0m \u001b[39m    Requires the program 'pdf2svg' be installed.\u001b[39;00m\n\u001b[1;32m     <a href='file:///opt/Homebrew/Caskroom/miniforge/base/envs/x64bioinfo/lib/python3.8/site-packages/weblogo/logo_formatter.py?line=72'>73</a>\u001b[0m \u001b[39m    \"\"\"\u001b[39;00m\n\u001b[0;32m---> <a href='file:///opt/Homebrew/Caskroom/miniforge/base/envs/x64bioinfo/lib/python3.8/site-packages/weblogo/logo_formatter.py?line=73'>74</a>\u001b[0m     pdf \u001b[39m=\u001b[39m pdf_formatter(logodata, logoformat)\n\u001b[1;32m     <a href='file:///opt/Homebrew/Caskroom/miniforge/base/envs/x64bioinfo/lib/python3.8/site-packages/weblogo/logo_formatter.py?line=75'>76</a>\u001b[0m     command \u001b[39m=\u001b[39m shutil\u001b[39m.\u001b[39mwhich(\u001b[39m\"\u001b[39m\u001b[39mpdf2svg\u001b[39m\u001b[39m\"\u001b[39m)\n\u001b[1;32m     <a href='file:///opt/Homebrew/Caskroom/miniforge/base/envs/x64bioinfo/lib/python3.8/site-packages/weblogo/logo_formatter.py?line=76'>77</a>\u001b[0m     \u001b[39mif\u001b[39;00m command \u001b[39mis\u001b[39;00m \u001b[39mNone\u001b[39;00m:\n",
      "File \u001b[0;32m/opt/Homebrew/Caskroom/miniforge/base/envs/x64bioinfo/lib/python3.8/site-packages/weblogo/logo_formatter.py:50\u001b[0m, in \u001b[0;36mpdf_formatter\u001b[0;34m(logodata, logoformat)\u001b[0m\n\u001b[1;32m     <a href='file:///opt/Homebrew/Caskroom/miniforge/base/envs/x64bioinfo/lib/python3.8/site-packages/weblogo/logo_formatter.py?line=47'>48</a>\u001b[0m \u001b[39massert\u001b[39;00m logoformat\u001b[39m.\u001b[39mlogo_height \u001b[39mis\u001b[39;00m \u001b[39mnot\u001b[39;00m \u001b[39mNone\u001b[39;00m\n\u001b[1;32m     <a href='file:///opt/Homebrew/Caskroom/miniforge/base/envs/x64bioinfo/lib/python3.8/site-packages/weblogo/logo_formatter.py?line=48'>49</a>\u001b[0m \u001b[39massert\u001b[39;00m logoformat\u001b[39m.\u001b[39mlogo_width \u001b[39mis\u001b[39;00m \u001b[39mnot\u001b[39;00m \u001b[39mNone\u001b[39;00m\n\u001b[0;32m---> <a href='file:///opt/Homebrew/Caskroom/miniforge/base/envs/x64bioinfo/lib/python3.8/site-packages/weblogo/logo_formatter.py?line=49'>50</a>\u001b[0m \u001b[39mreturn\u001b[39;00m gs\u001b[39m.\u001b[39;49mconvert(\u001b[39m\"\u001b[39;49m\u001b[39mpdf\u001b[39;49m\u001b[39m\"\u001b[39;49m, eps, logoformat\u001b[39m.\u001b[39;49mlogo_width, logoformat\u001b[39m.\u001b[39;49mlogo_height)\n",
      "File \u001b[0;32m/opt/Homebrew/Caskroom/miniforge/base/envs/x64bioinfo/lib/python3.8/site-packages/weblogo/logo_formatter.py:413\u001b[0m, in \u001b[0;36mGhostscriptAPI.convert\u001b[0;34m(self, format, postscript, width, height, resolution)\u001b[0m\n\u001b[1;32m    <a href='file:///opt/Homebrew/Caskroom/miniforge/base/envs/x64bioinfo/lib/python3.8/site-packages/weblogo/logo_formatter.py?line=410'>411</a>\u001b[0m     \u001b[39mif\u001b[39;00m err \u001b[39mis\u001b[39;00m \u001b[39mnot\u001b[39;00m \u001b[39mNone\u001b[39;00m:\n\u001b[1;32m    <a href='file:///opt/Homebrew/Caskroom/miniforge/base/envs/x64bioinfo/lib/python3.8/site-packages/weblogo/logo_formatter.py?line=411'>412</a>\u001b[0m         error_msg \u001b[39m+\u001b[39m\u001b[39m=\u001b[39m \u001b[39mstr\u001b[39m(err)\n\u001b[0;32m--> <a href='file:///opt/Homebrew/Caskroom/miniforge/base/envs/x64bioinfo/lib/python3.8/site-packages/weblogo/logo_formatter.py?line=412'>413</a>\u001b[0m     \u001b[39mraise\u001b[39;00m \u001b[39mRuntimeError\u001b[39;00m(error_msg)\n\u001b[1;32m    <a href='file:///opt/Homebrew/Caskroom/miniforge/base/envs/x64bioinfo/lib/python3.8/site-packages/weblogo/logo_formatter.py?line=414'>415</a>\u001b[0m \u001b[39mreturn\u001b[39;00m out\n",
      "\u001b[0;31mRuntimeError\u001b[0m: Unrecoverable error : Ghostscript conversion failed (Invalid postscript?). /opt/Homebrew/Caskroom/miniforge/base/envs/x64bioinfo/bin/gs -sDEVICE=pdfwrite -dPDFSETTINGS=/printer -sstdout=%stderr -dColorConversionStrategy=/LeaveColorUnchanged -sOutputFile=- -dDEVICEWIDTHPOINTS=398 -dDEVICEHEIGHTPOINTS=148 -dSAFER -dNOPAUSE -r300 -\nReturn code: -6\nb\"dyld[43279]: Library not loaded: /opt/X11/lib/libXt.7.dylib\\n  Referenced from: /opt/homebrew/Caskroom/miniforge/base/envs/x64bioinfo/bin/gs\\n  Reason: tried: '/opt/X11/lib/libXt.7.dylib' (no such file), '/usr/local/lib/libXt.7.dylib' (no such file), '/usr/lib/libXt.7.dylib' (no such file)\\n\""
     ]
    }
   ],
   "source": [
    "import pandas as pd\n",
    "import seqlogo\n",
    "\n",
    "weight = pd.read_csv('pfm.csv').iloc[:, 1:]\n",
    "\n",
    "logoPm = seqlogo.CompletePm(pfm=weight, background=0.25, alphabet_type=\"reduced DNA\")\n",
    "\n",
    "seqlogo.seqlogo(logoPm)"
   ]
  },
  {
   "cell_type": "code",
   "execution_count": 7,
   "metadata": {},
   "outputs": [
    {
     "ename": "InvalidIndexError",
     "evalue": "(slice(None, None, None), slice(1, None, None))",
     "output_type": "error",
     "traceback": [
      "\u001b[0;31m---------------------------------------------------------------------------\u001b[0m",
      "\u001b[0;31mTypeError\u001b[0m                                 Traceback (most recent call last)",
      "File \u001b[0;32m/opt/Homebrew/Caskroom/miniforge/base/envs/x64bioinfo/lib/python3.8/site-packages/pandas/core/indexes/base.py:3621\u001b[0m, in \u001b[0;36mIndex.get_loc\u001b[0;34m(self, key, method, tolerance)\u001b[0m\n\u001b[1;32m   <a href='file:///opt/Homebrew/Caskroom/miniforge/base/envs/x64bioinfo/lib/python3.8/site-packages/pandas/core/indexes/base.py?line=3619'>3620</a>\u001b[0m \u001b[39mtry\u001b[39;00m:\n\u001b[0;32m-> <a href='file:///opt/Homebrew/Caskroom/miniforge/base/envs/x64bioinfo/lib/python3.8/site-packages/pandas/core/indexes/base.py?line=3620'>3621</a>\u001b[0m     \u001b[39mreturn\u001b[39;00m \u001b[39mself\u001b[39;49m\u001b[39m.\u001b[39;49m_engine\u001b[39m.\u001b[39;49mget_loc(casted_key)\n\u001b[1;32m   <a href='file:///opt/Homebrew/Caskroom/miniforge/base/envs/x64bioinfo/lib/python3.8/site-packages/pandas/core/indexes/base.py?line=3621'>3622</a>\u001b[0m \u001b[39mexcept\u001b[39;00m \u001b[39mKeyError\u001b[39;00m \u001b[39mas\u001b[39;00m err:\n",
      "File \u001b[0;32m/opt/Homebrew/Caskroom/miniforge/base/envs/x64bioinfo/lib/python3.8/site-packages/pandas/_libs/index.pyx:136\u001b[0m, in \u001b[0;36mpandas._libs.index.IndexEngine.get_loc\u001b[0;34m()\u001b[0m\n",
      "File \u001b[0;32m/opt/Homebrew/Caskroom/miniforge/base/envs/x64bioinfo/lib/python3.8/site-packages/pandas/_libs/index.pyx:142\u001b[0m, in \u001b[0;36mpandas._libs.index.IndexEngine.get_loc\u001b[0;34m()\u001b[0m\n",
      "\u001b[0;31mTypeError\u001b[0m: '(slice(None, None, None), slice(1, None, None))' is an invalid key",
      "\nDuring handling of the above exception, another exception occurred:\n",
      "\u001b[0;31mInvalidIndexError\u001b[0m                         Traceback (most recent call last)",
      "\u001b[1;32m/Users/jigsaw-0/Workspace/Test/bioinfo101/free-prj/codes/main.ipynb Cell 35'\u001b[0m in \u001b[0;36m<cell line: 1>\u001b[0;34m()\u001b[0m\n\u001b[0;32m----> <a href='vscode-notebook-cell:/Users/jigsaw-0/Workspace/Test/bioinfo101/free-prj/codes/main.ipynb#ch0000033?line=0'>1</a>\u001b[0m weight[:, \u001b[39m1\u001b[39;49m:]\n",
      "File \u001b[0;32m/opt/Homebrew/Caskroom/miniforge/base/envs/x64bioinfo/lib/python3.8/site-packages/pandas/core/frame.py:3505\u001b[0m, in \u001b[0;36mDataFrame.__getitem__\u001b[0;34m(self, key)\u001b[0m\n\u001b[1;32m   <a href='file:///opt/Homebrew/Caskroom/miniforge/base/envs/x64bioinfo/lib/python3.8/site-packages/pandas/core/frame.py?line=3502'>3503</a>\u001b[0m \u001b[39mif\u001b[39;00m \u001b[39mself\u001b[39m\u001b[39m.\u001b[39mcolumns\u001b[39m.\u001b[39mnlevels \u001b[39m>\u001b[39m \u001b[39m1\u001b[39m:\n\u001b[1;32m   <a href='file:///opt/Homebrew/Caskroom/miniforge/base/envs/x64bioinfo/lib/python3.8/site-packages/pandas/core/frame.py?line=3503'>3504</a>\u001b[0m     \u001b[39mreturn\u001b[39;00m \u001b[39mself\u001b[39m\u001b[39m.\u001b[39m_getitem_multilevel(key)\n\u001b[0;32m-> <a href='file:///opt/Homebrew/Caskroom/miniforge/base/envs/x64bioinfo/lib/python3.8/site-packages/pandas/core/frame.py?line=3504'>3505</a>\u001b[0m indexer \u001b[39m=\u001b[39m \u001b[39mself\u001b[39;49m\u001b[39m.\u001b[39;49mcolumns\u001b[39m.\u001b[39;49mget_loc(key)\n\u001b[1;32m   <a href='file:///opt/Homebrew/Caskroom/miniforge/base/envs/x64bioinfo/lib/python3.8/site-packages/pandas/core/frame.py?line=3505'>3506</a>\u001b[0m \u001b[39mif\u001b[39;00m is_integer(indexer):\n\u001b[1;32m   <a href='file:///opt/Homebrew/Caskroom/miniforge/base/envs/x64bioinfo/lib/python3.8/site-packages/pandas/core/frame.py?line=3506'>3507</a>\u001b[0m     indexer \u001b[39m=\u001b[39m [indexer]\n",
      "File \u001b[0;32m/opt/Homebrew/Caskroom/miniforge/base/envs/x64bioinfo/lib/python3.8/site-packages/pandas/core/indexes/base.py:3628\u001b[0m, in \u001b[0;36mIndex.get_loc\u001b[0;34m(self, key, method, tolerance)\u001b[0m\n\u001b[1;32m   <a href='file:///opt/Homebrew/Caskroom/miniforge/base/envs/x64bioinfo/lib/python3.8/site-packages/pandas/core/indexes/base.py?line=3622'>3623</a>\u001b[0m         \u001b[39mraise\u001b[39;00m \u001b[39mKeyError\u001b[39;00m(key) \u001b[39mfrom\u001b[39;00m \u001b[39merr\u001b[39;00m\n\u001b[1;32m   <a href='file:///opt/Homebrew/Caskroom/miniforge/base/envs/x64bioinfo/lib/python3.8/site-packages/pandas/core/indexes/base.py?line=3623'>3624</a>\u001b[0m     \u001b[39mexcept\u001b[39;00m \u001b[39mTypeError\u001b[39;00m:\n\u001b[1;32m   <a href='file:///opt/Homebrew/Caskroom/miniforge/base/envs/x64bioinfo/lib/python3.8/site-packages/pandas/core/indexes/base.py?line=3624'>3625</a>\u001b[0m         \u001b[39m# If we have a listlike key, _check_indexing_error will raise\u001b[39;00m\n\u001b[1;32m   <a href='file:///opt/Homebrew/Caskroom/miniforge/base/envs/x64bioinfo/lib/python3.8/site-packages/pandas/core/indexes/base.py?line=3625'>3626</a>\u001b[0m         \u001b[39m#  InvalidIndexError. Otherwise we fall through and re-raise\u001b[39;00m\n\u001b[1;32m   <a href='file:///opt/Homebrew/Caskroom/miniforge/base/envs/x64bioinfo/lib/python3.8/site-packages/pandas/core/indexes/base.py?line=3626'>3627</a>\u001b[0m         \u001b[39m#  the TypeError.\u001b[39;00m\n\u001b[0;32m-> <a href='file:///opt/Homebrew/Caskroom/miniforge/base/envs/x64bioinfo/lib/python3.8/site-packages/pandas/core/indexes/base.py?line=3627'>3628</a>\u001b[0m         \u001b[39mself\u001b[39;49m\u001b[39m.\u001b[39;49m_check_indexing_error(key)\n\u001b[1;32m   <a href='file:///opt/Homebrew/Caskroom/miniforge/base/envs/x64bioinfo/lib/python3.8/site-packages/pandas/core/indexes/base.py?line=3628'>3629</a>\u001b[0m         \u001b[39mraise\u001b[39;00m\n\u001b[1;32m   <a href='file:///opt/Homebrew/Caskroom/miniforge/base/envs/x64bioinfo/lib/python3.8/site-packages/pandas/core/indexes/base.py?line=3630'>3631</a>\u001b[0m \u001b[39m# GH#42269\u001b[39;00m\n",
      "File \u001b[0;32m/opt/Homebrew/Caskroom/miniforge/base/envs/x64bioinfo/lib/python3.8/site-packages/pandas/core/indexes/base.py:5637\u001b[0m, in \u001b[0;36mIndex._check_indexing_error\u001b[0;34m(self, key)\u001b[0m\n\u001b[1;32m   <a href='file:///opt/Homebrew/Caskroom/miniforge/base/envs/x64bioinfo/lib/python3.8/site-packages/pandas/core/indexes/base.py?line=5632'>5633</a>\u001b[0m \u001b[39mdef\u001b[39;00m \u001b[39m_check_indexing_error\u001b[39m(\u001b[39mself\u001b[39m, key):\n\u001b[1;32m   <a href='file:///opt/Homebrew/Caskroom/miniforge/base/envs/x64bioinfo/lib/python3.8/site-packages/pandas/core/indexes/base.py?line=5633'>5634</a>\u001b[0m     \u001b[39mif\u001b[39;00m \u001b[39mnot\u001b[39;00m is_scalar(key):\n\u001b[1;32m   <a href='file:///opt/Homebrew/Caskroom/miniforge/base/envs/x64bioinfo/lib/python3.8/site-packages/pandas/core/indexes/base.py?line=5634'>5635</a>\u001b[0m         \u001b[39m# if key is not a scalar, directly raise an error (the code below\u001b[39;00m\n\u001b[1;32m   <a href='file:///opt/Homebrew/Caskroom/miniforge/base/envs/x64bioinfo/lib/python3.8/site-packages/pandas/core/indexes/base.py?line=5635'>5636</a>\u001b[0m         \u001b[39m# would convert to numpy arrays and raise later any way) - GH29926\u001b[39;00m\n\u001b[0;32m-> <a href='file:///opt/Homebrew/Caskroom/miniforge/base/envs/x64bioinfo/lib/python3.8/site-packages/pandas/core/indexes/base.py?line=5636'>5637</a>\u001b[0m         \u001b[39mraise\u001b[39;00m InvalidIndexError(key)\n",
      "\u001b[0;31mInvalidIndexError\u001b[0m: (slice(None, None, None), slice(1, None, None))"
     ]
    }
   ],
   "source": [
    "weight[:, 1:]"
   ]
  },
  {
   "cell_type": "code",
   "execution_count": null,
   "metadata": {},
   "outputs": [],
   "source": []
  }
 ],
 "metadata": {
  "interpreter": {
   "hash": "5991ef7e940580caea1b47884430a77b8b3407645cd9a5112ee38cb7bfa4d09c"
  },
  "kernelspec": {
   "display_name": "Python 3.8.13",
   "language": "python",
   "name": "python3"
  },
  "language_info": {
   "codemirror_mode": {
    "name": "ipython",
    "version": 3
   },
   "file_extension": ".py",
   "mimetype": "text/x-python",
   "name": "python",
   "nbconvert_exporter": "python",
   "pygments_lexer": "ipython3",
   "version": "3.8.13"
  },
  "orig_nbformat": 4
 },
 "nbformat": 4,
 "nbformat_minor": 2
}
