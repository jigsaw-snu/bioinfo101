{
 "cells": [
  {
   "cell_type": "code",
   "execution_count": 1,
   "metadata": {},
   "outputs": [],
   "source": [
    "import pandas as pd"
   ]
  },
  {
   "cell_type": "code",
   "execution_count": 3,
   "metadata": {},
   "outputs": [],
   "source": [
    "positive_seqs = pd.read_csv('./../dataset/lin28/uniq.SRR458758.txt', header=None, names=['Sequence'])"
   ]
  },
  {
   "cell_type": "code",
   "execution_count": 4,
   "metadata": {},
   "outputs": [
    {
     "data": {
      "text/html": [
       "<div>\n",
       "<style scoped>\n",
       "    .dataframe tbody tr th:only-of-type {\n",
       "        vertical-align: middle;\n",
       "    }\n",
       "\n",
       "    .dataframe tbody tr th {\n",
       "        vertical-align: top;\n",
       "    }\n",
       "\n",
       "    .dataframe thead th {\n",
       "        text-align: right;\n",
       "    }\n",
       "</style>\n",
       "<table border=\"1\" class=\"dataframe\">\n",
       "  <thead>\n",
       "    <tr style=\"text-align: right;\">\n",
       "      <th></th>\n",
       "      <th>Sequence</th>\n",
       "    </tr>\n",
       "  </thead>\n",
       "  <tbody>\n",
       "    <tr>\n",
       "      <th>56</th>\n",
       "      <td>12 AAAAAAAAAAAAAAAAAAAAAAAAAAAAAAAAAAAAAAAAA...</td>\n",
       "    </tr>\n",
       "    <tr>\n",
       "      <th>57</th>\n",
       "      <td>31 AAAAAAAAAAAAAAAAAAAAAAAAAAAAAAAAAAAAAAAAA...</td>\n",
       "    </tr>\n",
       "    <tr>\n",
       "      <th>58</th>\n",
       "      <td>35 AAAAAAAAAAAAAAAAAAAAAAAAAAAAAAAAAAAAAAAAA...</td>\n",
       "    </tr>\n",
       "    <tr>\n",
       "      <th>59</th>\n",
       "      <td>45 AAAAAAAAAAAAAAAAAAAAAAAAAAAAAAAAAAAAAAAAA...</td>\n",
       "    </tr>\n",
       "    <tr>\n",
       "      <th>60</th>\n",
       "      <td>117 AAAAAAAAAAAAAAAAAAAAAAAAAAAAAAAAAAAAAAAAA...</td>\n",
       "    </tr>\n",
       "  </tbody>\n",
       "</table>\n",
       "</div>"
      ],
      "text/plain": [
       "                                             Sequence\n",
       "56    12 AAAAAAAAAAAAAAAAAAAAAAAAAAAAAAAAAAAAAAAAA...\n",
       "57    31 AAAAAAAAAAAAAAAAAAAAAAAAAAAAAAAAAAAAAAAAA...\n",
       "58    35 AAAAAAAAAAAAAAAAAAAAAAAAAAAAAAAAAAAAAAAAA...\n",
       "59    45 AAAAAAAAAAAAAAAAAAAAAAAAAAAAAAAAAAAAAAAAA...\n",
       "60   117 AAAAAAAAAAAAAAAAAAAAAAAAAAAAAAAAAAAAAAAAA..."
      ]
     },
     "execution_count": 4,
     "metadata": {},
     "output_type": "execute_result"
    }
   ],
   "source": [
    "positive_seqs_ln = positive_seqs[positive_seqs['Sequence'].str.len() > 70]\n",
    "\n",
    "positive_seqs_ln.head()"
   ]
  },
  {
   "cell_type": "code",
   "execution_count": 4,
   "metadata": {},
   "outputs": [
    {
     "data": {
      "text/plain": [
       "(2257841, 1)"
      ]
     },
     "execution_count": 4,
     "metadata": {},
     "output_type": "execute_result"
    }
   ],
   "source": [
    "positive_seqs_ln.shape"
   ]
  },
  {
   "cell_type": "code",
   "execution_count": 5,
   "metadata": {},
   "outputs": [],
   "source": [
    "# random sampling\n",
    "seq_pos = positive_seqs_ln.sample(n=10000, replace=False, random_state=42)\n",
    "seq_pos['Sequence'] = [''.join(filter(str.isalpha, seq)) for seq in seq_pos['Sequence']]"
   ]
  },
  {
   "cell_type": "code",
   "execution_count": 6,
   "metadata": {},
   "outputs": [
    {
     "data": {
      "text/plain": [
       "78"
      ]
     },
     "execution_count": 6,
     "metadata": {},
     "output_type": "execute_result"
    }
   ],
   "source": [
    "seq_len = [len(x) for x in seq_pos['Sequence']]\n",
    "max(seq_len)"
   ]
  },
  {
   "cell_type": "code",
   "execution_count": 7,
   "metadata": {},
   "outputs": [],
   "source": [
    "# make every sequence same length\n",
    "MAX_LEN = 78\n",
    "\n",
    "def padding_seq(seq):\n",
    "    gap = MAX_LEN - len(seq)\n",
    "    res = 'N'*int(gap/2) + seq + 'N'*int(gap/2)\n",
    "    \n",
    "    if gap % 2 == 1:\n",
    "        res += 'N'\n",
    "    \n",
    "    return res"
   ]
  },
  {
   "cell_type": "code",
   "execution_count": 8,
   "metadata": {},
   "outputs": [],
   "source": [
    "seqs = [padding_seq(seq) for seq in seq_pos['Sequence']]"
   ]
  },
  {
   "cell_type": "code",
   "execution_count": 9,
   "metadata": {},
   "outputs": [
    {
     "data": {
      "text/plain": [
       "['GTTGTAAAACCTGTTCACCAGCACCTGCGGAATTGTTGCCCTGCCTTCATTTCTTTCCCAGCCTGTAGGCACCATCAA',\n",
       " 'ATTCTCTTCTGTGTGTCACCAAGTTCAGGCCTGGTGGCCAGGCCTGCTCTGTAGGCACCATCAATCGTATGCCGTCTT',\n",
       " 'NAGAACGGCTGGTCTTTCATCAGAATTCCAGGCAAGAAGAGCCTCATCACTGACAGTGGAAAGCCTGTAGGCACCANN',\n",
       " 'TGGGATGTGTGTGTGTGTTACTGGGATGGGGTGAGTGTGTGTGTGTGTGTGCTCTCTCGCGCATATGCACACAAGCCT',\n",
       " 'AGCTTAACTCATTTGAATGTTGTTGCTTCTGAGTTTAGGCTAACGGAAGTCTGTAGGCACCATCAATTCGTATGCCGT']"
      ]
     },
     "execution_count": 9,
     "metadata": {},
     "output_type": "execute_result"
    }
   ],
   "source": [
    "seqs[:5]"
   ]
  },
  {
   "cell_type": "code",
   "execution_count": 10,
   "metadata": {},
   "outputs": [],
   "source": [
    "seq_pos['Sequence'] = seqs\n",
    "seq_pos['y'] = '1'"
   ]
  },
  {
   "cell_type": "code",
   "execution_count": 11,
   "metadata": {},
   "outputs": [
    {
     "name": "stdout",
     "output_type": "stream",
     "text": [
      "78 78\n"
     ]
    }
   ],
   "source": [
    "print(max([len(x) for x in seq_pos['Sequence']]), min([len(x) for x in seq_pos['Sequence']]))"
   ]
  },
  {
   "cell_type": "code",
   "execution_count": 12,
   "metadata": {},
   "outputs": [],
   "source": [
    "# random sequence for negative sample\n",
    "import random\n",
    "\n",
    "seq_len = 78\n",
    "\n",
    "ranseq = []\n",
    "for i in range(10000):\n",
    "    ranseq.append(''.join(random.choices(['A', 'C', 'T', 'G', 'N'], k=seq_len)))"
   ]
  },
  {
   "cell_type": "code",
   "execution_count": 13,
   "metadata": {},
   "outputs": [
    {
     "data": {
      "text/plain": [
       "['TTGTTAGATGCTCAGGNGTTGGGCNTCCTCCNTGTAGATTGCCTAGNGAATNTANNTCCGNTCTCNATGAAAATTNGT',\n",
       " 'CCTCGCCNTNNGANGTTGCNGNGACCNANACAGNNATGCAGNCAANCATACTTANGGNGTNTCANAAANGGTCCANCG',\n",
       " 'CGNGCTCNTGNCNGTGCGCNGTNAGATAATCCNGAGCGGANGGGCCNATCGCCNGTTNGTAGNCTTTAGAAAATTATN',\n",
       " 'TGTGAGTAGNAGATATTNNGGGGGGAGNNANNNTNGAAAATTGAAGTAGCGNCCNTGACCCCCANAGNTAGTGNGTCA',\n",
       " 'GAGGGTTTTTATGCCANGACCGTNCCGGCCGGTNGTATCGCACANCGCGCCNTTGAATGNGTTGCGCGNTGANTANTC']"
      ]
     },
     "execution_count": 13,
     "metadata": {},
     "output_type": "execute_result"
    }
   ],
   "source": [
    "ranseq[:5]"
   ]
  },
  {
   "cell_type": "code",
   "execution_count": 14,
   "metadata": {},
   "outputs": [
    {
     "data": {
      "text/html": [
       "<div>\n",
       "<style scoped>\n",
       "    .dataframe tbody tr th:only-of-type {\n",
       "        vertical-align: middle;\n",
       "    }\n",
       "\n",
       "    .dataframe tbody tr th {\n",
       "        vertical-align: top;\n",
       "    }\n",
       "\n",
       "    .dataframe thead th {\n",
       "        text-align: right;\n",
       "    }\n",
       "</style>\n",
       "<table border=\"1\" class=\"dataframe\">\n",
       "  <thead>\n",
       "    <tr style=\"text-align: right;\">\n",
       "      <th></th>\n",
       "      <th>Sequence</th>\n",
       "      <th>y</th>\n",
       "    </tr>\n",
       "  </thead>\n",
       "  <tbody>\n",
       "    <tr>\n",
       "      <th>0</th>\n",
       "      <td>TTGTTAGATGCTCAGGNGTTGGGCNTCCTCCNTGTAGATTGCCTAG...</td>\n",
       "      <td>0</td>\n",
       "    </tr>\n",
       "    <tr>\n",
       "      <th>1</th>\n",
       "      <td>CCTCGCCNTNNGANGTTGCNGNGACCNANACAGNNATGCAGNCAAN...</td>\n",
       "      <td>0</td>\n",
       "    </tr>\n",
       "    <tr>\n",
       "      <th>2</th>\n",
       "      <td>CGNGCTCNTGNCNGTGCGCNGTNAGATAATCCNGAGCGGANGGGCC...</td>\n",
       "      <td>0</td>\n",
       "    </tr>\n",
       "    <tr>\n",
       "      <th>3</th>\n",
       "      <td>TGTGAGTAGNAGATATTNNGGGGGGAGNNANNNTNGAAAATTGAAG...</td>\n",
       "      <td>0</td>\n",
       "    </tr>\n",
       "    <tr>\n",
       "      <th>4</th>\n",
       "      <td>GAGGGTTTTTATGCCANGACCGTNCCGGCCGGTNGTATCGCACANC...</td>\n",
       "      <td>0</td>\n",
       "    </tr>\n",
       "  </tbody>\n",
       "</table>\n",
       "</div>"
      ],
      "text/plain": [
       "                                            Sequence  y\n",
       "0  TTGTTAGATGCTCAGGNGTTGGGCNTCCTCCNTGTAGATTGCCTAG...  0\n",
       "1  CCTCGCCNTNNGANGTTGCNGNGACCNANACAGNNATGCAGNCAAN...  0\n",
       "2  CGNGCTCNTGNCNGTGCGCNGTNAGATAATCCNGAGCGGANGGGCC...  0\n",
       "3  TGTGAGTAGNAGATATTNNGGGGGGAGNNANNNTNGAAAATTGAAG...  0\n",
       "4  GAGGGTTTTTATGCCANGACCGTNCCGGCCGGTNGTATCGCACANC...  0"
      ]
     },
     "execution_count": 14,
     "metadata": {},
     "output_type": "execute_result"
    }
   ],
   "source": [
    "seq_neg = pd.DataFrame(ranseq, columns=['Sequence'])\n",
    "seq_neg['y'] = '0'\n",
    "\n",
    "seq_neg.head()"
   ]
  },
  {
   "cell_type": "code",
   "execution_count": 15,
   "metadata": {},
   "outputs": [
    {
     "data": {
      "text/html": [
       "<div>\n",
       "<style scoped>\n",
       "    .dataframe tbody tr th:only-of-type {\n",
       "        vertical-align: middle;\n",
       "    }\n",
       "\n",
       "    .dataframe tbody tr th {\n",
       "        vertical-align: top;\n",
       "    }\n",
       "\n",
       "    .dataframe thead th {\n",
       "        text-align: right;\n",
       "    }\n",
       "</style>\n",
       "<table border=\"1\" class=\"dataframe\">\n",
       "  <thead>\n",
       "    <tr style=\"text-align: right;\">\n",
       "      <th></th>\n",
       "      <th>Sequence</th>\n",
       "      <th>y</th>\n",
       "    </tr>\n",
       "  </thead>\n",
       "  <tbody>\n",
       "    <tr>\n",
       "      <th>7601271</th>\n",
       "      <td>GTTGTAAAACCTGTTCACCAGCACCTGCGGAATTGTTGCCCTGCCT...</td>\n",
       "      <td>1</td>\n",
       "    </tr>\n",
       "    <tr>\n",
       "      <th>5073481</th>\n",
       "      <td>ATTCTCTTCTGTGTGTCACCAAGTTCAGGCCTGGTGGCCAGGCCTG...</td>\n",
       "      <td>1</td>\n",
       "    </tr>\n",
       "    <tr>\n",
       "      <th>2669291</th>\n",
       "      <td>NAGAACGGCTGGTCTTTCATCAGAATTCCAGGCAAGAAGAGCCTCA...</td>\n",
       "      <td>1</td>\n",
       "    </tr>\n",
       "    <tr>\n",
       "      <th>8012620</th>\n",
       "      <td>TGGGATGTGTGTGTGTGTTACTGGGATGGGGTGAGTGTGTGTGTGT...</td>\n",
       "      <td>1</td>\n",
       "    </tr>\n",
       "    <tr>\n",
       "      <th>3455182</th>\n",
       "      <td>AGCTTAACTCATTTGAATGTTGTTGCTTCTGAGTTTAGGCTAACGG...</td>\n",
       "      <td>1</td>\n",
       "    </tr>\n",
       "  </tbody>\n",
       "</table>\n",
       "</div>"
      ],
      "text/plain": [
       "                                                  Sequence  y\n",
       "7601271  GTTGTAAAACCTGTTCACCAGCACCTGCGGAATTGTTGCCCTGCCT...  1\n",
       "5073481  ATTCTCTTCTGTGTGTCACCAAGTTCAGGCCTGGTGGCCAGGCCTG...  1\n",
       "2669291  NAGAACGGCTGGTCTTTCATCAGAATTCCAGGCAAGAAGAGCCTCA...  1\n",
       "8012620  TGGGATGTGTGTGTGTGTTACTGGGATGGGGTGAGTGTGTGTGTGT...  1\n",
       "3455182  AGCTTAACTCATTTGAATGTTGTTGCTTCTGAGTTTAGGCTAACGG...  1"
      ]
     },
     "execution_count": 15,
     "metadata": {},
     "output_type": "execute_result"
    }
   ],
   "source": [
    "seq_pos.head()"
   ]
  },
  {
   "cell_type": "code",
   "execution_count": 16,
   "metadata": {},
   "outputs": [
    {
     "data": {
      "text/html": [
       "<div>\n",
       "<style scoped>\n",
       "    .dataframe tbody tr th:only-of-type {\n",
       "        vertical-align: middle;\n",
       "    }\n",
       "\n",
       "    .dataframe tbody tr th {\n",
       "        vertical-align: top;\n",
       "    }\n",
       "\n",
       "    .dataframe thead th {\n",
       "        text-align: right;\n",
       "    }\n",
       "</style>\n",
       "<table border=\"1\" class=\"dataframe\">\n",
       "  <thead>\n",
       "    <tr style=\"text-align: right;\">\n",
       "      <th></th>\n",
       "      <th>Sequence</th>\n",
       "      <th>y</th>\n",
       "    </tr>\n",
       "  </thead>\n",
       "  <tbody>\n",
       "    <tr>\n",
       "      <th>0</th>\n",
       "      <td>GGCTGCNTCGGNNAGTATANNCNTTTAGGGGGCGTCAAANTTATAA...</td>\n",
       "      <td>0</td>\n",
       "    </tr>\n",
       "    <tr>\n",
       "      <th>1</th>\n",
       "      <td>AGCAGAGGCCTCGGAAGCTGACTCTGATGGGCAGCAATGGGCATGA...</td>\n",
       "      <td>1</td>\n",
       "    </tr>\n",
       "    <tr>\n",
       "      <th>2</th>\n",
       "      <td>GCTGCTNTCTCCTCANNNCAAATCNCCNCNAGACGCTGTNNNCTNN...</td>\n",
       "      <td>0</td>\n",
       "    </tr>\n",
       "    <tr>\n",
       "      <th>3</th>\n",
       "      <td>GAACAGNTATCCNTACGAGTNCGCCCCACNGGAACAAANTTGANAA...</td>\n",
       "      <td>0</td>\n",
       "    </tr>\n",
       "    <tr>\n",
       "      <th>4</th>\n",
       "      <td>AGNACGGACCCGATNGNCGCGNAGTCANGATNGANNNCNCNAAANN...</td>\n",
       "      <td>0</td>\n",
       "    </tr>\n",
       "  </tbody>\n",
       "</table>\n",
       "</div>"
      ],
      "text/plain": [
       "                                            Sequence  y\n",
       "0  GGCTGCNTCGGNNAGTATANNCNTTTAGGGGGCGTCAAANTTATAA...  0\n",
       "1  AGCAGAGGCCTCGGAAGCTGACTCTGATGGGCAGCAATGGGCATGA...  1\n",
       "2  GCTGCTNTCTCCTCANNNCAAATCNCCNCNAGACGCTGTNNNCTNN...  0\n",
       "3  GAACAGNTATCCNTACGAGTNCGCCCCACNGGAACAAANTTGANAA...  0\n",
       "4  AGNACGGACCCGATNGNCGCGNAGTCANGATNGANNNCNCNAAANN...  0"
      ]
     },
     "execution_count": 16,
     "metadata": {},
     "output_type": "execute_result"
    }
   ],
   "source": [
    "seqs = pd.concat([seq_pos, seq_neg])\n",
    "seqs = seqs.sample(frac=1).reset_index(drop=True)\n",
    "seqs.head()"
   ]
  },
  {
   "cell_type": "code",
   "execution_count": 17,
   "metadata": {},
   "outputs": [],
   "source": [
    "import numpy as np\n",
    "import tensorflow as tf\n",
    "from tensorflow.keras import Model, regularizers, constraints\n",
    "from tensorflow.keras.layers import Layer, Input, Embedding, Conv1D, Conv2D, BatchNormalization, ReLU, LeakyReLU, MaxPooling1D, Flatten, Dense, Softmax, Dropout, MaxPooling2D\n",
    "from tensorflow.keras.optimizers import Adam\n",
    "from tensorflow.keras.callbacks import EarlyStopping"
   ]
  },
  {
   "cell_type": "code",
   "execution_count": 18,
   "metadata": {},
   "outputs": [],
   "source": [
    "train_X = seqs['Sequence'][:15000]\n",
    "train_y = seqs['y'][:15000]\n",
    "\n",
    "test_X = seqs['Sequence'][15000:]\n",
    "test_y = seqs['y'][15000:]"
   ]
  },
  {
   "cell_type": "code",
   "execution_count": 19,
   "metadata": {},
   "outputs": [],
   "source": [
    "BASE=sorted(\"ACGTN\")\n",
    "\n",
    "train_X_int = [[BASE.index(c) for c in seq] for seq in train_X.tolist()]\n",
    "train_X_onehot = np.eye(len(BASE))[train_X_int]\n",
    "\n",
    "test_X_int = [[BASE.index(c) for c in seq] for seq in test_X.tolist()]\n",
    "test_X_onehot = np.eye(len(BASE))[test_X_int]\n",
    "\n",
    "train_X_onehot_ = train_X_onehot[:, :, :, np.newaxis]\n",
    "test_X_onehot_ = test_X_onehot[:, :, :, np.newaxis]"
   ]
  },
  {
   "cell_type": "code",
   "execution_count": 20,
   "metadata": {},
   "outputs": [
    {
     "data": {
      "text/plain": [
       "(15000, 78, 5, 1)"
      ]
     },
     "execution_count": 20,
     "metadata": {},
     "output_type": "execute_result"
    }
   ],
   "source": [
    "train_X_onehot_.shape"
   ]
  },
  {
   "cell_type": "code",
   "execution_count": 21,
   "metadata": {},
   "outputs": [
    {
     "data": {
      "text/plain": [
       "(5000, 78, 5, 1)"
      ]
     },
     "execution_count": 21,
     "metadata": {},
     "output_type": "execute_result"
    }
   ],
   "source": [
    "test_X_onehot_.shape"
   ]
  },
  {
   "cell_type": "code",
   "execution_count": 22,
   "metadata": {},
   "outputs": [],
   "source": [
    "train_X_onehot_ = np.array(train_X_onehot_)\n",
    "test_X_onehot_ = np.array(test_X_onehot_)\n",
    "\n",
    "train_y = train_y.astype('int32')\n",
    "test_y = test_y.astype('int32')"
   ]
  },
  {
   "cell_type": "code",
   "execution_count": 23,
   "metadata": {},
   "outputs": [
    {
     "data": {
      "text/plain": [
       "0    0\n",
       "1    1\n",
       "2    0\n",
       "3    0\n",
       "4    0\n",
       "Name: y, dtype: int32"
      ]
     },
     "execution_count": 23,
     "metadata": {},
     "output_type": "execute_result"
    }
   ],
   "source": [
    "train_y[:5]"
   ]
  },
  {
   "cell_type": "code",
   "execution_count": 24,
   "metadata": {},
   "outputs": [
    {
     "name": "stdout",
     "output_type": "stream",
     "text": [
      "Metal device set to: Apple M1 Max\n",
      "\n",
      "systemMemory: 64.00 GB\n",
      "maxCacheSize: 24.00 GB\n",
      "\n"
     ]
    },
    {
     "name": "stderr",
     "output_type": "stream",
     "text": [
      "2022-06-10 07:25:20.449986: I tensorflow/core/common_runtime/pluggable_device/pluggable_device_factory.cc:305] Could not identify NUMA node of platform GPU ID 0, defaulting to 0. Your kernel may not have been built with NUMA support.\n",
      "2022-06-10 07:25:20.450118: I tensorflow/core/common_runtime/pluggable_device/pluggable_device_factory.cc:271] Created TensorFlow device (/job:localhost/replica:0/task:0/device:GPU:0 with 0 MB memory) -> physical PluggableDevice (device: 0, name: METAL, pci bus id: <undefined>)\n"
     ]
    }
   ],
   "source": [
    "mymodel = tf.keras.Sequential([\n",
    "    Conv2D(1, (14, 5), padding='same', strides=1, input_shape=(78, 5, 1), kernel_regularizer=regularizers.l1(3e-3), kernel_constraint=constraints.NonNeg()),\n",
    "    BatchNormalization(),\n",
    "    ReLU(),\n",
    "    MaxPooling2D(),\n",
    "    \n",
    "    Flatten(),\n",
    "    Dense(1, activation='sigmoid')\n",
    "])"
   ]
  },
  {
   "cell_type": "code",
   "execution_count": 25,
   "metadata": {},
   "outputs": [
    {
     "name": "stdout",
     "output_type": "stream",
     "text": [
      "Model: \"sequential\"\n",
      "_________________________________________________________________\n",
      " Layer (type)                Output Shape              Param #   \n",
      "=================================================================\n",
      " conv2d (Conv2D)             (None, 78, 5, 1)          71        \n",
      "                                                                 \n",
      " batch_normalization (BatchN  (None, 78, 5, 1)         4         \n",
      " ormalization)                                                   \n",
      "                                                                 \n",
      " re_lu (ReLU)                (None, 78, 5, 1)          0         \n",
      "                                                                 \n",
      " max_pooling2d (MaxPooling2D  (None, 39, 2, 1)         0         \n",
      " )                                                               \n",
      "                                                                 \n",
      " flatten (Flatten)           (None, 78)                0         \n",
      "                                                                 \n",
      " dense (Dense)               (None, 1)                 79        \n",
      "                                                                 \n",
      "=================================================================\n",
      "Total params: 154\n",
      "Trainable params: 152\n",
      "Non-trainable params: 2\n",
      "_________________________________________________________________\n"
     ]
    }
   ],
   "source": [
    "mymodel.summary()"
   ]
  },
  {
   "cell_type": "code",
   "execution_count": 26,
   "metadata": {},
   "outputs": [],
   "source": [
    "mymodel.compile(optimizer='adam', loss='binary_crossentropy', metrics=['accuracy'])"
   ]
  },
  {
   "cell_type": "code",
   "execution_count": 27,
   "metadata": {},
   "outputs": [
    {
     "name": "stdout",
     "output_type": "stream",
     "text": [
      "Epoch 1/20\n"
     ]
    },
    {
     "name": "stderr",
     "output_type": "stream",
     "text": [
      "2022-06-10 07:25:40.296447: W tensorflow/core/platform/profile_utils/cpu_utils.cc:128] Failed to get CPU frequency: 0 Hz\n",
      "2022-06-10 07:25:40.517159: I tensorflow/core/grappler/optimizers/custom_graph_optimizer_registry.cc:113] Plugin optimizer for device_type GPU is enabled.\n"
     ]
    },
    {
     "name": "stdout",
     "output_type": "stream",
     "text": [
      "365/375 [============================>.] - ETA: 0s - loss: 0.6726 - accuracy: 0.6050"
     ]
    },
    {
     "name": "stderr",
     "output_type": "stream",
     "text": [
      "2022-06-10 07:25:44.398877: I tensorflow/core/grappler/optimizers/custom_graph_optimizer_registry.cc:113] Plugin optimizer for device_type GPU is enabled.\n"
     ]
    },
    {
     "name": "stdout",
     "output_type": "stream",
     "text": [
      "375/375 [==============================] - 5s 6ms/step - loss: 0.6635 - accuracy: 0.6127 - val_loss: 0.3817 - val_accuracy: 0.8573\n",
      "Epoch 2/20\n",
      "375/375 [==============================] - 2s 6ms/step - loss: 0.2738 - accuracy: 0.9034 - val_loss: 0.1971 - val_accuracy: 0.9393\n",
      "Epoch 3/20\n",
      "375/375 [==============================] - 2s 6ms/step - loss: 0.1738 - accuracy: 0.9467 - val_loss: 0.1281 - val_accuracy: 0.9647\n",
      "Epoch 4/20\n",
      "375/375 [==============================] - 2s 6ms/step - loss: 0.1281 - accuracy: 0.9602 - val_loss: 0.1002 - val_accuracy: 0.9723\n",
      "Epoch 5/20\n",
      "375/375 [==============================] - 2s 6ms/step - loss: 0.0948 - accuracy: 0.9743 - val_loss: 0.0739 - val_accuracy: 0.9813\n",
      "Epoch 6/20\n",
      "375/375 [==============================] - 2s 6ms/step - loss: 0.0699 - accuracy: 0.9818 - val_loss: 0.0658 - val_accuracy: 0.9823\n",
      "Epoch 7/20\n",
      "375/375 [==============================] - 2s 6ms/step - loss: 0.0615 - accuracy: 0.9839 - val_loss: 0.0566 - val_accuracy: 0.9863\n",
      "Epoch 8/20\n",
      "375/375 [==============================] - 2s 6ms/step - loss: 0.0536 - accuracy: 0.9871 - val_loss: 0.0626 - val_accuracy: 0.9783\n",
      "Epoch 9/20\n",
      "375/375 [==============================] - 2s 6ms/step - loss: 0.0480 - accuracy: 0.9883 - val_loss: 0.0524 - val_accuracy: 0.9833\n",
      "Epoch 10/20\n",
      "375/375 [==============================] - 2s 6ms/step - loss: 0.0455 - accuracy: 0.9889 - val_loss: 0.0416 - val_accuracy: 0.9907\n",
      "Epoch 11/20\n",
      "375/375 [==============================] - 2s 6ms/step - loss: 0.0424 - accuracy: 0.9890 - val_loss: 0.0433 - val_accuracy: 0.9903\n",
      "Epoch 12/20\n",
      "375/375 [==============================] - 2s 6ms/step - loss: 0.0408 - accuracy: 0.9897 - val_loss: 0.0361 - val_accuracy: 0.9910\n",
      "Epoch 13/20\n",
      "375/375 [==============================] - 2s 6ms/step - loss: 0.0372 - accuracy: 0.9923 - val_loss: 0.0358 - val_accuracy: 0.9927\n",
      "Epoch 14/20\n",
      "375/375 [==============================] - 2s 6ms/step - loss: 0.0357 - accuracy: 0.9915 - val_loss: 0.0336 - val_accuracy: 0.9920\n",
      "Epoch 15/20\n",
      "375/375 [==============================] - 2s 6ms/step - loss: 0.0348 - accuracy: 0.9922 - val_loss: 0.0323 - val_accuracy: 0.9947\n",
      "Epoch 16/20\n",
      "375/375 [==============================] - 2s 6ms/step - loss: 0.0321 - accuracy: 0.9937 - val_loss: 0.0309 - val_accuracy: 0.9947\n",
      "Epoch 17/20\n",
      "375/375 [==============================] - 2s 6ms/step - loss: 0.0302 - accuracy: 0.9942 - val_loss: 0.0440 - val_accuracy: 0.9897\n",
      "Epoch 18/20\n",
      "375/375 [==============================] - 2s 6ms/step - loss: 0.0285 - accuracy: 0.9946 - val_loss: 0.0257 - val_accuracy: 0.9967\n",
      "Epoch 19/20\n",
      "375/375 [==============================] - 2s 6ms/step - loss: 0.0277 - accuracy: 0.9944 - val_loss: 0.0313 - val_accuracy: 0.9933\n",
      "Epoch 20/20\n",
      "375/375 [==============================] - 2s 6ms/step - loss: 0.0283 - accuracy: 0.9944 - val_loss: 0.0242 - val_accuracy: 0.9970\n"
     ]
    },
    {
     "data": {
      "text/plain": [
       "<keras.callbacks.History at 0x2e1abd670>"
      ]
     },
     "execution_count": 27,
     "metadata": {},
     "output_type": "execute_result"
    }
   ],
   "source": [
    "mymodel.fit(train_X_onehot_, train_y, epochs=20, validation_split=0.2)"
   ]
  },
  {
   "cell_type": "code",
   "execution_count": 28,
   "metadata": {},
   "outputs": [
    {
     "name": "stdout",
     "output_type": "stream",
     "text": [
      "157/157 - 1s - loss: 0.0254 - accuracy: 0.9950 - 585ms/epoch - 4ms/step\n"
     ]
    },
    {
     "data": {
      "text/plain": [
       "[0.025430822744965553, 0.9950000643730164]"
      ]
     },
     "execution_count": 28,
     "metadata": {},
     "output_type": "execute_result"
    }
   ],
   "source": [
    "mymodel.evaluate(test_X_onehot_, test_y, verbose=2)"
   ]
  },
  {
   "cell_type": "code",
   "execution_count": 29,
   "metadata": {},
   "outputs": [],
   "source": [
    "weights = mymodel.get_weights()\n",
    "weight = pd.DataFrame(np.squeeze(weights[0].transpose()))"
   ]
  },
  {
   "cell_type": "code",
   "execution_count": 30,
   "metadata": {},
   "outputs": [
    {
     "data": {
      "text/html": [
       "<div>\n",
       "<style scoped>\n",
       "    .dataframe tbody tr th:only-of-type {\n",
       "        vertical-align: middle;\n",
       "    }\n",
       "\n",
       "    .dataframe tbody tr th {\n",
       "        vertical-align: top;\n",
       "    }\n",
       "\n",
       "    .dataframe thead th {\n",
       "        text-align: right;\n",
       "    }\n",
       "</style>\n",
       "<table border=\"1\" class=\"dataframe\">\n",
       "  <thead>\n",
       "    <tr style=\"text-align: right;\">\n",
       "      <th></th>\n",
       "      <th>0</th>\n",
       "      <th>1</th>\n",
       "      <th>2</th>\n",
       "      <th>3</th>\n",
       "      <th>4</th>\n",
       "      <th>5</th>\n",
       "      <th>6</th>\n",
       "      <th>7</th>\n",
       "      <th>8</th>\n",
       "      <th>9</th>\n",
       "      <th>10</th>\n",
       "      <th>11</th>\n",
       "      <th>12</th>\n",
       "      <th>13</th>\n",
       "    </tr>\n",
       "  </thead>\n",
       "  <tbody>\n",
       "    <tr>\n",
       "      <th>0</th>\n",
       "      <td>0.067291</td>\n",
       "      <td>0.116742</td>\n",
       "      <td>0.177601</td>\n",
       "      <td>0.129128</td>\n",
       "      <td>0.130714</td>\n",
       "      <td>0.116229</td>\n",
       "      <td>0.090775</td>\n",
       "      <td>0.079382</td>\n",
       "      <td>0.114714</td>\n",
       "      <td>0.090486</td>\n",
       "      <td>0.145544</td>\n",
       "      <td>0.034634</td>\n",
       "      <td>0.116574</td>\n",
       "      <td>0.141821</td>\n",
       "    </tr>\n",
       "    <tr>\n",
       "      <th>1</th>\n",
       "      <td>0.040393</td>\n",
       "      <td>0.021171</td>\n",
       "      <td>0.028777</td>\n",
       "      <td>0.058148</td>\n",
       "      <td>0.081159</td>\n",
       "      <td>0.028351</td>\n",
       "      <td>0.044380</td>\n",
       "      <td>0.081534</td>\n",
       "      <td>0.016225</td>\n",
       "      <td>0.069410</td>\n",
       "      <td>0.000682</td>\n",
       "      <td>0.015767</td>\n",
       "      <td>0.090529</td>\n",
       "      <td>0.033255</td>\n",
       "    </tr>\n",
       "    <tr>\n",
       "      <th>2</th>\n",
       "      <td>0.012622</td>\n",
       "      <td>0.017880</td>\n",
       "      <td>0.004180</td>\n",
       "      <td>0.019306</td>\n",
       "      <td>0.025775</td>\n",
       "      <td>0.004676</td>\n",
       "      <td>0.023750</td>\n",
       "      <td>0.040249</td>\n",
       "      <td>0.015801</td>\n",
       "      <td>0.000106</td>\n",
       "      <td>0.142618</td>\n",
       "      <td>-0.000000</td>\n",
       "      <td>0.001033</td>\n",
       "      <td>0.018530</td>\n",
       "    </tr>\n",
       "    <tr>\n",
       "      <th>3</th>\n",
       "      <td>-0.000000</td>\n",
       "      <td>-0.000000</td>\n",
       "      <td>0.004139</td>\n",
       "      <td>0.006274</td>\n",
       "      <td>0.000199</td>\n",
       "      <td>0.000202</td>\n",
       "      <td>0.007436</td>\n",
       "      <td>0.017027</td>\n",
       "      <td>-0.000000</td>\n",
       "      <td>0.056852</td>\n",
       "      <td>0.048528</td>\n",
       "      <td>0.004457</td>\n",
       "      <td>-0.000000</td>\n",
       "      <td>0.002183</td>\n",
       "    </tr>\n",
       "    <tr>\n",
       "      <th>4</th>\n",
       "      <td>-0.000000</td>\n",
       "      <td>-0.000000</td>\n",
       "      <td>-0.000000</td>\n",
       "      <td>-0.000000</td>\n",
       "      <td>-0.000000</td>\n",
       "      <td>-0.000000</td>\n",
       "      <td>-0.000000</td>\n",
       "      <td>-0.000000</td>\n",
       "      <td>-0.000000</td>\n",
       "      <td>-0.000000</td>\n",
       "      <td>0.425731</td>\n",
       "      <td>-0.000000</td>\n",
       "      <td>-0.000000</td>\n",
       "      <td>-0.000000</td>\n",
       "    </tr>\n",
       "  </tbody>\n",
       "</table>\n",
       "</div>"
      ],
      "text/plain": [
       "         0         1         2         3         4         5         6   \\\n",
       "0  0.067291  0.116742  0.177601  0.129128  0.130714  0.116229  0.090775   \n",
       "1  0.040393  0.021171  0.028777  0.058148  0.081159  0.028351  0.044380   \n",
       "2  0.012622  0.017880  0.004180  0.019306  0.025775  0.004676  0.023750   \n",
       "3 -0.000000 -0.000000  0.004139  0.006274  0.000199  0.000202  0.007436   \n",
       "4 -0.000000 -0.000000 -0.000000 -0.000000 -0.000000 -0.000000 -0.000000   \n",
       "\n",
       "         7         8         9         10        11        12        13  \n",
       "0  0.079382  0.114714  0.090486  0.145544  0.034634  0.116574  0.141821  \n",
       "1  0.081534  0.016225  0.069410  0.000682  0.015767  0.090529  0.033255  \n",
       "2  0.040249  0.015801  0.000106  0.142618 -0.000000  0.001033  0.018530  \n",
       "3  0.017027 -0.000000  0.056852  0.048528  0.004457 -0.000000  0.002183  \n",
       "4 -0.000000 -0.000000 -0.000000  0.425731 -0.000000 -0.000000 -0.000000  "
      ]
     },
     "execution_count": 30,
     "metadata": {},
     "output_type": "execute_result"
    }
   ],
   "source": [
    "weight"
   ]
  },
  {
   "cell_type": "code",
   "execution_count": 31,
   "metadata": {},
   "outputs": [
    {
     "data": {
      "text/plain": [
       "0     1.0\n",
       "1     1.0\n",
       "2     1.0\n",
       "3     1.0\n",
       "4     1.0\n",
       "5     1.0\n",
       "6     1.0\n",
       "7     1.0\n",
       "8     1.0\n",
       "9     1.0\n",
       "10    1.0\n",
       "11    1.0\n",
       "12    1.0\n",
       "13    1.0\n",
       "dtype: float32"
      ]
     },
     "execution_count": 31,
     "metadata": {},
     "output_type": "execute_result"
    }
   ],
   "source": [
    "weight += 0.001\n",
    "weight = weight / weight.sum(axis=0)\n",
    "\n",
    "weight.sum(axis=0)"
   ]
  },
  {
   "cell_type": "code",
   "execution_count": 32,
   "metadata": {},
   "outputs": [
    {
     "data": {
      "text/html": [
       "<div>\n",
       "<style scoped>\n",
       "    .dataframe tbody tr th:only-of-type {\n",
       "        vertical-align: middle;\n",
       "    }\n",
       "\n",
       "    .dataframe tbody tr th {\n",
       "        vertical-align: top;\n",
       "    }\n",
       "\n",
       "    .dataframe thead th {\n",
       "        text-align: right;\n",
       "    }\n",
       "</style>\n",
       "<table border=\"1\" class=\"dataframe\">\n",
       "  <thead>\n",
       "    <tr style=\"text-align: right;\">\n",
       "      <th></th>\n",
       "      <th>A</th>\n",
       "      <th>C</th>\n",
       "      <th>G</th>\n",
       "      <th>N</th>\n",
       "      <th>T</th>\n",
       "      <th>-</th>\n",
       "    </tr>\n",
       "  </thead>\n",
       "  <tbody>\n",
       "    <tr>\n",
       "      <th>0</th>\n",
       "      <td>0.544993</td>\n",
       "      <td>0.330335</td>\n",
       "      <td>0.108711</td>\n",
       "      <td>0.007980</td>\n",
       "      <td>0.007980</td>\n",
       "      <td>0.0</td>\n",
       "    </tr>\n",
       "    <tr>\n",
       "      <th>1</th>\n",
       "      <td>0.732256</td>\n",
       "      <td>0.137888</td>\n",
       "      <td>0.117418</td>\n",
       "      <td>0.006219</td>\n",
       "      <td>0.006219</td>\n",
       "      <td>0.0</td>\n",
       "    </tr>\n",
       "    <tr>\n",
       "      <th>2</th>\n",
       "      <td>0.812938</td>\n",
       "      <td>0.135538</td>\n",
       "      <td>0.023579</td>\n",
       "      <td>0.023393</td>\n",
       "      <td>0.004552</td>\n",
       "      <td>0.0</td>\n",
       "    </tr>\n",
       "    <tr>\n",
       "      <th>3</th>\n",
       "      <td>0.597310</td>\n",
       "      <td>0.271500</td>\n",
       "      <td>0.093209</td>\n",
       "      <td>0.033390</td>\n",
       "      <td>0.004590</td>\n",
       "      <td>0.0</td>\n",
       "    </tr>\n",
       "    <tr>\n",
       "      <th>4</th>\n",
       "      <td>0.542374</td>\n",
       "      <td>0.338318</td>\n",
       "      <td>0.110253</td>\n",
       "      <td>0.004937</td>\n",
       "      <td>0.004118</td>\n",
       "      <td>0.0</td>\n",
       "    </tr>\n",
       "    <tr>\n",
       "      <th>5</th>\n",
       "      <td>0.758970</td>\n",
       "      <td>0.190027</td>\n",
       "      <td>0.036747</td>\n",
       "      <td>0.007782</td>\n",
       "      <td>0.006474</td>\n",
       "      <td>0.0</td>\n",
       "    </tr>\n",
       "    <tr>\n",
       "      <th>6</th>\n",
       "      <td>0.535630</td>\n",
       "      <td>0.264851</td>\n",
       "      <td>0.144447</td>\n",
       "      <td>0.049236</td>\n",
       "      <td>0.005836</td>\n",
       "      <td>0.0</td>\n",
       "    </tr>\n",
       "    <tr>\n",
       "      <th>7</th>\n",
       "      <td>0.360147</td>\n",
       "      <td>0.369789</td>\n",
       "      <td>0.184813</td>\n",
       "      <td>0.080771</td>\n",
       "      <td>0.004480</td>\n",
       "      <td>0.0</td>\n",
       "    </tr>\n",
       "    <tr>\n",
       "      <th>8</th>\n",
       "      <td>0.762583</td>\n",
       "      <td>0.113516</td>\n",
       "      <td>0.110721</td>\n",
       "      <td>0.006590</td>\n",
       "      <td>0.006590</td>\n",
       "      <td>0.0</td>\n",
       "    </tr>\n",
       "    <tr>\n",
       "      <th>9</th>\n",
       "      <td>0.412369</td>\n",
       "      <td>0.317372</td>\n",
       "      <td>0.004984</td>\n",
       "      <td>0.260767</td>\n",
       "      <td>0.004507</td>\n",
       "      <td>0.0</td>\n",
       "    </tr>\n",
       "    <tr>\n",
       "      <th>10</th>\n",
       "      <td>0.190788</td>\n",
       "      <td>0.002190</td>\n",
       "      <td>0.186977</td>\n",
       "      <td>0.064481</td>\n",
       "      <td>0.555565</td>\n",
       "      <td>0.0</td>\n",
       "    </tr>\n",
       "    <tr>\n",
       "      <th>11</th>\n",
       "      <td>0.595315</td>\n",
       "      <td>0.280112</td>\n",
       "      <td>0.016706</td>\n",
       "      <td>0.091160</td>\n",
       "      <td>0.016706</td>\n",
       "      <td>0.0</td>\n",
       "    </tr>\n",
       "    <tr>\n",
       "      <th>12</th>\n",
       "      <td>0.551636</td>\n",
       "      <td>0.429440</td>\n",
       "      <td>0.009540</td>\n",
       "      <td>0.004692</td>\n",
       "      <td>0.004692</td>\n",
       "      <td>0.0</td>\n",
       "    </tr>\n",
       "    <tr>\n",
       "      <th>13</th>\n",
       "      <td>0.711298</td>\n",
       "      <td>0.170601</td>\n",
       "      <td>0.097268</td>\n",
       "      <td>0.015852</td>\n",
       "      <td>0.004980</td>\n",
       "      <td>0.0</td>\n",
       "    </tr>\n",
       "  </tbody>\n",
       "</table>\n",
       "</div>"
      ],
      "text/plain": [
       "           A         C         G         N         T    -\n",
       "0   0.544993  0.330335  0.108711  0.007980  0.007980  0.0\n",
       "1   0.732256  0.137888  0.117418  0.006219  0.006219  0.0\n",
       "2   0.812938  0.135538  0.023579  0.023393  0.004552  0.0\n",
       "3   0.597310  0.271500  0.093209  0.033390  0.004590  0.0\n",
       "4   0.542374  0.338318  0.110253  0.004937  0.004118  0.0\n",
       "5   0.758970  0.190027  0.036747  0.007782  0.006474  0.0\n",
       "6   0.535630  0.264851  0.144447  0.049236  0.005836  0.0\n",
       "7   0.360147  0.369789  0.184813  0.080771  0.004480  0.0\n",
       "8   0.762583  0.113516  0.110721  0.006590  0.006590  0.0\n",
       "9   0.412369  0.317372  0.004984  0.260767  0.004507  0.0\n",
       "10  0.190788  0.002190  0.186977  0.064481  0.555565  0.0\n",
       "11  0.595315  0.280112  0.016706  0.091160  0.016706  0.0\n",
       "12  0.551636  0.429440  0.009540  0.004692  0.004692  0.0\n",
       "13  0.711298  0.170601  0.097268  0.015852  0.004980  0.0"
      ]
     },
     "execution_count": 32,
     "metadata": {},
     "output_type": "execute_result"
    }
   ],
   "source": [
    "weight.index = sorted(list('ACGTN'))\n",
    "\n",
    "weight = weight.transpose()\n",
    "weight['-'] = 0.0\n",
    "\n",
    "weight"
   ]
  },
  {
   "cell_type": "code",
   "execution_count": null,
   "metadata": {},
   "outputs": [],
   "source": [
    "weight.to_csv('pfm.csv')"
   ]
  },
  {
   "cell_type": "code",
   "execution_count": 27,
   "metadata": {},
   "outputs": [
    {
     "data": {
      "image/svg+xml": "<svg xmlns=\"http://www.w3.org/2000/svg\" xmlns:xlink=\"http://www.w3.org/1999/xlink\" width=\"560pt\" height=\"206pt\" viewBox=\"0 0 560 206\" version=\"1.1\">\n<defs>\n<g>\n<symbol overflow=\"visible\" id=\"glyph0-0 2747636676837686055\">\n<path style=\"stroke:none;\" d=\"\"/>\n</symbol>\n<symbol overflow=\"visible\" id=\"glyph0-1 2747636676837686055\">\n<path style=\"stroke:none;\" d=\"M 2.203125 -5.671875 C 1.671875 -5.671875 1.1875 -5.4375 0.890625 -5.046875 C 0.53125 -4.546875 0.34375 -3.796875 0.34375 -2.75 C 0.34375 -0.828125 0.984375 0.1875 2.203125 0.1875 C 3.40625 0.1875 4.0625 -0.828125 4.0625 -2.703125 C 4.0625 -3.796875 3.875 -4.53125 3.5 -5.046875 C 3.203125 -5.453125 2.734375 -5.671875 2.203125 -5.671875 Z M 2.203125 -5.046875 C 2.953125 -5.046875 3.34375 -4.28125 3.34375 -2.765625 C 3.34375 -1.15625 2.96875 -0.40625 2.1875 -0.40625 C 1.4375 -0.40625 1.0625 -1.1875 1.0625 -2.734375 C 1.0625 -4.28125 1.4375 -5.046875 2.203125 -5.046875 Z M 2.203125 -5.046875 \"/>\n</symbol>\n<symbol overflow=\"visible\" id=\"glyph0-2 2747636676837686055\">\n<path style=\"stroke:none;\" d=\"M 1.53125 -0.828125 L 0.703125 -0.828125 L 0.703125 0 L 1.53125 0 Z M 1.53125 -0.828125 \"/>\n</symbol>\n<symbol overflow=\"visible\" id=\"glyph0-3 2747636676837686055\">\n<path style=\"stroke:none;\" d=\"M 2.078125 -4.046875 L 2.078125 0 L 2.78125 0 L 2.78125 -5.671875 L 2.3125 -5.671875 C 2.0625 -4.796875 1.90625 -4.6875 0.8125 -4.546875 L 0.8125 -4.046875 Z M 2.078125 -4.046875 \"/>\n</symbol>\n<symbol overflow=\"visible\" id=\"glyph0-4 2747636676837686055\">\n<path style=\"stroke:none;\" d=\"M 4.046875 -0.703125 L 1.0625 -0.703125 C 1.140625 -1.15625 1.390625 -1.453125 2.09375 -1.859375 L 2.890625 -2.296875 C 3.6875 -2.734375 4.09375 -3.3125 4.09375 -4.015625 C 4.09375 -4.484375 3.890625 -4.921875 3.5625 -5.234375 C 3.21875 -5.53125 2.8125 -5.671875 2.265625 -5.671875 C 1.546875 -5.671875 1.015625 -5.421875 0.703125 -4.9375 C 0.5 -4.625 0.421875 -4.28125 0.40625 -3.703125 L 1.109375 -3.703125 C 1.125 -4.09375 1.171875 -4.3125 1.265625 -4.5 C 1.453125 -4.84375 1.828125 -5.0625 2.25 -5.0625 C 2.890625 -5.0625 3.375 -4.59375 3.375 -3.984375 C 3.375 -3.546875 3.109375 -3.15625 2.59375 -2.875 L 1.859375 -2.453125 C 0.6875 -1.78125 0.34375 -1.25 0.265625 0 L 4.046875 0 Z M 4.046875 -0.703125 \"/>\n</symbol>\n<symbol overflow=\"visible\" id=\"glyph0-5 2747636676837686055\">\n<path style=\"stroke:none;\" d=\"M 3.8125 -5.671875 L 0.875 -5.671875 L 0.453125 -2.578125 L 1.109375 -2.578125 C 1.4375 -2.96875 1.703125 -3.109375 2.15625 -3.109375 C 2.90625 -3.109375 3.390625 -2.59375 3.390625 -1.75 C 3.390625 -0.9375 2.90625 -0.4375 2.140625 -0.4375 C 1.53125 -0.4375 1.15625 -0.75 0.984375 -1.390625 L 0.28125 -1.390625 C 0.375 -0.921875 0.453125 -0.703125 0.625 -0.5 C 0.9375 -0.0625 1.515625 0.1875 2.15625 0.1875 C 3.296875 0.1875 4.109375 -0.640625 4.109375 -1.84375 C 4.109375 -2.96875 3.359375 -3.734375 2.265625 -3.734375 C 1.875 -3.734375 1.546875 -3.625 1.21875 -3.390625 L 1.453125 -4.96875 L 3.8125 -4.96875 Z M 3.8125 -5.671875 \"/>\n</symbol>\n<symbol overflow=\"visible\" id=\"glyph1-0 2747636676837686055\">\n<path style=\"stroke:none;\" d=\"\"/>\n</symbol>\n<symbol overflow=\"visible\" id=\"glyph1-1 2747636676837686055\">\n<path style=\"stroke:none;\" d=\"M -7.296875 -0.546875 L 0 -0.546875 L 0 -1.296875 L -0.671875 -1.296875 C -0.0625 -1.6875 0.234375 -2.21875 0.234375 -2.953125 C 0.234375 -4.328125 -0.90625 -5.234375 -2.640625 -5.234375 C -4.34375 -5.234375 -5.390625 -4.375 -5.390625 -2.984375 C -5.390625 -2.265625 -5.125 -1.765625 -4.53125 -1.375 L -7.296875 -1.375 Z M -4.609375 -2.828125 C -4.609375 -3.765625 -3.796875 -4.359375 -2.546875 -4.359375 C -1.359375 -4.359375 -0.546875 -3.734375 -0.546875 -2.828125 C -0.546875 -1.9375 -1.34375 -1.375 -2.578125 -1.375 C -3.8125 -1.375 -4.609375 -1.9375 -4.609375 -2.828125 Z M -4.609375 -2.828125 \"/>\n</symbol>\n<symbol overflow=\"visible\" id=\"glyph1-2 2747636676837686055\">\n<path style=\"stroke:none;\" d=\"M -5.234375 -1.5 L -5.234375 -0.671875 L 0 -0.671875 L 0 -1.5 Z M -7.296875 -1.5 L -7.296875 -0.65625 L -6.234375 -0.65625 L -6.234375 -1.5 Z M -7.296875 -1.5 \"/>\n</symbol>\n<symbol overflow=\"visible\" id=\"glyph1-3 2747636676837686055\">\n<path style=\"stroke:none;\" d=\"M -5.234375 -2.546875 L -5.234375 -1.6875 L -6.6875 -1.6875 L -6.6875 -0.84375 L -5.234375 -0.84375 L -5.234375 -0.140625 L -4.5625 -0.140625 L -4.5625 -0.84375 L -0.59375 -0.84375 C -0.0625 -0.84375 0.234375 -1.203125 0.234375 -1.859375 C 0.234375 -2.078125 0.203125 -2.265625 0.15625 -2.546875 L -0.546875 -2.546875 C -0.515625 -2.421875 -0.5 -2.3125 -0.5 -2.140625 C -0.5 -1.78125 -0.59375 -1.6875 -0.96875 -1.6875 L -4.5625 -1.6875 L -4.5625 -2.546875 Z M -5.234375 -2.546875 \"/>\n</symbol>\n<symbol overflow=\"visible\" id=\"glyph1-4 2747636676837686055\">\n<path style=\"stroke:none;\" d=\"M -3.78125 -4.375 C -4.8125 -4.375 -5.390625 -3.6875 -5.390625 -2.484375 C -5.390625 -1.265625 -4.765625 -0.46875 -3.796875 -0.46875 C -2.96875 -0.46875 -2.578125 -0.890625 -2.28125 -2.125 L -2.09375 -2.90625 C -1.953125 -3.484375 -1.734375 -3.71875 -1.375 -3.71875 C -0.875 -3.71875 -0.546875 -3.234375 -0.546875 -2.5 C -0.546875 -2.046875 -0.671875 -1.671875 -0.890625 -1.453125 C -1.046875 -1.328125 -1.1875 -1.265625 -1.5625 -1.21875 L -1.5625 -0.34375 C -0.34375 -0.375 0.234375 -1.0625 0.234375 -2.4375 C 0.234375 -3.75 -0.421875 -4.59375 -1.4375 -4.59375 C -2.203125 -4.59375 -2.640625 -4.15625 -2.890625 -3.109375 L -3.078125 -2.3125 C -3.234375 -1.625 -3.453125 -1.34375 -3.828125 -1.34375 C -4.3125 -1.34375 -4.625 -1.765625 -4.625 -2.453125 C -4.625 -3.125 -4.328125 -3.484375 -3.78125 -3.5 Z M -3.78125 -4.375 \"/>\n</symbol>\n<symbol overflow=\"visible\" id=\"glyph2-0 2747636676837686055\">\n<path style=\"stroke:none;\" d=\"\"/>\n</symbol>\n<symbol overflow=\"visible\" id=\"glyph2-1 2747636676837686055\">\n<path style=\"stroke:none;\" d=\"M 38.21875 -1.890625 L 22.515625 -1.890625 L 22.515625 -1.28125 L 31.4375 -1.28125 C 31.234375 -1.09375 30.6875 -0.96875 29.515625 -0.84375 C 27.578125 -0.625 24.5625 -0.5 21.5 -0.5 C 14.9375 -0.5 10.3125 -1.015625 10.3125 -1.734375 C 10.3125 -2.5 14.40625 -2.953125 21.28125 -2.953125 C 24.078125 -2.953125 26.4375 -2.875 28.21875 -2.734375 C 29.34375 -2.65625 29.9375 -2.5625 30.640625 -2.390625 L 38.21875 -2.390625 C 37.25 -3.109375 30.6875 -3.5625 21.234375 -3.5625 C 9.9375 -3.5625 2.25 -2.8125 2.25 -1.734375 C 2.25 -0.671875 10 0.109375 20.59375 0.109375 C 25.859375 0.109375 29.40625 -0.0625 32.40625 -0.453125 L 33.375 0.015625 L 38.21875 0.015625 Z M 38.21875 -1.890625 \"/>\n</symbol>\n<symbol overflow=\"visible\" id=\"glyph3-0 2747636676837686055\">\n<path style=\"stroke:none;\" d=\"\"/>\n</symbol>\n<symbol overflow=\"visible\" id=\"glyph3-1 2747636676837686055\">\n<path style=\"stroke:none;\" d=\"M 38.296875 -7.75 C 38.015625 -8.765625 37.28125 -9.40625 35.546875 -10.0625 C 32.40625 -11.25 27.34375 -11.90625 21.234375 -11.90625 C 9.65625 -11.90625 2.46875 -9.546875 2.46875 -5.75 C 2.46875 -1.984375 9.609375 0.375 21 0.375 C 31.21875 0.375 37.96875 -1.3125 38.46875 -4 L 30.265625 -4 C 29.703125 -2.515625 26.453125 -1.65625 21.234375 -1.65625 C 14.71875 -1.65625 10.890625 -3.171875 10.890625 -5.71875 C 10.890625 -8.3125 14.875 -9.859375 21.5 -9.859375 C 26.390625 -9.859375 29.140625 -9.1875 30.265625 -7.75 Z M 38.296875 -7.75 \"/>\n</symbol>\n<symbol overflow=\"visible\" id=\"glyph4-0 2747636676837686055\">\n<path style=\"stroke:none;\" d=\"\"/>\n</symbol>\n<symbol overflow=\"visible\" id=\"glyph4-1 2747636676837686055\">\n<path style=\"stroke:none;\" d=\"M 26.59375 -4.140625 L 29.140625 0 L 37.328125 0 L 23.9375 -20.53125 L 15.125 -20.53125 L 1.375 0 L 9.5 0 L 12.109375 -4.140625 Z M 24.421875 -7.65625 L 14.328125 -7.65625 L 19.375 -15.6875 Z M 24.421875 -7.65625 \"/>\n</symbol>\n<symbol overflow=\"visible\" id=\"glyph5-0 2747636676837686055\">\n<path style=\"stroke:none;\" d=\"\"/>\n</symbol>\n<symbol overflow=\"visible\" id=\"glyph5-1 2747636676837686055\">\n<path style=\"stroke:none;\" d=\"M 38.359375 -3.296875 L 22.609375 -3.296875 L 22.609375 -2.234375 L 31.5625 -2.234375 C 31.34375 -1.890625 30.8125 -1.6875 29.625 -1.46875 C 27.671875 -1.09375 24.65625 -0.875 21.578125 -0.875 C 15 -0.875 10.359375 -1.765625 10.359375 -3.03125 C 10.359375 -4.34375 14.453125 -5.140625 21.359375 -5.140625 C 24.171875 -5.140625 26.546875 -5.015625 28.328125 -4.78125 C 29.453125 -4.625 30.046875 -4.484375 30.75 -4.15625 L 38.359375 -4.15625 C 37.390625 -5.421875 30.8125 -6.21875 21.3125 -6.21875 C 9.984375 -6.21875 2.265625 -4.921875 2.265625 -3.015625 C 2.265625 -1.15625 10.03125 0.1875 20.671875 0.1875 C 25.953125 0.1875 29.515625 -0.09375 32.53125 -0.78125 L 33.5 0.015625 L 38.359375 0.015625 Z M 38.359375 -3.296875 \"/>\n</symbol>\n<symbol overflow=\"visible\" id=\"glyph6-0 2747636676837686055\">\n<path style=\"stroke:none;\" d=\"\"/>\n</symbol>\n<symbol overflow=\"visible\" id=\"glyph6-1 2747636676837686055\">\n<path style=\"stroke:none;\" d=\"M 38.328125 -4.828125 C 38.046875 -5.46875 37.3125 -5.875 35.578125 -6.28125 C 32.421875 -7.015625 27.375 -7.4375 21.25 -7.4375 C 9.671875 -7.4375 2.46875 -5.953125 2.46875 -3.59375 C 2.46875 -1.234375 9.609375 0.234375 21.015625 0.234375 C 31.25 0.234375 38 -0.828125 38.5 -2.5 L 30.296875 -2.5 C 29.734375 -1.5625 26.46875 -1.03125 21.25 -1.03125 C 14.71875 -1.03125 10.90625 -1.96875 10.90625 -3.578125 C 10.90625 -5.1875 14.890625 -6.15625 21.53125 -6.15625 C 26.421875 -6.15625 29.171875 -5.734375 30.296875 -4.828125 Z M 38.328125 -4.828125 \"/>\n</symbol>\n<symbol overflow=\"visible\" id=\"glyph7-0 2747636676837686055\">\n<path style=\"stroke:none;\" d=\"\"/>\n</symbol>\n<symbol overflow=\"visible\" id=\"glyph7-1 2747636676837686055\">\n<path style=\"stroke:none;\" d=\"M 26.6875 -8.65625 L 29.25 0 L 37.453125 0 L 24.03125 -42.953125 L 15.1875 -42.953125 L 1.390625 0 L 9.53125 0 L 12.140625 -8.65625 Z M 24.515625 -16.03125 L 14.390625 -16.03125 L 19.453125 -32.8125 Z M 24.515625 -16.03125 \"/>\n</symbol>\n<symbol overflow=\"visible\" id=\"glyph8-0 2747636676837686055\">\n<path style=\"stroke:none;\" d=\"\"/>\n</symbol>\n<symbol overflow=\"visible\" id=\"glyph8-1 2747636676837686055\">\n<path style=\"stroke:none;\" d=\"M 23.828125 -1.078125 L 37.015625 -1.078125 L 37.015625 -1.296875 L 0.859375 -1.296875 L 0.859375 -1.078125 L 14.546875 -1.078125 L 14.546875 0 L 23.828125 0 Z M 23.828125 -1.078125 \"/>\n</symbol>\n<symbol overflow=\"visible\" id=\"glyph9-0 2747636676837686055\">\n<path style=\"stroke:none;\" d=\"\"/>\n</symbol>\n<symbol overflow=\"visible\" id=\"glyph9-1 2747636676837686055\">\n<path style=\"stroke:none;\" d=\"M 38.375 -0.703125 L 22.609375 -0.703125 L 22.609375 -0.484375 L 31.578125 -0.484375 C 31.359375 -0.40625 30.8125 -0.359375 29.625 -0.3125 C 27.6875 -0.234375 24.65625 -0.1875 21.59375 -0.1875 C 15 -0.1875 10.359375 -0.375 10.359375 -0.65625 C 10.359375 -0.9375 14.46875 -1.109375 21.375 -1.109375 C 24.171875 -1.109375 26.546875 -1.078125 28.328125 -1.03125 C 29.46875 -1 30.0625 -0.96875 30.765625 -0.90625 L 38.375 -0.90625 C 37.40625 -1.171875 30.8125 -1.34375 21.3125 -1.34375 C 9.984375 -1.34375 2.265625 -1.0625 2.265625 -0.65625 C 2.265625 -0.25 10.03125 0.046875 20.671875 0.046875 C 25.953125 0.046875 29.515625 -0.015625 32.546875 -0.171875 L 33.515625 0 L 38.375 0 Z M 38.375 -0.703125 \"/>\n</symbol>\n<symbol overflow=\"visible\" id=\"glyph10-0 2747636676837686055\">\n<path style=\"stroke:none;\" d=\"\"/>\n</symbol>\n<symbol overflow=\"visible\" id=\"glyph10-1 2747636676837686055\">\n<path style=\"stroke:none;\" d=\"M 38.46875 -6.328125 C 38.1875 -7.15625 37.453125 -7.671875 35.703125 -8.21875 C 32.546875 -9.1875 27.46875 -9.71875 21.328125 -9.71875 C 9.703125 -9.71875 2.484375 -7.796875 2.484375 -4.703125 C 2.484375 -1.609375 9.640625 0.296875 21.09375 0.296875 C 31.359375 0.296875 38.125 -1.078125 38.640625 -3.265625 L 30.40625 -3.265625 C 29.84375 -2.046875 26.5625 -1.359375 21.328125 -1.359375 C 14.78125 -1.359375 10.9375 -2.578125 10.9375 -4.671875 C 10.9375 -6.78125 14.953125 -8.046875 21.609375 -8.046875 C 26.515625 -8.046875 29.28125 -7.5 30.40625 -6.328125 Z M 38.46875 -6.328125 \"/>\n</symbol>\n<symbol overflow=\"visible\" id=\"glyph11-0 2747636676837686055\">\n<path style=\"stroke:none;\" d=\"\"/>\n</symbol>\n<symbol overflow=\"visible\" id=\"glyph11-1 2747636676837686055\">\n<path style=\"stroke:none;\" d=\"M 26.703125 -12.625 L 29.265625 0 L 37.484375 0 L 24.046875 -62.640625 L 15.1875 -62.640625 L 1.390625 0 L 9.546875 0 L 12.15625 -12.625 Z M 24.53125 -23.375 L 14.390625 -23.375 L 19.453125 -47.859375 Z M 24.53125 -23.375 \"/>\n</symbol>\n<symbol overflow=\"visible\" id=\"glyph12-0 2747636676837686055\">\n<path style=\"stroke:none;\" d=\"\"/>\n</symbol>\n<symbol overflow=\"visible\" id=\"glyph12-1 2747636676837686055\">\n<path style=\"stroke:none;\" d=\"M 23.828125 -0.625 L 37.015625 -0.625 L 37.015625 -0.765625 L 0.859375 -0.765625 L 0.859375 -0.625 L 14.546875 -0.625 L 14.546875 0 L 23.828125 0 Z M 23.828125 -0.625 \"/>\n</symbol>\n<symbol overflow=\"visible\" id=\"glyph13-0 2747636676837686055\">\n<path style=\"stroke:none;\" d=\"\"/>\n</symbol>\n<symbol overflow=\"visible\" id=\"glyph13-1 2747636676837686055\">\n<path style=\"stroke:none;\" d=\"M 38.375 -1.5625 L 22.609375 -1.5625 L 22.609375 -1.0625 L 31.578125 -1.0625 C 31.359375 -0.90625 30.8125 -0.796875 29.625 -0.703125 C 27.6875 -0.53125 24.65625 -0.421875 21.59375 -0.421875 C 15 -0.421875 10.359375 -0.84375 10.359375 -1.4375 C 10.359375 -2.078125 14.46875 -2.453125 21.375 -2.453125 C 24.171875 -2.453125 26.546875 -2.390625 28.328125 -2.28125 C 29.46875 -2.203125 30.0625 -2.140625 30.765625 -1.984375 L 38.375 -1.984375 C 37.40625 -2.59375 30.8125 -2.96875 21.3125 -2.96875 C 9.984375 -2.96875 2.265625 -2.34375 2.265625 -1.4375 C 2.265625 -0.546875 10.03125 0.09375 20.671875 0.09375 C 25.953125 0.09375 29.515625 -0.046875 32.546875 -0.375 L 33.515625 0.015625 L 38.375 0.015625 Z M 38.375 -1.5625 \"/>\n</symbol>\n<symbol overflow=\"visible\" id=\"glyph14-0 2747636676837686055\">\n<path style=\"stroke:none;\" d=\"\"/>\n</symbol>\n<symbol overflow=\"visible\" id=\"glyph14-1 2747636676837686055\">\n<path style=\"stroke:none;\" d=\"M 38.453125 -6.203125 C 38.171875 -7.015625 37.4375 -7.53125 35.6875 -8.0625 C 32.53125 -9.015625 27.46875 -9.546875 21.3125 -9.546875 C 9.703125 -9.546875 2.484375 -7.640625 2.484375 -4.609375 C 2.484375 -1.578125 9.640625 0.296875 21.09375 0.296875 C 31.359375 0.296875 38.125 -1.0625 38.625 -3.203125 L 30.390625 -3.203125 C 29.828125 -2.015625 26.5625 -1.328125 21.3125 -1.328125 C 14.78125 -1.328125 10.9375 -2.53125 10.9375 -4.578125 C 10.9375 -6.65625 14.9375 -7.890625 21.59375 -7.890625 C 26.5 -7.890625 29.265625 -7.359375 30.390625 -6.203125 Z M 38.453125 -6.203125 \"/>\n</symbol>\n<symbol overflow=\"visible\" id=\"glyph15-0 2747636676837686055\">\n<path style=\"stroke:none;\" d=\"\"/>\n</symbol>\n<symbol overflow=\"visible\" id=\"glyph15-1 2747636676837686055\">\n<path style=\"stroke:none;\" d=\"M 26.703125 -4.484375 L 29.265625 0 L 37.484375 0 L 24.046875 -22.25 L 15.1875 -22.25 L 1.390625 0 L 9.546875 0 L 12.15625 -4.484375 Z M 24.53125 -8.296875 L 14.390625 -8.296875 L 19.453125 -17 Z M 24.53125 -8.296875 \"/>\n</symbol>\n<symbol overflow=\"visible\" id=\"glyph16-0 2747636676837686055\">\n<path style=\"stroke:none;\" d=\"\"/>\n</symbol>\n<symbol overflow=\"visible\" id=\"glyph16-1 2747636676837686055\">\n<path style=\"stroke:none;\" d=\"M 38.40625 -2.046875 L 22.625 -2.046875 L 22.625 -1.390625 L 31.59375 -1.390625 C 31.390625 -1.1875 30.84375 -1.046875 29.65625 -0.921875 C 27.703125 -0.6875 24.6875 -0.546875 21.609375 -0.546875 C 15.015625 -0.546875 10.375 -1.109375 10.375 -1.890625 C 10.375 -2.71875 14.46875 -3.203125 21.390625 -3.203125 C 24.203125 -3.203125 26.578125 -3.125 28.359375 -2.984375 C 29.5 -2.890625 30.09375 -2.796875 30.78125 -2.59375 L 38.40625 -2.59375 C 37.4375 -3.390625 30.84375 -3.875 21.34375 -3.875 C 10 -3.875 2.265625 -3.0625 2.265625 -1.875 C 2.265625 -0.71875 10.046875 0.125 20.6875 0.125 C 25.984375 0.125 29.546875 -0.0625 32.578125 -0.484375 L 33.546875 0.015625 L 38.40625 0.015625 Z M 38.40625 -2.046875 \"/>\n</symbol>\n<symbol overflow=\"visible\" id=\"glyph17-0 2747636676837686055\">\n<path style=\"stroke:none;\" d=\"\"/>\n</symbol>\n<symbol overflow=\"visible\" id=\"glyph17-1 2747636676837686055\">\n<path style=\"stroke:none;\" d=\"M 38.390625 -8.5 C 38.109375 -9.609375 37.375 -10.3125 35.640625 -11.03125 C 32.484375 -12.34375 27.421875 -13.0625 21.28125 -13.0625 C 9.6875 -13.0625 2.484375 -10.46875 2.484375 -6.3125 C 2.484375 -2.171875 9.625 0.40625 21.0625 0.40625 C 31.296875 0.40625 38.0625 -1.4375 38.5625 -4.390625 L 30.34375 -4.390625 C 29.78125 -2.75 26.515625 -1.8125 21.28125 -1.8125 C 14.75 -1.8125 10.921875 -3.46875 10.921875 -6.28125 C 10.921875 -9.109375 14.921875 -10.796875 21.5625 -10.796875 C 26.453125 -10.796875 29.21875 -10.0625 30.34375 -8.5 Z M 38.390625 -8.5 \"/>\n</symbol>\n<symbol overflow=\"visible\" id=\"glyph18-0 2747636676837686055\">\n<path style=\"stroke:none;\" d=\"\"/>\n</symbol>\n<symbol overflow=\"visible\" id=\"glyph18-1 2747636676837686055\">\n<path style=\"stroke:none;\" d=\"M 26.734375 -4.40625 L 29.296875 0 L 37.515625 0 L 24.0625 -21.875 L 15.203125 -21.875 L 1.390625 0 L 9.546875 0 L 12.171875 -4.40625 Z M 24.546875 -8.171875 L 14.40625 -8.171875 L 19.46875 -16.71875 Z M 24.546875 -8.171875 \"/>\n</symbol>\n<symbol overflow=\"visible\" id=\"glyph19-0 2747636676837686055\">\n<path style=\"stroke:none;\" d=\"\"/>\n</symbol>\n<symbol overflow=\"visible\" id=\"glyph19-1 2747636676837686055\">\n<path style=\"stroke:none;\" d=\"M 23.75 -0.03125 L 36.875 -0.03125 L 36.875 -0.046875 L 0.859375 -0.046875 L 0.859375 -0.03125 L 14.5 -0.03125 L 14.5 0 L 23.75 0 Z M 23.75 -0.03125 \"/>\n</symbol>\n<symbol overflow=\"visible\" id=\"glyph20-0 2747636676837686055\">\n<path style=\"stroke:none;\" d=\"\"/>\n</symbol>\n<symbol overflow=\"visible\" id=\"glyph20-1 2747636676837686055\">\n<path style=\"stroke:none;\" d=\"M 38.34375 -1.03125 L 22.59375 -1.03125 L 22.59375 -0.703125 L 31.546875 -0.703125 C 31.328125 -0.59375 30.796875 -0.53125 29.609375 -0.46875 C 27.65625 -0.34375 24.640625 -0.28125 21.5625 -0.28125 C 14.984375 -0.28125 10.359375 -0.5625 10.359375 -0.953125 C 10.359375 -1.375 14.453125 -1.625 21.359375 -1.625 C 24.15625 -1.625 26.53125 -1.578125 28.3125 -1.5 C 29.4375 -1.453125 30.03125 -1.40625 30.734375 -1.3125 L 38.34375 -1.3125 C 37.375 -1.703125 30.796875 -1.953125 21.296875 -1.953125 C 9.96875 -1.953125 2.265625 -1.546875 2.265625 -0.953125 C 2.265625 -0.359375 10.03125 0.0625 20.65625 0.0625 C 25.9375 0.0625 29.5 -0.03125 32.515625 -0.25 L 33.484375 0 L 38.34375 0 Z M 38.34375 -1.03125 \"/>\n</symbol>\n<symbol overflow=\"visible\" id=\"glyph21-0 2747636676837686055\">\n<path style=\"stroke:none;\" d=\"\"/>\n</symbol>\n<symbol overflow=\"visible\" id=\"glyph21-1 2747636676837686055\">\n<path style=\"stroke:none;\" d=\"M 38.3125 -8.0625 C 38.03125 -9.109375 37.3125 -9.78125 35.5625 -10.46875 C 32.421875 -11.703125 27.359375 -12.390625 21.234375 -12.390625 C 9.671875 -12.390625 2.46875 -9.9375 2.46875 -5.984375 C 2.46875 -2.0625 9.609375 0.390625 21.015625 0.390625 C 31.234375 0.390625 37.984375 -1.375 38.484375 -4.15625 L 30.28125 -4.15625 C 29.71875 -2.609375 26.46875 -1.71875 21.234375 -1.71875 C 14.71875 -1.71875 10.90625 -3.296875 10.90625 -5.953125 C 10.90625 -8.640625 14.890625 -10.25 21.515625 -10.25 C 26.40625 -10.25 29.15625 -9.546875 30.28125 -8.0625 Z M 38.3125 -8.0625 \"/>\n</symbol>\n<symbol overflow=\"visible\" id=\"glyph22-0 2747636676837686055\">\n<path style=\"stroke:none;\" d=\"\"/>\n</symbol>\n<symbol overflow=\"visible\" id=\"glyph22-1 2747636676837686055\">\n<path style=\"stroke:none;\" d=\"M 26.6875 -10.5625 L 29.25 0 L 37.453125 0 L 24.015625 -52.359375 L 15.1875 -52.359375 L 1.390625 0 L 9.53125 0 L 12.140625 -10.5625 Z M 24.5 -19.53125 L 14.375 -19.53125 L 19.4375 -40.015625 Z M 24.5 -19.53125 \"/>\n</symbol>\n<symbol overflow=\"visible\" id=\"glyph23-0 2747636676837686055\">\n<path style=\"stroke:none;\" d=\"\"/>\n</symbol>\n<symbol overflow=\"visible\" id=\"glyph23-1 2747636676837686055\">\n<path style=\"stroke:none;\" d=\"M 23.78125 -0.59375 L 36.921875 -0.59375 L 36.921875 -0.703125 L 0.859375 -0.703125 L 0.859375 -0.59375 L 14.515625 -0.59375 L 14.515625 0 L 23.78125 0 Z M 23.78125 -0.59375 \"/>\n</symbol>\n<symbol overflow=\"visible\" id=\"glyph24-0 2747636676837686055\">\n<path style=\"stroke:none;\" d=\"\"/>\n</symbol>\n<symbol overflow=\"visible\" id=\"glyph24-1 2747636676837686055\">\n<path style=\"stroke:none;\" d=\"M 38.390625 -1.609375 L 22.625 -1.609375 L 22.625 -1.09375 L 31.578125 -1.09375 C 31.359375 -0.921875 30.828125 -0.828125 29.640625 -0.71875 C 27.6875 -0.53125 24.671875 -0.4375 21.59375 -0.4375 C 15 -0.4375 10.359375 -0.859375 10.359375 -1.484375 C 10.359375 -2.125 14.46875 -2.515625 21.375 -2.515625 C 24.1875 -2.515625 26.5625 -2.453125 28.34375 -2.34375 C 29.46875 -2.265625 30.0625 -2.1875 30.765625 -2.03125 L 38.390625 -2.03125 C 37.40625 -2.65625 30.828125 -3.046875 21.328125 -3.046875 C 9.984375 -3.046875 2.265625 -2.40625 2.265625 -1.46875 C 2.265625 -0.5625 10.046875 0.09375 20.671875 0.09375 C 25.96875 0.09375 29.53125 -0.046875 32.546875 -0.390625 L 33.53125 0.015625 L 38.390625 0.015625 Z M 38.390625 -1.609375 \"/>\n</symbol>\n<symbol overflow=\"visible\" id=\"glyph25-0 2747636676837686055\">\n<path style=\"stroke:none;\" d=\"\"/>\n</symbol>\n<symbol overflow=\"visible\" id=\"glyph25-1 2747636676837686055\">\n<path style=\"stroke:none;\" d=\"M 38.359375 -3.890625 C 38.078125 -4.40625 37.34375 -4.71875 35.609375 -5.0625 C 32.453125 -5.65625 27.390625 -5.984375 21.265625 -5.984375 C 9.671875 -5.984375 2.46875 -4.796875 2.46875 -2.890625 C 2.46875 -1 9.625 0.1875 21.03125 0.1875 C 31.28125 0.1875 38.03125 -0.65625 38.53125 -2.015625 L 30.3125 -2.015625 C 29.75 -1.265625 26.5 -0.828125 21.265625 -0.828125 C 14.734375 -0.828125 10.90625 -1.59375 10.90625 -2.875 C 10.90625 -4.171875 14.90625 -4.953125 21.546875 -4.953125 C 26.4375 -4.953125 29.1875 -4.609375 30.3125 -3.890625 Z M 38.359375 -3.890625 \"/>\n</symbol>\n<symbol overflow=\"visible\" id=\"glyph26-0 2747636676837686055\">\n<path style=\"stroke:none;\" d=\"\"/>\n</symbol>\n<symbol overflow=\"visible\" id=\"glyph26-1 2747636676837686055\">\n<path style=\"stroke:none;\" d=\"M 26.71875 -2.625 L 29.28125 0 L 37.484375 0 L 24.046875 -12.984375 L 15.203125 -12.984375 L 1.390625 0 L 9.546875 0 L 12.15625 -2.625 Z M 24.53125 -4.84375 L 14.40625 -4.84375 L 19.46875 -9.921875 Z M 24.53125 -4.84375 \"/>\n</symbol>\n<symbol overflow=\"visible\" id=\"glyph27-0 2747636676837686055\">\n<path style=\"stroke:none;\" d=\"\"/>\n</symbol>\n<symbol overflow=\"visible\" id=\"glyph27-1 2747636676837686055\">\n<path style=\"stroke:none;\" d=\"M 23.84375 -0.359375 L 37.03125 -0.359375 L 37.03125 -0.421875 L 0.859375 -0.421875 L 0.859375 -0.359375 L 14.546875 -0.359375 L 14.546875 0 L 23.84375 0 Z M 23.84375 -0.359375 \"/>\n</symbol>\n<symbol overflow=\"visible\" id=\"glyph28-0 2747636676837686055\">\n<path style=\"stroke:none;\" d=\"\"/>\n</symbol>\n<symbol overflow=\"visible\" id=\"glyph28-1 2747636676837686055\">\n<path style=\"stroke:none;\" d=\"M 38.390625 -0.84375 L 22.625 -0.84375 L 22.625 -0.578125 L 31.578125 -0.578125 C 31.359375 -0.484375 30.828125 -0.4375 29.640625 -0.375 C 27.6875 -0.28125 24.671875 -0.21875 21.59375 -0.21875 C 15 -0.21875 10.359375 -0.453125 10.359375 -0.78125 C 10.359375 -1.109375 14.46875 -1.328125 21.375 -1.328125 C 24.1875 -1.328125 26.5625 -1.296875 28.34375 -1.234375 C 29.46875 -1.1875 30.0625 -1.15625 30.765625 -1.0625 L 38.390625 -1.0625 C 37.40625 -1.390625 30.828125 -1.59375 21.328125 -1.59375 C 9.984375 -1.59375 2.265625 -1.265625 2.265625 -0.78125 C 2.265625 -0.296875 10.046875 0.046875 20.671875 0.046875 C 25.96875 0.046875 29.53125 -0.03125 32.546875 -0.203125 L 33.53125 0 L 38.390625 0 Z M 38.390625 -0.84375 \"/>\n</symbol>\n<symbol overflow=\"visible\" id=\"glyph29-0 2747636676837686055\">\n<path style=\"stroke:none;\" d=\"\"/>\n</symbol>\n<symbol overflow=\"visible\" id=\"glyph29-1 2747636676837686055\">\n<path style=\"stroke:none;\" d=\"M 26.71875 -0.734375 L 29.28125 0 L 37.484375 0 L 24.046875 -3.65625 L 15.203125 -3.65625 L 1.390625 0 L 9.546875 0 L 12.15625 -0.734375 Z M 24.53125 -1.359375 L 14.40625 -1.359375 L 19.46875 -2.796875 Z M 24.53125 -1.359375 \"/>\n</symbol>\n<symbol overflow=\"visible\" id=\"glyph30-0 2747636676837686055\">\n<path style=\"stroke:none;\" d=\"\"/>\n</symbol>\n<symbol overflow=\"visible\" id=\"glyph30-1 2747636676837686055\">\n<path style=\"stroke:none;\" d=\"M 38.46875 -2.40625 C 38.1875 -2.71875 37.453125 -2.921875 35.703125 -3.125 C 32.546875 -3.5 27.46875 -3.703125 21.328125 -3.703125 C 9.703125 -3.703125 2.484375 -2.96875 2.484375 -1.796875 C 2.484375 -0.609375 9.640625 0.109375 21.09375 0.109375 C 31.359375 0.109375 38.125 -0.40625 38.640625 -1.25 L 30.40625 -1.25 C 29.84375 -0.78125 26.5625 -0.515625 21.328125 -0.515625 C 14.78125 -0.515625 10.9375 -0.984375 10.9375 -1.78125 C 10.9375 -2.578125 14.953125 -3.0625 21.609375 -3.0625 C 26.515625 -3.0625 29.28125 -2.859375 30.40625 -2.40625 Z M 38.46875 -2.40625 \"/>\n</symbol>\n<symbol overflow=\"visible\" id=\"glyph31-0 2747636676837686055\">\n<path style=\"stroke:none;\" d=\"\"/>\n</symbol>\n<symbol overflow=\"visible\" id=\"glyph31-1 2747636676837686055\">\n<path style=\"stroke:none;\" d=\"M 38.328125 -3.4375 L 22.59375 -3.4375 L 22.59375 -2.34375 L 31.53125 -2.34375 C 31.3125 -1.984375 30.78125 -1.765625 29.59375 -1.53125 C 27.65625 -1.15625 24.640625 -0.921875 21.5625 -0.921875 C 14.984375 -0.921875 10.34375 -1.859375 10.34375 -3.171875 C 10.34375 -4.546875 14.453125 -5.390625 21.34375 -5.390625 C 24.15625 -5.390625 26.515625 -5.25 28.296875 -5 C 29.4375 -4.84375 30.03125 -4.6875 30.71875 -4.359375 L 38.328125 -4.359375 C 37.359375 -5.6875 30.78125 -6.5 21.296875 -6.5 C 9.96875 -6.5 2.265625 -5.140625 2.265625 -3.15625 C 2.265625 -1.21875 10.03125 0.203125 20.640625 0.203125 C 25.921875 0.203125 29.484375 -0.109375 32.5 -0.828125 L 33.46875 0.015625 L 38.328125 0.015625 Z M 38.328125 -3.4375 \"/>\n</symbol>\n<symbol overflow=\"visible\" id=\"glyph32-0 2747636676837686055\">\n<path style=\"stroke:none;\" d=\"\"/>\n</symbol>\n<symbol overflow=\"visible\" id=\"glyph32-1 2747636676837686055\">\n<path style=\"stroke:none;\" d=\"M 38.3125 -4.3125 C 38.03125 -4.875 37.296875 -5.234375 35.5625 -5.609375 C 32.40625 -6.265625 27.359375 -6.640625 21.234375 -6.640625 C 9.65625 -6.640625 2.46875 -5.3125 2.46875 -3.203125 C 2.46875 -1.09375 9.609375 0.203125 21.015625 0.203125 C 31.234375 0.203125 37.96875 -0.734375 38.484375 -2.234375 L 30.28125 -2.234375 C 29.71875 -1.390625 26.453125 -0.921875 21.234375 -0.921875 C 14.71875 -0.921875 10.890625 -1.765625 10.890625 -3.1875 C 10.890625 -4.625 14.890625 -5.484375 21.515625 -5.484375 C 26.40625 -5.484375 29.15625 -5.109375 30.28125 -4.3125 Z M 38.3125 -4.3125 \"/>\n</symbol>\n<symbol overflow=\"visible\" id=\"glyph33-0 2747636676837686055\">\n<path style=\"stroke:none;\" d=\"\"/>\n</symbol>\n<symbol overflow=\"visible\" id=\"glyph33-1 2747636676837686055\">\n<path style=\"stroke:none;\" d=\"M 26.671875 -9.859375 L 29.234375 0 L 37.4375 0 L 24.015625 -48.890625 L 15.171875 -48.890625 L 1.390625 0 L 9.53125 0 L 12.140625 -9.859375 Z M 24.5 -18.234375 L 14.375 -18.234375 L 19.4375 -37.359375 Z M 24.5 -18.234375 \"/>\n</symbol>\n<symbol overflow=\"visible\" id=\"glyph34-0 2747636676837686055\">\n<path style=\"stroke:none;\" d=\"\"/>\n</symbol>\n<symbol overflow=\"visible\" id=\"glyph34-1 2747636676837686055\">\n<path style=\"stroke:none;\" d=\"M 23.828125 -5.3125 L 37.015625 -5.3125 L 37.015625 -6.40625 L 0.859375 -6.40625 L 0.859375 -5.3125 L 14.546875 -5.3125 L 14.546875 0 L 23.828125 0 Z M 23.828125 -5.3125 \"/>\n</symbol>\n<symbol overflow=\"visible\" id=\"glyph35-0 2747636676837686055\">\n<path style=\"stroke:none;\" d=\"\"/>\n</symbol>\n<symbol overflow=\"visible\" id=\"glyph35-1 2747636676837686055\">\n<path style=\"stroke:none;\" d=\"M 38.46875 -5.015625 C 38.1875 -5.671875 37.453125 -6.09375 35.703125 -6.515625 C 32.546875 -7.28125 27.46875 -7.71875 21.328125 -7.71875 C 9.703125 -7.71875 2.484375 -6.1875 2.484375 -3.71875 C 2.484375 -1.28125 9.640625 0.234375 21.09375 0.234375 C 31.359375 0.234375 38.125 -0.859375 38.640625 -2.59375 L 30.40625 -2.59375 C 29.84375 -1.625 26.5625 -1.078125 21.328125 -1.078125 C 14.78125 -1.078125 10.9375 -2.046875 10.9375 -3.703125 C 10.9375 -5.375 14.953125 -6.375 21.609375 -6.375 C 26.515625 -6.375 29.28125 -5.9375 30.40625 -5.015625 Z M 38.46875 -5.015625 \"/>\n</symbol>\n<symbol overflow=\"visible\" id=\"glyph36-0 2747636676837686055\">\n<path style=\"stroke:none;\" d=\"\"/>\n</symbol>\n<symbol overflow=\"visible\" id=\"glyph36-1 2747636676837686055\">\n<path style=\"stroke:none;\" d=\"M 26.703125 -2.109375 L 29.265625 0 L 37.484375 0 L 24.046875 -10.46875 L 15.1875 -10.46875 L 1.390625 0 L 9.546875 0 L 12.15625 -2.109375 Z M 24.53125 -3.90625 L 14.390625 -3.90625 L 19.453125 -8 Z M 24.53125 -3.90625 \"/>\n</symbol>\n<symbol overflow=\"visible\" id=\"glyph37-0 2747636676837686055\">\n<path style=\"stroke:none;\" d=\"\"/>\n</symbol>\n<symbol overflow=\"visible\" id=\"glyph37-1 2747636676837686055\">\n<path style=\"stroke:none;\" d=\"M 10.625 -0.921875 L 16.515625 -0.921875 L 16.515625 -1.109375 L 0.390625 -1.109375 L 0.390625 -0.921875 L 6.484375 -0.921875 L 6.484375 0 L 10.625 0 Z M 10.625 -0.921875 \"/>\n</symbol>\n<symbol overflow=\"visible\" id=\"glyph38-0 2747636676837686055\">\n<path style=\"stroke:none;\" d=\"\"/>\n</symbol>\n<symbol overflow=\"visible\" id=\"glyph38-1 2747636676837686055\">\n<path style=\"stroke:none;\" d=\"M 17.140625 -2.125 L 10.109375 -2.125 L 10.109375 -1.453125 L 14.109375 -1.453125 C 14 -1.21875 13.765625 -1.09375 13.234375 -0.953125 C 12.375 -0.703125 11.015625 -0.5625 9.640625 -0.5625 C 6.703125 -0.5625 4.625 -1.140625 4.625 -1.953125 C 4.625 -2.8125 6.46875 -3.328125 9.546875 -3.328125 C 10.796875 -3.328125 11.859375 -3.25 12.65625 -3.078125 C 13.15625 -2.984375 13.421875 -2.890625 13.75 -2.6875 L 17.140625 -2.6875 C 16.703125 -3.515625 13.765625 -4.015625 9.515625 -4.015625 C 4.453125 -4.015625 1.015625 -3.171875 1.015625 -1.953125 C 1.015625 -0.75 4.484375 0.125 9.234375 0.125 C 11.59375 0.125 13.1875 -0.0625 14.53125 -0.515625 L 14.96875 0.015625 L 17.140625 0.015625 Z M 17.140625 -2.125 \"/>\n</symbol>\n<symbol overflow=\"visible\" id=\"glyph39-0 2747636676837686055\">\n<path style=\"stroke:none;\" d=\"\"/>\n</symbol>\n<symbol overflow=\"visible\" id=\"glyph39-1 2747636676837686055\">\n<path style=\"stroke:none;\" d=\"M 11.953125 -0.875 L 13.09375 0 L 16.765625 0 L 10.75 -4.3125 L 6.796875 -4.3125 L 0.625 0 L 4.265625 0 L 5.4375 -0.875 Z M 10.96875 -1.609375 L 6.4375 -1.609375 L 8.703125 -3.296875 Z M 10.96875 -1.609375 \"/>\n</symbol>\n<symbol overflow=\"visible\" id=\"glyph40-0 2747636676837686055\">\n<path style=\"stroke:none;\" d=\"\"/>\n</symbol>\n<symbol overflow=\"visible\" id=\"glyph40-1 2747636676837686055\">\n<path style=\"stroke:none;\" d=\"M 13.921875 0 L 18 0 L 18 -13.390625 L 13.921875 -13.390625 L 13.921875 -4.28125 L 6.046875 -13.390625 L 1.859375 -13.390625 L 1.859375 0 L 5.9375 0 L 5.9375 -9.265625 Z M 13.921875 0 \"/>\n</symbol>\n<symbol overflow=\"visible\" id=\"glyph41-0 2747636676837686055\">\n<path style=\"stroke:none;\" d=\"\"/>\n</symbol>\n<symbol overflow=\"visible\" id=\"glyph41-1 2747636676837686055\">\n<path style=\"stroke:none;\" d=\"M 30.765625 0 L 39.796875 0 L 39.796875 -0.171875 L 30.765625 -0.171875 L 30.765625 -0.046875 L 13.375 -0.171875 L 4.09375 -0.171875 L 4.09375 0 L 13.125 0 L 13.125 -0.109375 Z M 30.765625 0 \"/>\n</symbol>\n<symbol overflow=\"visible\" id=\"glyph42-0 2747636676837686055\">\n<path style=\"stroke:none;\" d=\"\"/>\n</symbol>\n<symbol overflow=\"visible\" id=\"glyph42-1 2747636676837686055\">\n<path style=\"stroke:none;\" d=\"M 37.875 -0.078125 L 22.3125 -0.078125 L 22.3125 -0.0625 L 31.15625 -0.0625 C 30.953125 -0.046875 30.421875 -0.046875 29.25 -0.03125 C 27.328125 -0.03125 24.34375 -0.015625 21.3125 -0.015625 C 14.8125 -0.015625 10.234375 -0.046875 10.234375 -0.078125 C 10.234375 -0.109375 14.28125 -0.125 21.09375 -0.125 C 23.859375 -0.125 26.203125 -0.125 27.96875 -0.125 C 29.078125 -0.109375 29.671875 -0.109375 30.359375 -0.109375 L 37.875 -0.109375 C 36.90625 -0.140625 30.421875 -0.15625 21.046875 -0.15625 C 9.859375 -0.15625 2.234375 -0.125 2.234375 -0.078125 C 2.234375 -0.03125 9.90625 0 20.40625 0 C 25.625 0 29.140625 0 32.125 -0.015625 L 33.078125 0 L 37.875 0 Z M 37.875 -0.078125 \"/>\n</symbol>\n<symbol overflow=\"visible\" id=\"glyph43-0 2747636676837686055\">\n<path style=\"stroke:none;\" d=\"\"/>\n</symbol>\n<symbol overflow=\"visible\" id=\"glyph43-1 2747636676837686055\">\n<path style=\"stroke:none;\" d=\"M 23.546875 -2.4375 L 36.578125 -2.4375 L 36.578125 -2.9375 L 0.859375 -2.9375 L 0.859375 -2.4375 L 14.375 -2.4375 L 14.375 0 L 23.546875 0 Z M 23.546875 -2.4375 \"/>\n</symbol>\n<symbol overflow=\"visible\" id=\"glyph44-0 2747636676837686055\">\n<path style=\"stroke:none;\" d=\"\"/>\n</symbol>\n<symbol overflow=\"visible\" id=\"glyph44-1 2747636676837686055\">\n<path style=\"stroke:none;\" d=\"M 37.953125 -6.4375 C 37.671875 -7.265625 36.953125 -7.8125 35.21875 -8.359375 C 32.109375 -9.34375 27.09375 -9.890625 21.03125 -9.890625 C 9.5625 -9.890625 2.453125 -7.921875 2.453125 -4.78125 C 2.453125 -1.640625 9.515625 0.3125 20.8125 0.3125 C 30.9375 0.3125 37.609375 -1.09375 38.109375 -3.328125 L 29.984375 -3.328125 C 29.4375 -2.078125 26.203125 -1.375 21.03125 -1.375 C 14.578125 -1.375 10.796875 -2.625 10.796875 -4.75 C 10.796875 -6.90625 14.75 -8.1875 21.3125 -8.1875 C 26.15625 -8.1875 28.875 -7.625 29.984375 -6.4375 Z M 37.953125 -6.4375 \"/>\n</symbol>\n<symbol overflow=\"visible\" id=\"glyph45-0 2747636676837686055\">\n<path style=\"stroke:none;\" d=\"\"/>\n</symbol>\n<symbol overflow=\"visible\" id=\"glyph45-1 2747636676837686055\">\n<path style=\"stroke:none;\" d=\"M 26.4375 -4.484375 L 28.96875 0 L 37.09375 0 L 23.796875 -22.203125 L 15.03125 -22.203125 L 1.375 0 L 9.4375 0 L 12.03125 -4.484375 Z M 24.265625 -8.28125 L 14.25 -8.28125 L 19.265625 -16.96875 Z M 24.265625 -8.28125 \"/>\n</symbol>\n<symbol overflow=\"visible\" id=\"glyph46-0 2747636676837686055\">\n<path style=\"stroke:none;\" d=\"\"/>\n</symbol>\n<symbol overflow=\"visible\" id=\"glyph46-1 2747636676837686055\">\n<path style=\"stroke:none;\" d=\"M 38.359375 -0.046875 L 22.609375 -0.046875 L 22.609375 -0.03125 L 31.5625 -0.03125 C 31.34375 -0.015625 30.8125 -0.015625 29.625 -0.015625 C 27.671875 -0.015625 24.65625 -0.015625 21.578125 -0.015625 C 15 -0.015625 10.359375 -0.015625 10.359375 -0.03125 C 10.359375 -0.046875 14.453125 -0.0625 21.359375 -0.0625 C 24.171875 -0.0625 26.546875 -0.0625 28.328125 -0.0625 C 29.453125 -0.0625 30.046875 -0.0625 30.75 -0.046875 L 38.359375 -0.046875 C 37.390625 -0.0625 30.8125 -0.078125 21.3125 -0.078125 C 9.984375 -0.078125 2.265625 -0.0625 2.265625 -0.03125 C 2.265625 -0.015625 10.03125 0 20.671875 0 C 25.953125 0 29.515625 0 32.53125 -0.015625 L 33.5 0 L 38.359375 0 Z M 38.359375 -0.046875 \"/>\n</symbol>\n<symbol overflow=\"visible\" id=\"glyph47-0 2747636676837686055\">\n<path style=\"stroke:none;\" d=\"\"/>\n</symbol>\n<symbol overflow=\"visible\" id=\"glyph47-1 2747636676837686055\">\n<path style=\"stroke:none;\" d=\"M 38.453125 -16.609375 C 38.171875 -18.78125 37.4375 -20.15625 35.6875 -21.5625 C 32.53125 -24.125 27.46875 -25.53125 21.3125 -25.53125 C 9.703125 -25.53125 2.484375 -20.46875 2.484375 -12.328125 C 2.484375 -4.234375 9.640625 0.796875 21.09375 0.796875 C 31.359375 0.796875 38.125 -2.828125 38.625 -8.578125 L 30.390625 -8.578125 C 29.828125 -5.375 26.5625 -3.546875 21.3125 -3.546875 C 14.78125 -3.546875 10.9375 -6.78125 10.9375 -12.265625 C 10.9375 -17.8125 14.9375 -21.125 21.59375 -21.125 C 26.5 -21.125 29.265625 -19.671875 30.390625 -16.609375 Z M 38.453125 -16.609375 \"/>\n</symbol>\n<symbol overflow=\"visible\" id=\"glyph48-0 2747636676837686055\">\n<path style=\"stroke:none;\" d=\"\"/>\n</symbol>\n<symbol overflow=\"visible\" id=\"glyph48-1 2747636676837686055\">\n<path style=\"stroke:none;\" d=\"M 26.703125 -6.859375 L 29.265625 0 L 37.46875 0 L 24.03125 -34 L 15.1875 -34 L 1.390625 0 L 9.546875 0 L 12.15625 -6.859375 Z M 24.515625 -12.6875 L 14.390625 -12.6875 L 19.453125 -25.984375 Z M 24.515625 -12.6875 \"/>\n</symbol>\n<symbol overflow=\"visible\" id=\"glyph49-0 2747636676837686055\">\n<path style=\"stroke:none;\" d=\"\"/>\n</symbol>\n<symbol overflow=\"visible\" id=\"glyph49-1 2747636676837686055\">\n<path style=\"stroke:none;\" d=\"M 23.8125 -0.328125 L 36.984375 -0.328125 L 36.984375 -0.40625 L 0.859375 -0.40625 L 0.859375 -0.328125 L 14.53125 -0.328125 L 14.53125 0 L 23.8125 0 Z M 23.8125 -0.328125 \"/>\n</symbol>\n<symbol overflow=\"visible\" id=\"glyph50-0 2747636676837686055\">\n<path style=\"stroke:none;\" d=\"\"/>\n</symbol>\n<symbol overflow=\"visible\" id=\"glyph50-1 2747636676837686055\">\n<path style=\"stroke:none;\" d=\"M 38.34375 -2.46875 L 22.59375 -2.46875 L 22.59375 -1.6875 L 31.546875 -1.6875 C 31.328125 -1.421875 30.796875 -1.265625 29.609375 -1.109375 C 27.65625 -0.828125 24.640625 -0.65625 21.5625 -0.65625 C 14.984375 -0.65625 10.359375 -1.328125 10.359375 -2.28125 C 10.359375 -3.265625 14.453125 -3.875 21.359375 -3.875 C 24.15625 -3.875 26.53125 -3.78125 28.3125 -3.59375 C 29.4375 -3.484375 30.03125 -3.375 30.734375 -3.125 L 38.34375 -3.125 C 37.375 -4.078125 30.796875 -4.671875 21.296875 -4.671875 C 9.96875 -4.671875 2.265625 -3.703125 2.265625 -2.265625 C 2.265625 -0.875 10.03125 0.140625 20.65625 0.140625 C 25.9375 0.140625 29.5 -0.078125 32.515625 -0.59375 L 33.484375 0.015625 L 38.34375 0.015625 Z M 38.34375 -2.46875 \"/>\n</symbol>\n<symbol overflow=\"visible\" id=\"glyph51-0 2747636676837686055\">\n<path style=\"stroke:none;\" d=\"\"/>\n</symbol>\n<symbol overflow=\"visible\" id=\"glyph51-1 2747636676837686055\">\n<path style=\"stroke:none;\" d=\"M 38.421875 -5.578125 C 38.140625 -6.3125 37.40625 -6.765625 35.671875 -7.25 C 32.515625 -8.109375 27.4375 -8.578125 21.296875 -8.578125 C 9.6875 -8.578125 2.484375 -6.875 2.484375 -4.140625 C 2.484375 -1.421875 9.640625 0.265625 21.078125 0.265625 C 31.328125 0.265625 38.09375 -0.953125 38.59375 -2.890625 L 30.375 -2.890625 C 29.8125 -1.8125 26.53125 -1.1875 21.296875 -1.1875 C 14.765625 -1.1875 10.9375 -2.28125 10.9375 -4.125 C 10.9375 -5.984375 14.9375 -7.09375 21.578125 -7.09375 C 26.484375 -7.09375 29.25 -6.609375 30.375 -5.578125 Z M 38.421875 -5.578125 \"/>\n</symbol>\n<symbol overflow=\"visible\" id=\"glyph52-0 2747636676837686055\">\n<path style=\"stroke:none;\" d=\"\"/>\n</symbol>\n<symbol overflow=\"visible\" id=\"glyph52-1 2747636676837686055\">\n<path style=\"stroke:none;\" d=\"M 26.6875 -7.703125 L 29.25 0 L 37.453125 0 L 24.015625 -38.234375 L 15.1875 -38.234375 L 1.390625 0 L 9.53125 0 L 12.140625 -7.703125 Z M 24.5 -14.265625 L 14.375 -14.265625 L 19.4375 -29.203125 Z M 24.5 -14.265625 \"/>\n</symbol>\n</g>\n</defs>\n<g id=\"surface1\">\n<path style=\"fill:none;stroke-width:2.08333;stroke-linecap:butt;stroke-linejoin:miter;stroke:rgb(0%,0%,0%);stroke-opacity:1;stroke-miterlimit:10;\" d=\"M 110.416667 56.542969 L 131.25 56.542969 L 131.25 833.333333 \" transform=\"matrix(0.24,0,0,-0.24,0,206)\"/>\n<g style=\"fill:rgb(0%,0%,0%);fill-opacity:1;\">\n  <use xlink:href=\"#glyph0-1 2747636676837686055\" x=\"14.880912\" y=\"195.338791\"/>\n  <use xlink:href=\"#glyph0-2 2747636676837686055\" x=\"19.328915\" y=\"195.338791\"/>\n  <use xlink:href=\"#glyph0-1 2747636676837686055\" x=\"21.552917\" y=\"195.338791\"/>\n</g>\n<path style=\"fill:none;stroke-width:2.08333;stroke-linecap:butt;stroke-linejoin:miter;stroke:rgb(0%,0%,0%);stroke-opacity:1;stroke-miterlimit:10;\" d=\"M 110.416667 56.542969 L 131.25 56.542969 \" transform=\"matrix(0.24,0,0,-0.24,0,206)\"/>\n<g style=\"fill:rgb(0%,0%,0%);fill-opacity:1;\">\n  <use xlink:href=\"#glyph0-3 2747636676837686055\" x=\"14.880912\" y=\"123.217734\"/>\n  <use xlink:href=\"#glyph0-2 2747636676837686055\" x=\"19.328915\" y=\"123.217734\"/>\n  <use xlink:href=\"#glyph0-1 2747636676837686055\" x=\"21.552917\" y=\"123.217734\"/>\n</g>\n<path style=\"fill:none;stroke-width:2.08333;stroke-linecap:butt;stroke-linejoin:miter;stroke:rgb(0%,0%,0%);stroke-opacity:1;stroke-miterlimit:10;\" d=\"M 110.416667 357.047526 L 131.25 357.047526 \" transform=\"matrix(0.24,0,0,-0.24,0,206)\"/>\n<g style=\"fill:rgb(0%,0%,0%);fill-opacity:1;\">\n  <use xlink:href=\"#glyph0-4 2747636676837686055\" x=\"14.880912\" y=\"51.097876\"/>\n  <use xlink:href=\"#glyph0-2 2747636676837686055\" x=\"19.328915\" y=\"51.097876\"/>\n  <use xlink:href=\"#glyph0-1 2747636676837686055\" x=\"21.552917\" y=\"51.097876\"/>\n</g>\n<path style=\"fill:none;stroke-width:2.08333;stroke-linecap:butt;stroke-linejoin:miter;stroke:rgb(0%,0%,0%);stroke-opacity:1;stroke-miterlimit:10;\" d=\"M 110.416667 657.552083 L 131.25 657.552083 \" transform=\"matrix(0.24,0,0,-0.24,0,206)\"/>\n<path style=\"fill:none;stroke-width:2.08333;stroke-linecap:butt;stroke-linejoin:miter;stroke:rgb(0%,0%,0%);stroke-opacity:1;stroke-miterlimit:10;\" d=\"M 131.25 56.542969 L 120.833333 56.542969 \" transform=\"matrix(0.24,0,0,-0.24,0,206)\"/>\n<path style=\"fill:none;stroke-width:2.08333;stroke-linecap:butt;stroke-linejoin:miter;stroke:rgb(0%,0%,0%);stroke-opacity:1;stroke-miterlimit:10;\" d=\"M 131.25 116.650391 L 120.833333 116.650391 \" transform=\"matrix(0.24,0,0,-0.24,0,206)\"/>\n<path style=\"fill:none;stroke-width:2.08333;stroke-linecap:butt;stroke-linejoin:miter;stroke:rgb(0%,0%,0%);stroke-opacity:1;stroke-miterlimit:10;\" d=\"M 131.25 176.757812 L 120.833333 176.757812 \" transform=\"matrix(0.24,0,0,-0.24,0,206)\"/>\n<path style=\"fill:none;stroke-width:2.08333;stroke-linecap:butt;stroke-linejoin:miter;stroke:rgb(0%,0%,0%);stroke-opacity:1;stroke-miterlimit:10;\" d=\"M 131.25 236.848958 L 120.833333 236.848958 \" transform=\"matrix(0.24,0,0,-0.24,0,206)\"/>\n<path style=\"fill:none;stroke-width:2.08333;stroke-linecap:butt;stroke-linejoin:miter;stroke:rgb(0%,0%,0%);stroke-opacity:1;stroke-miterlimit:10;\" d=\"M 131.25 296.95638 L 120.833333 296.95638 \" transform=\"matrix(0.24,0,0,-0.24,0,206)\"/>\n<path style=\"fill:none;stroke-width:2.08333;stroke-linecap:butt;stroke-linejoin:miter;stroke:rgb(0%,0%,0%);stroke-opacity:1;stroke-miterlimit:10;\" d=\"M 131.25 357.047526 L 120.833333 357.047526 \" transform=\"matrix(0.24,0,0,-0.24,0,206)\"/>\n<path style=\"fill:none;stroke-width:2.08333;stroke-linecap:butt;stroke-linejoin:miter;stroke:rgb(0%,0%,0%);stroke-opacity:1;stroke-miterlimit:10;\" d=\"M 131.25 417.154948 L 120.833333 417.154948 \" transform=\"matrix(0.24,0,0,-0.24,0,206)\"/>\n<path style=\"fill:none;stroke-width:2.08333;stroke-linecap:butt;stroke-linejoin:miter;stroke:rgb(0%,0%,0%);stroke-opacity:1;stroke-miterlimit:10;\" d=\"M 131.25 477.246094 L 120.833333 477.246094 \" transform=\"matrix(0.24,0,0,-0.24,0,206)\"/>\n<path style=\"fill:none;stroke-width:2.08333;stroke-linecap:butt;stroke-linejoin:miter;stroke:rgb(0%,0%,0%);stroke-opacity:1;stroke-miterlimit:10;\" d=\"M 131.25 537.353516 L 120.833333 537.353516 \" transform=\"matrix(0.24,0,0,-0.24,0,206)\"/>\n<path style=\"fill:none;stroke-width:2.08333;stroke-linecap:butt;stroke-linejoin:miter;stroke:rgb(0%,0%,0%);stroke-opacity:1;stroke-miterlimit:10;\" d=\"M 131.25 597.444661 L 120.833333 597.444661 \" transform=\"matrix(0.24,0,0,-0.24,0,206)\"/>\n<path style=\"fill:none;stroke-width:2.08333;stroke-linecap:butt;stroke-linejoin:miter;stroke:rgb(0%,0%,0%);stroke-opacity:1;stroke-miterlimit:10;\" d=\"M 131.25 657.552083 L 120.833333 657.552083 \" transform=\"matrix(0.24,0,0,-0.24,0,206)\"/>\n<path style=\"fill:none;stroke-width:2.08333;stroke-linecap:butt;stroke-linejoin:miter;stroke:rgb(0%,0%,0%);stroke-opacity:1;stroke-miterlimit:10;\" d=\"M 131.25 717.659505 L 120.833333 717.659505 \" transform=\"matrix(0.24,0,0,-0.24,0,206)\"/>\n<path style=\"fill:none;stroke-width:2.08333;stroke-linecap:butt;stroke-linejoin:miter;stroke:rgb(0%,0%,0%);stroke-opacity:1;stroke-miterlimit:10;\" d=\"M 131.25 777.750651 L 120.833333 777.750651 \" transform=\"matrix(0.24,0,0,-0.24,0,206)\"/>\n<g style=\"fill:rgb(0%,0%,0%);fill-opacity:1;\">\n  <use xlink:href=\"#glyph1-1 2747636676837686055\" x=\"11.851909\" y=\"106.993321\"/>\n  <use xlink:href=\"#glyph1-2 2747636676837686055\" x=\"11.851909\" y=\"101.433316\"/>\n  <use xlink:href=\"#glyph1-3 2747636676837686055\" x=\"11.851909\" y=\"99.213315\"/>\n  <use xlink:href=\"#glyph1-4 2747636676837686055\" x=\"11.851909\" y=\"96.433312\"/>\n</g>\n<path style=\"fill:none;stroke-width:2.08333;stroke-linecap:butt;stroke-linejoin:miter;stroke:rgb(0%,0%,0%);stroke-opacity:1;stroke-miterlimit:10;\" d=\"M 133.333333 56.542969 L 288.688151 56.542969 M 211.01888 56.542969 L 211.01888 51.334635 \" transform=\"matrix(0.24,0,0,-0.24,0,206)\"/>\n<g style=\"fill:rgb(100%,64.646912%,0%);fill-opacity:1;\">\n  <use xlink:href=\"#glyph2-1 2747636676837686055\" x=\"30.383424\" y=\"191.203388\"/>\n</g>\n<g style=\"fill:rgb(0%,0%,100%);fill-opacity:1;\">\n  <use xlink:href=\"#glyph3-1 2747636676837686055\" x=\"30.169724\" y=\"186.745585\"/>\n</g>\n<g style=\"fill:rgb(0%,50.193787%,0%);fill-opacity:1;\">\n  <use xlink:href=\"#glyph4-1 2747636676837686055\" x=\"31.264725\" y=\"174.351875\"/>\n</g>\n<path style=\"fill:none;stroke-width:2.08333;stroke-linecap:butt;stroke-linejoin:miter;stroke:rgb(0%,0%,0%);stroke-opacity:1;stroke-miterlimit:10;\" d=\"M 288.688151 56.542969 L 444.042969 56.542969 M 366.373698 56.542969 L 366.373698 51.334635 \" transform=\"matrix(0.24,0,0,-0.24,0,206)\"/>\n<g style=\"fill:rgb(100%,64.646912%,0%);fill-opacity:1;\">\n  <use xlink:href=\"#glyph5-1 2747636676837686055\" x=\"67.633154\" y=\"190.995288\"/>\n</g>\n<g style=\"fill:rgb(0%,0%,100%);fill-opacity:1;\">\n  <use xlink:href=\"#glyph6-1 2747636676837686055\" x=\"67.423154\" y=\"183.992182\"/>\n</g>\n<g style=\"fill:rgb(0%,50.193787%,0%);fill-opacity:1;\">\n  <use xlink:href=\"#glyph7-1 2747636676837686055\" x=\"68.510655\" y=\"176.044076\"/>\n</g>\n<path style=\"fill:none;stroke-width:2.08333;stroke-linecap:butt;stroke-linejoin:miter;stroke:rgb(0%,0%,0%);stroke-opacity:1;stroke-miterlimit:10;\" d=\"M 444.042969 56.542969 L 599.414062 56.542969 M 521.728516 56.542969 L 521.728516 51.334635 \" transform=\"matrix(0.24,0,0,-0.24,0,206)\"/>\n<g style=\"fill:rgb(100%,0%,0%);fill-opacity:1;\">\n  <use xlink:href=\"#glyph8-1 2747636676837686055\" x=\"106.288085\" y=\"191.574688\"/>\n</g>\n<g style=\"fill:rgb(100%,64.646912%,0%);fill-opacity:1;\">\n  <use xlink:href=\"#glyph9-1 2747636676837686055\" x=\"104.889084\" y=\"189.717487\"/>\n</g>\n<g style=\"fill:rgb(0%,0%,100%);fill-opacity:1;\">\n  <use xlink:href=\"#glyph10-1 2747636676837686055\" x=\"104.672084\" y=\"187.624085\"/>\n</g>\n<g style=\"fill:rgb(0%,50.193787%,0%);fill-opacity:1;\">\n  <use xlink:href=\"#glyph11-1 2747636676837686055\" x=\"105.767085\" y=\"177.402477\"/>\n</g>\n<path style=\"fill:none;stroke-width:2.08333;stroke-linecap:butt;stroke-linejoin:miter;stroke:rgb(0%,0%,0%);stroke-opacity:1;stroke-miterlimit:10;\" d=\"M 599.414062 56.542969 L 754.76888 56.542969 M 677.083333 56.542969 L 677.083333 51.334635 \" transform=\"matrix(0.24,0,0,-0.24,0,206)\"/>\n<g style=\"fill:rgb(100%,0%,0%);fill-opacity:1;\">\n  <use xlink:href=\"#glyph12-1 2747636676837686055\" x=\"143.574115\" y=\"191.753789\"/>\n</g>\n<g style=\"fill:rgb(100%,64.646912%,0%);fill-opacity:1;\">\n  <use xlink:href=\"#glyph13-1 2747636676837686055\" x=\"142.176114\" y=\"190.395288\"/>\n</g>\n<g style=\"fill:rgb(0%,0%,100%);fill-opacity:1;\">\n  <use xlink:href=\"#glyph14-1 2747636676837686055\" x=\"141.958114\" y=\"186.648085\"/>\n</g>\n<g style=\"fill:rgb(0%,50.193787%,0%);fill-opacity:1;\">\n  <use xlink:href=\"#glyph15-1 2747636676837686055\" x=\"143.053114\" y=\"176.630877\"/>\n</g>\n<path style=\"fill:none;stroke-width:2.08333;stroke-linecap:butt;stroke-linejoin:miter;stroke:rgb(0%,0%,0%);stroke-opacity:1;stroke-miterlimit:10;\" d=\"M 754.76888 56.542969 L 910.123698 56.542969 M 832.438151 56.542969 L 832.438151 46.126302 \" transform=\"matrix(0.24,0,0,-0.24,0,206)\"/>\n<g style=\"fill:rgb(0%,0%,0%);fill-opacity:1;\">\n  <use xlink:href=\"#glyph0-5 2747636676837686055\" x=\"197.562158\" y=\"202.928748\"/>\n</g>\n<g style=\"fill:rgb(100%,64.646912%,0%);fill-opacity:1;\">\n  <use xlink:href=\"#glyph16-1 2747636676837686055\" x=\"179.452144\" y=\"191.435888\"/>\n</g>\n<g style=\"fill:rgb(0%,0%,100%);fill-opacity:1;\">\n  <use xlink:href=\"#glyph17-1 2747636676837686055\" x=\"179.243143\" y=\"186.609684\"/>\n</g>\n<g style=\"fill:rgb(0%,50.193787%,0%);fill-opacity:1;\">\n  <use xlink:href=\"#glyph18-1 2747636676837686055\" x=\"180.330144\" y=\"173.079674\"/>\n</g>\n<path style=\"fill:none;stroke-width:2.08333;stroke-linecap:butt;stroke-linejoin:miter;stroke:rgb(0%,0%,0%);stroke-opacity:1;stroke-miterlimit:10;\" d=\"M 910.123698 56.542969 L 1065.478516 56.542969 M 987.792969 56.542969 L 987.792969 51.334635 \" transform=\"matrix(0.24,0,0,-0.24,0,206)\"/>\n<g style=\"fill:rgb(100%,0%,0%);fill-opacity:1;\">\n  <use xlink:href=\"#glyph19-1 2747636676837686055\" x=\"218.180175\" y=\"191.477188\"/>\n</g>\n<g style=\"fill:rgb(100%,64.646912%,0%);fill-opacity:1;\">\n  <use xlink:href=\"#glyph20-1 2747636676837686055\" x=\"216.781173\" y=\"190.875288\"/>\n</g>\n<g style=\"fill:rgb(0%,0%,100%);fill-opacity:1;\">\n  <use xlink:href=\"#glyph21-1 2747636676837686055\" x=\"216.571173\" y=\"187.992486\"/>\n</g>\n<g style=\"fill:rgb(0%,50.193787%,0%);fill-opacity:1;\">\n  <use xlink:href=\"#glyph22-1 2747636676837686055\" x=\"217.658174\" y=\"175.135575\"/>\n</g>\n<path style=\"fill:none;stroke-width:2.08333;stroke-linecap:butt;stroke-linejoin:miter;stroke:rgb(0%,0%,0%);stroke-opacity:1;stroke-miterlimit:10;\" d=\"M 1065.478516 56.542969 L 1220.833333 56.542969 M 1143.164062 56.542969 L 1143.164062 51.334635 \" transform=\"matrix(0.24,0,0,-0.24,0,206)\"/>\n<g style=\"fill:rgb(100%,0%,0%);fill-opacity:1;\">\n  <use xlink:href=\"#glyph23-1 2747636676837686055\" x=\"255.454204\" y=\"191.781889\"/>\n</g>\n<g style=\"fill:rgb(100%,64.646912%,0%);fill-opacity:1;\">\n  <use xlink:href=\"#glyph24-1 2747636676837686055\" x=\"254.055203\" y=\"190.446888\"/>\n</g>\n<g style=\"fill:rgb(0%,0%,100%);fill-opacity:1;\">\n  <use xlink:href=\"#glyph25-1 2747636676837686055\" x=\"253.845203\" y=\"186.711885\"/>\n</g>\n<g style=\"fill:rgb(0%,50.193787%,0%);fill-opacity:1;\">\n  <use xlink:href=\"#glyph26-1 2747636676837686055\" x=\"254.933204\" y=\"180.223379\"/>\n</g>\n<path style=\"fill:none;stroke-width:2.08333;stroke-linecap:butt;stroke-linejoin:miter;stroke:rgb(0%,0%,0%);stroke-opacity:1;stroke-miterlimit:10;\" d=\"M 1220.833333 56.542969 L 1376.188151 56.542969 M 1298.502604 56.542969 L 1298.502604 51.334635 \" transform=\"matrix(0.24,0,0,-0.24,0,206)\"/>\n<g style=\"fill:rgb(100%,0%,0%);fill-opacity:1;\">\n  <use xlink:href=\"#glyph27-1 2747636676837686055\" x=\"292.715234\" y=\"191.876589\"/>\n</g>\n<g style=\"fill:rgb(100%,64.646912%,0%);fill-opacity:1;\">\n  <use xlink:href=\"#glyph28-1 2747636676837686055\" x=\"291.316233\" y=\"190.894088\"/>\n</g>\n<g style=\"fill:rgb(0%,50.193787%,0%);fill-opacity:1;\">\n  <use xlink:href=\"#glyph29-1 2747636676837686055\" x=\"292.193234\" y=\"188.806286\"/>\n</g>\n<g style=\"fill:rgb(0%,0%,100%);fill-opacity:1;\">\n  <use xlink:href=\"#glyph30-1 2747636676837686055\" x=\"291.098233\" y=\"184.525583\"/>\n</g>\n<path style=\"fill:none;stroke-width:2.08333;stroke-linecap:butt;stroke-linejoin:miter;stroke:rgb(0%,0%,0%);stroke-opacity:1;stroke-miterlimit:10;\" d=\"M 1376.188151 56.542969 L 1531.542969 56.542969 M 1453.873698 56.542969 L 1453.873698 51.334635 \" transform=\"matrix(0.24,0,0,-0.24,0,206)\"/>\n<g style=\"fill:rgb(100%,64.646912%,0%);fill-opacity:1;\">\n  <use xlink:href=\"#glyph31-1 2747636676837686055\" x=\"328.641263\" y=\"190.875288\"/>\n</g>\n<g style=\"fill:rgb(0%,0%,100%);fill-opacity:1;\">\n  <use xlink:href=\"#glyph32-1 2747636676837686055\" x=\"328.431263\" y=\"183.694082\"/>\n</g>\n<g style=\"fill:rgb(0%,50.193787%,0%);fill-opacity:1;\">\n  <use xlink:href=\"#glyph33-1 2747636676837686055\" x=\"329.522264\" y=\"176.544676\"/>\n</g>\n<path style=\"fill:none;stroke-width:2.08333;stroke-linecap:butt;stroke-linejoin:miter;stroke:rgb(0%,0%,0%);stroke-opacity:1;stroke-miterlimit:10;\" d=\"M 1531.542969 56.542969 L 1686.914062 56.542969 M 1609.228516 56.542969 L 1609.228516 46.126302 \" transform=\"matrix(0.24,0,0,-0.24,0,206)\"/>\n<g style=\"fill:rgb(0%,0%,0%);fill-opacity:1;\">\n  <use xlink:href=\"#glyph0-3 2747636676837686055\" x=\"381.767305\" y=\"202.928748\"/>\n  <use xlink:href=\"#glyph0-1 2747636676837686055\" x=\"386.215309\" y=\"202.928748\"/>\n</g>\n<g style=\"fill:rgb(100%,0%,0%);fill-opacity:1;\">\n  <use xlink:href=\"#glyph34-1 2747636676837686055\" x=\"367.287294\" y=\"191.675889\"/>\n</g>\n<g style=\"fill:rgb(0%,0%,100%);fill-opacity:1;\">\n  <use xlink:href=\"#glyph35-1 2747636676837686055\" x=\"365.671293\" y=\"184.504083\"/>\n</g>\n<g style=\"fill:rgb(0%,50.193787%,0%);fill-opacity:1;\">\n  <use xlink:href=\"#glyph36-1 2747636676837686055\" x=\"366.766293\" y=\"176.307476\"/>\n</g>\n<path style=\"fill:none;stroke-width:2.08333;stroke-linecap:butt;stroke-linejoin:miter;stroke:rgb(0%,0%,0%);stroke-opacity:1;stroke-miterlimit:10;\" d=\"M 1686.914062 56.542969 L 1842.252604 56.542969 M 1764.583333 56.542969 L 1764.583333 51.334635 \" transform=\"matrix(0.24,0,0,-0.24,0,206)\"/>\n<g style=\"fill:rgb(100%,0%,0%);fill-opacity:1;\">\n  <use xlink:href=\"#glyph37-1 2747636676837686055\" x=\"415.050332\" y=\"191.873789\"/>\n</g>\n<g style=\"fill:rgb(100%,64.646912%,0%);fill-opacity:1;\">\n  <use xlink:href=\"#glyph38-1 2747636676837686055\" x=\"414.424332\" y=\"190.140287\"/>\n</g>\n<g style=\"fill:rgb(0%,50.193787%,0%);fill-opacity:1;\">\n  <use xlink:href=\"#glyph39-1 2747636676837686055\" x=\"414.817332\" y=\"185.594384\"/>\n</g>\n<g style=\"fill:rgb(0%,0%,0%);fill-opacity:1;\">\n  <use xlink:href=\"#glyph40-1 2747636676837686055\" x=\"413.587331\" y=\"180.82998\"/>\n</g>\n<path style=\"fill:none;stroke-width:2.08333;stroke-linecap:butt;stroke-linejoin:miter;stroke:rgb(0%,0%,0%);stroke-opacity:1;stroke-miterlimit:10;\" d=\"M 1842.252604 56.542969 L 1997.623698 56.542969 M 1919.938151 56.542969 L 1919.938151 51.334635 \" transform=\"matrix(0.24,0,0,-0.24,0,206)\"/>\n<g style=\"fill:rgb(0%,0%,0%);fill-opacity:1;\">\n  <use xlink:href=\"#glyph41-1 2747636676837686055\" x=\"438.851351\" y=\"191.928089\"/>\n</g>\n<g style=\"fill:rgb(100%,64.646912%,0%);fill-opacity:1;\">\n  <use xlink:href=\"#glyph42-1 2747636676837686055\" x=\"440.707353\" y=\"191.288788\"/>\n</g>\n<g style=\"fill:rgb(100%,0%,0%);fill-opacity:1;\">\n  <use xlink:href=\"#glyph43-1 2747636676837686055\" x=\"442.091354\" y=\"190.655888\"/>\n</g>\n<g style=\"fill:rgb(0%,0%,100%);fill-opacity:1;\">\n  <use xlink:href=\"#glyph44-1 2747636676837686055\" x=\"440.498352\" y=\"186.876885\"/>\n</g>\n<g style=\"fill:rgb(0%,50.193787%,0%);fill-opacity:1;\">\n  <use xlink:href=\"#glyph45-1 2747636676837686055\" x=\"441.574353\" y=\"176.517476\"/>\n</g>\n<path style=\"fill:none;stroke-width:2.08333;stroke-linecap:butt;stroke-linejoin:miter;stroke:rgb(0%,0%,0%);stroke-opacity:1;stroke-miterlimit:10;\" d=\"M 1997.623698 56.542969 L 2152.978516 56.542969 M 2075.292969 56.542969 L 2075.292969 51.334635 \" transform=\"matrix(0.24,0,0,-0.24,0,206)\"/>\n<g style=\"fill:rgb(100%,64.646912%,0%);fill-opacity:1;\">\n  <use xlink:href=\"#glyph46-1 2747636676837686055\" x=\"477.749382\" y=\"191.338388\"/>\n</g>\n<g style=\"fill:rgb(0%,0%,100%);fill-opacity:1;\">\n  <use xlink:href=\"#glyph47-1 2747636676837686055\" x=\"477.532382\" y=\"189.954687\"/>\n</g>\n<g style=\"fill:rgb(0%,50.193787%,0%);fill-opacity:1;\">\n  <use xlink:href=\"#glyph48-1 2747636676837686055\" x=\"478.627383\" y=\"163.916566\"/>\n</g>\n<path style=\"fill:none;stroke-width:2.08333;stroke-linecap:butt;stroke-linejoin:miter;stroke:rgb(0%,0%,0%);stroke-opacity:1;stroke-miterlimit:10;\" d=\"M 2152.978516 56.542969 L 2308.333333 56.542969 M 2230.664062 56.542969 L 2230.664062 51.334635 \" transform=\"matrix(0.24,0,0,-0.24,0,206)\"/>\n<g style=\"fill:rgb(100%,0%,0%);fill-opacity:1;\">\n  <use xlink:href=\"#glyph49-1 2747636676837686055\" x=\"516.439413\" y=\"191.657189\"/>\n</g>\n<g style=\"fill:rgb(100%,64.646912%,0%);fill-opacity:1;\">\n  <use xlink:href=\"#glyph50-1 2747636676837686055\" x=\"515.040412\" y=\"190.651288\"/>\n</g>\n<g style=\"fill:rgb(0%,0%,100%);fill-opacity:1;\">\n  <use xlink:href=\"#glyph51-1 2747636676837686055\" x=\"514.822412\" y=\"185.229683\"/>\n</g>\n<g style=\"fill:rgb(0%,50.193787%,0%);fill-opacity:1;\">\n  <use xlink:href=\"#glyph52-1 2747636676837686055\" x=\"515.918413\" y=\"176.202476\"/>\n</g>\n</g>\n</svg>",
      "text/plain": [
       "<IPython.core.display.SVG object>"
      ]
     },
     "execution_count": 27,
     "metadata": {},
     "output_type": "execute_result"
    }
   ],
   "source": [
    "import pandas as pd\n",
    "import seqlogo\n",
    "\n",
    "weight = pd.read_csv('pfm.csv').iloc[:, 1:]\n",
    "\n",
    "logoPm = seqlogo.CompletePm(pfm=weight, background=0.25, alphabet_type=\"reduced DNA\")\n",
    "\n",
    "seqlogo.seqlogo(logoPm, size='large')"
   ]
  },
  {
   "cell_type": "code",
   "execution_count": null,
   "metadata": {},
   "outputs": [],
   "source": []
  }
 ],
 "metadata": {
  "interpreter": {
   "hash": "5991ef7e940580caea1b47884430a77b8b3407645cd9a5112ee38cb7bfa4d09c"
  },
  "kernelspec": {
   "display_name": "Python 3.8.13",
   "language": "python",
   "name": "python3"
  },
  "language_info": {
   "codemirror_mode": {
    "name": "ipython",
    "version": 3
   },
   "file_extension": ".py",
   "mimetype": "text/x-python",
   "name": "python",
   "nbconvert_exporter": "python",
   "pygments_lexer": "ipython3",
   "version": "3.8.13"
  },
  "orig_nbformat": 4
 },
 "nbformat": 4,
 "nbformat_minor": 2
}
