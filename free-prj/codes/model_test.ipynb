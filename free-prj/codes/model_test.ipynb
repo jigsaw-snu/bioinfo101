{
 "cells": [
  {
   "cell_type": "markdown",
   "metadata": {},
   "source": [
    "### Construct simple CNN model (1D Convolutional Network)"
   ]
  },
  {
   "cell_type": "code",
   "execution_count": 66,
   "metadata": {},
   "outputs": [],
   "source": [
    "import numpy as np\n",
    "import pandas as pd\n",
    "\n",
    "from sklearn.model_selection import train_test_split\n",
    "\n",
    "import tensorflow as tf\n",
    "from tensorflow.keras import Model, regularizers, constraints\n",
    "from tensorflow.keras.layers import Layer, Input, Embedding, Conv1D, Conv2D, BatchNormalization, ReLU, LeakyReLU, MaxPooling1D, Flatten, Dense, Softmax, Dropout, MaxPooling2D\n",
    "from tensorflow.keras.optimizers import Adam\n",
    "from tensorflow.keras.callbacks import EarlyStopping"
   ]
  },
  {
   "cell_type": "markdown",
   "metadata": {},
   "source": [
    "#### Prepare Training Datset"
   ]
  },
  {
   "cell_type": "code",
   "execution_count": 2,
   "metadata": {},
   "outputs": [
    {
     "name": "stdout",
     "output_type": "stream",
     "text": [
      "                                                 Sequence        RBP Class\n",
      "80583   GTCTGCTGTCTCTACACCATCTCCATCATGGGCAATACCACCATCC...   hnRNPC-2     0\n",
      "11124   AAAAAAAGTTCAAGAGTGTAACTAGTTCACCCCAAGGTAGTGTGTG...     Ago2-1     0\n",
      "26845   TGAAGATGAGAAACTTCAAGGCAAGATTAACGATGAGGACAAACAG...  eIF4III-1     1\n",
      "81415   CCCACCCCATCCCAGGTCACCACCTGGCTGAACCCAGGTCCCCGAC...   hnRNPC-2     0\n",
      "130220  CTGTTCCTATATGCTTCTTAGAATCCTTAAGCCACCTCTCTTGCCT...     TDP-43     0 \n",
      "\n",
      "                                                 Sequence           RBP Class\n",
      "58619   GCAGACTTACCATGCCAAAGTGAGCTCTCTTCAGAAGATTCTTTTG...         ESWR1     1\n",
      "6660    AAATTTGAATAGGAATTGGGTATGAAATCATACAAAGATGATCTAT...    Ago2-MNase     0\n",
      "42266   GTAGCACCCCGAAGTAGAGCTTTCTGCTCTGCTCCTGGAAAAGGCT...  ELAVL1-MNase     1\n",
      "142944  CCAGGCGGGGTCAGTGTTGCGCACTGGGGATAGTGCCTCTGCTCGG...         TIAL1     0\n",
      "119316  ATGTGTAGTCATGGTTTTGATTTTTATTTACACCTTTTGAAATTTG...           QKI     0 \n",
      "\n",
      "                                            Sequence      RBP Class\n",
      "0  TTAATTGGCCGGGACTTAATTTGATTCCATCTTATACTTTGTTACC...  Ago-EIF     0\n",
      "1  TGAGGCCTAGAGCCAGTGGAGCTCTCACACAGTTGATGAGCCCGTG...  Ago-EIF     0\n",
      "2  GACCAGCTTTCAGGAGTTGATCTTTTTGCTGTAGGATAATTTTCTG...  Ago-EIF     0\n",
      "3  AGGTGCAGTGGCACAATCAGAGCTCACTGCAGCCTCCAGCTCCTGG...  Ago-EIF     0\n",
      "4  AAAGTAATGTCACAGCGACATATGATAGATGGACGATGGTGTGACT...  Ago-EIF     1 \n",
      "\n",
      "(124000, 3)\t(31000, 3)\t(31000, 3)\n"
     ]
    }
   ],
   "source": [
    "train_5k = pd.read_feather('./../dataset/objs/train_5k.ftr')\n",
    "test_5k = pd.read_feather('./../dataset/objs/test_5k.ftr')\n",
    "\n",
    "train_5k, validate_5k = train_test_split(train_5k, train_size = 0.8, random_state=42)\n",
    "\n",
    "train_X = train_5k['Sequence']\n",
    "train_y = train_5k['Class']\n",
    "\n",
    "validate_X = validate_5k['Sequence']\n",
    "validate_y = validate_5k['Class']\n",
    "\n",
    "test_X = test_5k['Sequence']\n",
    "test_y = test_5k['Class']\n",
    "\n",
    "print(train_5k.head(), '\\n') # 80% of train set\n",
    "print(validate_5k.head(), '\\n') # 20% of train set\n",
    "print(test_5k.head(), '\\n') # 100% of test set\n",
    "print(train_5k.shape, validate_5k.shape, test_5k.shape, sep='\\t')"
   ]
  },
  {
   "cell_type": "code",
   "execution_count": 3,
   "metadata": {},
   "outputs": [
    {
     "data": {
      "text/plain": [
       "{'A', 'C', 'G', 'N', 'T'}"
      ]
     },
     "execution_count": 3,
     "metadata": {},
     "output_type": "execute_result"
    }
   ],
   "source": [
    "set([x for seq in train_X.tolist() for x in seq])"
   ]
  },
  {
   "cell_type": "markdown",
   "metadata": {},
   "source": [
    "#### One Hot Encoding & Embedding"
   ]
  },
  {
   "cell_type": "code",
   "execution_count": 3,
   "metadata": {},
   "outputs": [],
   "source": [
    "# Check bases\n",
    "bases = ''.join(sorted(set([x for seq in train_X.tolist() for x in seq])))\n",
    "\n",
    "base_dict = dict((v, k) for (k, v) in dict(enumerate(bases)).items())\n",
    "\n",
    "train_X_int = [[bases.index(c) for c in seq] for seq in train_X.tolist()]\n",
    "\n",
    "train_X_onehot = np.eye(len(bases))[train_X_int]"
   ]
  },
  {
   "cell_type": "code",
   "execution_count": 5,
   "metadata": {},
   "outputs": [
    {
     "name": "stdout",
     "output_type": "stream",
     "text": [
      "ACGNT\n",
      "(124000, 101, 5)\n"
     ]
    }
   ],
   "source": [
    "print(bases)\n",
    "print(train_X_onehot.shape)"
   ]
  },
  {
   "cell_type": "code",
   "execution_count": 6,
   "metadata": {},
   "outputs": [
    {
     "data": {
      "text/plain": [
       "80583     0\n",
       "11124     0\n",
       "26845     1\n",
       "81415     0\n",
       "130220    0\n",
       "Name: Class, dtype: category\n",
       "Categories (2, int64): [0, 1]"
      ]
     },
     "execution_count": 6,
     "metadata": {},
     "output_type": "execute_result"
    }
   ],
   "source": [
    "train_y.head()"
   ]
  },
  {
   "cell_type": "markdown",
   "metadata": {},
   "source": [
    "##### try using only single RBP"
   ]
  },
  {
   "cell_type": "code",
   "execution_count": 4,
   "metadata": {},
   "outputs": [],
   "source": [
    "train_5k = pd.read_feather('./../dataset/objs/train_5k.ftr')\n",
    "test_5k = pd.read_feather('./../dataset/objs/test_5k.ftr')"
   ]
  },
  {
   "cell_type": "code",
   "execution_count": 5,
   "metadata": {},
   "outputs": [
    {
     "data": {
      "text/plain": [
       "(5000, 3)"
      ]
     },
     "execution_count": 5,
     "metadata": {},
     "output_type": "execute_result"
    }
   ],
   "source": [
    "ago_eif_train = train_5k[train_5k['RBP'] == 'Ago-EIF']\n",
    "ago_eif_test = test_5k[test_5k['RBP'] == 'Ago-EIF']\n",
    "ago_eif_train.shape"
   ]
  },
  {
   "cell_type": "code",
   "execution_count": 6,
   "metadata": {},
   "outputs": [
    {
     "data": {
      "text/html": [
       "<div>\n",
       "<style scoped>\n",
       "    .dataframe tbody tr th:only-of-type {\n",
       "        vertical-align: middle;\n",
       "    }\n",
       "\n",
       "    .dataframe tbody tr th {\n",
       "        vertical-align: top;\n",
       "    }\n",
       "\n",
       "    .dataframe thead th {\n",
       "        text-align: right;\n",
       "    }\n",
       "</style>\n",
       "<table border=\"1\" class=\"dataframe\">\n",
       "  <thead>\n",
       "    <tr style=\"text-align: right;\">\n",
       "      <th></th>\n",
       "      <th>Sequence</th>\n",
       "      <th>RBP</th>\n",
       "      <th>Class</th>\n",
       "    </tr>\n",
       "  </thead>\n",
       "  <tbody>\n",
       "    <tr>\n",
       "      <th>0</th>\n",
       "      <td>AAGGGGCTAGGATGAGTTTCTGAATCTCCCAAGGGCGAGATTTCGG...</td>\n",
       "      <td>Ago-EIF</td>\n",
       "      <td>0</td>\n",
       "    </tr>\n",
       "    <tr>\n",
       "      <th>1</th>\n",
       "      <td>CCTGAAGCAGCAAGTGAGCGGGCTGGAGGGTGTGCAGGACGACCTG...</td>\n",
       "      <td>Ago-EIF</td>\n",
       "      <td>0</td>\n",
       "    </tr>\n",
       "    <tr>\n",
       "      <th>2</th>\n",
       "      <td>CACGGCTCCCCCTCGGCCTATTACACGCGTGCGCAGCCAGGCCTCG...</td>\n",
       "      <td>Ago-EIF</td>\n",
       "      <td>0</td>\n",
       "    </tr>\n",
       "    <tr>\n",
       "      <th>3</th>\n",
       "      <td>ATACAAGCAGGAGCACATCGCTCTTTTATGAAAGCCCTTCAACATT...</td>\n",
       "      <td>Ago-EIF</td>\n",
       "      <td>0</td>\n",
       "    </tr>\n",
       "    <tr>\n",
       "      <th>4</th>\n",
       "      <td>TCCCTTCAAAGGCGACAGACCCAAGCCCACGTCAGGAGAGGAGCGT...</td>\n",
       "      <td>Ago-EIF</td>\n",
       "      <td>0</td>\n",
       "    </tr>\n",
       "    <tr>\n",
       "      <th>5</th>\n",
       "      <td>GCTTTGCAACCCTTGTGTTACGGTGCACAGGTGTGCAAAAATTCTC...</td>\n",
       "      <td>Ago-EIF</td>\n",
       "      <td>0</td>\n",
       "    </tr>\n",
       "    <tr>\n",
       "      <th>6</th>\n",
       "      <td>TGGGTGATTCCTGAGCAAGCATGCTGCTGTCTCTCTGGCTCTGGGG...</td>\n",
       "      <td>Ago-EIF</td>\n",
       "      <td>0</td>\n",
       "    </tr>\n",
       "    <tr>\n",
       "      <th>7</th>\n",
       "      <td>TGCAGACCCCTGCGGCCAGGGCGAGGACGGATCTGAGCAGCTGGGC...</td>\n",
       "      <td>Ago-EIF</td>\n",
       "      <td>0</td>\n",
       "    </tr>\n",
       "    <tr>\n",
       "      <th>8</th>\n",
       "      <td>CAGCTGCTGTGGAAAATAGTCTGGCAGTTTCTCAACAATTACACAG...</td>\n",
       "      <td>Ago-EIF</td>\n",
       "      <td>0</td>\n",
       "    </tr>\n",
       "    <tr>\n",
       "      <th>9</th>\n",
       "      <td>TTATGGCCAACACTTCCATTTATTTATCAACAGATTCACCCGTGTC...</td>\n",
       "      <td>Ago-EIF</td>\n",
       "      <td>0</td>\n",
       "    </tr>\n",
       "  </tbody>\n",
       "</table>\n",
       "</div>"
      ],
      "text/plain": [
       "                                            Sequence      RBP Class\n",
       "0  AAGGGGCTAGGATGAGTTTCTGAATCTCCCAAGGGCGAGATTTCGG...  Ago-EIF     0\n",
       "1  CCTGAAGCAGCAAGTGAGCGGGCTGGAGGGTGTGCAGGACGACCTG...  Ago-EIF     0\n",
       "2  CACGGCTCCCCCTCGGCCTATTACACGCGTGCGCAGCCAGGCCTCG...  Ago-EIF     0\n",
       "3  ATACAAGCAGGAGCACATCGCTCTTTTATGAAAGCCCTTCAACATT...  Ago-EIF     0\n",
       "4  TCCCTTCAAAGGCGACAGACCCAAGCCCACGTCAGGAGAGGAGCGT...  Ago-EIF     0\n",
       "5  GCTTTGCAACCCTTGTGTTACGGTGCACAGGTGTGCAAAAATTCTC...  Ago-EIF     0\n",
       "6  TGGGTGATTCCTGAGCAAGCATGCTGCTGTCTCTCTGGCTCTGGGG...  Ago-EIF     0\n",
       "7  TGCAGACCCCTGCGGCCAGGGCGAGGACGGATCTGAGCAGCTGGGC...  Ago-EIF     0\n",
       "8  CAGCTGCTGTGGAAAATAGTCTGGCAGTTTCTCAACAATTACACAG...  Ago-EIF     0\n",
       "9  TTATGGCCAACACTTCCATTTATTTATCAACAGATTCACCCGTGTC...  Ago-EIF     0"
      ]
     },
     "execution_count": 6,
     "metadata": {},
     "output_type": "execute_result"
    }
   ],
   "source": [
    "train_5k[train_5k['RBP'] == 'Ago-EIF'][:10]"
   ]
  },
  {
   "cell_type": "code",
   "execution_count": 7,
   "metadata": {},
   "outputs": [],
   "source": [
    "#train_X, train_y = train_5k[train_5k['RBP'] == 'Ago-EIF'][:4000]['Sequence'], train_5k[train_5k['RBP'] == 'Ago-EIF'][:4000]['Class']\n",
    "#valid_X, valid_y = train_5k[train_5k['RBP'] == 'Ago-EIF'][4000:]['Sequence'], train_5k[train_5k['RBP'] == 'Ago-EIF'][4000:]['Class']\n",
    "train_X, train_y = train_5k[train_5k['RBP'] == 'Ago-EIF']['Sequence'], train_5k[train_5k['RBP'] == 'Ago-EIF']['Class']\n",
    "test_X, test_y = test_5k[test_5k['RBP'] == 'Ago-EIF']['Sequence'], test_5k[test_5k['RBP'] == 'Ago-EIF']['Class']\n",
    "\n",
    "train_X_int = [[bases.index(c) for c in seq] for seq in train_X.tolist()]\n",
    "train_X_onehot = np.eye(len(bases))[train_X_int]\n",
    "\n",
    "#valid_X_int = [[bases.index(c) for c in seq] for seq in valid_X.tolist()]\n",
    "#valid_X_onehot = np.eye(len(bases))[valid_X_int]\n",
    "\n",
    "test_X_int = [[bases.index(c) for c in seq] for seq in test_X.tolist()]\n",
    "test_X_onehot = np.eye(len(bases))[test_X_int]"
   ]
  },
  {
   "cell_type": "markdown",
   "metadata": {},
   "source": [
    "#### Model Construction"
   ]
  },
  {
   "cell_type": "code",
   "execution_count": 50,
   "metadata": {},
   "outputs": [],
   "source": [
    "mymodel_inputs = Input(shape=(101, 5))\n",
    "\n",
    "x = Conv1D(filters=64, kernel_size=19, strides=1, padding='same')(mymodel_inputs)\n",
    "x = BatchNormalization()(x)\n",
    "x = ReLU()(x)\n",
    "x = MaxPooling1D(strides=2)(x)\n",
    "x = Dropout(.1)(x)\n",
    "x = Conv1D(filters=128, kernel_size=5, strides=1, padding='same')(x)\n",
    "x = BatchNormalization()(x)\n",
    "x = ReLU()(x)\n",
    "x = MaxPooling1D(strides=2)(x)\n",
    "x = Dropout(.1)(x)\n",
    "x = Flatten()(x)\n",
    "x = Dense(units=512)(x)\n",
    "x = BatchNormalization()(x)\n",
    "x = ReLU()(x)\n",
    "x = Dropout(.5)(x)\n",
    "x = Dense(units=2)(x)\n",
    "mymodel_outputs = Softmax()(x)\n",
    "\n",
    "mymodel = Model(inputs=mymodel_inputs, outputs=mymodel_outputs)"
   ]
  },
  {
   "cell_type": "code",
   "execution_count": 51,
   "metadata": {},
   "outputs": [
    {
     "name": "stdout",
     "output_type": "stream",
     "text": [
      "Model: \"model_2\"\n",
      "_________________________________________________________________\n",
      " Layer (type)                Output Shape              Param #   \n",
      "=================================================================\n",
      " input_4 (InputLayer)        [(None, 101, 5)]          0         \n",
      "                                                                 \n",
      " conv1d_17 (Conv1D)          (None, 101, 64)           6144      \n",
      "                                                                 \n",
      " batch_normalization_22 (Bat  (None, 101, 64)          256       \n",
      " chNormalization)                                                \n",
      "                                                                 \n",
      " re_lu_10 (ReLU)             (None, 101, 64)           0         \n",
      "                                                                 \n",
      " max_pooling1d_16 (MaxPoolin  (None, 50, 64)           0         \n",
      " g1D)                                                            \n",
      "                                                                 \n",
      " dropout_6 (Dropout)         (None, 50, 64)            0         \n",
      "                                                                 \n",
      " conv1d_18 (Conv1D)          (None, 50, 128)           41088     \n",
      "                                                                 \n",
      " batch_normalization_23 (Bat  (None, 50, 128)          512       \n",
      " chNormalization)                                                \n",
      "                                                                 \n",
      " re_lu_11 (ReLU)             (None, 50, 128)           0         \n",
      "                                                                 \n",
      " max_pooling1d_17 (MaxPoolin  (None, 25, 128)          0         \n",
      " g1D)                                                            \n",
      "                                                                 \n",
      " dropout_7 (Dropout)         (None, 25, 128)           0         \n",
      "                                                                 \n",
      " flatten_7 (Flatten)         (None, 3200)              0         \n",
      "                                                                 \n",
      " dense_16 (Dense)            (None, 512)               1638912   \n",
      "                                                                 \n",
      " batch_normalization_24 (Bat  (None, 512)              2048      \n",
      " chNormalization)                                                \n",
      "                                                                 \n",
      " re_lu_12 (ReLU)             (None, 512)               0         \n",
      "                                                                 \n",
      " dropout_8 (Dropout)         (None, 512)               0         \n",
      "                                                                 \n",
      " dense_17 (Dense)            (None, 2)                 1026      \n",
      "                                                                 \n",
      " softmax_8 (Softmax)         (None, 2)                 0         \n",
      "                                                                 \n",
      "=================================================================\n",
      "Total params: 1,689,986\n",
      "Trainable params: 1,688,578\n",
      "Non-trainable params: 1,408\n",
      "_________________________________________________________________\n"
     ]
    }
   ],
   "source": [
    "mymodel.summary()"
   ]
  },
  {
   "cell_type": "code",
   "execution_count": 96,
   "metadata": {},
   "outputs": [],
   "source": [
    "mymodel2 = tf.keras.models.Sequential([\n",
    "    Conv1D(filters=64, kernel_size=19, strides=1, padding='same', input_shape=(101, 5)),\n",
    "    BatchNormalization(),\n",
    "    ReLU(),\n",
    "    MaxPooling1D(strides=2),\n",
    "    Dropout(.1),\n",
    "\n",
    "    Conv1D(filters=128, kernel_size=5, strides=1, padding='same'),\n",
    "    BatchNormalization(),\n",
    "    ReLU(),\n",
    "    MaxPooling1D(strides=2),\n",
    "    Dropout(.1),\n",
    "\n",
    "    Flatten(),\n",
    "    Dense(units=512),\n",
    "    BatchNormalization(),\n",
    "    ReLU(),\n",
    "    Dropout(.5),\n",
    "    Dense(units=2),\n",
    "    Softmax()\n",
    "])"
   ]
  },
  {
   "cell_type": "code",
   "execution_count": 97,
   "metadata": {},
   "outputs": [
    {
     "name": "stdout",
     "output_type": "stream",
     "text": [
      "Model: \"sequential_6\"\n",
      "_________________________________________________________________\n",
      " Layer (type)                Output Shape              Param #   \n",
      "=================================================================\n",
      " conv1d_31 (Conv1D)          (None, 101, 64)           6144      \n",
      "                                                                 \n",
      " batch_normalization_43 (Bat  (None, 101, 64)          256       \n",
      " chNormalization)                                                \n",
      "                                                                 \n",
      " re_lu_31 (ReLU)             (None, 101, 64)           0         \n",
      "                                                                 \n",
      " max_pooling1d_30 (MaxPoolin  (None, 50, 64)           0         \n",
      " g1D)                                                            \n",
      "                                                                 \n",
      " dropout_27 (Dropout)        (None, 50, 64)            0         \n",
      "                                                                 \n",
      " conv1d_32 (Conv1D)          (None, 50, 128)           41088     \n",
      "                                                                 \n",
      " batch_normalization_44 (Bat  (None, 50, 128)          512       \n",
      " chNormalization)                                                \n",
      "                                                                 \n",
      " re_lu_32 (ReLU)             (None, 50, 128)           0         \n",
      "                                                                 \n",
      " max_pooling1d_31 (MaxPoolin  (None, 25, 128)          0         \n",
      " g1D)                                                            \n",
      "                                                                 \n",
      " dropout_28 (Dropout)        (None, 25, 128)           0         \n",
      "                                                                 \n",
      " flatten_14 (Flatten)        (None, 3200)              0         \n",
      "                                                                 \n",
      " dense_30 (Dense)            (None, 512)               1638912   \n",
      "                                                                 \n",
      " batch_normalization_45 (Bat  (None, 512)              2048      \n",
      " chNormalization)                                                \n",
      "                                                                 \n",
      " re_lu_33 (ReLU)             (None, 512)               0         \n",
      "                                                                 \n",
      " dropout_29 (Dropout)        (None, 512)               0         \n",
      "                                                                 \n",
      " dense_31 (Dense)            (None, 2)                 1026      \n",
      "                                                                 \n",
      " softmax_15 (Softmax)        (None, 2)                 0         \n",
      "                                                                 \n",
      "=================================================================\n",
      "Total params: 1,689,986\n",
      "Trainable params: 1,688,578\n",
      "Non-trainable params: 1,408\n",
      "_________________________________________________________________\n"
     ]
    }
   ],
   "source": [
    "mymodel2.summary()"
   ]
  },
  {
   "cell_type": "code",
   "execution_count": 102,
   "metadata": {},
   "outputs": [],
   "source": [
    "mymodel2.compile(optimizer='adam', loss='binary_crossentropy', metrics=['accuracy'])\n",
    "#early_stopping = EarlyStopping(monitor='accuracy', patience=20)"
   ]
  },
  {
   "cell_type": "code",
   "execution_count": null,
   "metadata": {},
   "outputs": [],
   "source": [
    "mymodel2.fit(train_X_onehot, train_y, epochs=500, validation_split=0.2)#, callbacks=[early_stopping])"
   ]
  },
  {
   "cell_type": "code",
   "execution_count": 21,
   "metadata": {},
   "outputs": [
    {
     "data": {
      "text/plain": [
       "(5000, 101, 5)"
      ]
     },
     "execution_count": 21,
     "metadata": {},
     "output_type": "execute_result"
    }
   ],
   "source": [
    "train_X_onehot.shape"
   ]
  },
  {
   "cell_type": "code",
   "execution_count": 22,
   "metadata": {},
   "outputs": [],
   "source": [
    "train_X_onehot_ = train_X_onehot[:, :, :, np.newaxis]\n",
    "test_X_onehot_ = test_X_onehot[:, :, :, np.newaxis]"
   ]
  },
  {
   "cell_type": "code",
   "execution_count": 67,
   "metadata": {},
   "outputs": [],
   "source": [
    "# try Conv2D\n",
    "\n",
    "mymodel3 = tf.keras.Sequential([\n",
    "    Conv2D(1, (12, 5), padding='same', strides=1, input_shape=(101, 5, 1), kernel_regularizer=regularizers.l1(3e-3), kernel_constraint=constraints.NonNeg()),\n",
    "    BatchNormalization(),\n",
    "    ReLU(),\n",
    "    MaxPooling2D(),\n",
    "    \n",
    "    Flatten(),\n",
    "    Dense(1, activation='sigmoid')\n",
    "])"
   ]
  },
  {
   "cell_type": "code",
   "execution_count": null,
   "metadata": {},
   "outputs": [],
   "source": [
    "mymodel3.summary()"
   ]
  },
  {
   "cell_type": "code",
   "execution_count": 68,
   "metadata": {},
   "outputs": [],
   "source": [
    "mymodel3.compile(optimizer='adam', loss='binary_crossentropy', metrics=['accuracy'])"
   ]
  },
  {
   "cell_type": "code",
   "execution_count": 69,
   "metadata": {},
   "outputs": [
    {
     "name": "stdout",
     "output_type": "stream",
     "text": [
      "Epoch 1/20\n",
      "125/125 [==============================] - 3s 19ms/step - loss: 0.8971 - accuracy: 0.5610 - val_loss: 0.5461 - val_accuracy: 0.8000\n",
      "Epoch 2/20\n",
      "125/125 [==============================] - 2s 17ms/step - loss: 0.5508 - accuracy: 0.7921 - val_loss: 0.5173 - val_accuracy: 0.8020\n",
      "Epoch 3/20\n",
      "125/125 [==============================] - 2s 17ms/step - loss: 0.5274 - accuracy: 0.8002 - val_loss: 0.5170 - val_accuracy: 0.8020\n",
      "Epoch 4/20\n",
      "125/125 [==============================] - 2s 18ms/step - loss: 0.5074 - accuracy: 0.8110 - val_loss: 0.5165 - val_accuracy: 0.8020\n",
      "Epoch 5/20\n",
      "125/125 [==============================] - 2s 17ms/step - loss: 0.5261 - accuracy: 0.7982 - val_loss: 0.5151 - val_accuracy: 0.8020\n",
      "Epoch 6/20\n",
      "125/125 [==============================] - 2s 17ms/step - loss: 0.5317 - accuracy: 0.7894 - val_loss: 0.5132 - val_accuracy: 0.8030\n",
      "Epoch 7/20\n",
      "125/125 [==============================] - 2s 17ms/step - loss: 0.5037 - accuracy: 0.8089 - val_loss: 0.5132 - val_accuracy: 0.8020\n",
      "Epoch 8/20\n",
      "125/125 [==============================] - 2s 17ms/step - loss: 0.5237 - accuracy: 0.7885 - val_loss: 0.5071 - val_accuracy: 0.8030\n",
      "Epoch 9/20\n",
      "125/125 [==============================] - 2s 17ms/step - loss: 0.4971 - accuracy: 0.8064 - val_loss: 0.5033 - val_accuracy: 0.8030\n",
      "Epoch 10/20\n",
      "125/125 [==============================] - 2s 17ms/step - loss: 0.4989 - accuracy: 0.8007 - val_loss: 0.5030 - val_accuracy: 0.8030\n",
      "Epoch 11/20\n",
      "125/125 [==============================] - 2s 17ms/step - loss: 0.4896 - accuracy: 0.8040 - val_loss: 0.5027 - val_accuracy: 0.8030\n",
      "Epoch 12/20\n",
      "125/125 [==============================] - 2s 16ms/step - loss: 0.4913 - accuracy: 0.8010 - val_loss: 0.5003 - val_accuracy: 0.8010\n",
      "Epoch 13/20\n",
      "125/125 [==============================] - 2s 16ms/step - loss: 0.4998 - accuracy: 0.7939 - val_loss: 0.4978 - val_accuracy: 0.8030\n",
      "Epoch 14/20\n",
      "125/125 [==============================] - 2s 18ms/step - loss: 0.4921 - accuracy: 0.7975 - val_loss: 0.4954 - val_accuracy: 0.8030\n",
      "Epoch 15/20\n",
      "125/125 [==============================] - 2s 17ms/step - loss: 0.4889 - accuracy: 0.7996 - val_loss: 0.4967 - val_accuracy: 0.8020\n",
      "Epoch 16/20\n",
      "125/125 [==============================] - 2s 17ms/step - loss: 0.4688 - accuracy: 0.8120 - val_loss: 0.4965 - val_accuracy: 0.8030\n",
      "Epoch 17/20\n",
      "125/125 [==============================] - 2s 17ms/step - loss: 0.4805 - accuracy: 0.8031 - val_loss: 0.5028 - val_accuracy: 0.8000\n",
      "Epoch 18/20\n",
      "125/125 [==============================] - 2s 18ms/step - loss: 0.4814 - accuracy: 0.8012 - val_loss: 0.4935 - val_accuracy: 0.8010\n",
      "Epoch 19/20\n",
      "125/125 [==============================] - 2s 17ms/step - loss: 0.4863 - accuracy: 0.8021 - val_loss: 0.4981 - val_accuracy: 0.8010\n",
      "Epoch 20/20\n",
      "125/125 [==============================] - 2s 17ms/step - loss: 0.4770 - accuracy: 0.8058 - val_loss: 0.4950 - val_accuracy: 0.8010\n"
     ]
    },
    {
     "data": {
      "text/plain": [
       "<tensorflow.python.keras.callbacks.History at 0x7fac2c049100>"
      ]
     },
     "execution_count": 69,
     "metadata": {},
     "output_type": "execute_result"
    }
   ],
   "source": [
    "mymodel3.fit(train_X_onehot_, train_y, epochs=20, validation_split=0.2)"
   ]
  },
  {
   "cell_type": "code",
   "execution_count": 70,
   "metadata": {},
   "outputs": [
    {
     "name": "stdout",
     "output_type": "stream",
     "text": [
      "32/32 - 0s - loss: 0.4898 - accuracy: 0.8020\n"
     ]
    },
    {
     "data": {
      "text/plain": [
       "[0.48977622389793396, 0.8019999861717224]"
      ]
     },
     "execution_count": 70,
     "metadata": {},
     "output_type": "execute_result"
    }
   ],
   "source": [
    "mymodel3.evaluate(test_X_onehot_, test_y, verbose=2)"
   ]
  },
  {
   "cell_type": "code",
   "execution_count": 71,
   "metadata": {},
   "outputs": [
    {
     "data": {
      "text/html": [
       "<div>\n",
       "<style scoped>\n",
       "    .dataframe tbody tr th:only-of-type {\n",
       "        vertical-align: middle;\n",
       "    }\n",
       "\n",
       "    .dataframe tbody tr th {\n",
       "        vertical-align: top;\n",
       "    }\n",
       "\n",
       "    .dataframe thead th {\n",
       "        text-align: right;\n",
       "    }\n",
       "</style>\n",
       "<table border=\"1\" class=\"dataframe\">\n",
       "  <thead>\n",
       "    <tr style=\"text-align: right;\">\n",
       "      <th></th>\n",
       "      <th>0</th>\n",
       "      <th>1</th>\n",
       "      <th>2</th>\n",
       "      <th>3</th>\n",
       "      <th>4</th>\n",
       "      <th>5</th>\n",
       "      <th>6</th>\n",
       "      <th>7</th>\n",
       "      <th>8</th>\n",
       "      <th>9</th>\n",
       "      <th>10</th>\n",
       "      <th>11</th>\n",
       "    </tr>\n",
       "  </thead>\n",
       "  <tbody>\n",
       "    <tr>\n",
       "      <th>0</th>\n",
       "      <td>0.019776</td>\n",
       "      <td>0.045333</td>\n",
       "      <td>0.116666</td>\n",
       "      <td>0.031920</td>\n",
       "      <td>0.069304</td>\n",
       "      <td>0.113596</td>\n",
       "      <td>0.073846</td>\n",
       "      <td>0.000751</td>\n",
       "      <td>0.124491</td>\n",
       "      <td>0.020391</td>\n",
       "      <td>0.077292</td>\n",
       "      <td>0.048665</td>\n",
       "    </tr>\n",
       "    <tr>\n",
       "      <th>1</th>\n",
       "      <td>0.033477</td>\n",
       "      <td>0.013957</td>\n",
       "      <td>0.130316</td>\n",
       "      <td>0.059557</td>\n",
       "      <td>-0.000000</td>\n",
       "      <td>0.059165</td>\n",
       "      <td>0.116853</td>\n",
       "      <td>0.003607</td>\n",
       "      <td>0.075237</td>\n",
       "      <td>0.004112</td>\n",
       "      <td>-0.000000</td>\n",
       "      <td>0.067742</td>\n",
       "    </tr>\n",
       "    <tr>\n",
       "      <th>2</th>\n",
       "      <td>0.000389</td>\n",
       "      <td>0.000184</td>\n",
       "      <td>-0.000000</td>\n",
       "      <td>-0.000000</td>\n",
       "      <td>-0.000000</td>\n",
       "      <td>0.049192</td>\n",
       "      <td>0.001444</td>\n",
       "      <td>-0.000000</td>\n",
       "      <td>-0.000000</td>\n",
       "      <td>-0.000000</td>\n",
       "      <td>-0.000000</td>\n",
       "      <td>0.001475</td>\n",
       "    </tr>\n",
       "    <tr>\n",
       "      <th>3</th>\n",
       "      <td>-0.000000</td>\n",
       "      <td>0.049463</td>\n",
       "      <td>0.081515</td>\n",
       "      <td>0.085805</td>\n",
       "      <td>0.004616</td>\n",
       "      <td>-0.000000</td>\n",
       "      <td>0.014204</td>\n",
       "      <td>0.016685</td>\n",
       "      <td>0.019458</td>\n",
       "      <td>0.117020</td>\n",
       "      <td>0.005925</td>\n",
       "      <td>0.061661</td>\n",
       "    </tr>\n",
       "    <tr>\n",
       "      <th>4</th>\n",
       "      <td>0.039192</td>\n",
       "      <td>0.051192</td>\n",
       "      <td>0.134347</td>\n",
       "      <td>0.003186</td>\n",
       "      <td>0.107606</td>\n",
       "      <td>0.105038</td>\n",
       "      <td>0.199502</td>\n",
       "      <td>0.076131</td>\n",
       "      <td>0.004299</td>\n",
       "      <td>0.041348</td>\n",
       "      <td>0.032253</td>\n",
       "      <td>0.114201</td>\n",
       "    </tr>\n",
       "  </tbody>\n",
       "</table>\n",
       "</div>"
      ],
      "text/plain": [
       "         0         1         2   ...        9         10        11\n",
       "0  0.019776  0.045333  0.116666  ...  0.020391  0.077292  0.048665\n",
       "1  0.033477  0.013957  0.130316  ...  0.004112 -0.000000  0.067742\n",
       "2  0.000389  0.000184 -0.000000  ... -0.000000 -0.000000  0.001475\n",
       "3 -0.000000  0.049463  0.081515  ...  0.117020  0.005925  0.061661\n",
       "4  0.039192  0.051192  0.134347  ...  0.041348  0.032253  0.114201\n",
       "\n",
       "[5 rows x 12 columns]"
      ]
     },
     "execution_count": 71,
     "metadata": {},
     "output_type": "execute_result"
    }
   ],
   "source": [
    "weights = mymodel3.get_weights()\n",
    "pd.DataFrame(np.squeeze(weights[0]).transpose())"
   ]
  },
  {
   "cell_type": "code",
   "execution_count": 85,
   "metadata": {},
   "outputs": [],
   "source": [
    "test = pd.DataFrame(np.squeeze(weights[0]).transpose())"
   ]
  },
  {
   "cell_type": "code",
   "execution_count": 86,
   "metadata": {},
   "outputs": [],
   "source": [
    "test += 0.001\n",
    "test = test / test.sum(axis=0)"
   ]
  },
  {
   "cell_type": "code",
   "execution_count": 83,
   "metadata": {},
   "outputs": [
    {
     "data": {
      "text/plain": [
       "0     1.0\n",
       "1     1.0\n",
       "2     1.0\n",
       "3     1.0\n",
       "4     1.0\n",
       "5     1.0\n",
       "6     1.0\n",
       "7     1.0\n",
       "8     1.0\n",
       "9     1.0\n",
       "10    1.0\n",
       "11    1.0\n",
       "dtype: float32"
      ]
     },
     "execution_count": 83,
     "metadata": {},
     "output_type": "execute_result"
    }
   ],
   "source": [
    "test.sum(axis=0)"
   ]
  },
  {
   "cell_type": "code",
   "execution_count": 92,
   "metadata": {},
   "outputs": [],
   "source": [
    "test.index = sorted(list('ACGTN'))"
   ]
  },
  {
   "cell_type": "code",
   "execution_count": 98,
   "metadata": {},
   "outputs": [],
   "source": [
    "test = test.transpose()\n",
    "test['-'] = 0"
   ]
  },
  {
   "cell_type": "code",
   "execution_count": 99,
   "metadata": {},
   "outputs": [
    {
     "data": {
      "text/html": [
       "<div>\n",
       "<style scoped>\n",
       "    .dataframe tbody tr th:only-of-type {\n",
       "        vertical-align: middle;\n",
       "    }\n",
       "\n",
       "    .dataframe tbody tr th {\n",
       "        vertical-align: top;\n",
       "    }\n",
       "\n",
       "    .dataframe thead th {\n",
       "        text-align: right;\n",
       "    }\n",
       "</style>\n",
       "<table border=\"1\" class=\"dataframe\">\n",
       "  <thead>\n",
       "    <tr style=\"text-align: right;\">\n",
       "      <th></th>\n",
       "      <th>A</th>\n",
       "      <th>C</th>\n",
       "      <th>G</th>\n",
       "      <th>N</th>\n",
       "      <th>T</th>\n",
       "      <th>-</th>\n",
       "    </tr>\n",
       "  </thead>\n",
       "  <tbody>\n",
       "    <tr>\n",
       "      <th>0</th>\n",
       "      <td>0.212363</td>\n",
       "      <td>0.352400</td>\n",
       "      <td>0.014195</td>\n",
       "      <td>0.010221</td>\n",
       "      <td>0.410820</td>\n",
       "      <td>0</td>\n",
       "    </tr>\n",
       "    <tr>\n",
       "      <th>1</th>\n",
       "      <td>0.280587</td>\n",
       "      <td>0.090577</td>\n",
       "      <td>0.007171</td>\n",
       "      <td>0.305597</td>\n",
       "      <td>0.316068</td>\n",
       "      <td>0</td>\n",
       "    </tr>\n",
       "    <tr>\n",
       "      <th>2</th>\n",
       "      <td>0.251507</td>\n",
       "      <td>0.280683</td>\n",
       "      <td>0.002137</td>\n",
       "      <td>0.176374</td>\n",
       "      <td>0.289299</td>\n",
       "      <td>0</td>\n",
       "    </tr>\n",
       "    <tr>\n",
       "      <th>3</th>\n",
       "      <td>0.177495</td>\n",
       "      <td>0.326510</td>\n",
       "      <td>0.005392</td>\n",
       "      <td>0.468032</td>\n",
       "      <td>0.022572</td>\n",
       "      <td>0</td>\n",
       "    </tr>\n",
       "    <tr>\n",
       "      <th>4</th>\n",
       "      <td>0.376913</td>\n",
       "      <td>0.005361</td>\n",
       "      <td>0.005361</td>\n",
       "      <td>0.030110</td>\n",
       "      <td>0.582254</td>\n",
       "      <td>0</td>\n",
       "    </tr>\n",
       "    <tr>\n",
       "      <th>5</th>\n",
       "      <td>0.345178</td>\n",
       "      <td>0.181224</td>\n",
       "      <td>0.151185</td>\n",
       "      <td>0.003012</td>\n",
       "      <td>0.319401</td>\n",
       "      <td>0</td>\n",
       "    </tr>\n",
       "    <tr>\n",
       "      <th>6</th>\n",
       "      <td>0.182175</td>\n",
       "      <td>0.286852</td>\n",
       "      <td>0.005948</td>\n",
       "      <td>0.037006</td>\n",
       "      <td>0.488019</td>\n",
       "      <td>0</td>\n",
       "    </tr>\n",
       "    <tr>\n",
       "      <th>7</th>\n",
       "      <td>0.017136</td>\n",
       "      <td>0.045089</td>\n",
       "      <td>0.009787</td>\n",
       "      <td>0.173090</td>\n",
       "      <td>0.754897</td>\n",
       "      <td>0</td>\n",
       "    </tr>\n",
       "    <tr>\n",
       "      <th>8</th>\n",
       "      <td>0.549232</td>\n",
       "      <td>0.333663</td>\n",
       "      <td>0.004377</td>\n",
       "      <td>0.089538</td>\n",
       "      <td>0.023191</td>\n",
       "      <td>0</td>\n",
       "    </tr>\n",
       "    <tr>\n",
       "      <th>9</th>\n",
       "      <td>0.113861</td>\n",
       "      <td>0.027211</td>\n",
       "      <td>0.005323</td>\n",
       "      <td>0.628196</td>\n",
       "      <td>0.225409</td>\n",
       "      <td>0</td>\n",
       "    </tr>\n",
       "    <tr>\n",
       "      <th>10</th>\n",
       "      <td>0.649885</td>\n",
       "      <td>0.008301</td>\n",
       "      <td>0.008301</td>\n",
       "      <td>0.057484</td>\n",
       "      <td>0.276030</td>\n",
       "      <td>0</td>\n",
       "    </tr>\n",
       "    <tr>\n",
       "      <th>11</th>\n",
       "      <td>0.166245</td>\n",
       "      <td>0.230103</td>\n",
       "      <td>0.008286</td>\n",
       "      <td>0.209748</td>\n",
       "      <td>0.385618</td>\n",
       "      <td>0</td>\n",
       "    </tr>\n",
       "  </tbody>\n",
       "</table>\n",
       "</div>"
      ],
      "text/plain": [
       "           A         C         G         N         T  -\n",
       "0   0.212363  0.352400  0.014195  0.010221  0.410820  0\n",
       "1   0.280587  0.090577  0.007171  0.305597  0.316068  0\n",
       "2   0.251507  0.280683  0.002137  0.176374  0.289299  0\n",
       "3   0.177495  0.326510  0.005392  0.468032  0.022572  0\n",
       "4   0.376913  0.005361  0.005361  0.030110  0.582254  0\n",
       "5   0.345178  0.181224  0.151185  0.003012  0.319401  0\n",
       "6   0.182175  0.286852  0.005948  0.037006  0.488019  0\n",
       "7   0.017136  0.045089  0.009787  0.173090  0.754897  0\n",
       "8   0.549232  0.333663  0.004377  0.089538  0.023191  0\n",
       "9   0.113861  0.027211  0.005323  0.628196  0.225409  0\n",
       "10  0.649885  0.008301  0.008301  0.057484  0.276030  0\n",
       "11  0.166245  0.230103  0.008286  0.209748  0.385618  0"
      ]
     },
     "execution_count": 99,
     "metadata": {},
     "output_type": "execute_result"
    }
   ],
   "source": [
    "test"
   ]
  },
  {
   "cell_type": "code",
   "execution_count": 102,
   "metadata": {},
   "outputs": [],
   "source": [
    "import seqlogo\n",
    "\n",
    "test1 = seqlogo.CompletePm(pfm = test.transpose(), background = 0.25, alphabet_type = \"reduced DNA\")"
   ]
  },
  {
   "cell_type": "code",
   "execution_count": 108,
   "metadata": {},
   "outputs": [
    {
     "data": {
      "image/svg+xml": "<svg xmlns=\"http://www.w3.org/2000/svg\" xmlns:xlink=\"http://www.w3.org/1999/xlink\" width=\"560pt\" height=\"237pt\" viewBox=\"0 0 560 237\" version=\"1.1\">\n<defs>\n<g>\n<symbol overflow=\"visible\" id=\"glyph0-0 2115795690584364919\">\n<path style=\"stroke:none;\" d=\"\"/>\n</symbol>\n<symbol overflow=\"visible\" id=\"glyph0-1 2115795690584364919\">\n<path style=\"stroke:none;\" d=\"M 2.203125 -5.671875 C 1.671875 -5.671875 1.1875 -5.4375 0.890625 -5.046875 C 0.53125 -4.546875 0.34375 -3.796875 0.34375 -2.75 C 0.34375 -0.828125 0.984375 0.1875 2.203125 0.1875 C 3.40625 0.1875 4.0625 -0.828125 4.0625 -2.703125 C 4.0625 -3.796875 3.875 -4.53125 3.5 -5.046875 C 3.203125 -5.453125 2.734375 -5.671875 2.203125 -5.671875 Z M 2.203125 -5.046875 C 2.953125 -5.046875 3.34375 -4.28125 3.34375 -2.765625 C 3.34375 -1.15625 2.96875 -0.40625 2.1875 -0.40625 C 1.4375 -0.40625 1.0625 -1.1875 1.0625 -2.734375 C 1.0625 -4.28125 1.4375 -5.046875 2.203125 -5.046875 Z M 2.203125 -5.046875 \"/>\n</symbol>\n<symbol overflow=\"visible\" id=\"glyph0-2 2115795690584364919\">\n<path style=\"stroke:none;\" d=\"M 1.53125 -0.828125 L 0.703125 -0.828125 L 0.703125 0 L 1.53125 0 Z M 1.53125 -0.828125 \"/>\n</symbol>\n<symbol overflow=\"visible\" id=\"glyph0-3 2115795690584364919\">\n<path style=\"stroke:none;\" d=\"M 3.8125 -5.671875 L 0.875 -5.671875 L 0.453125 -2.578125 L 1.109375 -2.578125 C 1.4375 -2.96875 1.703125 -3.109375 2.15625 -3.109375 C 2.90625 -3.109375 3.390625 -2.59375 3.390625 -1.75 C 3.390625 -0.9375 2.90625 -0.4375 2.140625 -0.4375 C 1.53125 -0.4375 1.15625 -0.75 0.984375 -1.390625 L 0.28125 -1.390625 C 0.375 -0.921875 0.453125 -0.703125 0.625 -0.5 C 0.9375 -0.0625 1.515625 0.1875 2.15625 0.1875 C 3.296875 0.1875 4.109375 -0.640625 4.109375 -1.84375 C 4.109375 -2.96875 3.359375 -3.734375 2.265625 -3.734375 C 1.875 -3.734375 1.546875 -3.625 1.21875 -3.390625 L 1.453125 -4.96875 L 3.8125 -4.96875 Z M 3.8125 -5.671875 \"/>\n</symbol>\n<symbol overflow=\"visible\" id=\"glyph0-4 2115795690584364919\">\n<path style=\"stroke:none;\" d=\"M 2.078125 -4.046875 L 2.078125 0 L 2.78125 0 L 2.78125 -5.671875 L 2.3125 -5.671875 C 2.0625 -4.796875 1.90625 -4.6875 0.8125 -4.546875 L 0.8125 -4.046875 Z M 2.078125 -4.046875 \"/>\n</symbol>\n<symbol overflow=\"visible\" id=\"glyph1-0 2115795690584364919\">\n<path style=\"stroke:none;\" d=\"\"/>\n</symbol>\n<symbol overflow=\"visible\" id=\"glyph1-1 2115795690584364919\">\n<path style=\"stroke:none;\" d=\"M 2.1875 -0.546875 L 2.1875 -1.375 L -0.546875 -1.375 C -0.015625 -1.8125 0.234375 -2.3125 0.234375 -2.984375 C 0.234375 -4.34375 -0.859375 -5.234375 -2.53125 -5.234375 C -4.296875 -5.234375 -5.390625 -4.375 -5.390625 -2.984375 C -5.390625 -2.265625 -5.0625 -1.703125 -4.453125 -1.3125 L -5.234375 -1.3125 L -5.234375 -0.546875 Z M -4.609375 -2.84375 C -4.609375 -3.765625 -3.796875 -4.359375 -2.546875 -4.359375 C -1.359375 -4.359375 -0.546875 -3.75 -0.546875 -2.84375 C -0.546875 -1.953125 -1.34375 -1.375 -2.578125 -1.375 C -3.8125 -1.375 -4.609375 -1.953125 -4.609375 -2.84375 Z M -4.609375 -2.84375 \"/>\n</symbol>\n<symbol overflow=\"visible\" id=\"glyph1-2 2115795690584364919\">\n<path style=\"stroke:none;\" d=\"M -5.234375 -0.6875 L 0 -0.6875 L 0 -1.53125 L -2.71875 -1.53125 C -3.984375 -1.546875 -4.546875 -2.0625 -4.515625 -3.203125 L -5.359375 -3.203125 C -5.375 -3.0625 -5.390625 -2.984375 -5.390625 -2.890625 C -5.390625 -2.34375 -5.0625 -1.9375 -4.296875 -1.453125 L -5.234375 -1.453125 Z M -5.234375 -0.6875 \"/>\n</symbol>\n<symbol overflow=\"visible\" id=\"glyph1-3 2115795690584364919\">\n<path style=\"stroke:none;\" d=\"M -5.390625 -2.71875 C -5.390625 -1.234375 -4.34375 -0.359375 -2.578125 -0.359375 C -0.8125 -0.359375 0.234375 -1.234375 0.234375 -2.734375 C 0.234375 -4.203125 -0.8125 -5.09375 -2.546875 -5.09375 C -4.359375 -5.09375 -5.390625 -4.234375 -5.390625 -2.71875 Z M -4.625 -2.734375 C -4.625 -3.671875 -3.84375 -4.234375 -2.546875 -4.234375 C -1.3125 -4.234375 -0.546875 -3.65625 -0.546875 -2.734375 C -0.546875 -1.796875 -1.3125 -1.234375 -2.578125 -1.234375 C -3.84375 -1.234375 -4.625 -1.796875 -4.625 -2.734375 Z M -4.625 -2.734375 \"/>\n</symbol>\n<symbol overflow=\"visible\" id=\"glyph1-4 2115795690584364919\">\n<path style=\"stroke:none;\" d=\"M -7.296875 -0.546875 L 0 -0.546875 L 0 -1.296875 L -0.671875 -1.296875 C -0.0625 -1.6875 0.234375 -2.21875 0.234375 -2.953125 C 0.234375 -4.328125 -0.90625 -5.234375 -2.640625 -5.234375 C -4.34375 -5.234375 -5.390625 -4.375 -5.390625 -2.984375 C -5.390625 -2.265625 -5.125 -1.765625 -4.53125 -1.375 L -7.296875 -1.375 Z M -4.609375 -2.828125 C -4.609375 -3.765625 -3.796875 -4.359375 -2.546875 -4.359375 C -1.359375 -4.359375 -0.546875 -3.734375 -0.546875 -2.828125 C -0.546875 -1.9375 -1.34375 -1.375 -2.578125 -1.375 C -3.8125 -1.375 -4.609375 -1.9375 -4.609375 -2.828125 Z M -4.609375 -2.828125 \"/>\n</symbol>\n<symbol overflow=\"visible\" id=\"glyph1-5 2115795690584364919\">\n<path style=\"stroke:none;\" d=\"M -0.484375 -5.34375 C -0.46875 -5.265625 -0.46875 -5.21875 -0.46875 -5.171875 C -0.46875 -4.875 -0.625 -4.71875 -0.875 -4.71875 L -3.953125 -4.71875 C -4.890625 -4.71875 -5.390625 -4.046875 -5.390625 -2.75 C -5.390625 -1.984375 -5.171875 -1.375 -4.78125 -1.015625 C -4.515625 -0.765625 -4.203125 -0.671875 -3.6875 -0.65625 L -3.6875 -1.484375 C -4.328125 -1.5625 -4.625 -1.9375 -4.625 -2.71875 C -4.625 -3.484375 -4.34375 -3.890625 -3.84375 -3.890625 L -3.625 -3.890625 C -3.265625 -3.875 -3.125 -3.703125 -3.046875 -3.015625 C -2.890625 -1.84375 -2.84375 -1.65625 -2.71875 -1.34375 C -2.453125 -0.734375 -2 -0.421875 -1.3125 -0.421875 C -0.375 -0.421875 0.234375 -1.078125 0.234375 -2.140625 C 0.234375 -2.796875 0 -3.328125 -0.546875 -3.921875 C 0 -3.984375 0.234375 -4.234375 0.234375 -4.78125 C 0.234375 -4.953125 0.203125 -5.0625 0.140625 -5.34375 Z M -1.65625 -3.890625 C -1.375 -3.890625 -1.203125 -3.8125 -0.96875 -3.5625 C -0.65625 -3.21875 -0.5 -2.8125 -0.5 -2.3125 C -0.5 -1.671875 -0.8125 -1.296875 -1.34375 -1.296875 C -1.890625 -1.296875 -2.171875 -1.65625 -2.296875 -2.546875 C -2.421875 -3.4375 -2.453125 -3.609375 -2.59375 -3.890625 Z M -1.65625 -3.890625 \"/>\n</symbol>\n<symbol overflow=\"visible\" id=\"glyph1-6 2115795690584364919\">\n<path style=\"stroke:none;\" d=\"M -5.234375 -1.5 L -5.234375 -0.671875 L 0 -0.671875 L 0 -1.5 Z M -7.296875 -1.5 L -7.296875 -0.65625 L -6.234375 -0.65625 L -6.234375 -1.5 Z M -7.296875 -1.5 \"/>\n</symbol>\n<symbol overflow=\"visible\" id=\"glyph1-7 2115795690584364919\">\n<path style=\"stroke:none;\" d=\"M -7.296875 -1.515625 L -7.296875 -0.6875 L 0 -0.6875 L 0 -1.515625 Z M -7.296875 -1.515625 \"/>\n</symbol>\n<symbol overflow=\"visible\" id=\"glyph1-8 2115795690584364919\">\n<path style=\"stroke:none;\" d=\"M -5.234375 -2.546875 L -5.234375 -1.6875 L -6.6875 -1.6875 L -6.6875 -0.84375 L -5.234375 -0.84375 L -5.234375 -0.140625 L -4.5625 -0.140625 L -4.5625 -0.84375 L -0.59375 -0.84375 C -0.0625 -0.84375 0.234375 -1.203125 0.234375 -1.859375 C 0.234375 -2.078125 0.203125 -2.265625 0.15625 -2.546875 L -0.546875 -2.546875 C -0.515625 -2.421875 -0.5 -2.3125 -0.5 -2.140625 C -0.5 -1.78125 -0.59375 -1.6875 -0.96875 -1.6875 L -4.5625 -1.6875 L -4.5625 -2.546875 Z M -5.234375 -2.546875 \"/>\n</symbol>\n<symbol overflow=\"visible\" id=\"glyph1-9 2115795690584364919\">\n<path style=\"stroke:none;\" d=\"M -5.234375 -3.875 L -1.15625 -2.4375 L -5.234375 -1.09375 L -5.234375 -0.203125 L 0.015625 -1.96875 L 0.84375 -1.65625 C 1.21875 -1.515625 1.359375 -1.328125 1.359375 -0.984375 C 1.359375 -0.84375 1.34375 -0.71875 1.296875 -0.546875 L 2.046875 -0.546875 C 2.140625 -0.703125 2.1875 -0.875 2.1875 -1.09375 C 2.1875 -1.375 2.09375 -1.65625 1.9375 -1.875 C 1.734375 -2.140625 1.515625 -2.296875 1.09375 -2.453125 L -5.234375 -4.78125 Z M -5.234375 -3.875 \"/>\n</symbol>\n<symbol overflow=\"visible\" id=\"glyph2-0 2115795690584364919\">\n<path style=\"stroke:none;\" d=\"\"/>\n</symbol>\n<symbol overflow=\"visible\" id=\"glyph2-1 2115795690584364919\">\n<path style=\"stroke:none;\" d=\"M 16.484375 -1.46875 L 25.609375 -1.46875 L 25.609375 -1.78125 L 0.59375 -1.78125 L 0.59375 -1.46875 L 10.0625 -1.46875 L 10.0625 0 L 16.484375 0 Z M 16.484375 -1.46875 \"/>\n</symbol>\n<symbol overflow=\"visible\" id=\"glyph3-0 2115795690584364919\">\n<path style=\"stroke:none;\" d=\"\"/>\n</symbol>\n<symbol overflow=\"visible\" id=\"glyph3-1 2115795690584364919\">\n<path style=\"stroke:none;\" d=\"M 26.609375 -1.328125 L 15.6875 -1.328125 L 15.6875 -0.90625 L 21.890625 -0.90625 C 21.734375 -0.765625 21.375 -0.6875 20.546875 -0.59375 C 19.203125 -0.453125 17.109375 -0.359375 14.96875 -0.359375 C 10.40625 -0.359375 7.1875 -0.71875 7.1875 -1.234375 C 7.1875 -1.765625 10.03125 -2.09375 14.8125 -2.09375 C 16.765625 -2.09375 18.40625 -2.03125 19.640625 -1.9375 C 20.4375 -1.875 20.84375 -1.8125 21.328125 -1.6875 L 26.609375 -1.6875 C 25.9375 -2.203125 21.375 -2.53125 14.78125 -2.53125 C 6.921875 -2.53125 1.578125 -2 1.578125 -1.21875 C 1.578125 -0.46875 6.953125 0.078125 14.328125 0.078125 C 18 0.078125 20.46875 -0.046875 22.5625 -0.3125 L 23.234375 0 L 26.609375 0 Z M 26.609375 -1.328125 \"/>\n</symbol>\n<symbol overflow=\"visible\" id=\"glyph4-0 2115795690584364919\">\n<path style=\"stroke:none;\" d=\"\"/>\n</symbol>\n<symbol overflow=\"visible\" id=\"glyph4-1 2115795690584364919\">\n<path style=\"stroke:none;\" d=\"M 18.53125 -9.21875 L 20.3125 0 L 26.015625 0 L 16.6875 -45.703125 L 10.546875 -45.703125 L 0.96875 0 L 6.625 0 L 8.4375 -9.21875 Z M 17.015625 -17.0625 L 9.984375 -17.0625 L 13.5 -34.921875 Z M 17.015625 -17.0625 \"/>\n</symbol>\n<symbol overflow=\"visible\" id=\"glyph5-0 2115795690584364919\">\n<path style=\"stroke:none;\" d=\"\"/>\n</symbol>\n<symbol overflow=\"visible\" id=\"glyph5-1 2115795690584364919\">\n<path style=\"stroke:none;\" d=\"M 26.609375 -48.0625 C 26.40625 -54.34375 25.90625 -58.328125 24.703125 -62.421875 C 22.515625 -69.796875 19 -73.875 14.75 -73.875 C 6.703125 -73.875 1.71875 -59.21875 1.71875 -35.6875 C 1.71875 -12.265625 6.671875 2.296875 14.59375 2.296875 C 21.6875 2.296875 26.375 -8.171875 26.71875 -24.828125 L 21.03125 -24.828125 C 20.640625 -15.546875 18.375 -10.265625 14.75 -10.265625 C 10.21875 -10.265625 7.5625 -19.640625 7.5625 -35.5 C 7.5625 -51.546875 10.34375 -61.125 14.9375 -61.125 C 18.34375 -61.125 20.25 -56.9375 21.03125 -48.0625 Z M 26.609375 -48.0625 \"/>\n</symbol>\n<symbol overflow=\"visible\" id=\"glyph6-0 2115795690584364919\">\n<path style=\"stroke:none;\" d=\"\"/>\n</symbol>\n<symbol overflow=\"visible\" id=\"glyph6-1 2115795690584364919\">\n<path style=\"stroke:none;\" d=\"M 21.609375 0 L 27.953125 0 L 27.953125 -88.8125 L 21.609375 -88.8125 L 21.609375 -28.390625 L 9.390625 -88.8125 L 2.875 -88.8125 L 2.875 0 L 9.21875 0 L 9.21875 -61.40625 Z M 21.609375 0 \"/>\n</symbol>\n<symbol overflow=\"visible\" id=\"glyph7-0 2115795690584364919\">\n<path style=\"stroke:none;\" d=\"\"/>\n</symbol>\n<symbol overflow=\"visible\" id=\"glyph7-1 2115795690584364919\">\n<path style=\"stroke:none;\" d=\"M 30.921875 -0.546875 L 18.21875 -0.546875 L 18.21875 -0.375 L 25.453125 -0.375 C 25.28125 -0.3125 24.84375 -0.28125 23.875 -0.25 C 22.3125 -0.1875 19.875 -0.140625 17.40625 -0.140625 C 12.09375 -0.140625 8.359375 -0.296875 8.359375 -0.5 C 8.359375 -0.734375 11.65625 -0.859375 17.21875 -0.859375 C 19.484375 -0.859375 21.40625 -0.84375 22.84375 -0.796875 C 23.75 -0.78125 24.234375 -0.75 24.796875 -0.703125 L 30.921875 -0.703125 C 30.140625 -0.90625 24.84375 -1.046875 17.1875 -1.046875 C 8.046875 -1.046875 1.828125 -0.828125 1.828125 -0.5 C 1.828125 -0.1875 8.09375 0.03125 16.65625 0.03125 C 20.921875 0.03125 23.796875 -0.015625 26.234375 -0.125 L 27.015625 0 L 30.921875 0 Z M 30.921875 -0.546875 \"/>\n</symbol>\n<symbol overflow=\"visible\" id=\"glyph8-0 2115795690584364919\">\n<path style=\"stroke:none;\" d=\"\"/>\n</symbol>\n<symbol overflow=\"visible\" id=\"glyph8-1 2115795690584364919\">\n<path style=\"stroke:none;\" d=\"M 30.90625 -12.140625 C 30.671875 -13.734375 30.09375 -14.75 28.6875 -15.78125 C 26.140625 -17.640625 22.0625 -18.671875 17.125 -18.671875 C 7.796875 -18.671875 2 -14.96875 2 -9.015625 C 2 -3.09375 7.75 0.578125 16.953125 0.578125 C 25.1875 0.578125 30.625 -2.0625 31.03125 -6.28125 L 24.421875 -6.28125 C 23.96875 -3.9375 21.34375 -2.59375 17.125 -2.59375 C 11.875 -2.59375 8.796875 -4.96875 8.796875 -8.96875 C 8.796875 -13.03125 12 -15.453125 17.359375 -15.453125 C 21.296875 -15.453125 23.515625 -14.390625 24.421875 -12.140625 Z M 30.90625 -12.140625 \"/>\n</symbol>\n<symbol overflow=\"visible\" id=\"glyph9-0 2115795690584364919\">\n<path style=\"stroke:none;\" d=\"\"/>\n</symbol>\n<symbol overflow=\"visible\" id=\"glyph9-1 2115795690584364919\">\n<path style=\"stroke:none;\" d=\"M 21.515625 -12.21875 L 23.578125 0 L 30.1875 0 L 19.359375 -60.578125 L 12.234375 -60.578125 L 1.109375 0 L 7.6875 0 L 9.796875 -12.21875 Z M 19.75 -22.59375 L 11.59375 -22.59375 L 15.671875 -46.28125 Z M 19.75 -22.59375 \"/>\n</symbol>\n<symbol overflow=\"visible\" id=\"glyph10-0 2115795690584364919\">\n<path style=\"stroke:none;\" d=\"\"/>\n</symbol>\n<symbol overflow=\"visible\" id=\"glyph10-1 2115795690584364919\">\n<path style=\"stroke:none;\" d=\"M 19.15625 -54.6875 L 29.75 -54.6875 L 29.75 -66 L 0.703125 -66 L 0.703125 -54.6875 L 11.6875 -54.6875 L 11.6875 0 L 19.15625 0 Z M 19.15625 -54.6875 \"/>\n</symbol>\n<symbol overflow=\"visible\" id=\"glyph11-0 2115795690584364919\">\n<path style=\"stroke:none;\" d=\"\"/>\n</symbol>\n<symbol overflow=\"visible\" id=\"glyph11-1 2115795690584364919\">\n<path style=\"stroke:none;\" d=\"M 25.03125 0 L 32.375 0 L 32.375 -68.203125 L 25.03125 -68.203125 L 25.03125 -21.796875 L 10.875 -68.203125 L 3.328125 -68.203125 L 3.328125 0 L 10.671875 0 L 10.671875 -47.15625 Z M 25.03125 0 \"/>\n</symbol>\n<symbol overflow=\"visible\" id=\"glyph12-0 2115795690584364919\">\n<path style=\"stroke:none;\" d=\"\"/>\n</symbol>\n<symbol overflow=\"visible\" id=\"glyph12-1 2115795690584364919\">\n<path style=\"stroke:none;\" d=\"M 19.890625 -31.359375 L 30.890625 -31.359375 L 30.890625 -37.84375 L 0.71875 -37.84375 L 0.71875 -31.359375 L 12.140625 -31.359375 L 12.140625 0 L 19.890625 0 Z M 19.890625 -31.359375 \"/>\n</symbol>\n<symbol overflow=\"visible\" id=\"glyph13-0 2115795690584364919\">\n<path style=\"stroke:none;\" d=\"\"/>\n</symbol>\n<symbol overflow=\"visible\" id=\"glyph13-1 2115795690584364919\">\n<path style=\"stroke:none;\" d=\"M 22.359375 -10.921875 L 24.5 0 L 31.375 0 L 20.125 -54.15625 L 12.71875 -54.15625 L 1.15625 0 L 7.984375 0 L 10.171875 -10.921875 Z M 20.53125 -20.203125 L 12.046875 -20.203125 L 16.28125 -41.390625 Z M 20.53125 -20.203125 \"/>\n</symbol>\n<symbol overflow=\"visible\" id=\"glyph14-0 2115795690584364919\">\n<path style=\"stroke:none;\" d=\"\"/>\n</symbol>\n<symbol overflow=\"visible\" id=\"glyph14-1 2115795690584364919\">\n<path style=\"stroke:none;\" d=\"M 32.1875 -38.171875 C 31.953125 -43.15625 31.328125 -46.328125 29.875 -49.578125 C 27.234375 -55.4375 22.984375 -58.671875 17.84375 -58.671875 C 8.109375 -58.671875 2.078125 -47.03125 2.078125 -28.34375 C 2.078125 -9.734375 8.0625 1.828125 17.640625 1.828125 C 26.234375 1.828125 31.90625 -6.5 32.328125 -19.71875 L 25.4375 -19.71875 C 24.96875 -12.359375 22.21875 -8.15625 17.84375 -8.15625 C 12.359375 -8.15625 9.15625 -15.59375 9.15625 -28.1875 C 9.15625 -40.9375 12.5 -48.546875 18.078125 -48.546875 C 22.171875 -48.546875 24.484375 -45.21875 25.4375 -38.171875 Z M 32.1875 -38.171875 \"/>\n</symbol>\n<symbol overflow=\"visible\" id=\"glyph15-0 2115795690584364919\">\n<path style=\"stroke:none;\" d=\"\"/>\n</symbol>\n<symbol overflow=\"visible\" id=\"glyph15-1 2115795690584364919\">\n<path style=\"stroke:none;\" d=\"M 26.046875 0 L 33.703125 0 L 33.703125 -62.46875 L 26.046875 -62.46875 L 26.046875 -19.96875 L 11.3125 -62.46875 L 3.46875 -62.46875 L 3.46875 0 L 11.109375 0 L 11.109375 -43.1875 Z M 26.046875 0 \"/>\n</symbol>\n<symbol overflow=\"visible\" id=\"glyph16-0 2115795690584364919\">\n<path style=\"stroke:none;\" d=\"\"/>\n</symbol>\n<symbol overflow=\"visible\" id=\"glyph16-1 2115795690584364919\">\n<path style=\"stroke:none;\" d=\"M 44.1875 -0.328125 L 26.046875 -0.328125 L 26.046875 -0.21875 L 36.359375 -0.21875 C 36.109375 -0.1875 35.484375 -0.171875 34.125 -0.140625 C 31.890625 -0.109375 28.40625 -0.09375 24.859375 -0.09375 C 17.28125 -0.09375 11.9375 -0.1875 11.9375 -0.296875 C 11.9375 -0.4375 16.65625 -0.515625 24.609375 -0.515625 C 27.84375 -0.515625 30.578125 -0.5 32.625 -0.46875 C 33.9375 -0.46875 34.625 -0.453125 35.421875 -0.421875 L 44.1875 -0.421875 C 43.078125 -0.546875 35.484375 -0.625 24.546875 -0.625 C 11.5 -0.625 2.609375 -0.5 2.609375 -0.296875 C 2.609375 -0.125 11.5625 0.015625 23.8125 0.015625 C 29.890625 0.015625 34 -0.015625 37.484375 -0.078125 L 38.59375 0 L 44.1875 0 Z M 44.1875 -0.328125 \"/>\n</symbol>\n<symbol overflow=\"visible\" id=\"glyph17-0 2115795690584364919\">\n<path style=\"stroke:none;\" d=\"\"/>\n</symbol>\n<symbol overflow=\"visible\" id=\"glyph17-1 2115795690584364919\">\n<path style=\"stroke:none;\" d=\"M 35.828125 0 L 46.359375 0 L 46.359375 -4.359375 L 35.828125 -4.359375 L 35.828125 -1.390625 L 15.5625 -4.359375 L 4.765625 -4.359375 L 4.765625 0 L 15.28125 0 L 15.28125 -3.015625 Z M 35.828125 0 \"/>\n</symbol>\n<symbol overflow=\"visible\" id=\"glyph18-0 2115795690584364919\">\n<path style=\"stroke:none;\" d=\"\"/>\n</symbol>\n<symbol overflow=\"visible\" id=\"glyph18-1 2115795690584364919\">\n<path style=\"stroke:none;\" d=\"M 30.703125 -7.6875 L 33.65625 0 L 43.09375 0 L 27.640625 -38.109375 L 17.46875 -38.109375 L 1.59375 0 L 10.96875 0 L 13.96875 -7.6875 Z M 28.203125 -14.21875 L 16.546875 -14.21875 L 22.375 -29.125 Z M 28.203125 -14.21875 \"/>\n</symbol>\n<symbol overflow=\"visible\" id=\"glyph19-0 2115795690584364919\">\n<path style=\"stroke:none;\" d=\"\"/>\n</symbol>\n<symbol overflow=\"visible\" id=\"glyph19-1 2115795690584364919\">\n<path style=\"stroke:none;\" d=\"M 44.21875 -44.484375 C 43.890625 -50.296875 43.046875 -54 41.03125 -57.78125 C 37.40625 -64.609375 31.578125 -68.390625 24.5 -68.390625 C 11.15625 -68.390625 2.859375 -54.828125 2.859375 -33.046875 C 2.859375 -11.359375 11.078125 2.125 24.25 2.125 C 36.046875 2.125 43.828125 -7.5625 44.40625 -22.984375 L 34.9375 -22.984375 C 34.296875 -14.390625 30.53125 -9.5 24.5 -9.5 C 16.984375 -9.5 12.578125 -18.1875 12.578125 -32.859375 C 12.578125 -47.71875 17.171875 -56.578125 24.828125 -56.578125 C 30.46875 -56.578125 33.640625 -52.703125 34.9375 -44.484375 Z M 44.21875 -44.484375 \"/>\n</symbol>\n<symbol overflow=\"visible\" id=\"glyph20-0 2115795690584364919\">\n<path style=\"stroke:none;\" d=\"\"/>\n</symbol>\n<symbol overflow=\"visible\" id=\"glyph20-1 2115795690584364919\">\n<path style=\"stroke:none;\" d=\"M 27.359375 -83.96875 L 42.5 -83.96875 L 42.5 -101.34375 L 1 -101.34375 L 1 -83.96875 L 16.703125 -83.96875 L 16.703125 0 L 27.359375 0 Z M 27.359375 -83.96875 \"/>\n</symbol>\n<symbol overflow=\"visible\" id=\"glyph21-0 2115795690584364919\">\n<path style=\"stroke:none;\" d=\"\"/>\n</symbol>\n<symbol overflow=\"visible\" id=\"glyph21-1 2115795690584364919\">\n<path style=\"stroke:none;\" d=\"M 18.828125 -0.328125 L 11.09375 -0.328125 L 11.09375 -0.21875 L 15.5 -0.21875 C 15.390625 -0.1875 15.125 -0.171875 14.546875 -0.140625 C 13.59375 -0.109375 12.109375 -0.09375 10.59375 -0.09375 C 7.359375 -0.09375 5.078125 -0.1875 5.078125 -0.296875 C 5.078125 -0.421875 7.09375 -0.5 10.484375 -0.5 C 11.859375 -0.5 13.03125 -0.484375 13.90625 -0.46875 C 14.453125 -0.453125 14.75 -0.4375 15.09375 -0.40625 L 18.828125 -0.40625 C 18.359375 -0.53125 15.125 -0.609375 10.46875 -0.609375 C 4.90625 -0.609375 1.109375 -0.484375 1.109375 -0.296875 C 1.109375 -0.109375 4.921875 0.015625 10.140625 0.015625 C 12.734375 0.015625 14.484375 -0.015625 15.96875 -0.078125 L 16.453125 0 L 18.828125 0 Z M 18.828125 -0.328125 \"/>\n</symbol>\n<symbol overflow=\"visible\" id=\"glyph22-0 2115795690584364919\">\n<path style=\"stroke:none;\" d=\"\"/>\n</symbol>\n<symbol overflow=\"visible\" id=\"glyph22-1 2115795690584364919\">\n<path style=\"stroke:none;\" d=\"M 18.921875 -0.40625 C 18.78125 -0.453125 18.421875 -0.484375 17.5625 -0.515625 C 16.015625 -0.578125 13.515625 -0.609375 10.484375 -0.609375 C 4.765625 -0.609375 1.21875 -0.484375 1.21875 -0.296875 C 1.21875 -0.109375 4.75 0.015625 10.375 0.015625 C 15.421875 0.015625 18.765625 -0.0625 19.015625 -0.203125 L 14.953125 -0.203125 C 14.6875 -0.125 13.0625 -0.09375 10.484375 -0.09375 C 7.265625 -0.09375 5.390625 -0.171875 5.390625 -0.296875 C 5.390625 -0.421875 7.359375 -0.5 10.625 -0.5 C 13.046875 -0.5 14.40625 -0.484375 14.953125 -0.40625 Z M 18.921875 -0.40625 \"/>\n</symbol>\n<symbol overflow=\"visible\" id=\"glyph23-0 2115795690584364919\">\n<path style=\"stroke:none;\" d=\"\"/>\n</symbol>\n<symbol overflow=\"visible\" id=\"glyph23-1 2115795690584364919\">\n<path style=\"stroke:none;\" d=\"M 11.703125 -5.046875 L 18.1875 -5.046875 L 18.1875 -6.078125 L 0.421875 -6.078125 L 0.421875 -5.046875 L 7.140625 -5.046875 L 7.140625 0 L 11.703125 0 Z M 11.703125 -5.046875 \"/>\n</symbol>\n<symbol overflow=\"visible\" id=\"glyph24-0 2115795690584364919\">\n<path style=\"stroke:none;\" d=\"\"/>\n</symbol>\n<symbol overflow=\"visible\" id=\"glyph24-1 2115795690584364919\">\n<path style=\"stroke:none;\" d=\"M 13.109375 -16.421875 L 14.375 0 L 18.40625 0 L 11.796875 -81.421875 L 7.453125 -81.421875 L 0.6875 0 L 4.6875 0 L 5.96875 -16.421875 Z M 12.046875 -30.375 L 7.0625 -30.375 L 9.546875 -62.203125 Z M 12.046875 -30.375 \"/>\n</symbol>\n<symbol overflow=\"visible\" id=\"glyph25-0 2115795690584364919\">\n<path style=\"stroke:none;\" d=\"\"/>\n</symbol>\n<symbol overflow=\"visible\" id=\"glyph25-1 2115795690584364919\">\n<path style=\"stroke:none;\" d=\"M 15.296875 0 L 19.78125 0 L 19.78125 -126.1875 L 15.296875 -126.1875 L 15.296875 -40.328125 L 6.640625 -126.1875 L 2.03125 -126.1875 L 2.03125 0 L 6.53125 0 L 6.53125 -87.234375 Z M 15.296875 0 \"/>\n</symbol>\n<symbol overflow=\"visible\" id=\"glyph26-0 2115795690584364919\">\n<path style=\"stroke:none;\" d=\"\"/>\n</symbol>\n<symbol overflow=\"visible\" id=\"glyph26-1 2115795690584364919\">\n<path style=\"stroke:none;\" d=\"M 19.078125 -0.171875 L 29.640625 -0.171875 L 29.640625 -0.21875 L 0.6875 -0.21875 L 0.6875 -0.171875 L 11.640625 -0.171875 L 11.640625 0 L 19.078125 0 Z M 19.078125 -0.171875 \"/>\n</symbol>\n<symbol overflow=\"visible\" id=\"glyph27-0 2115795690584364919\">\n<path style=\"stroke:none;\" d=\"\"/>\n</symbol>\n<symbol overflow=\"visible\" id=\"glyph27-1 2115795690584364919\">\n<path style=\"stroke:none;\" d=\"M 30.734375 -16.640625 L 18.109375 -16.640625 L 18.109375 -11.328125 L 25.296875 -11.328125 C 25.125 -9.59375 24.6875 -8.53125 23.734375 -7.421875 C 22.171875 -5.5625 19.765625 -4.453125 17.296875 -4.453125 C 12.015625 -4.453125 8.296875 -8.953125 8.296875 -15.3125 C 8.296875 -21.984375 11.59375 -26.015625 17.125 -26.015625 C 19.375 -26.015625 21.265625 -25.375 22.703125 -24.140625 C 23.609375 -23.390625 24.078125 -22.65625 24.640625 -21.046875 L 30.734375 -21.046875 C 29.96875 -27.453125 24.6875 -31.453125 17.078125 -31.453125 C 8 -31.453125 1.8125 -24.875 1.8125 -15.234375 C 1.8125 -5.859375 8.046875 0.96875 16.5625 0.96875 C 20.796875 0.96875 23.65625 -0.515625 26.0625 -3.984375 L 26.84375 0.078125 L 30.734375 0.078125 Z M 30.734375 -16.640625 \"/>\n</symbol>\n<symbol overflow=\"visible\" id=\"glyph28-0 2115795690584364919\">\n<path style=\"stroke:none;\" d=\"\"/>\n</symbol>\n<symbol overflow=\"visible\" id=\"glyph28-1 2115795690584364919\">\n<path style=\"stroke:none;\" d=\"M 30.8125 -24.578125 C 30.59375 -27.78125 30 -29.828125 28.609375 -31.921875 C 26.078125 -35.6875 22 -37.78125 17.078125 -37.78125 C 7.765625 -37.78125 1.984375 -30.28125 1.984375 -18.25 C 1.984375 -6.265625 7.734375 1.171875 16.90625 1.171875 C 25.125 1.171875 30.546875 -4.1875 30.953125 -12.6875 L 24.359375 -12.6875 C 23.90625 -7.953125 21.28125 -5.25 17.078125 -5.25 C 11.84375 -5.25 8.765625 -10.046875 8.765625 -18.15625 C 8.765625 -26.359375 11.96875 -31.25 17.3125 -31.25 C 21.234375 -31.25 23.453125 -29.109375 24.359375 -24.578125 Z M 30.8125 -24.578125 \"/>\n</symbol>\n<symbol overflow=\"visible\" id=\"glyph29-0 2115795690584364919\">\n<path style=\"stroke:none;\" d=\"\"/>\n</symbol>\n<symbol overflow=\"visible\" id=\"glyph29-1 2115795690584364919\">\n<path style=\"stroke:none;\" d=\"M 24.9375 0 L 32.265625 0 L 32.265625 -69 L 24.9375 -69 L 24.9375 -22.046875 L 10.84375 -69 L 3.3125 -69 L 3.3125 0 L 10.640625 0 L 10.640625 -47.703125 Z M 24.9375 0 \"/>\n</symbol>\n<symbol overflow=\"visible\" id=\"glyph30-0 2115795690584364919\">\n<path style=\"stroke:none;\" d=\"\"/>\n</symbol>\n<symbol overflow=\"visible\" id=\"glyph30-1 2115795690584364919\">\n<path style=\"stroke:none;\" d=\"M 21.375 -15.03125 L 23.421875 0 L 30 0 L 19.25 -74.515625 L 12.15625 -74.515625 L 1.109375 0 L 7.640625 0 L 9.734375 -15.03125 Z M 19.625 -27.796875 L 11.515625 -27.796875 L 15.578125 -56.9375 Z M 19.625 -27.796875 \"/>\n</symbol>\n<symbol overflow=\"visible\" id=\"glyph31-0 2115795690584364919\">\n<path style=\"stroke:none;\" d=\"\"/>\n</symbol>\n<symbol overflow=\"visible\" id=\"glyph31-1 2115795690584364919\">\n<path style=\"stroke:none;\" d=\"M 23.125 -0.390625 L 13.625 -0.390625 L 13.625 -0.265625 L 19.015625 -0.265625 C 18.890625 -0.234375 18.5625 -0.203125 17.84375 -0.171875 C 16.6875 -0.140625 14.859375 -0.109375 13 -0.109375 C 9.046875 -0.109375 6.25 -0.21875 6.25 -0.359375 C 6.25 -0.53125 8.71875 -0.625 12.875 -0.625 C 14.5625 -0.625 16 -0.609375 17.078125 -0.578125 C 17.75 -0.5625 18.109375 -0.546875 18.53125 -0.5 L 23.125 -0.5 C 22.53125 -0.65625 18.5625 -0.75 12.84375 -0.75 C 6.015625 -0.75 1.359375 -0.59375 1.359375 -0.359375 C 1.359375 -0.140625 6.046875 0.015625 12.453125 0.015625 C 15.640625 0.015625 17.78125 -0.015625 19.609375 -0.09375 L 20.1875 0 L 23.125 0 Z M 23.125 -0.390625 \"/>\n</symbol>\n<symbol overflow=\"visible\" id=\"glyph32-0 2115795690584364919\">\n<path style=\"stroke:none;\" d=\"\"/>\n</symbol>\n<symbol overflow=\"visible\" id=\"glyph32-1 2115795690584364919\">\n<path style=\"stroke:none;\" d=\"M 14.328125 -6.234375 L 22.265625 -6.234375 L 22.265625 -7.53125 L 0.515625 -7.53125 L 0.515625 -6.234375 L 8.75 -6.234375 L 8.75 0 L 14.328125 0 Z M 14.328125 -6.234375 \"/>\n</symbol>\n<symbol overflow=\"visible\" id=\"glyph33-0 2115795690584364919\">\n<path style=\"stroke:none;\" d=\"\"/>\n</symbol>\n<symbol overflow=\"visible\" id=\"glyph33-1 2115795690584364919\">\n<path style=\"stroke:none;\" d=\"M 16.140625 -7.890625 L 17.671875 0 L 22.640625 0 L 14.53125 -39.15625 L 9.171875 -39.15625 L 0.84375 0 L 5.765625 0 L 7.34375 -7.890625 Z M 14.8125 -14.609375 L 8.6875 -14.609375 L 11.75 -29.90625 Z M 14.8125 -14.609375 \"/>\n</symbol>\n<symbol overflow=\"visible\" id=\"glyph34-0 2115795690584364919\">\n<path style=\"stroke:none;\" d=\"\"/>\n</symbol>\n<symbol overflow=\"visible\" id=\"glyph34-1 2115795690584364919\">\n<path style=\"stroke:none;\" d=\"M 23.171875 -39.0625 C 23 -44.15625 22.5625 -47.40625 21.5 -50.71875 C 19.59375 -56.71875 16.546875 -60.046875 12.84375 -60.046875 C 5.84375 -60.046875 1.5 -48.125 1.5 -29.015625 C 1.5 -9.96875 5.8125 1.859375 12.703125 1.859375 C 18.890625 1.859375 22.96875 -6.640625 23.265625 -20.171875 L 18.3125 -20.171875 C 17.96875 -12.640625 16 -8.34375 12.84375 -8.34375 C 8.90625 -8.34375 6.59375 -15.96875 6.59375 -28.84375 C 6.59375 -41.890625 9 -49.671875 13.015625 -49.671875 C 15.96875 -49.671875 17.625 -46.265625 18.3125 -39.0625 Z M 23.171875 -39.0625 \"/>\n</symbol>\n<symbol overflow=\"visible\" id=\"glyph35-0 2115795690584364919\">\n<path style=\"stroke:none;\" d=\"\"/>\n</symbol>\n<symbol overflow=\"visible\" id=\"glyph35-1 2115795690584364919\">\n<path style=\"stroke:none;\" d=\"M 18.765625 0 L 24.265625 0 L 24.265625 -105.6875 L 18.765625 -105.6875 L 18.765625 -33.78125 L 8.15625 -105.6875 L 2.5 -105.6875 L 2.5 0 L 8 0 L 8 -73.078125 Z M 18.765625 0 \"/>\n</symbol>\n<symbol overflow=\"visible\" id=\"glyph36-0 2115795690584364919\">\n<path style=\"stroke:none;\" d=\"\"/>\n</symbol>\n<symbol overflow=\"visible\" id=\"glyph36-1 2115795690584364919\">\n<path style=\"stroke:none;\" d=\"M 11.0625 -0.828125 L 6.515625 -0.828125 L 6.515625 -0.5625 L 9.109375 -0.5625 C 9.046875 -0.484375 8.890625 -0.421875 8.546875 -0.375 C 7.984375 -0.28125 7.109375 -0.21875 6.21875 -0.21875 C 4.328125 -0.21875 2.984375 -0.453125 2.984375 -0.765625 C 2.984375 -1.09375 4.171875 -1.296875 6.15625 -1.296875 C 6.96875 -1.296875 7.65625 -1.265625 8.171875 -1.203125 C 8.5 -1.171875 8.671875 -1.140625 8.875 -1.046875 L 11.0625 -1.046875 C 10.78125 -1.375 8.890625 -1.578125 6.140625 -1.578125 C 2.875 -1.578125 0.65625 -1.25 0.65625 -0.765625 C 0.65625 -0.296875 2.890625 0.046875 5.953125 0.046875 C 7.484375 0.046875 8.515625 -0.03125 9.390625 -0.203125 L 9.671875 0 L 11.0625 0 Z M 11.0625 -0.828125 \"/>\n</symbol>\n<symbol overflow=\"visible\" id=\"glyph37-0 2115795690584364919\">\n<path style=\"stroke:none;\" d=\"\"/>\n</symbol>\n<symbol overflow=\"visible\" id=\"glyph37-1 2115795690584364919\">\n<path style=\"stroke:none;\" d=\"M 7.6875 -0.65625 L 8.421875 0 L 10.78125 0 L 6.921875 -3.21875 L 4.375 -3.21875 L 0.40625 0 L 2.75 0 L 3.5 -0.65625 Z M 7.0625 -1.203125 L 4.140625 -1.203125 L 5.59375 -2.46875 Z M 7.0625 -1.203125 \"/>\n</symbol>\n<symbol overflow=\"visible\" id=\"glyph38-0 2115795690584364919\">\n<path style=\"stroke:none;\" d=\"\"/>\n</symbol>\n<symbol overflow=\"visible\" id=\"glyph38-1 2115795690584364919\">\n<path style=\"stroke:none;\" d=\"M 11.125 -5.859375 C 11.046875 -6.609375 10.828125 -7.109375 10.328125 -7.59375 C 9.40625 -8.5 7.9375 -9 6.171875 -9 C 2.8125 -9 0.71875 -7.21875 0.71875 -4.34375 C 0.71875 -1.5 2.796875 0.28125 6.09375 0.28125 C 9.0625 0.28125 11.03125 -1 11.171875 -3.015625 L 8.796875 -3.015625 C 8.625 -1.890625 7.6875 -1.25 6.171875 -1.25 C 4.28125 -1.25 3.171875 -2.390625 3.171875 -4.328125 C 3.171875 -6.28125 4.328125 -7.4375 6.25 -7.4375 C 7.671875 -7.4375 8.46875 -6.9375 8.796875 -5.859375 Z M 11.125 -5.859375 \"/>\n</symbol>\n<symbol overflow=\"visible\" id=\"glyph39-0 2115795690584364919\">\n<path style=\"stroke:none;\" d=\"\"/>\n</symbol>\n<symbol overflow=\"visible\" id=\"glyph39-1 2115795690584364919\">\n<path style=\"stroke:none;\" d=\"M 6.859375 -30.828125 L 10.640625 -30.828125 L 10.640625 -37.203125 L 0.25 -37.203125 L 0.25 -30.828125 L 4.1875 -30.828125 L 4.1875 0 L 6.859375 0 Z M 6.859375 -30.828125 \"/>\n</symbol>\n<symbol overflow=\"visible\" id=\"glyph40-0 2115795690584364919\">\n<path style=\"stroke:none;\" d=\"\"/>\n</symbol>\n<symbol overflow=\"visible\" id=\"glyph40-1 2115795690584364919\">\n<path style=\"stroke:none;\" d=\"M 8.96875 0 L 11.609375 0 L 11.609375 -163.640625 L 8.96875 -163.640625 L 8.96875 -52.296875 L 3.90625 -163.640625 L 1.1875 -163.640625 L 1.1875 0 L 3.828125 0 L 3.828125 -113.125 Z M 8.96875 0 \"/>\n</symbol>\n<symbol overflow=\"visible\" id=\"glyph41-0 2115795690584364919\">\n<path style=\"stroke:none;\" d=\"\"/>\n</symbol>\n<symbol overflow=\"visible\" id=\"glyph41-1 2115795690584364919\">\n<path style=\"stroke:none;\" d=\"M 44.140625 -0.21875 L 26.015625 -0.21875 L 26.015625 -0.15625 L 36.3125 -0.15625 C 36.0625 -0.125 35.453125 -0.109375 34.078125 -0.09375 C 31.84375 -0.078125 28.375 -0.0625 24.828125 -0.0625 C 17.25 -0.0625 11.921875 -0.125 11.921875 -0.203125 C 11.921875 -0.296875 16.640625 -0.34375 24.578125 -0.34375 C 27.8125 -0.34375 30.546875 -0.34375 32.59375 -0.328125 C 33.890625 -0.3125 34.578125 -0.296875 35.390625 -0.28125 L 44.140625 -0.28125 C 43.015625 -0.359375 35.453125 -0.421875 24.515625 -0.421875 C 11.484375 -0.421875 2.609375 -0.34375 2.609375 -0.203125 C 2.609375 -0.078125 11.546875 0.015625 23.78125 0.015625 C 29.859375 0.015625 33.953125 -0.015625 37.4375 -0.046875 L 38.546875 0 L 44.140625 0 Z M 44.140625 -0.21875 \"/>\n</symbol>\n<symbol overflow=\"visible\" id=\"glyph42-0 2115795690584364919\">\n<path style=\"stroke:none;\" d=\"\"/>\n</symbol>\n<symbol overflow=\"visible\" id=\"glyph42-1 2115795690584364919\">\n<path style=\"stroke:none;\" d=\"M 35.78125 0 L 46.296875 0 L 46.296875 -4.515625 L 35.78125 -4.515625 L 35.78125 -1.453125 L 15.546875 -4.515625 L 4.765625 -4.515625 L 4.765625 0 L 15.265625 0 L 15.265625 -3.125 Z M 35.78125 0 \"/>\n</symbol>\n<symbol overflow=\"visible\" id=\"glyph43-0 2115795690584364919\">\n<path style=\"stroke:none;\" d=\"\"/>\n</symbol>\n<symbol overflow=\"visible\" id=\"glyph43-1 2115795690584364919\">\n<path style=\"stroke:none;\" d=\"M 27.390625 -15.75 L 42.53125 -15.75 L 42.53125 -19.015625 L 1 -19.015625 L 1 -15.75 L 16.71875 -15.75 L 16.71875 0 L 27.390625 0 Z M 27.390625 -15.75 \"/>\n</symbol>\n<symbol overflow=\"visible\" id=\"glyph44-0 2115795690584364919\">\n<path style=\"stroke:none;\" d=\"\"/>\n</symbol>\n<symbol overflow=\"visible\" id=\"glyph44-1 2115795690584364919\">\n<path style=\"stroke:none;\" d=\"M 44.15625 -45.5 C 43.828125 -51.4375 43 -55.21875 40.984375 -59.09375 C 37.359375 -66.078125 31.53125 -69.9375 24.46875 -69.9375 C 11.140625 -69.9375 2.84375 -56.0625 2.84375 -33.796875 C 2.84375 -11.609375 11.078125 2.171875 24.21875 2.171875 C 36 2.171875 43.765625 -7.734375 44.359375 -23.5 L 34.90625 -23.5 C 34.25 -14.71875 30.5 -9.71875 24.46875 -9.71875 C 16.96875 -9.71875 12.5625 -18.59375 12.5625 -33.609375 C 12.5625 -48.796875 17.15625 -57.859375 24.796875 -57.859375 C 30.4375 -57.859375 33.609375 -53.890625 34.90625 -45.5 Z M 44.15625 -45.5 \"/>\n</symbol>\n<symbol overflow=\"visible\" id=\"glyph45-0 2115795690584364919\">\n<path style=\"stroke:none;\" d=\"\"/>\n</symbol>\n<symbol overflow=\"visible\" id=\"glyph45-1 2115795690584364919\">\n<path style=\"stroke:none;\" d=\"M 30.75 -23.984375 L 33.6875 0 L 43.140625 0 L 27.6875 -118.953125 L 17.484375 -118.953125 L 1.59375 0 L 10.984375 0 L 14 -23.984375 Z M 28.234375 -44.375 L 16.578125 -44.375 L 22.40625 -90.890625 Z M 28.234375 -44.375 \"/>\n</symbol>\n<symbol overflow=\"visible\" id=\"glyph46-0 2115795690584364919\">\n<path style=\"stroke:none;\" d=\"\"/>\n</symbol>\n<symbol overflow=\"visible\" id=\"glyph46-1 2115795690584364919\">\n<path style=\"stroke:none;\" d=\"M 35 -0.3125 L 20.625 -0.3125 L 20.625 -0.21875 L 28.796875 -0.21875 C 28.59375 -0.171875 28.109375 -0.15625 27.015625 -0.140625 C 25.25 -0.09375 22.5 -0.09375 19.6875 -0.09375 C 13.6875 -0.09375 9.453125 -0.171875 9.453125 -0.296875 C 9.453125 -0.421875 13.1875 -0.484375 19.484375 -0.484375 C 22.046875 -0.484375 24.21875 -0.484375 25.84375 -0.453125 C 26.875 -0.4375 27.421875 -0.421875 28.046875 -0.40625 L 35 -0.40625 C 34.109375 -0.515625 28.109375 -0.59375 19.4375 -0.59375 C 9.109375 -0.59375 2.0625 -0.484375 2.0625 -0.296875 C 2.0625 -0.109375 9.15625 0.015625 18.84375 0.015625 C 23.671875 0.015625 26.921875 -0.015625 29.671875 -0.078125 L 30.5625 0 L 35 0 Z M 35 -0.3125 \"/>\n</symbol>\n<symbol overflow=\"visible\" id=\"glyph47-0 2115795690584364919\">\n<path style=\"stroke:none;\" d=\"\"/>\n</symbol>\n<symbol overflow=\"visible\" id=\"glyph47-1 2115795690584364919\">\n<path style=\"stroke:none;\" d=\"M 35.046875 -3.453125 C 34.796875 -3.90625 34.125 -4.1875 32.53125 -4.484375 C 29.65625 -5.015625 25.03125 -5.296875 19.421875 -5.296875 C 8.84375 -5.296875 2.265625 -4.25 2.265625 -2.5625 C 2.265625 -0.875 8.78125 0.171875 19.21875 0.171875 C 28.578125 0.171875 34.734375 -0.59375 35.203125 -1.78125 L 27.703125 -1.78125 C 27.1875 -1.109375 24.203125 -0.734375 19.421875 -0.734375 C 13.46875 -0.734375 9.96875 -1.40625 9.96875 -2.546875 C 9.96875 -3.703125 13.625 -4.390625 19.6875 -4.390625 C 24.15625 -4.390625 26.671875 -4.09375 27.703125 -3.453125 Z M 35.046875 -3.453125 \"/>\n</symbol>\n<symbol overflow=\"visible\" id=\"glyph48-0 2115795690584364919\">\n<path style=\"stroke:none;\" d=\"\"/>\n</symbol>\n<symbol overflow=\"visible\" id=\"glyph48-1 2115795690584364919\">\n<path style=\"stroke:none;\" d=\"M 24.390625 -4.890625 L 26.71875 0 L 34.21875 0 L 21.953125 -24.25 L 13.875 -24.25 L 1.265625 0 L 8.71875 0 L 11.09375 -4.890625 Z M 22.390625 -9.046875 L 13.140625 -9.046875 L 17.765625 -18.53125 Z M 22.390625 -9.046875 \"/>\n</symbol>\n<symbol overflow=\"visible\" id=\"glyph49-0 2115795690584364919\">\n<path style=\"stroke:none;\" d=\"\"/>\n</symbol>\n<symbol overflow=\"visible\" id=\"glyph49-1 2115795690584364919\">\n<path style=\"stroke:none;\" d=\"M 28.390625 0 L 36.734375 0 L 36.734375 -48.484375 L 28.390625 -48.484375 L 28.390625 -15.5 L 12.328125 -48.484375 L 3.78125 -48.484375 L 3.78125 0 L 12.109375 0 L 12.109375 -33.53125 Z M 28.390625 0 \"/>\n</symbol>\n<symbol overflow=\"visible\" id=\"glyph50-0 2115795690584364919\">\n<path style=\"stroke:none;\" d=\"\"/>\n</symbol>\n<symbol overflow=\"visible\" id=\"glyph50-1 2115795690584364919\">\n<path style=\"stroke:none;\" d=\"M 21.703125 -112.8125 L 33.71875 -112.8125 L 33.71875 -136.15625 L 0.796875 -136.15625 L 0.796875 -112.8125 L 13.25 -112.8125 L 13.25 0 L 21.703125 0 Z M 21.703125 -112.8125 \"/>\n</symbol>\n<symbol overflow=\"visible\" id=\"glyph51-0 2115795690584364919\">\n<path style=\"stroke:none;\" d=\"\"/>\n</symbol>\n<symbol overflow=\"visible\" id=\"glyph51-1 2115795690584364919\">\n<path style=\"stroke:none;\" d=\"M 32.703125 -0.6875 L 19.28125 -0.6875 L 19.28125 -0.46875 L 26.90625 -0.46875 C 26.71875 -0.390625 26.265625 -0.34375 25.25 -0.296875 C 23.59375 -0.234375 21.015625 -0.1875 18.40625 -0.1875 C 12.78125 -0.1875 8.828125 -0.359375 8.828125 -0.625 C 8.828125 -0.890625 12.328125 -1.0625 18.21875 -1.0625 C 20.609375 -1.0625 22.625 -1.03125 24.15625 -0.984375 C 25.109375 -0.953125 25.625 -0.921875 26.21875 -0.859375 L 32.703125 -0.859375 C 31.875 -1.125 26.265625 -1.28125 18.171875 -1.28125 C 8.515625 -1.28125 1.9375 -1.015625 1.9375 -0.625 C 1.9375 -0.234375 8.5625 0.046875 17.625 0.046875 C 22.125 0.046875 25.15625 -0.015625 27.734375 -0.15625 L 28.5625 0 L 32.703125 0 Z M 32.703125 -0.6875 \"/>\n</symbol>\n<symbol overflow=\"visible\" id=\"glyph52-0 2115795690584364919\">\n<path style=\"stroke:none;\" d=\"\"/>\n</symbol>\n<symbol overflow=\"visible\" id=\"glyph52-1 2115795690584364919\">\n<path style=\"stroke:none;\" d=\"M 32.75 -0.828125 C 32.515625 -0.9375 31.890625 -1.015625 30.40625 -1.078125 C 27.71875 -1.21875 23.390625 -1.28125 18.15625 -1.28125 C 8.265625 -1.28125 2.109375 -1.03125 2.109375 -0.625 C 2.109375 -0.21875 8.21875 0.046875 17.96875 0.046875 C 26.703125 0.046875 32.46875 -0.140625 32.90625 -0.4375 L 25.890625 -0.4375 C 25.40625 -0.265625 22.625 -0.171875 18.15625 -0.171875 C 12.578125 -0.171875 9.3125 -0.34375 9.3125 -0.625 C 9.3125 -0.890625 12.734375 -1.0625 18.390625 -1.0625 C 22.578125 -1.0625 24.921875 -0.984375 25.890625 -0.828125 Z M 32.75 -0.828125 \"/>\n</symbol>\n<symbol overflow=\"visible\" id=\"glyph53-0 2115795690584364919\">\n<path style=\"stroke:none;\" d=\"\"/>\n</symbol>\n<symbol overflow=\"visible\" id=\"glyph53-1 2115795690584364919\">\n<path style=\"stroke:none;\" d=\"M 20.28125 -9.921875 L 31.5 -9.921875 L 31.5 -11.96875 L 0.734375 -11.96875 L 0.734375 -9.921875 L 12.375 -9.921875 L 12.375 0 L 20.28125 0 Z M 20.28125 -9.921875 \"/>\n</symbol>\n<symbol overflow=\"visible\" id=\"glyph54-0 2115795690584364919\">\n<path style=\"stroke:none;\" d=\"\"/>\n</symbol>\n<symbol overflow=\"visible\" id=\"glyph54-1 2115795690584364919\">\n<path style=\"stroke:none;\" d=\"M 26.46875 0 L 34.25 0 L 34.25 -59.484375 L 26.46875 -59.484375 L 26.46875 -19.015625 L 11.5 -59.484375 L 3.515625 -59.484375 L 3.515625 0 L 11.296875 0 L 11.296875 -41.125 Z M 26.46875 0 \"/>\n</symbol>\n<symbol overflow=\"visible\" id=\"glyph55-0 2115795690584364919\">\n<path style=\"stroke:none;\" d=\"\"/>\n</symbol>\n<symbol overflow=\"visible\" id=\"glyph55-1 2115795690584364919\">\n<path style=\"stroke:none;\" d=\"M 22.734375 -28.40625 L 24.90625 0 L 31.90625 0 L 20.46875 -140.90625 L 12.9375 -140.90625 L 1.1875 0 L 8.125 0 L 10.34375 -28.40625 Z M 20.875 -52.578125 L 12.25 -52.578125 L 16.5625 -107.65625 Z M 20.875 -52.578125 \"/>\n</symbol>\n<symbol overflow=\"visible\" id=\"glyph56-0 2115795690584364919\">\n<path style=\"stroke:none;\" d=\"\"/>\n</symbol>\n<symbol overflow=\"visible\" id=\"glyph56-1 2115795690584364919\">\n<path style=\"stroke:none;\" d=\"M 27.796875 -0.6875 L 16.375 -0.6875 L 16.375 -0.46875 L 22.875 -0.46875 C 22.71875 -0.390625 22.328125 -0.34375 21.46875 -0.296875 C 20.0625 -0.234375 17.859375 -0.1875 15.640625 -0.1875 C 10.875 -0.1875 7.5 -0.359375 7.5 -0.625 C 7.5 -0.890625 10.484375 -1.0625 15.484375 -1.0625 C 17.515625 -1.0625 19.234375 -1.03125 20.53125 -0.984375 C 21.34375 -0.953125 21.78125 -0.921875 22.28125 -0.859375 L 27.796875 -0.859375 C 27.09375 -1.125 22.328125 -1.28125 15.4375 -1.28125 C 7.234375 -1.28125 1.640625 -1.015625 1.640625 -0.625 C 1.640625 -0.234375 7.265625 0.046875 14.96875 0.046875 C 18.796875 0.046875 21.390625 -0.015625 23.578125 -0.15625 L 24.28125 0 L 27.796875 0 Z M 27.796875 -0.6875 \"/>\n</symbol>\n<symbol overflow=\"visible\" id=\"glyph57-0 2115795690584364919\">\n<path style=\"stroke:none;\" d=\"\"/>\n</symbol>\n<symbol overflow=\"visible\" id=\"glyph57-1 2115795690584364919\">\n<path style=\"stroke:none;\" d=\"M 19.359375 -7.1875 L 21.21875 0 L 27.171875 0 L 17.421875 -35.671875 L 11.015625 -35.671875 L 1 0 L 6.921875 0 L 8.8125 -7.1875 Z M 17.78125 -13.3125 L 10.4375 -13.3125 L 14.109375 -27.265625 Z M 17.78125 -13.3125 \"/>\n</symbol>\n<symbol overflow=\"visible\" id=\"glyph58-0 2115795690584364919\">\n<path style=\"stroke:none;\" d=\"\"/>\n</symbol>\n<symbol overflow=\"visible\" id=\"glyph58-1 2115795690584364919\">\n<path style=\"stroke:none;\" d=\"M 17.1875 -37.390625 L 26.703125 -37.390625 L 26.703125 -45.125 L 0.625 -45.125 L 0.625 -37.390625 L 10.5 -37.390625 L 10.5 0 L 17.1875 0 Z M 17.1875 -37.390625 \"/>\n</symbol>\n<symbol overflow=\"visible\" id=\"glyph59-0 2115795690584364919\">\n<path style=\"stroke:none;\" d=\"\"/>\n</symbol>\n<symbol overflow=\"visible\" id=\"glyph59-1 2115795690584364919\">\n<path style=\"stroke:none;\" d=\"M 27.75 -31.296875 C 27.546875 -35.375 27.015625 -37.984375 25.75 -40.640625 C 23.484375 -45.4375 19.8125 -48.109375 15.375 -48.109375 C 7 -48.109375 1.796875 -38.5625 1.796875 -23.234375 C 1.796875 -7.984375 6.953125 1.5 15.21875 1.5 C 22.625 1.5 27.5 -5.328125 27.875 -16.171875 L 21.9375 -16.171875 C 21.53125 -10.125 19.15625 -6.6875 15.375 -6.6875 C 10.65625 -6.6875 7.890625 -12.796875 7.890625 -23.109375 C 7.890625 -33.5625 10.78125 -39.796875 15.578125 -39.796875 C 19.125 -39.796875 21.109375 -37.078125 21.9375 -31.296875 Z M 27.75 -31.296875 \"/>\n</symbol>\n<symbol overflow=\"visible\" id=\"glyph60-0 2115795690584364919\">\n<path style=\"stroke:none;\" d=\"\"/>\n</symbol>\n<symbol overflow=\"visible\" id=\"glyph60-1 2115795690584364919\">\n<path style=\"stroke:none;\" d=\"M 22.515625 0 L 29.125 0 L 29.125 -83.421875 L 22.515625 -83.421875 L 22.515625 -26.65625 L 9.78125 -83.421875 L 3 -83.421875 L 3 0 L 9.609375 0 L 9.609375 -57.671875 Z M 22.515625 0 \"/>\n</symbol>\n</g>\n</defs>\n<g id=\"surface1\">\n<path style=\"fill:none;stroke-width:2.08333;stroke-linecap:butt;stroke-linejoin:miter;stroke:rgb(0%,0%,0%);stroke-opacity:1;stroke-miterlimit:10;\" d=\"M 110.416667 56.25 L 131.25 56.25 L 131.25 962.5 \" transform=\"matrix(0.24,0,0,-0.24,0,237)\"/>\n<g style=\"fill:rgb(0%,0%,0%);fill-opacity:1;\">\n  <use xlink:href=\"#glyph0-1 2115795690584364919\" x=\"14.880912\" y=\"226.409992\"/>\n  <use xlink:href=\"#glyph0-2 2115795690584364919\" x=\"19.328915\" y=\"226.409992\"/>\n  <use xlink:href=\"#glyph0-1 2115795690584364919\" x=\"21.552917\" y=\"226.409992\"/>\n</g>\n<path style=\"fill:none;stroke-width:2.08333;stroke-linecap:butt;stroke-linejoin:miter;stroke:rgb(0%,0%,0%);stroke-opacity:1;stroke-miterlimit:10;\" d=\"M 110.416667 56.25 L 131.25 56.25 \" transform=\"matrix(0.24,0,0,-0.24,0,237)\"/>\n<g style=\"fill:rgb(0%,0%,0%);fill-opacity:1;\">\n  <use xlink:href=\"#glyph0-1 2115795690584364919\" x=\"14.880912\" y=\"117.659905\"/>\n  <use xlink:href=\"#glyph0-2 2115795690584364919\" x=\"19.328915\" y=\"117.659905\"/>\n  <use xlink:href=\"#glyph0-3 2115795690584364919\" x=\"21.552917\" y=\"117.659905\"/>\n</g>\n<path style=\"fill:none;stroke-width:2.08333;stroke-linecap:butt;stroke-linejoin:miter;stroke:rgb(0%,0%,0%);stroke-opacity:1;stroke-miterlimit:10;\" d=\"M 110.416667 509.375 L 131.25 509.375 \" transform=\"matrix(0.24,0,0,-0.24,0,237)\"/>\n<g style=\"fill:rgb(0%,0%,0%);fill-opacity:1;\">\n  <use xlink:href=\"#glyph0-4 2115795690584364919\" x=\"14.880912\" y=\"8.909818\"/>\n  <use xlink:href=\"#glyph0-2 2115795690584364919\" x=\"19.328915\" y=\"8.909818\"/>\n  <use xlink:href=\"#glyph0-1 2115795690584364919\" x=\"21.552917\" y=\"8.909818\"/>\n</g>\n<path style=\"fill:none;stroke-width:2.08333;stroke-linecap:butt;stroke-linejoin:miter;stroke:rgb(0%,0%,0%);stroke-opacity:1;stroke-miterlimit:10;\" d=\"M 110.416667 962.5 L 131.25 962.5 \" transform=\"matrix(0.24,0,0,-0.24,0,237)\"/>\n<path style=\"fill:none;stroke-width:2.08333;stroke-linecap:butt;stroke-linejoin:miter;stroke:rgb(0%,0%,0%);stroke-opacity:1;stroke-miterlimit:10;\" d=\"M 131.25 56.25 L 120.833333 56.25 \" transform=\"matrix(0.24,0,0,-0.24,0,237)\"/>\n<path style=\"fill:none;stroke-width:2.08333;stroke-linecap:butt;stroke-linejoin:miter;stroke:rgb(0%,0%,0%);stroke-opacity:1;stroke-miterlimit:10;\" d=\"M 131.25 146.875 L 120.833333 146.875 \" transform=\"matrix(0.24,0,0,-0.24,0,237)\"/>\n<path style=\"fill:none;stroke-width:2.08333;stroke-linecap:butt;stroke-linejoin:miter;stroke:rgb(0%,0%,0%);stroke-opacity:1;stroke-miterlimit:10;\" d=\"M 131.25 237.5 L 120.833333 237.5 \" transform=\"matrix(0.24,0,0,-0.24,0,237)\"/>\n<path style=\"fill:none;stroke-width:2.08333;stroke-linecap:butt;stroke-linejoin:miter;stroke:rgb(0%,0%,0%);stroke-opacity:1;stroke-miterlimit:10;\" d=\"M 131.25 328.125 L 120.833333 328.125 \" transform=\"matrix(0.24,0,0,-0.24,0,237)\"/>\n<path style=\"fill:none;stroke-width:2.08333;stroke-linecap:butt;stroke-linejoin:miter;stroke:rgb(0%,0%,0%);stroke-opacity:1;stroke-miterlimit:10;\" d=\"M 131.25 418.75 L 120.833333 418.75 \" transform=\"matrix(0.24,0,0,-0.24,0,237)\"/>\n<path style=\"fill:none;stroke-width:2.08333;stroke-linecap:butt;stroke-linejoin:miter;stroke:rgb(0%,0%,0%);stroke-opacity:1;stroke-miterlimit:10;\" d=\"M 131.25 509.375 L 120.833333 509.375 \" transform=\"matrix(0.24,0,0,-0.24,0,237)\"/>\n<path style=\"fill:none;stroke-width:2.08333;stroke-linecap:butt;stroke-linejoin:miter;stroke:rgb(0%,0%,0%);stroke-opacity:1;stroke-miterlimit:10;\" d=\"M 131.25 600 L 120.833333 600 \" transform=\"matrix(0.24,0,0,-0.24,0,237)\"/>\n<path style=\"fill:none;stroke-width:2.08333;stroke-linecap:butt;stroke-linejoin:miter;stroke:rgb(0%,0%,0%);stroke-opacity:1;stroke-miterlimit:10;\" d=\"M 131.25 690.625 L 120.833333 690.625 \" transform=\"matrix(0.24,0,0,-0.24,0,237)\"/>\n<path style=\"fill:none;stroke-width:2.08333;stroke-linecap:butt;stroke-linejoin:miter;stroke:rgb(0%,0%,0%);stroke-opacity:1;stroke-miterlimit:10;\" d=\"M 131.25 781.25 L 120.833333 781.25 \" transform=\"matrix(0.24,0,0,-0.24,0,237)\"/>\n<path style=\"fill:none;stroke-width:2.08333;stroke-linecap:butt;stroke-linejoin:miter;stroke:rgb(0%,0%,0%);stroke-opacity:1;stroke-miterlimit:10;\" d=\"M 131.25 871.875 L 120.833333 871.875 \" transform=\"matrix(0.24,0,0,-0.24,0,237)\"/>\n<g style=\"fill:rgb(0%,0%,0%);fill-opacity:1;\">\n  <use xlink:href=\"#glyph1-1 2115795690584364919\" x=\"11.851909\" y=\"137.53302\"/>\n  <use xlink:href=\"#glyph1-2 2115795690584364919\" x=\"11.851909\" y=\"131.973016\"/>\n  <use xlink:href=\"#glyph1-3 2115795690584364919\" x=\"11.851909\" y=\"128.643013\"/>\n  <use xlink:href=\"#glyph1-4 2115795690584364919\" x=\"11.851909\" y=\"123.083009\"/>\n  <use xlink:href=\"#glyph1-5 2115795690584364919\" x=\"11.851909\" y=\"117.523004\"/>\n  <use xlink:href=\"#glyph1-4 2115795690584364919\" x=\"11.851909\" y=\"111.963\"/>\n  <use xlink:href=\"#glyph1-6 2115795690584364919\" x=\"11.851909\" y=\"106.402996\"/>\n  <use xlink:href=\"#glyph1-7 2115795690584364919\" x=\"11.851909\" y=\"104.182994\"/>\n  <use xlink:href=\"#glyph1-6 2115795690584364919\" x=\"11.851909\" y=\"101.962992\"/>\n  <use xlink:href=\"#glyph1-8 2115795690584364919\" x=\"11.851909\" y=\"99.74299\"/>\n  <use xlink:href=\"#glyph1-9 2115795690584364919\" x=\"11.851909\" y=\"96.962988\"/>\n</g>\n<path style=\"fill:none;stroke-width:2.08333;stroke-linecap:butt;stroke-linejoin:miter;stroke:rgb(0%,0%,0%);stroke-opacity:1;stroke-miterlimit:10;\" d=\"M 133.333333 56.25 L 314.583333 56.25 M 223.958333 56.25 L 223.958333 51.041667 \" transform=\"matrix(0.24,0,0,-0.24,0,237)\"/>\n<g style=\"fill:rgb(100%,0%,0%);fill-opacity:1;\">\n  <use xlink:href=\"#glyph2-1 2115795690584364919\" x=\"40.630333\" y=\"223.000289\"/>\n</g>\n<g style=\"fill:rgb(100%,64.646912%,0%);fill-opacity:1;\">\n  <use xlink:href=\"#glyph3-1 2115795690584364919\" x=\"39.659132\" y=\"220.697787\"/>\n</g>\n<g style=\"fill:rgb(0%,50.193787%,0%);fill-opacity:1;\">\n  <use xlink:href=\"#glyph4-1 2115795690584364919\" x=\"40.270332\" y=\"217.689385\"/>\n</g>\n<g style=\"fill:rgb(0%,0%,100%);fill-opacity:1;\">\n  <use xlink:href=\"#glyph5-1 2115795690584364919\" x=\"39.516632\" y=\"169.209346\"/>\n</g>\n<g style=\"fill:rgb(0%,0%,0%);fill-opacity:1;\">\n  <use xlink:href=\"#glyph6-1 2115795690584364919\" x=\"38.350331\" y=\"94.852886\"/>\n</g>\n<path style=\"fill:none;stroke-width:2.08333;stroke-linecap:butt;stroke-linejoin:miter;stroke:rgb(0%,0%,0%);stroke-opacity:1;stroke-miterlimit:10;\" d=\"M 314.583333 56.25 L 495.833333 56.25 M 405.208333 56.25 L 405.208333 51.041667 \" transform=\"matrix(0.24,0,0,-0.24,0,237)\"/>\n<g style=\"fill:rgb(100%,64.646912%,0%);fill-opacity:1;\">\n  <use xlink:href=\"#glyph7-1 2115795690584364919\" x=\"80.886665\" y=\"222.970289\"/>\n</g>\n<g style=\"fill:rgb(0%,0%,100%);fill-opacity:1;\">\n  <use xlink:href=\"#glyph8-1 2115795690584364919\" x=\"80.717865\" y=\"220.859087\"/>\n</g>\n<g style=\"fill:rgb(0%,50.193787%,0%);fill-opacity:1;\">\n  <use xlink:href=\"#glyph9-1 2115795690584364919\" x=\"81.599165\" y=\"201.739672\"/>\n</g>\n<g style=\"fill:rgb(100%,0%,0%);fill-opacity:1;\">\n  <use xlink:href=\"#glyph10-1 2115795690584364919\" x=\"82.022866\" y=\"140.712123\"/>\n</g>\n<g style=\"fill:rgb(0%,0%,0%);fill-opacity:1;\">\n  <use xlink:href=\"#glyph11-1 2115795690584364919\" x=\"79.390364\" y=\"74.24387\"/>\n</g>\n<path style=\"fill:none;stroke-width:2.08333;stroke-linecap:butt;stroke-linejoin:miter;stroke:rgb(0%,0%,0%);stroke-opacity:1;stroke-miterlimit:10;\" d=\"M 495.833333 56.25 L 677.083333 56.25 M 586.458333 56.25 L 586.458333 51.041667 \" transform=\"matrix(0.24,0,0,-0.24,0,237)\"/>\n<g style=\"fill:rgb(100%,0%,0%);fill-opacity:1;\">\n  <use xlink:href=\"#glyph12-1 2115795690584364919\" x=\"124.9241\" y=\"222.535288\"/>\n</g>\n<g style=\"fill:rgb(0%,50.193787%,0%);fill-opacity:1;\">\n  <use xlink:href=\"#glyph13-1 2115795690584364919\" x=\"124.4891\" y=\"184.173758\"/>\n</g>\n<g style=\"fill:rgb(0%,0%,100%);fill-opacity:1;\">\n  <use xlink:href=\"#glyph14-1 2115795690584364919\" x=\"123.570099\" y=\"127.647913\"/>\n</g>\n<g style=\"fill:rgb(0%,0%,0%);fill-opacity:1;\">\n  <use xlink:href=\"#glyph15-1 2115795690584364919\" x=\"122.175098\" y=\"68.422865\"/>\n</g>\n<path style=\"fill:none;stroke-width:2.08333;stroke-linecap:butt;stroke-linejoin:miter;stroke:rgb(0%,0%,0%);stroke-opacity:1;stroke-miterlimit:10;\" d=\"M 677.083333 56.25 L 858.333333 56.25 M 767.708333 56.25 L 767.708333 51.041667 \" transform=\"matrix(0.24,0,0,-0.24,0,237)\"/>\n<g style=\"fill:rgb(100%,64.646912%,0%);fill-opacity:1;\">\n  <use xlink:href=\"#glyph16-1 2115795690584364919\" x=\"160.866129\" y=\"222.981589\"/>\n</g>\n<g style=\"fill:rgb(0%,0%,0%);fill-opacity:1;\">\n  <use xlink:href=\"#glyph17-1 2115795690584364919\" x=\"158.709127\" y=\"221.827488\"/>\n</g>\n<g style=\"fill:rgb(0%,50.193787%,0%);fill-opacity:1;\">\n  <use xlink:href=\"#glyph18-1 2115795690584364919\" x=\"161.88613\" y=\"216.917784\"/>\n</g>\n<g style=\"fill:rgb(0%,0%,100%);fill-opacity:1;\">\n  <use xlink:href=\"#glyph19-1 2115795690584364919\" x=\"160.629129\" y=\"176.189951\"/>\n</g>\n<g style=\"fill:rgb(100%,0%,0%);fill-opacity:1;\">\n  <use xlink:href=\"#glyph20-1 2115795690584364919\" x=\"162.48613\" y=\"107.296896\"/>\n</g>\n<path style=\"fill:none;stroke-width:2.08333;stroke-linecap:butt;stroke-linejoin:miter;stroke:rgb(0%,0%,0%);stroke-opacity:1;stroke-miterlimit:10;\" d=\"M 858.333333 56.25 L 1039.583333 56.25 M 948.958333 56.25 L 948.958333 45.833333 \" transform=\"matrix(0.24,0,0,-0.24,0,237)\"/>\n<g style=\"fill:rgb(0%,0%,0%);fill-opacity:1;\">\n  <use xlink:href=\"#glyph0-3 2115795690584364919\" x=\"225.52618\" y=\"233.999998\"/>\n</g>\n<g style=\"fill:rgb(100%,64.646912%,0%);fill-opacity:1;\">\n  <use xlink:href=\"#glyph21-1 2115795690584364919\" x=\"217.762174\" y=\"222.981589\"/>\n</g>\n<g style=\"fill:rgb(0%,0%,100%);fill-opacity:1;\">\n  <use xlink:href=\"#glyph22-1 2115795690584364919\" x=\"217.650174\" y=\"221.815288\"/>\n</g>\n<g style=\"fill:rgb(100%,0%,0%);fill-opacity:1;\">\n  <use xlink:href=\"#glyph23-1 2115795690584364919\" x=\"218.445175\" y=\"220.667787\"/>\n</g>\n<g style=\"fill:rgb(0%,50.193787%,0%);fill-opacity:1;\">\n  <use xlink:href=\"#glyph24-1 2115795690584364919\" x=\"218.194175\" y=\"214.119382\"/>\n</g>\n<g style=\"fill:rgb(0%,0%,0%);fill-opacity:1;\">\n  <use xlink:href=\"#glyph25-1 2115795690584364919\" x=\"216.836173\" y=\"132.140916\"/>\n</g>\n<path style=\"fill:none;stroke-width:2.08333;stroke-linecap:butt;stroke-linejoin:miter;stroke:rgb(0%,0%,0%);stroke-opacity:1;stroke-miterlimit:10;\" d=\"M 1039.583333 56.25 L 1220.833333 56.25 M 1130.208333 56.25 L 1130.208333 51.041667 \" transform=\"matrix(0.24,0,0,-0.24,0,237)\"/>\n<g style=\"fill:rgb(100%,0%,0%);fill-opacity:1;\">\n  <use xlink:href=\"#glyph26-1 2115795690584364919\" x=\"256.093205\" y=\"223.000289\"/>\n</g>\n<g style=\"fill:rgb(100%,64.646912%,0%);fill-opacity:1;\">\n  <use xlink:href=\"#glyph27-1 2115795690584364919\" x=\"254.972204\" y=\"221.366287\"/>\n</g>\n<g style=\"fill:rgb(0%,0%,100%);fill-opacity:1;\">\n  <use xlink:href=\"#glyph28-1 2115795690584364919\" x=\"254.796204\" y=\"188.288361\"/>\n</g>\n<g style=\"fill:rgb(0%,0%,0%);fill-opacity:1;\">\n  <use xlink:href=\"#glyph29-1 2115795690584364919\" x=\"253.472203\" y=\"150.04583\"/>\n</g>\n<g style=\"fill:rgb(0%,50.193787%,0%);fill-opacity:1;\">\n  <use xlink:href=\"#glyph30-1 2115795690584364919\" x=\"255.677205\" y=\"80.575875\"/>\n</g>\n<path style=\"fill:none;stroke-width:2.08333;stroke-linecap:butt;stroke-linejoin:miter;stroke:rgb(0%,0%,0%);stroke-opacity:1;stroke-miterlimit:10;\" d=\"M 1220.833333 56.25 L 1402.083333 56.25 M 1311.458333 56.25 L 1311.458333 51.041667 \" transform=\"matrix(0.24,0,0,-0.24,0,237)\"/>\n<g style=\"fill:rgb(100%,64.646912%,0%);fill-opacity:1;\">\n  <use xlink:href=\"#glyph31-1 2115795690584364919\" x=\"302.501242\" y=\"222.974089\"/>\n</g>\n<g style=\"fill:rgb(100%,0%,0%);fill-opacity:1;\">\n  <use xlink:href=\"#glyph32-1 2115795690584364919\" x=\"303.349243\" y=\"221.706588\"/>\n</g>\n<g style=\"fill:rgb(0%,50.193787%,0%);fill-opacity:1;\">\n  <use xlink:href=\"#glyph33-1 2115795690584364919\" x=\"303.030242\" y=\"213.657181\"/>\n</g>\n<g style=\"fill:rgb(0%,0%,100%);fill-opacity:1;\">\n  <use xlink:href=\"#glyph34-1 2115795690584364919\" x=\"302.377242\" y=\"172.170848\"/>\n</g>\n<g style=\"fill:rgb(0%,0%,0%);fill-opacity:1;\">\n  <use xlink:href=\"#glyph35-1 2115795690584364919\" x=\"301.376241\" y=\"111.6439\"/>\n</g>\n<path style=\"fill:none;stroke-width:2.08333;stroke-linecap:butt;stroke-linejoin:miter;stroke:rgb(0%,0%,0%);stroke-opacity:1;stroke-miterlimit:10;\" d=\"M 1402.083333 56.25 L 1583.333333 56.25 M 1492.708333 56.25 L 1492.708333 51.041667 \" transform=\"matrix(0.24,0,0,-0.24,0,237)\"/>\n<g style=\"fill:rgb(100%,64.646912%,0%);fill-opacity:1;\">\n  <use xlink:href=\"#glyph36-1 2115795690584364919\" x=\"352.386282\" y=\"222.951589\"/>\n</g>\n<g style=\"fill:rgb(0%,50.193787%,0%);fill-opacity:1;\">\n  <use xlink:href=\"#glyph37-1 2115795690584364919\" x=\"352.644282\" y=\"220.871187\"/>\n</g>\n<g style=\"fill:rgb(0%,0%,100%);fill-opacity:1;\">\n  <use xlink:href=\"#glyph38-1 2115795690584364919\" x=\"352.322282\" y=\"216.867184\"/>\n</g>\n<g style=\"fill:rgb(100%,0%,0%);fill-opacity:1;\">\n  <use xlink:href=\"#glyph39-1 2115795690584364919\" x=\"352.794282\" y=\"207.337476\"/>\n</g>\n<g style=\"fill:rgb(0%,0%,0%);fill-opacity:1;\">\n  <use xlink:href=\"#glyph40-1 2115795690584364919\" x=\"351.846281\" y=\"169.690246\"/>\n</g>\n<path style=\"fill:none;stroke-width:2.08333;stroke-linecap:butt;stroke-linejoin:miter;stroke:rgb(0%,0%,0%);stroke-opacity:1;stroke-miterlimit:10;\" d=\"M 1583.333333 56.25 L 1764.583333 56.25 M 1673.958333 56.25 L 1673.958333 51.041667 \" transform=\"matrix(0.24,0,0,-0.24,0,237)\"/>\n<g style=\"fill:rgb(100%,64.646912%,0%);fill-opacity:1;\">\n  <use xlink:href=\"#glyph41-1 2115795690584364919\" x=\"378.386303\" y=\"222.985289\"/>\n</g>\n<g style=\"fill:rgb(0%,0%,0%);fill-opacity:1;\">\n  <use xlink:href=\"#glyph42-1 2115795690584364919\" x=\"376.234301\" y=\"222.047788\"/>\n</g>\n<g style=\"fill:rgb(100%,0%,0%);fill-opacity:1;\">\n  <use xlink:href=\"#glyph43-1 2115795690584364919\" x=\"379.999304\" y=\"217.004084\"/>\n</g>\n<g style=\"fill:rgb(0%,0%,100%);fill-opacity:1;\">\n  <use xlink:href=\"#glyph44-1 2115795690584364919\" x=\"378.142303\" y=\"195.358067\"/>\n</g>\n<g style=\"fill:rgb(0%,50.193787%,0%);fill-opacity:1;\">\n  <use xlink:href=\"#glyph45-1 2115795690584364919\" x=\"379.395304\" y=\"124.95791\"/>\n</g>\n<path style=\"fill:none;stroke-width:2.08333;stroke-linecap:butt;stroke-linejoin:miter;stroke:rgb(0%,0%,0%);stroke-opacity:1;stroke-miterlimit:10;\" d=\"M 1764.583333 56.25 L 1945.833333 56.25 M 1855.208333 56.25 L 1855.208333 45.833333 \" transform=\"matrix(0.24,0,0,-0.24,0,237)\"/>\n<g style=\"fill:rgb(0%,0%,0%);fill-opacity:1;\">\n  <use xlink:href=\"#glyph0-4 2115795690584364919\" x=\"440.802353\" y=\"233.999998\"/>\n  <use xlink:href=\"#glyph0-1 2115795690584364919\" x=\"445.250356\" y=\"233.999998\"/>\n</g>\n<g style=\"fill:rgb(100%,64.646912%,0%);fill-opacity:1;\">\n  <use xlink:href=\"#glyph46-1 2115795690584364919\" x=\"426.724341\" y=\"222.981589\"/>\n</g>\n<g style=\"fill:rgb(0%,0%,100%);fill-opacity:1;\">\n  <use xlink:href=\"#glyph47-1 2115795690584364919\" x=\"426.529341\" y=\"221.677488\"/>\n</g>\n<g style=\"fill:rgb(0%,50.193787%,0%);fill-opacity:1;\">\n  <use xlink:href=\"#glyph48-1 2115795690584364919\" x=\"427.526342\" y=\"215.924083\"/>\n</g>\n<g style=\"fill:rgb(0%,0%,0%);fill-opacity:1;\">\n  <use xlink:href=\"#glyph49-1 2115795690584364919\" x=\"425.00634\" y=\"191.159063\"/>\n</g>\n<g style=\"fill:rgb(100%,0%,0%);fill-opacity:1;\">\n  <use xlink:href=\"#glyph50-1 2115795690584364919\" x=\"427.999342\" y=\"142.132424\"/>\n</g>\n<path style=\"fill:none;stroke-width:2.08333;stroke-linecap:butt;stroke-linejoin:miter;stroke:rgb(0%,0%,0%);stroke-opacity:1;stroke-miterlimit:10;\" d=\"M 1945.833333 56.25 L 2127.083333 56.25 M 2036.458333 56.25 L 2036.458333 51.041667 \" transform=\"matrix(0.24,0,0,-0.24,0,237)\"/>\n<g style=\"fill:rgb(100%,64.646912%,0%);fill-opacity:1;\">\n  <use xlink:href=\"#glyph51-1 2115795690584364919\" x=\"471.434377\" y=\"222.962789\"/>\n</g>\n<g style=\"fill:rgb(0%,0%,100%);fill-opacity:1;\">\n  <use xlink:href=\"#glyph52-1 2115795690584364919\" x=\"471.254377\" y=\"221.157187\"/>\n</g>\n<g style=\"fill:rgb(100%,0%,0%);fill-opacity:1;\">\n  <use xlink:href=\"#glyph53-1 2115795690584364919\" x=\"472.627378\" y=\"219.389086\"/>\n</g>\n<g style=\"fill:rgb(0%,0%,0%);fill-opacity:1;\">\n  <use xlink:href=\"#glyph54-1 2115795690584364919\" x=\"469.840376\" y=\"206.886576\"/>\n</g>\n<g style=\"fill:rgb(0%,50.193787%,0%);fill-opacity:1;\">\n  <use xlink:href=\"#glyph55-1 2115795690584364919\" x=\"472.184378\" y=\"146.849928\"/>\n</g>\n<path style=\"fill:none;stroke-width:2.08333;stroke-linecap:butt;stroke-linejoin:miter;stroke:rgb(0%,0%,0%);stroke-opacity:1;stroke-miterlimit:10;\" d=\"M 2127.083333 56.25 L 2308.333333 56.25 M 2217.708333 56.25 L 2217.708333 51.041667 \" transform=\"matrix(0.24,0,0,-0.24,0,237)\"/>\n<g style=\"fill:rgb(100%,64.646912%,0%);fill-opacity:1;\">\n  <use xlink:href=\"#glyph56-1 2115795690584364919\" x=\"517.552414\" y=\"222.962789\"/>\n</g>\n<g style=\"fill:rgb(0%,50.193787%,0%);fill-opacity:1;\">\n  <use xlink:href=\"#glyph57-1 2115795690584364919\" x=\"518.189415\" y=\"221.197487\"/>\n</g>\n<g style=\"fill:rgb(100%,0%,0%);fill-opacity:1;\">\n  <use xlink:href=\"#glyph58-1 2115795690584364919\" x=\"518.568415\" y=\"185.039058\"/>\n</g>\n<g style=\"fill:rgb(0%,0%,100%);fill-opacity:1;\">\n  <use xlink:href=\"#glyph59-1 2115795690584364919\" x=\"517.405414\" y=\"137.926821\"/>\n</g>\n<g style=\"fill:rgb(0%,0%,0%);fill-opacity:1;\">\n  <use xlink:href=\"#glyph60-1 2115795690584364919\" x=\"516.202413\" y=\"89.371882\"/>\n</g>\n</g>\n</svg>",
      "text/plain": [
       "<IPython.core.display.SVG object>"
      ]
     },
     "execution_count": 108,
     "metadata": {},
     "output_type": "execute_result"
    }
   ],
   "source": [
    "seqlogo.seqlogo(test1, ic_scale=False, size='large')"
   ]
  },
  {
   "cell_type": "code",
   "execution_count": null,
   "metadata": {},
   "outputs": [],
   "source": []
  }
 ],
 "metadata": {
  "interpreter": {
   "hash": "5f81ca079b9101c07fe85c8b090c9e2cc9c56a877851e75c4fbd4dbec9ea9fed"
  },
  "kernelspec": {
   "display_name": "Python 3.8.13 ('ML')",
   "language": "python",
   "name": "python3"
  },
  "language_info": {
   "codemirror_mode": {
    "name": "ipython",
    "version": 3
   },
   "file_extension": ".py",
   "mimetype": "text/x-python",
   "name": "python",
   "nbconvert_exporter": "python",
   "pygments_lexer": "ipython3",
   "version": "3.8.13"
  },
  "orig_nbformat": 4
 },
 "nbformat": 4,
 "nbformat_minor": 2
}
