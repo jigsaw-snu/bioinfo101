{
 "cells": [
  {
   "cell_type": "markdown",
   "metadata": {},
   "source": [
    "## Prepare Positive Samples"
   ]
  },
  {
   "cell_type": "markdown",
   "metadata": {},
   "source": [
    "### Prepare FASTQ files"
   ]
  },
  {
   "cell_type": "markdown",
   "metadata": {},
   "source": [
    "##### Download Datasets from SRA"
   ]
  },
  {
   "cell_type": "code",
   "execution_count": null,
   "metadata": {},
   "outputs": [],
   "source": [
    "!wget -O ./data/raw/SRR458758 phttps://sra-pub-run-odp.s3.amazonaws.com/sra/SRR458758/SRR458758 # CLIP-seq (Ab: 35L33G)\n",
    "!wget -O ./data/raw/SRR458759 https://sra-pub-run-odp.s3.amazonaws.com/sra/SRR458759/SRR458759 # CLIP-seq (Ab: 2J3)\n",
    "!wget -O ./data/raw/SRR458760 https://sra-pub-run-odp.s3.amazonaws.com/sra/SRR458760/SRR458760 # CLIP-seq (Ab: polyclonal)"
   ]
  },
  {
   "cell_type": "markdown",
   "metadata": {},
   "source": [
    "##### Convert SRA files into FASTQ files"
   ]
  },
  {
   "cell_type": "code",
   "execution_count": null,
   "metadata": {},
   "outputs": [],
   "source": [
    "!fastq-dump -O ./data/fastq/ ./data/raw/SRR458758\n",
    "!fastq-dump -O ./data/fastq/ ./data/raw/SRR458759\n",
    "!fastq-dump -O ./data/fastq/ ./data/raw/SRR458760"
   ]
  },
  {
   "cell_type": "markdown",
   "metadata": {},
   "source": [
    "##### Compress FASTQ files"
   ]
  },
  {
   "cell_type": "code",
   "execution_count": null,
   "metadata": {},
   "outputs": [],
   "source": [
    "!bgzip -@ 6 ./data/fastq/SRR458758.fastq\n",
    "!bgzip -@ 6 ./data/fastq/SRR458759.fastq\n",
    "!bgzip -@ 6 ./data/fsatq/SRR458760.fastq"
   ]
  },
  {
   "cell_type": "markdown",
   "metadata": {},
   "source": [
    "### Quality Control"
   ]
  },
  {
   "cell_type": "markdown",
   "metadata": {},
   "source": [
    "##### Check with FastQC"
   ]
  },
  {
   "cell_type": "code",
   "execution_count": null,
   "metadata": {},
   "outputs": [],
   "source": [
    "!fastqc ./data/fastq/SRR458758.fastq.gz -o ./data/fastq/fastqc\n",
    "!fastqc ./data/fastq/SRR458759.fastq.gz -o ./data/fastq/fastqc\n",
    "!fastqc ./data/fastq/SRR458760.fastq.gz -o ./data/fastq/fastqc"
   ]
  },
  {
   "cell_type": "markdown",
   "metadata": {},
   "source": [
    "##### Adapter Trimming"
   ]
  },
  {
   "cell_type": "code",
   "execution_count": null,
   "metadata": {},
   "outputs": [],
   "source": [
    "!cd ./data/fastq\n",
    "\n",
    "!bbduk.sh in=SRR458758.fastq.gz out=clean.SRR458758.fastq.gz \\\n",
    "    ref=/Users/jigsaw-0/Workspace/Bioinformatics/tools/bbmap/resources/adapters.fa \\\n",
    "        ktrim=r k=23 mink=11 hdist=1 tpe tbo\n",
    "\n",
    "!bbduk.sh in=SRR458759.fastq.gz out=clean.SRR458759.fastq.gz \\\n",
    "    ref=/Users/jigsaw-0/Workspace/Bioinformatics/tools/bbmap/resources/adapters.fa \\\n",
    "        ktrim=r k=23 mink=11 hdist=1 tpe tbo\n",
    "\n",
    "!bbduk.sh in=SRR458760.fastq.gz out=clean.SRR458760.fastq.gz \\\n",
    "    ref=/Users/jigsaw-0/Workspace/Bioinformatics/tools/bbmap/resources/adapters.fa \\\n",
    "        ktrim=r k=23 mink=11 hdist=1 tpe tbo"
   ]
  },
  {
   "cell_type": "markdown",
   "metadata": {},
   "source": [
    "##### Base Quality Filtering"
   ]
  },
  {
   "cell_type": "code",
   "execution_count": null,
   "metadata": {},
   "outputs": [],
   "source": [
    "!bbduk.sh in=clean.SRR458758.fastq.gz out=clean2.SRR458758.fastq.gz qtrim=r trimq=10 maq=10\n",
    "!bbduk.sh in=clean.SRR458759.fastq.gz out=clean2.SRR458759.fastq.gz qtrim=r trimq=10 maq=10\n",
    "!bbduk.sh in=clean.SRR458760.fastq.gz out=clean2.SRR458760.fastq.gz qtrim=r trimq=10 maq=10"
   ]
  },
  {
   "cell_type": "markdown",
   "metadata": {},
   "source": [
    "##### Filtered Fragment Length Statistics"
   ]
  },
  {
   "cell_type": "code",
   "execution_count": null,
   "metadata": {},
   "outputs": [],
   "source": [
    "# Since it is single-end sequncing, these statistics will be used in downstream\n",
    "# use readlength.sh from bbmap\n",
    "\n",
    "!readlength.sh in=clean2.SRR458758.fastq.gz out=histogram1.txt bin=10 max=80000 # Avg : 53.1, Std : 17.9\n",
    "!readlength.sh in=clean2.SRR458759.fastq.gz out=histogram2.txt bin=10 max=80000\n",
    "!readlength.sh in=clean2.SRR458760.fastq.gz out=histogram3.txt bin=10 max=80000"
   ]
  },
  {
   "cell_type": "markdown",
   "metadata": {},
   "source": [
    "##### Collapsing Duplicated Read"
   ]
  },
  {
   "cell_type": "code",
   "execution_count": null,
   "metadata": {},
   "outputs": [],
   "source": [
    "'''\n",
    "# collapsing reads of 20nt or longer to generate unique set of sequences\n",
    "!zless clean2.SRR458758.fastq.gz | awk 'NR%4==2' | awk 'length>19' | sort | uniq -c > uniq.SRR458758.txt\n",
    "!zless clean2.SRR458758.fastq.gz | awk 'NR%4==2' | awk 'length<20' > small.SRR458758.txt\n",
    "!cat uniq.SRR458758.txt small.SRR458758.txt > final.SRR458758.txt \n",
    "\n",
    "!zless clean2.SRR458759.fastq.gz | awk 'NR%4==2' | awk 'length>19' | sort | uniq -c > uniq.SRR458759.txt\n",
    "!zless clean2.SRR458759.fastq.gz | awk 'NR%4==2' | awk 'length<20' > small.SRR458759.txt\n",
    "!cat uniq.SRR458759.txt small.SRR458759.txt > final.SRR458759.txt \n",
    "\n",
    "!zless clean2.SRR458760.fastq.gz | awk 'NR%4==2' | awk 'length>19' | sort | uniq -c > uniq.SRR458760.txt\n",
    "!zless clean2.SRR458760.fastq.gz | awk 'NR%4==2' | awk 'length<20' > small.SRR458760.txt\n",
    "!cat uniq.SRR458760.txt small.SRR458760.txt > final.SRR458760.txt\n",
    "'''"
   ]
  },
  {
   "cell_type": "code",
   "execution_count": null,
   "metadata": {},
   "outputs": [],
   "source": [
    "!zless clean2.SRR458758.fastq.gz | awk 'NR%4==2' | sort | uniq -c > uniq.SRR458758.txt\n",
    "!zless clean2.SRR458759.fastq.gz | awk 'NR%4==2' | sort | uniq -c > uniq.SRR458759.txt\n",
    "!zless clean2.SRR458760.fastq.gz | awk 'NR%4==2' | sort | uniq -c > uniq.SRR458760.txt"
   ]
  },
  {
   "cell_type": "markdown",
   "metadata": {},
   "source": [
    "##### Alignment"
   ]
  },
  {
   "cell_type": "code",
   "execution_count": null,
   "metadata": {},
   "outputs": [],
   "source": [
    "# 1. Building an Index\n",
    "# reference transcript file source : https://www.ncbi.nlm.nih.gov/genome/?term=txid10090[orgn]\n",
    "\n",
    "!kallisto index -i transcripts.idx GCF_000001635.27_GRCm39_rna.fna.gz"
   ]
  },
  {
   "cell_type": "code",
   "execution_count": null,
   "metadata": {},
   "outputs": [],
   "source": [
    "# 2. Pseudoalignment (Quantification)\n",
    "# annotation file & chromosome info source : https://www.ncbi.nlm.nih.gov/genome/?term=txid10090[orgn]\n",
    "\n",
    "!kallisto quant --single -i transcripts.idx -o kali_out --genomebam \\\n",
    "    --gtf GCF_000001635.27_GRCm39_genomic.gff.gz --chromosomes chr.txt \\\n",
    "        --fragment-length=53 --sd=18 \\\n",
    "            clean2.SRR458758.fastq.gz"
   ]
  },
  {
   "cell_type": "markdown",
   "metadata": {},
   "source": [
    "##### Identify reads mapped to reference transcripts"
   ]
  },
  {
   "cell_type": "code",
   "execution_count": null,
   "metadata": {},
   "outputs": [],
   "source": []
  },
  {
   "cell_type": "markdown",
   "metadata": {},
   "source": [
    "## Prepare Negative Samples"
   ]
  },
  {
   "cell_type": "markdown",
   "metadata": {},
   "source": [
    "# Generating Random Samples"
   ]
  }
 ],
 "metadata": {
  "language_info": {
   "name": "python"
  },
  "orig_nbformat": 4
 },
 "nbformat": 4,
 "nbformat_minor": 2
}
