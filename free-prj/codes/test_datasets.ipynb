{
 "cells": [
  {
   "cell_type": "markdown",
   "metadata": {},
   "source": [
    "#### Data Preparation and Preprocessing"
   ]
  },
  {
   "cell_type": "code",
   "execution_count": 1,
   "metadata": {},
   "outputs": [],
   "source": [
    "from utility import *\n",
    "import os, gzip, pickle\n",
    "import pandas as pd\n",
    "from natsort import natsorted"
   ]
  },
  {
   "cell_type": "markdown",
   "metadata": {},
   "source": [
    "##### Make Dataframe from dataset"
   ]
  },
  {
   "cell_type": "code",
   "execution_count": 33,
   "metadata": {},
   "outputs": [],
   "source": [
    "# Make Dataframe with clip dataset\n",
    "# Final output : DataFrame[@Sequence @RBP @Class]\n",
    "\n",
    "\n",
    "# Various type of RBPs in Train/Test Dataset\n",
    "clip_list = [\n",
    "    'Ago-EIF',\n",
    "    'Ago2-MNase',\n",
    "    'Ago2-1',\n",
    "    'Ago2-2',\n",
    "    'Ago2',\n",
    "    'eIF4III-1',\n",
    "    'eIF4III-2',\n",
    "    'ELAVL1-1',\n",
    "    'ELAVL1-MNase',\n",
    "    'ELAVL1A',\n",
    "    'ELAVL1-2',\n",
    "    'ESWR1',\n",
    "    'FUS',\n",
    "    'Mut_FUS',\n",
    "    'IGFBP1-3',\n",
    "    'hnRNPC-1',\n",
    "    'hnRNPC-2',\n",
    "    'hnRNPL-1',\n",
    "    'hnRNPL-2',\n",
    "    'hnRNPL-like',\n",
    "    'MOV10',\n",
    "    'Nsun2',\n",
    "    'PUM2',\n",
    "    'QKI',\n",
    "    'SRSF1',\n",
    "    'TAF15',\n",
    "    'TDP-43',\n",
    "    'TIA1',\n",
    "    'TIAL1',\n",
    "    'U2AF2',\n",
    "    'U2AF2-KD'\n",
    "]\n",
    "\n",
    "# read (FASTA) file path and return list of parsed object (sequences)\n",
    "# Input : FASTA file (path), Class file (path) --> per Protein\n",
    "# Output : list of (sequence, class) tuples\n",
    "def read_fa(fa_path, clss_path):\n",
    "    seqs = []\n",
    "    seq = ''    \n",
    "    with gzip.open(fa_path, 'r') as fa, gzip.open(clss_path, 'r') as cl:# files are compressed with bgzip\n",
    "        clss = cl.readlines()\n",
    "        clss = [int(x.decode('utf-8')) for x in clss[1:]] # class label\n",
    "\n",
    "        i = 0\n",
    "        for line in fa:\n",
    "            line = line.decode('utf-8') # bytes -> string\n",
    "            if line[0] == '>': # need to skip this header line with after extra jobs\n",
    "                if len(seqs) == 0 and seq == '': # just skip header of fisrst sequence in fa\n",
    "                    continue\n",
    "                else:\n",
    "                    seqs.append((seq, clss[i])) # add sequence to seqs\n",
    "                    i += 1\n",
    "                    seq = '' # reinitialize with empty string\n",
    "                    continue\n",
    "            else:\n",
    "                seq += line.rstrip() # concatenate sequence without '\\n' to seq\n",
    "        \n",
    "        seqs.append((seq, clss[i]))\n",
    "    \n",
    "    return seqs\n",
    "\n",
    "\n",
    "# Make DataFrame\n",
    "def mk_frame(data_rt_head, file_list, seq_tail, clss_tail, df_name):\n",
    "    seqs = {}\n",
    "    i = 0\n",
    "    \n",
    "    for file in file_list:\n",
    "        seq_path = data_rt_head + '/' + file + seq_tail\n",
    "        clss_path = data_rt_head + '/' + file + clss_tail\n",
    "        seqs[clip_list[i]] = read_fa(seq_path, clss_path)\n",
    "        i += 1\n",
    "    \n",
    "    # len(seqs) : number of RBPs\n",
    "    # len(seqs[clip_list[0]]) : number of seqs per RBP -> 1K(test) or 5K(train) or 10K(test) or 30K(train)\n",
    "    if len(seqs) != 31 or len(seqs[clip_list[0]]) not in [1000, 5000, 10000, 30000]:\n",
    "        print('len(seqs) :', len(seqs))\n",
    "        print('len(seqs[clip_list[0]])', len(seqs[clip_list[0]]))\n",
    "        raise IndexNotMatching\n",
    "\n",
    "    df_seqs = pd.DataFrame(\n",
    "        [(seq, rbp, clss) for (rbp, seq_clss_pair) in seqs.items() for (seq, clss) in seq_clss_pair],\n",
    "        #[(var, key) for (key, L) in seqs_test.items() for var in L],\n",
    "        columns=['Sequence', 'RBP', 'Class']\n",
    "    )\n",
    "\n",
    "    df_seqs['RBP'] = df_seqs['RBP'].astype('category')\n",
    "    df_seqs['Class'] = df_seqs['Class'].astype('category')\n",
    "\n",
    "    df_seqs.to_feather('./../dataset/objs/' + df_name + '.ftr') # save dataframe as object\n",
    "\n",
    "    return df_seqs\n",
    "\n",
    "\n",
    "def concat_frame(dfs, df_name):\n",
    "    if type(dfs) != 'list':\n",
    "        return dfs\n",
    "    \n",
    "    df_total = pd.concat(dfs)\n",
    "\n",
    "    df_total.to_feather('./../dataset/objs/' + df_name + '.ftr')\n",
    "\n",
    "    return df_total\n",
    "\n",
    "\n",
    "# Single Sample set in 5K dataset\n",
    "data_rt_5k = \"./../dataset/clip5000\"\n",
    "files_5k = natsorted(os.listdir(data_rt_5k))\n",
    "train_seq_tail_5k = \"/5000/training_sample_0/sequences.fa.gz\"\n",
    "train_clss_tail_5k = train_seq_tail_5k.replace('sequences.fa', 'matrix_Response.tab')\n",
    "test_seq_tail_5k = train_seq_tail_5k.replace('training', 'test')\n",
    "test_clss_tail_5k = train_clss_tail_5k.replace('training', 'test')\n",
    "\n",
    "# 3 Sample sets in 30K dataset\n",
    "data_rt_30k = \"./../dataset/clip\"\n",
    "files_30k = natsorted(os.listdir(data_rt_30k))\n",
    "train_seqs_tails_30k = [\"/30000/training_sample_\" + str(i) + \"/sequences.fa.gz\" for i in range(3)]\n",
    "train_clss_tails_30k = [seq_tail.replace('sequences.fa', 'matrix_Response.tab') for seq_tail in train_seqs_tails_30k]\n",
    "test_seqs_tails_30k = [seq_tail.replace('training', 'test') for seq_tail in train_seqs_tails_30k]\n",
    "test_clss_tails_30k = [seq_tail.replace('sequences.fa', 'matrix_Response.tab') for seq_tail in test_seqs_tails_30k]"
   ]
  },
  {
   "cell_type": "code",
   "execution_count": 36,
   "metadata": {},
   "outputs": [
    {
     "ename": "IsADirectoryError",
     "evalue": "[Errno 21] Is a directory: './../dataset/clip/1_PARCLIP_AGO1234_hg19/'",
     "output_type": "error",
     "traceback": [
      "\u001b[0;31m---------------------------------------------------------------------------\u001b[0m",
      "\u001b[0;31mIsADirectoryError\u001b[0m                         Traceback (most recent call last)",
      "\u001b[1;32m/home/myrmecia/Workspace/ml-motif/bioinfo101/free-prj/codes/data_prep.ipynb Cell 5'\u001b[0m in \u001b[0;36m<cell line: 18>\u001b[0;34m()\u001b[0m\n\u001b[1;32m      <a href='vscode-notebook-cell://wsl%2Bubuntu/home/myrmecia/Workspace/ml-motif/bioinfo101/free-prj/codes/data_prep.ipynb#ch0000016vscode-remote?line=0'>1</a>\u001b[0m df_train_5k \u001b[39m=\u001b[39m mk_frame(\n\u001b[1;32m      <a href='vscode-notebook-cell://wsl%2Bubuntu/home/myrmecia/Workspace/ml-motif/bioinfo101/free-prj/codes/data_prep.ipynb#ch0000016vscode-remote?line=1'>2</a>\u001b[0m     data_rt_head\u001b[39m=\u001b[39mdata_rt_5k,\n\u001b[1;32m      <a href='vscode-notebook-cell://wsl%2Bubuntu/home/myrmecia/Workspace/ml-motif/bioinfo101/free-prj/codes/data_prep.ipynb#ch0000016vscode-remote?line=2'>3</a>\u001b[0m     file_list\u001b[39m=\u001b[39mfiles_5k,\n\u001b[0;32m   (...)\u001b[0m\n\u001b[1;32m      <a href='vscode-notebook-cell://wsl%2Bubuntu/home/myrmecia/Workspace/ml-motif/bioinfo101/free-prj/codes/data_prep.ipynb#ch0000016vscode-remote?line=5'>6</a>\u001b[0m     df_name\u001b[39m=\u001b[39m\u001b[39m'\u001b[39m\u001b[39mtrain_5k\u001b[39m\u001b[39m'\u001b[39m\n\u001b[1;32m      <a href='vscode-notebook-cell://wsl%2Bubuntu/home/myrmecia/Workspace/ml-motif/bioinfo101/free-prj/codes/data_prep.ipynb#ch0000016vscode-remote?line=6'>7</a>\u001b[0m )\n\u001b[1;32m      <a href='vscode-notebook-cell://wsl%2Bubuntu/home/myrmecia/Workspace/ml-motif/bioinfo101/free-prj/codes/data_prep.ipynb#ch0000016vscode-remote?line=8'>9</a>\u001b[0m df_test_5k \u001b[39m=\u001b[39m mk_frame(\n\u001b[1;32m     <a href='vscode-notebook-cell://wsl%2Bubuntu/home/myrmecia/Workspace/ml-motif/bioinfo101/free-prj/codes/data_prep.ipynb#ch0000016vscode-remote?line=9'>10</a>\u001b[0m     data_rt_head\u001b[39m=\u001b[39mdata_rt_5k,\n\u001b[1;32m     <a href='vscode-notebook-cell://wsl%2Bubuntu/home/myrmecia/Workspace/ml-motif/bioinfo101/free-prj/codes/data_prep.ipynb#ch0000016vscode-remote?line=10'>11</a>\u001b[0m     file_list\u001b[39m=\u001b[39mfiles_5k,\n\u001b[0;32m   (...)\u001b[0m\n\u001b[1;32m     <a href='vscode-notebook-cell://wsl%2Bubuntu/home/myrmecia/Workspace/ml-motif/bioinfo101/free-prj/codes/data_prep.ipynb#ch0000016vscode-remote?line=13'>14</a>\u001b[0m     df_name\u001b[39m=\u001b[39m\u001b[39m'\u001b[39m\u001b[39mtest_5k\u001b[39m\u001b[39m'\u001b[39m\n\u001b[1;32m     <a href='vscode-notebook-cell://wsl%2Bubuntu/home/myrmecia/Workspace/ml-motif/bioinfo101/free-prj/codes/data_prep.ipynb#ch0000016vscode-remote?line=14'>15</a>\u001b[0m )\n\u001b[0;32m---> <a href='vscode-notebook-cell://wsl%2Bubuntu/home/myrmecia/Workspace/ml-motif/bioinfo101/free-prj/codes/data_prep.ipynb#ch0000016vscode-remote?line=17'>18</a>\u001b[0m df_train_lst \u001b[39m=\u001b[39m [\n\u001b[1;32m     <a href='vscode-notebook-cell://wsl%2Bubuntu/home/myrmecia/Workspace/ml-motif/bioinfo101/free-prj/codes/data_prep.ipynb#ch0000016vscode-remote?line=18'>19</a>\u001b[0m     mk_frame(data_rt_30k, files_30k, train_30k_tail[i][\u001b[39m0\u001b[39m], train_30k_tail[i][\u001b[39m1\u001b[39m], \u001b[39m'\u001b[39m\u001b[39mtrain_30k_\u001b[39m\u001b[39m'\u001b[39m \u001b[39m+\u001b[39m \u001b[39mstr\u001b[39m(i)) \\\n\u001b[1;32m     <a href='vscode-notebook-cell://wsl%2Bubuntu/home/myrmecia/Workspace/ml-motif/bioinfo101/free-prj/codes/data_prep.ipynb#ch0000016vscode-remote?line=19'>20</a>\u001b[0m         \u001b[39mfor\u001b[39;00m train_30k_tail \u001b[39min\u001b[39;00m \u001b[39mzip\u001b[39m(train_seqs_tails_30k, train_clss_tails_30k) \u001b[39mfor\u001b[39;00m i \u001b[39min\u001b[39;00m \u001b[39mrange\u001b[39m(\u001b[39mlen\u001b[39m(train_seqs_tails_30k))\n\u001b[1;32m     <a href='vscode-notebook-cell://wsl%2Bubuntu/home/myrmecia/Workspace/ml-motif/bioinfo101/free-prj/codes/data_prep.ipynb#ch0000016vscode-remote?line=20'>21</a>\u001b[0m ]\n\u001b[1;32m     <a href='vscode-notebook-cell://wsl%2Bubuntu/home/myrmecia/Workspace/ml-motif/bioinfo101/free-prj/codes/data_prep.ipynb#ch0000016vscode-remote?line=22'>23</a>\u001b[0m df_test_lst \u001b[39m=\u001b[39m [\n\u001b[1;32m     <a href='vscode-notebook-cell://wsl%2Bubuntu/home/myrmecia/Workspace/ml-motif/bioinfo101/free-prj/codes/data_prep.ipynb#ch0000016vscode-remote?line=23'>24</a>\u001b[0m     mk_frame(data_rt_30k, files_30k, test_30k_tail[i][\u001b[39m0\u001b[39m], test_30k_tail[i][\u001b[39m1\u001b[39m], \u001b[39m'\u001b[39m\u001b[39mtest_30k_\u001b[39m\u001b[39m'\u001b[39m \u001b[39m+\u001b[39m \u001b[39mstr\u001b[39m(i)) \\\n\u001b[1;32m     <a href='vscode-notebook-cell://wsl%2Bubuntu/home/myrmecia/Workspace/ml-motif/bioinfo101/free-prj/codes/data_prep.ipynb#ch0000016vscode-remote?line=24'>25</a>\u001b[0m         \u001b[39mfor\u001b[39;00m test_30k_tail \u001b[39min\u001b[39;00m \u001b[39mzip\u001b[39m(test_seqs_tails_30k, test_clss_tails_30k) \u001b[39mfor\u001b[39;00m i \u001b[39min\u001b[39;00m \u001b[39mrange\u001b[39m(\u001b[39mlen\u001b[39m(test_seqs_tails_30k))\n\u001b[1;32m     <a href='vscode-notebook-cell://wsl%2Bubuntu/home/myrmecia/Workspace/ml-motif/bioinfo101/free-prj/codes/data_prep.ipynb#ch0000016vscode-remote?line=25'>26</a>\u001b[0m ]\n\u001b[1;32m     <a href='vscode-notebook-cell://wsl%2Bubuntu/home/myrmecia/Workspace/ml-motif/bioinfo101/free-prj/codes/data_prep.ipynb#ch0000016vscode-remote?line=27'>28</a>\u001b[0m df_train_30k \u001b[39m=\u001b[39m concat_frame(df_train_lst, \u001b[39m'\u001b[39m\u001b[39mtrain_30k\u001b[39m\u001b[39m'\u001b[39m)\n",
      "\u001b[1;32m/home/myrmecia/Workspace/ml-motif/bioinfo101/free-prj/codes/data_prep.ipynb Cell 5'\u001b[0m in \u001b[0;36m<listcomp>\u001b[0;34m(.0)\u001b[0m\n\u001b[1;32m      <a href='vscode-notebook-cell://wsl%2Bubuntu/home/myrmecia/Workspace/ml-motif/bioinfo101/free-prj/codes/data_prep.ipynb#ch0000016vscode-remote?line=0'>1</a>\u001b[0m df_train_5k \u001b[39m=\u001b[39m mk_frame(\n\u001b[1;32m      <a href='vscode-notebook-cell://wsl%2Bubuntu/home/myrmecia/Workspace/ml-motif/bioinfo101/free-prj/codes/data_prep.ipynb#ch0000016vscode-remote?line=1'>2</a>\u001b[0m     data_rt_head\u001b[39m=\u001b[39mdata_rt_5k,\n\u001b[1;32m      <a href='vscode-notebook-cell://wsl%2Bubuntu/home/myrmecia/Workspace/ml-motif/bioinfo101/free-prj/codes/data_prep.ipynb#ch0000016vscode-remote?line=2'>3</a>\u001b[0m     file_list\u001b[39m=\u001b[39mfiles_5k,\n\u001b[0;32m   (...)\u001b[0m\n\u001b[1;32m      <a href='vscode-notebook-cell://wsl%2Bubuntu/home/myrmecia/Workspace/ml-motif/bioinfo101/free-prj/codes/data_prep.ipynb#ch0000016vscode-remote?line=5'>6</a>\u001b[0m     df_name\u001b[39m=\u001b[39m\u001b[39m'\u001b[39m\u001b[39mtrain_5k\u001b[39m\u001b[39m'\u001b[39m\n\u001b[1;32m      <a href='vscode-notebook-cell://wsl%2Bubuntu/home/myrmecia/Workspace/ml-motif/bioinfo101/free-prj/codes/data_prep.ipynb#ch0000016vscode-remote?line=6'>7</a>\u001b[0m )\n\u001b[1;32m      <a href='vscode-notebook-cell://wsl%2Bubuntu/home/myrmecia/Workspace/ml-motif/bioinfo101/free-prj/codes/data_prep.ipynb#ch0000016vscode-remote?line=8'>9</a>\u001b[0m df_test_5k \u001b[39m=\u001b[39m mk_frame(\n\u001b[1;32m     <a href='vscode-notebook-cell://wsl%2Bubuntu/home/myrmecia/Workspace/ml-motif/bioinfo101/free-prj/codes/data_prep.ipynb#ch0000016vscode-remote?line=9'>10</a>\u001b[0m     data_rt_head\u001b[39m=\u001b[39mdata_rt_5k,\n\u001b[1;32m     <a href='vscode-notebook-cell://wsl%2Bubuntu/home/myrmecia/Workspace/ml-motif/bioinfo101/free-prj/codes/data_prep.ipynb#ch0000016vscode-remote?line=10'>11</a>\u001b[0m     file_list\u001b[39m=\u001b[39mfiles_5k,\n\u001b[0;32m   (...)\u001b[0m\n\u001b[1;32m     <a href='vscode-notebook-cell://wsl%2Bubuntu/home/myrmecia/Workspace/ml-motif/bioinfo101/free-prj/codes/data_prep.ipynb#ch0000016vscode-remote?line=13'>14</a>\u001b[0m     df_name\u001b[39m=\u001b[39m\u001b[39m'\u001b[39m\u001b[39mtest_5k\u001b[39m\u001b[39m'\u001b[39m\n\u001b[1;32m     <a href='vscode-notebook-cell://wsl%2Bubuntu/home/myrmecia/Workspace/ml-motif/bioinfo101/free-prj/codes/data_prep.ipynb#ch0000016vscode-remote?line=14'>15</a>\u001b[0m )\n\u001b[1;32m     <a href='vscode-notebook-cell://wsl%2Bubuntu/home/myrmecia/Workspace/ml-motif/bioinfo101/free-prj/codes/data_prep.ipynb#ch0000016vscode-remote?line=17'>18</a>\u001b[0m df_train_lst \u001b[39m=\u001b[39m [\n\u001b[0;32m---> <a href='vscode-notebook-cell://wsl%2Bubuntu/home/myrmecia/Workspace/ml-motif/bioinfo101/free-prj/codes/data_prep.ipynb#ch0000016vscode-remote?line=18'>19</a>\u001b[0m     mk_frame(data_rt_30k, files_30k, train_30k_tail[i][\u001b[39m0\u001b[39;49m], train_30k_tail[i][\u001b[39m1\u001b[39;49m], \u001b[39m'\u001b[39;49m\u001b[39mtrain_30k_\u001b[39;49m\u001b[39m'\u001b[39;49m \u001b[39m+\u001b[39;49m \u001b[39mstr\u001b[39;49m(i)) \\\n\u001b[1;32m     <a href='vscode-notebook-cell://wsl%2Bubuntu/home/myrmecia/Workspace/ml-motif/bioinfo101/free-prj/codes/data_prep.ipynb#ch0000016vscode-remote?line=19'>20</a>\u001b[0m         \u001b[39mfor\u001b[39;00m train_30k_tail \u001b[39min\u001b[39;00m \u001b[39mzip\u001b[39m(train_seqs_tails_30k, train_clss_tails_30k) \u001b[39mfor\u001b[39;00m i \u001b[39min\u001b[39;00m \u001b[39mrange\u001b[39m(\u001b[39mlen\u001b[39m(train_seqs_tails_30k))\n\u001b[1;32m     <a href='vscode-notebook-cell://wsl%2Bubuntu/home/myrmecia/Workspace/ml-motif/bioinfo101/free-prj/codes/data_prep.ipynb#ch0000016vscode-remote?line=20'>21</a>\u001b[0m ]\n\u001b[1;32m     <a href='vscode-notebook-cell://wsl%2Bubuntu/home/myrmecia/Workspace/ml-motif/bioinfo101/free-prj/codes/data_prep.ipynb#ch0000016vscode-remote?line=22'>23</a>\u001b[0m df_test_lst \u001b[39m=\u001b[39m [\n\u001b[1;32m     <a href='vscode-notebook-cell://wsl%2Bubuntu/home/myrmecia/Workspace/ml-motif/bioinfo101/free-prj/codes/data_prep.ipynb#ch0000016vscode-remote?line=23'>24</a>\u001b[0m     mk_frame(data_rt_30k, files_30k, test_30k_tail[i][\u001b[39m0\u001b[39m], test_30k_tail[i][\u001b[39m1\u001b[39m], \u001b[39m'\u001b[39m\u001b[39mtest_30k_\u001b[39m\u001b[39m'\u001b[39m \u001b[39m+\u001b[39m \u001b[39mstr\u001b[39m(i)) \\\n\u001b[1;32m     <a href='vscode-notebook-cell://wsl%2Bubuntu/home/myrmecia/Workspace/ml-motif/bioinfo101/free-prj/codes/data_prep.ipynb#ch0000016vscode-remote?line=24'>25</a>\u001b[0m         \u001b[39mfor\u001b[39;00m test_30k_tail \u001b[39min\u001b[39;00m \u001b[39mzip\u001b[39m(test_seqs_tails_30k, test_clss_tails_30k) \u001b[39mfor\u001b[39;00m i \u001b[39min\u001b[39;00m \u001b[39mrange\u001b[39m(\u001b[39mlen\u001b[39m(test_seqs_tails_30k))\n\u001b[1;32m     <a href='vscode-notebook-cell://wsl%2Bubuntu/home/myrmecia/Workspace/ml-motif/bioinfo101/free-prj/codes/data_prep.ipynb#ch0000016vscode-remote?line=25'>26</a>\u001b[0m ]\n\u001b[1;32m     <a href='vscode-notebook-cell://wsl%2Bubuntu/home/myrmecia/Workspace/ml-motif/bioinfo101/free-prj/codes/data_prep.ipynb#ch0000016vscode-remote?line=27'>28</a>\u001b[0m df_train_30k \u001b[39m=\u001b[39m concat_frame(df_train_lst, \u001b[39m'\u001b[39m\u001b[39mtrain_30k\u001b[39m\u001b[39m'\u001b[39m)\n",
      "\u001b[1;32m/home/myrmecia/Workspace/ml-motif/bioinfo101/free-prj/codes/data_prep.ipynb Cell 4'\u001b[0m in \u001b[0;36mmk_frame\u001b[0;34m(data_rt_head, file_list, seq_tail, clss_tail, df_name)\u001b[0m\n\u001b[1;32m     <a href='vscode-notebook-cell://wsl%2Bubuntu/home/myrmecia/Workspace/ml-motif/bioinfo101/free-prj/codes/data_prep.ipynb#ch0000003vscode-remote?line=74'>75</a>\u001b[0m     seq_path \u001b[39m=\u001b[39m data_rt_head \u001b[39m+\u001b[39m \u001b[39m'\u001b[39m\u001b[39m/\u001b[39m\u001b[39m'\u001b[39m \u001b[39m+\u001b[39m file \u001b[39m+\u001b[39m seq_tail\n\u001b[1;32m     <a href='vscode-notebook-cell://wsl%2Bubuntu/home/myrmecia/Workspace/ml-motif/bioinfo101/free-prj/codes/data_prep.ipynb#ch0000003vscode-remote?line=75'>76</a>\u001b[0m     clss_path \u001b[39m=\u001b[39m data_rt_head \u001b[39m+\u001b[39m \u001b[39m'\u001b[39m\u001b[39m/\u001b[39m\u001b[39m'\u001b[39m \u001b[39m+\u001b[39m file \u001b[39m+\u001b[39m clss_tail\n\u001b[0;32m---> <a href='vscode-notebook-cell://wsl%2Bubuntu/home/myrmecia/Workspace/ml-motif/bioinfo101/free-prj/codes/data_prep.ipynb#ch0000003vscode-remote?line=76'>77</a>\u001b[0m     seqs[clip_list[i]] \u001b[39m=\u001b[39m read_fa(seq_path, clss_path)\n\u001b[1;32m     <a href='vscode-notebook-cell://wsl%2Bubuntu/home/myrmecia/Workspace/ml-motif/bioinfo101/free-prj/codes/data_prep.ipynb#ch0000003vscode-remote?line=77'>78</a>\u001b[0m     i \u001b[39m+\u001b[39m\u001b[39m=\u001b[39m \u001b[39m1\u001b[39m\n\u001b[1;32m     <a href='vscode-notebook-cell://wsl%2Bubuntu/home/myrmecia/Workspace/ml-motif/bioinfo101/free-prj/codes/data_prep.ipynb#ch0000003vscode-remote?line=79'>80</a>\u001b[0m \u001b[39m# len(seqs) : number of RBPs\u001b[39;00m\n\u001b[1;32m     <a href='vscode-notebook-cell://wsl%2Bubuntu/home/myrmecia/Workspace/ml-motif/bioinfo101/free-prj/codes/data_prep.ipynb#ch0000003vscode-remote?line=80'>81</a>\u001b[0m \u001b[39m# len(seqs[clip_list[0]]) : number of seqs per RBP -> 1K(test) or 5K(train) or 10K(test) or 30K(train)\u001b[39;00m\n",
      "\u001b[1;32m/home/myrmecia/Workspace/ml-motif/bioinfo101/free-prj/codes/data_prep.ipynb Cell 4'\u001b[0m in \u001b[0;36mread_fa\u001b[0;34m(fa_path, clss_path)\u001b[0m\n\u001b[1;32m     <a href='vscode-notebook-cell://wsl%2Bubuntu/home/myrmecia/Workspace/ml-motif/bioinfo101/free-prj/codes/data_prep.ipynb#ch0000003vscode-remote?line=43'>44</a>\u001b[0m seqs \u001b[39m=\u001b[39m []\n\u001b[1;32m     <a href='vscode-notebook-cell://wsl%2Bubuntu/home/myrmecia/Workspace/ml-motif/bioinfo101/free-prj/codes/data_prep.ipynb#ch0000003vscode-remote?line=44'>45</a>\u001b[0m seq \u001b[39m=\u001b[39m \u001b[39m'\u001b[39m\u001b[39m'\u001b[39m    \n\u001b[0;32m---> <a href='vscode-notebook-cell://wsl%2Bubuntu/home/myrmecia/Workspace/ml-motif/bioinfo101/free-prj/codes/data_prep.ipynb#ch0000003vscode-remote?line=45'>46</a>\u001b[0m \u001b[39mwith\u001b[39;00m gzip\u001b[39m.\u001b[39;49mopen(fa_path, \u001b[39m'\u001b[39;49m\u001b[39mr\u001b[39;49m\u001b[39m'\u001b[39;49m) \u001b[39mas\u001b[39;00m fa, gzip\u001b[39m.\u001b[39mopen(clss_path, \u001b[39m'\u001b[39m\u001b[39mr\u001b[39m\u001b[39m'\u001b[39m) \u001b[39mas\u001b[39;00m cl:\u001b[39m# files are compressed with bgzip\u001b[39;00m\n\u001b[1;32m     <a href='vscode-notebook-cell://wsl%2Bubuntu/home/myrmecia/Workspace/ml-motif/bioinfo101/free-prj/codes/data_prep.ipynb#ch0000003vscode-remote?line=46'>47</a>\u001b[0m     clss \u001b[39m=\u001b[39m cl\u001b[39m.\u001b[39mreadlines()\n\u001b[1;32m     <a href='vscode-notebook-cell://wsl%2Bubuntu/home/myrmecia/Workspace/ml-motif/bioinfo101/free-prj/codes/data_prep.ipynb#ch0000003vscode-remote?line=47'>48</a>\u001b[0m     clss \u001b[39m=\u001b[39m [\u001b[39mint\u001b[39m(x\u001b[39m.\u001b[39mdecode(\u001b[39m'\u001b[39m\u001b[39mutf-8\u001b[39m\u001b[39m'\u001b[39m)) \u001b[39mfor\u001b[39;00m x \u001b[39min\u001b[39;00m clss[\u001b[39m1\u001b[39m:]] \u001b[39m# class label\u001b[39;00m\n",
      "File \u001b[0;32m~/anaconda3/envs/ML/lib/python3.8/gzip.py:58\u001b[0m, in \u001b[0;36mopen\u001b[0;34m(filename, mode, compresslevel, encoding, errors, newline)\u001b[0m\n\u001b[1;32m     <a href='file:///home/myrmecia/anaconda3/envs/ML/lib/python3.8/gzip.py?line=55'>56</a>\u001b[0m gz_mode \u001b[39m=\u001b[39m mode\u001b[39m.\u001b[39mreplace(\u001b[39m\"\u001b[39m\u001b[39mt\u001b[39m\u001b[39m\"\u001b[39m, \u001b[39m\"\u001b[39m\u001b[39m\"\u001b[39m)\n\u001b[1;32m     <a href='file:///home/myrmecia/anaconda3/envs/ML/lib/python3.8/gzip.py?line=56'>57</a>\u001b[0m \u001b[39mif\u001b[39;00m \u001b[39misinstance\u001b[39m(filename, (\u001b[39mstr\u001b[39m, \u001b[39mbytes\u001b[39m, os\u001b[39m.\u001b[39mPathLike)):\n\u001b[0;32m---> <a href='file:///home/myrmecia/anaconda3/envs/ML/lib/python3.8/gzip.py?line=57'>58</a>\u001b[0m     binary_file \u001b[39m=\u001b[39m GzipFile(filename, gz_mode, compresslevel)\n\u001b[1;32m     <a href='file:///home/myrmecia/anaconda3/envs/ML/lib/python3.8/gzip.py?line=58'>59</a>\u001b[0m \u001b[39melif\u001b[39;00m \u001b[39mhasattr\u001b[39m(filename, \u001b[39m\"\u001b[39m\u001b[39mread\u001b[39m\u001b[39m\"\u001b[39m) \u001b[39mor\u001b[39;00m \u001b[39mhasattr\u001b[39m(filename, \u001b[39m\"\u001b[39m\u001b[39mwrite\u001b[39m\u001b[39m\"\u001b[39m):\n\u001b[1;32m     <a href='file:///home/myrmecia/anaconda3/envs/ML/lib/python3.8/gzip.py?line=59'>60</a>\u001b[0m     binary_file \u001b[39m=\u001b[39m GzipFile(\u001b[39mNone\u001b[39;00m, gz_mode, compresslevel, filename)\n",
      "File \u001b[0;32m~/anaconda3/envs/ML/lib/python3.8/gzip.py:173\u001b[0m, in \u001b[0;36mGzipFile.__init__\u001b[0;34m(self, filename, mode, compresslevel, fileobj, mtime)\u001b[0m\n\u001b[1;32m    <a href='file:///home/myrmecia/anaconda3/envs/ML/lib/python3.8/gzip.py?line=170'>171</a>\u001b[0m     mode \u001b[39m+\u001b[39m\u001b[39m=\u001b[39m \u001b[39m'\u001b[39m\u001b[39mb\u001b[39m\u001b[39m'\u001b[39m\n\u001b[1;32m    <a href='file:///home/myrmecia/anaconda3/envs/ML/lib/python3.8/gzip.py?line=171'>172</a>\u001b[0m \u001b[39mif\u001b[39;00m fileobj \u001b[39mis\u001b[39;00m \u001b[39mNone\u001b[39;00m:\n\u001b[0;32m--> <a href='file:///home/myrmecia/anaconda3/envs/ML/lib/python3.8/gzip.py?line=172'>173</a>\u001b[0m     fileobj \u001b[39m=\u001b[39m \u001b[39mself\u001b[39m\u001b[39m.\u001b[39mmyfileobj \u001b[39m=\u001b[39m builtins\u001b[39m.\u001b[39;49mopen(filename, mode \u001b[39mor\u001b[39;49;00m \u001b[39m'\u001b[39;49m\u001b[39mrb\u001b[39;49m\u001b[39m'\u001b[39;49m)\n\u001b[1;32m    <a href='file:///home/myrmecia/anaconda3/envs/ML/lib/python3.8/gzip.py?line=173'>174</a>\u001b[0m \u001b[39mif\u001b[39;00m filename \u001b[39mis\u001b[39;00m \u001b[39mNone\u001b[39;00m:\n\u001b[1;32m    <a href='file:///home/myrmecia/anaconda3/envs/ML/lib/python3.8/gzip.py?line=174'>175</a>\u001b[0m     filename \u001b[39m=\u001b[39m \u001b[39mgetattr\u001b[39m(fileobj, \u001b[39m'\u001b[39m\u001b[39mname\u001b[39m\u001b[39m'\u001b[39m, \u001b[39m'\u001b[39m\u001b[39m'\u001b[39m)\n",
      "\u001b[0;31mIsADirectoryError\u001b[0m: [Errno 21] Is a directory: './../dataset/clip/1_PARCLIP_AGO1234_hg19/'"
     ]
    }
   ],
   "source": [
    "df_train_5k = mk_frame(\n",
    "    data_rt_head=data_rt_5k,\n",
    "    file_list=files_5k,\n",
    "    seq_tail=train_seq_tail_5k,\n",
    "    clss_tail=train_clss_tail_5k,\n",
    "    df_name='train_5k'\n",
    ")\n",
    "\n",
    "df_test_5k = mk_frame(\n",
    "    data_rt_head=data_rt_5k,\n",
    "    file_list=files_5k,\n",
    "    seq_tail=test_seq_tail_5k,\n",
    "    clss_tail=test_clss_tail_5k,\n",
    "    df_name='test_5k'\n",
    ")\n",
    "\n",
    "\n",
    "df_train_lst = [\n",
    "    mk_frame(data_rt_30k, files_30k, train_30k_tail[i][0], train_30k_tail[i][1], 'train_30k_' + str(i)) \\\n",
    "        for train_30k_tail in zip(train_seqs_tails_30k, train_clss_tails_30k) for i in range(len(train_seqs_tails_30k))\n",
    "]\n",
    "\n",
    "df_test_lst = [\n",
    "    mk_frame(data_rt_30k, files_30k, test_30k_tail[i][0], test_30k_tail[i][1], 'test_30k_' + str(i)) \\\n",
    "        for test_30k_tail in zip(test_seqs_tails_30k, test_clss_tails_30k) for i in range(len(test_seqs_tails_30k))\n",
    "]\n",
    "\n",
    "df_train_30k = concat_frame(df_train_lst, 'train_30k')\n",
    "\n",
    "df_test_30k = concat_frame(df_test_lst, 'test_30k')"
   ]
  },
  {
   "cell_type": "code",
   "execution_count": 35,
   "metadata": {},
   "outputs": [
    {
     "data": {
      "text/plain": [
       "[(1, 'a'), (2, 'b'), (3, 'c')]"
      ]
     },
     "execution_count": 35,
     "metadata": {},
     "output_type": "execute_result"
    }
   ],
   "source": [
    "[x for x in zip([1, 2, 3], ['a', 'b','c'])]"
   ]
  }
 ],
 "metadata": {
  "interpreter": {
   "hash": "5f81ca079b9101c07fe85c8b090c9e2cc9c56a877851e75c4fbd4dbec9ea9fed"
  },
  "kernelspec": {
   "display_name": "Python 3.8.13 ('ML')",
   "language": "python",
   "name": "python3"
  },
  "language_info": {
   "codemirror_mode": {
    "name": "ipython",
    "version": 3
   },
   "file_extension": ".py",
   "mimetype": "text/x-python",
   "name": "python",
   "nbconvert_exporter": "python",
   "pygments_lexer": "ipython3",
   "version": "3.8.13"
  },
  "orig_nbformat": 4
 },
 "nbformat": 4,
 "nbformat_minor": 2
}
