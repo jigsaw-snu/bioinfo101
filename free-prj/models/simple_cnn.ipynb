{
 "cells": [
  {
   "cell_type": "markdown",
   "metadata": {},
   "source": [
    "##### Construct simple CNN model"
   ]
  },
  {
   "cell_type": "code",
   "execution_count": null,
   "metadata": {},
   "outputs": [],
   "source": [
    "import numpy as np\n",
    "import pandas as pd\n",
    "\n",
    "import tensorflow as tf\n",
    "from tensorflow.keras import Model\n",
    "from tensorflow.keras.layers import Layer, Input, Embedding, Conv2D, BatchNormalization, ReLU, MaxPooling2D, Flatten, Dense, Softmax\n",
    "from tensorflow.keras.optimizers import Adam"
   ]
  },
  {
   "cell_type": "code",
   "execution_count": null,
   "metadata": {},
   "outputs": [],
   "source": [
    "# Data not ready yet. Just writing skeleton codes\n",
    "class stalin_cnn1(Model):\n",
    "    \n",
    "    def __init__(self, input_length, **kwargs):\n",
    "        super(stalin_cnn1, self).__init__()\n",
    "\n",
    "        self.embed = Embedding(input_dim=5, output_dim=20, input_length=input_length)\n",
    "        self.conv2d = Conv2D(32, (3, 5), padding='same', strides=1, input_shape=(None, , 5))\n",
    "        self.bnrm = BatchNormalization()\n",
    "        self.relu = ReLU()\n",
    "        self.pool2d = MaxPooling2D((2, 2))\n",
    "        self.flatten = Flatten()\n",
    "        self.dense64 = Dense(64)\n",
    "        self.dense2 = Dense(2)\n",
    "        self.softmax = Softmax()\n",
    "\n",
    "    def call(self, inputs):\n",
    "        x = self.embed(inputs)\n",
    "        x = tf.expand_dims(x, axis=-1)\n",
    "\n",
    "        x = self.conv2d(x)\n",
    "        x = self.bnrm(x)\n",
    "        x = self.relu(x)\n",
    "        x = self.pool2d(x)\n",
    "\n",
    "        x = self.conv2d(x)\n",
    "        x = self.bnrm(x)\n",
    "        x = self.relu(x)\n",
    "        x = self.pool2d(x)\n",
    "\n",
    "        x = self.flatten(x)\n",
    "        x = self.dense64(x)\n",
    "        x = self.dense2(x)\n",
    "        output = self.softmax(x)\n",
    "\n",
    "        return output"
   ]
  }
 ],
 "metadata": {
  "interpreter": {
   "hash": "c51666a50ffeaa16e3d0b681020e9d30ab6b2a31023c896cc4f4794ea395fe4a"
  },
  "kernelspec": {
   "display_name": "Python 3.8.13",
   "language": "python",
   "name": "python3"
  },
  "language_info": {
   "name": "python",
   "version": "3.8.13"
  },
  "orig_nbformat": 4
 },
 "nbformat": 4,
 "nbformat_minor": 2
}
