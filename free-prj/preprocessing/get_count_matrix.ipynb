{
 "cells": [
  {
   "cell_type": "markdown",
   "metadata": {},
   "source": [
    "##### Download Datasets from SRA"
   ]
  },
  {
   "cell_type": "code",
   "execution_count": null,
   "metadata": {},
   "outputs": [],
   "source": [
    "!wget -O ./data/raw/SRR458758 phttps://sra-pub-run-odp.s3.amazonaws.com/sra/SRR458758/SRR458758 # CLIP-seq (Ab: 35L33G)\n",
    "!wget -O ./data/raw/SRR458759 https://sra-pub-run-odp.s3.amazonaws.com/sra/SRR458759/SRR458759 # CLIP-seq (Ab: 2J3)\n",
    "!wget -O ./data/raw/SRR458760 https://sra-pub-run-odp.s3.amazonaws.com/sra/SRR458760/SRR458760 # CLIP-seq (Ab: polyclonal)"
   ]
  },
  {
   "cell_type": "markdown",
   "metadata": {},
   "source": [
    "##### Convert SRA files into FASTQ files"
   ]
  },
  {
   "cell_type": "code",
   "execution_count": null,
   "metadata": {},
   "outputs": [],
   "source": [
    "!fastq-dump -O ./data/fastq/ ./data/raw/SRR458758\n",
    "!fastq-dump -O ./data/fastq/ ./data/raw/SRR458759\n",
    "!fastq-dump -O ./data/fastq/ ./data/raw/SRR458760"
   ]
  },
  {
   "cell_type": "markdown",
   "metadata": {},
   "source": [
    "##### Compress FASTQ files"
   ]
  },
  {
   "cell_type": "code",
   "execution_count": null,
   "metadata": {},
   "outputs": [],
   "source": [
    "!bgzip -@ 6 ./data/fastq/SRR458758.fastq\n",
    "!bgzip -@ 6 ./data/fastq/SRR458759.fastq\n",
    "!bgzip -@ 6 ./data/fsatq/SRR458760.fastq"
   ]
  }
 ],
 "metadata": {
  "language_info": {
   "name": "python"
  },
  "orig_nbformat": 4
 },
 "nbformat": 4,
 "nbformat_minor": 2
}
