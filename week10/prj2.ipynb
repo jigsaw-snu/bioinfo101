{
 "cells": [
  {
   "cell_type": "code",
   "execution_count": 2,
   "metadata": {},
   "outputs": [],
   "source": [
    "import warnings\n",
    "\n",
    "warnings.filterwarnings('ignore')"
   ]
  },
  {
   "cell_type": "code",
   "execution_count": 9,
   "metadata": {},
   "outputs": [
    {
     "name": "stdout",
     "output_type": "stream",
     "text": [
      "##description: evidence-based annotation of the mouse genome (GRCm39), version M27 (Ensembl 104)\n",
      "##provider: GENCODE\n",
      "##contact: gencode-help@ebi.ac.uk\n",
      "##format: gtf\n",
      "##date: 2021-03-04\n",
      "chr1\tHAVANA\tgene\t3143476\t3144545\t.\t+\t.\tgene_id \"ENSMUSG00000102693.2\"; gene_type \"TEC\"; gene_name \"4933401J01Rik\"; level 2; mgi_id \"MGI:1918292\"; havana_gene \"OTTMUSG00000049935.1\";\n",
      "chr1\tHAVANA\ttranscript\t3143476\t3144545\t.\t+\t.\tgene_id \"ENSMUSG00000102693.2\"; transcript_id \"ENSMUST00000193812.2\"; gene_type \"TEC\"; gene_name \"4933401J01Rik\"; transcript_type \"TEC\"; transcript_name \"4933401J01Rik-201\"; level 2; transcript_support_level \"NA\"; mgi_id \"MGI:1918292\"; tag \"basic\"; havana_gene \"OTTMUSG00000049935.1\"; havana_transcript \"OTTMUST00000127109.1\";\n",
      "chr1\tHAVANA\texon\t3143476\t3144545\t.\t+\t.\tgene_id \"ENSMUSG00000102693.2\"; transcript_id \"ENSMUST00000193812.2\"; gene_type \"TEC\"; gene_name \"4933401J01Rik\"; transcript_type \"TEC\"; transcript_name \"4933401J01Rik-201\"; exon_number 1; exon_id \"ENSMUSE00001343744.2\"; level 2; transcript_support_level \"NA\"; mgi_id \"MGI:1918292\"; tag \"basic\"; havana_gene \"OTTMUSG00000049935.1\"; havana_transcript \"OTTMUST00000127109.1\";\n",
      "chr1\tENSEMBL\tgene\t3172239\t3172348\t.\t+\t.\tgene_id \"ENSMUSG00000064842.3\"; gene_type \"snRNA\"; gene_name \"Gm26206\"; level 3; mgi_id \"MGI:5455983\";\n",
      "chr1\tENSEMBL\ttranscript\t3172239\t3172348\t.\t+\t.\tgene_id \"ENSMUSG00000064842.3\"; transcript_id \"ENSMUST00000082908.3\"; gene_type \"snRNA\"; gene_name \"Gm26206\"; transcript_type \"snRNA\"; transcript_name \"Gm26206-201\"; level 3; transcript_support_level \"NA\"; mgi_id \"MGI:5455983\"; tag \"basic\";\n",
      "\n",
      "chrM\tENSEMBL\ttranscript\t14145\t15288\t.\t+\t.\tgene_id \"ENSMUSG00000064370.1\"; transcript_id \"ENSMUST00000082421.1\"; gene_type \"protein_coding\"; gene_name \"mt-Cytb\"; transcript_type \"protein_coding\"; transcript_name \"mt-Cytb-201\"; level 3; protein_id \"ENSMUSP00000081003.1\"; transcript_support_level \"NA\"; mgi_id \"MGI:102501\"; tag \"basic\"; tag \"appris_principal_1\";\n",
      "chrM\tENSEMBL\texon\t14145\t15288\t.\t+\t.\tgene_id \"ENSMUSG00000064370.1\"; transcript_id \"ENSMUST00000082421.1\"; gene_type \"protein_coding\"; gene_name \"mt-Cytb\"; transcript_type \"protein_coding\"; transcript_name \"mt-Cytb-201\"; exon_number 1; exon_id \"ENSMUSE00000521548.1\"; level 3; protein_id \"ENSMUSP00000081003.1\"; transcript_support_level \"NA\"; mgi_id \"MGI:102501\"; tag \"basic\"; tag \"appris_principal_1\";\n",
      "chrM\tENSEMBL\tCDS\t14145\t15288\t.\t+\t0\tgene_id \"ENSMUSG00000064370.1\"; transcript_id \"ENSMUST00000082421.1\"; gene_type \"protein_coding\"; gene_name \"mt-Cytb\"; transcript_type \"protein_coding\"; transcript_name \"mt-Cytb-201\"; exon_number 1; exon_id \"ENSMUSE00000521548.1\"; level 3; protein_id \"ENSMUSP00000081003.1\"; transcript_support_level \"NA\"; mgi_id \"MGI:102501\"; tag \"basic\"; tag \"appris_principal_1\";\n",
      "chrM\tENSEMBL\tstart_codon\t14145\t14147\t.\t+\t0\tgene_id \"ENSMUSG00000064370.1\"; transcript_id \"ENSMUST00000082421.1\"; gene_type \"protein_coding\"; gene_name \"mt-Cytb\"; transcript_type \"protein_coding\"; transcript_name \"mt-Cytb-201\"; exon_number 1; exon_id \"ENSMUSE00000521548.1\"; level 3; protein_id \"ENSMUSP00000081003.1\"; transcript_support_level \"NA\"; mgi_id \"MGI:102501\"; tag \"basic\"; tag \"appris_principal_1\";\n",
      "chrM\tENSEMBL\tgene\t15289\t15355\t.\t+\t.\tgene_id \"ENSMUSG00000064371.1\"; gene_type \"Mt_tRNA\"; gene_name \"mt-Tt\"; level 3; mgi_id \"MGI:102473\";\n",
      "chrM\tENSEMBL\ttranscript\t15289\t15355\t.\t+\t.\tgene_id \"ENSMUSG00000064371.1\"; transcript_id \"ENSMUST00000082422.1\"; gene_type \"Mt_tRNA\"; gene_name \"mt-Tt\"; transcript_type \"Mt_tRNA\"; transcript_name \"mt-Tt-201\"; level 3; transcript_support_level \"NA\"; mgi_id \"MGI:102473\"; tag \"basic\";\n",
      "chrM\tENSEMBL\texon\t15289\t15355\t.\t+\t.\tgene_id \"ENSMUSG00000064371.1\"; transcript_id \"ENSMUST00000082422.1\"; gene_type \"Mt_tRNA\"; gene_name \"mt-Tt\"; transcript_type \"Mt_tRNA\"; transcript_name \"mt-Tt-201\"; exon_number 1; exon_id \"ENSMUSE00000521549.1\"; level 3; transcript_support_level \"NA\"; mgi_id \"MGI:102473\"; tag \"basic\";\n",
      "chrM\tENSEMBL\tgene\t15356\t15422\t.\t-\t.\tgene_id \"ENSMUSG00000064372.1\"; gene_type \"Mt_tRNA\"; gene_name \"mt-Tp\"; level 3; mgi_id \"MGI:102478\";\n",
      "chrM\tENSEMBL\ttranscript\t15356\t15422\t.\t-\t.\tgene_id \"ENSMUSG00000064372.1\"; transcript_id \"ENSMUST00000082423.1\"; gene_type \"Mt_tRNA\"; gene_name \"mt-Tp\"; transcript_type \"Mt_tRNA\"; transcript_name \"mt-Tp-201\"; level 3; transcript_support_level \"NA\"; mgi_id \"MGI:102478\"; tag \"basic\";\n",
      "chrM\tENSEMBL\texon\t15356\t15422\t.\t-\t.\tgene_id \"ENSMUSG00000064372.1\"; transcript_id \"ENSMUST00000082423.1\"; gene_type \"Mt_tRNA\"; gene_name \"mt-Tp\"; transcript_type \"Mt_tRNA\"; transcript_name \"mt-Tp-201\"; exon_number 1; exon_id \"ENSMUSE00000521550.1\"; level 3; transcript_support_level \"NA\"; mgi_id \"MGI:102478\"; tag \"basic\";\n"
     ]
    }
   ],
   "source": [
    "# Ref : https://asia.ensembl.org/info/website/upload/gff.html\n",
    "# GTF file contains 9 'Tab separated' columns(fields) \n",
    "#\n",
    "# 1st column : Chromosome name (or Scaffold name) ; i.e. chr1\n",
    "# 2nd column : Data source or Project name (Where this gene came from) ; i.e. HAVANA or ENSEMBL\n",
    "# 3rd column : Gene type ; i.e. Gene, Transcript, Exon, ... , etc (same gene ids will overlap, since multiple exons are available in a single gene)\n",
    "# 4th column : Start position (1-base coordination)\n",
    "# 5th column : End position (1-base coordination)\n",
    "# 6th column : Score (I'm not sure what it is..)\n",
    "# 7th column : Strand (+ for Forward, - for Reverse strand)\n",
    "# 8th column : Frame (I'm not sure what it is..)\n",
    "# 9th column : Attributes - semicolon separated comments ; multiple information about gene will be shown here\n",
    "#\n",
    "# Take a look how gencode.gtf looks like.\n",
    "\n",
    "!head ./../data/binfo1-datapack1/gencode.gtf; echo\n",
    "!tail ./../data/binfo1-datapack1/gencode.gtf"
   ]
  },
  {
   "cell_type": "code",
   "execution_count": 1,
   "metadata": {},
   "outputs": [],
   "source": [
    "# Choose gene which has 'Start Codon' attribute with 'Transcription Level 1' of '(+) strand' --> grep\n",
    "#\n",
    "# replace (tab)gene_id(tab)\"ENSMUSG~\";(tab)transcript_id(tab)\"ENSMUST~\";(tab)~ into (tab)ENSMUST~(EOL) --> sed\n",
    "#\n",
    "# use gnu-grep with perl regexp (-P option) & gnu-sed with -e option (expression option)\n",
    "\n",
    "!ggrep -P '\\tstart_codon\\t.*\\t\\+\\t.*transcript_support_level\\s\"1\"' ../data/binfo1-datapack1/gencode.gtf | \\\n",
    "    gsed -e 's/\\t[^\\t]*transcript_id\\s\"\\([^\"]*\\)\".*$/\\t\\1/g' > ../data/binfo1-datapack1/gencode-start.gtf"
   ]
  },
  {
   "cell_type": "code",
   "execution_count": 8,
   "metadata": {},
   "outputs": [
    {
     "name": "stdout",
     "output_type": "stream",
     "text": [
      "chr1\tHAVANA\tstart_codon\t4878137\t4878139\t.\t+\t0\tENSMUST00000134384.8\n",
      "chr1\tHAVANA\tstart_codon\t4878137\t4878139\t.\t+\t0\tENSMUST00000027036.11\n",
      "chr1\tHAVANA\tstart_codon\t4878137\t4878139\t.\t+\t0\tENSMUST00000150971.8\n",
      "chr1\tHAVANA\tstart_codon\t4928137\t4928139\t.\t+\t0\tENSMUST00000081551.14\n",
      "chr1\tHAVANA\tstart_codon\t5154674\t5154676\t.\t+\t0\tENSMUST00000044369.13\n",
      "chr1\tHAVANA\tstart_codon\t5659272\t5659274\t.\t+\t0\tENSMUST00000160777.8\n",
      "chr1\tHAVANA\tstart_codon\t5659272\t5659274\t.\t+\t0\tENSMUST00000027038.11\n",
      "chr1\tHAVANA\tstart_codon\t6300227\t6300229\t.\t+\t0\tENSMUST00000027040.13\n",
      "chr1\tHAVANA\tstart_codon\t6429555\t6429557\t.\t+\t0\tENSMUST00000133144.4\n",
      "chr1\tHAVANA\tstart_codon\t6839122\t6839124\t.\t+\t0\tENSMUST00000140079.8\n",
      "\n",
      "chrY\tHAVANA\tstart_codon\t80939687\t80939689\t.\t+\t0\tENSMUST00000185340.2\n",
      "chrY\tHAVANA\tstart_codon\t81470698\t81470700\t.\t+\t0\tENSMUST00000187135.2\n",
      "chrY\tHAVANA\tstart_codon\t82237918\t82237920\t.\t+\t0\tENSMUST00000185636.2\n",
      "chrY\tHAVANA\tstart_codon\t83043638\t83043640\t.\t+\t0\tENSMUST00000187165.2\n",
      "chrY\tHAVANA\tstart_codon\t84109971\t84109973\t.\t+\t0\tENSMUST00000185776.7\n",
      "chrY\tHAVANA\tstart_codon\t84759376\t84759378\t.\t+\t0\tENSMUST00000186110.2\n",
      "chrY\tHAVANA\tstart_codon\t86074463\t86074465\t.\t+\t0\tENSMUST00000188754.2\n",
      "chrY\tHAVANA\tstart_codon\t87129515\t87129517\t.\t+\t0\tENSMUST00000189543.7\n",
      "chrY\tHAVANA\tstart_codon\t87563662\t87563664\t.\t+\t0\tENSMUST00000186493.2\n",
      "chrY\tHAVANA\tstart_codon\t88066007\t88066009\t.\t+\t0\tENSMUST00000187146.2\n"
     ]
    }
   ],
   "source": [
    "# 1st column : chromosome ID\n",
    "# 2nd column : data source name\n",
    "# 3rd column : gene type -> it should be 'start_codon'\n",
    "# 4th column : start position (1-based)\n",
    "# 5th column : end position (1-based)\n",
    "# 6th column : score (I don't know what it is)\n",
    "# 7th column : strand -> it shoud be '+'\n",
    "# 8th column : frame (I don't know what it is)\n",
    "# 9th column : transcript ID\n",
    "\n",
    "!head ./../data/binfo1-datapack1/gencode-start.gtf; echo\n",
    "!tail ./../data/binfo1-datapack1/gencode-start.gtf"
   ]
  },
  {
   "cell_type": "code",
   "execution_count": 4,
   "metadata": {},
   "outputs": [],
   "source": [
    "# Choose gene which has 'Exon' attribute with '(+) strand' --> grep\n",
    "# No Transcription_level attribute is needed here, since we already considered above (start_codon case).\n",
    "#\n",
    "# replace (tab)gene_id(tab)\"ENSMUSG~\";(tab)transcript_id(tab)\"ENSMUST~\";(tab)~ into (tab)ENSMUST~(EOL) --> sed\n",
    "#\n",
    "# use gnu-grep with perl regexp (-P option) & gnu-sed with -e option (expression option)\n",
    "\n",
    "!ggrep -P '\\texon\\t.*\\t\\+\\t' ../data/binfo1-datapack1/gencode.gtf | \\\n",
    "    gsed -e 's/\\t[^\\t]*transcript_id\\s\"\\([^\"]*\\)\".*$/\\t\\1/g' > ../data/binfo1-datapack1/gencode-plusexon.gtf"
   ]
  },
  {
   "cell_type": "code",
   "execution_count": 10,
   "metadata": {},
   "outputs": [
    {
     "name": "stdout",
     "output_type": "stream",
     "text": [
      "chr1\tHAVANA\texon\t3143476\t3144545\t.\t+\t.\tENSMUST00000193812.2\n",
      "chr1\tENSEMBL\texon\t3172239\t3172348\t.\t+\t.\tENSMUST00000082908.3\n",
      "chr1\tHAVANA\texon\t3322980\t3323459\t.\t+\t.\tENSMUST00000192857.2\n",
      "chr1\tHAVANA\texon\t3536810\t3536910\t.\t+\t.\tENSMUST00000161581.2\n",
      "chr1\tHAVANA\texon\t3583628\t3583776\t.\t+\t.\tENSMUST00000161581.2\n",
      "chr1\tHAVANA\texon\t3602018\t3602943\t.\t+\t.\tENSMUST00000192183.2\n",
      "chr1\tHAVANA\texon\t3750378\t3752011\t.\t+\t.\tENSMUST00000193244.2\n",
      "chr1\tHAVANA\texon\t3822233\t3824583\t.\t+\t.\tENSMUST00000194454.2\n",
      "chr1\tHAVANA\texon\t4566774\t4569601\t.\t+\t.\tENSMUST00000193450.2\n",
      "chr1\tHAVANA\texon\t4567697\t4567877\t.\t+\t.\tENSMUST00000194935.2\n",
      "\n",
      "chrM\tENSEMBL\texon\t9459\t9806\t.\t+\t.\tENSMUST00000082411.1\n",
      "chrM\tENSEMBL\texon\t9808\t9875\t.\t+\t.\tENSMUST00000082412.1\n",
      "chrM\tENSEMBL\texon\t9877\t10173\t.\t+\t.\tENSMUST00000084013.1\n",
      "chrM\tENSEMBL\texon\t10167\t11544\t.\t+\t.\tENSMUST00000082414.1\n",
      "chrM\tENSEMBL\texon\t11546\t11612\t.\t+\t.\tENSMUST00000082415.1\n",
      "chrM\tENSEMBL\texon\t11613\t11671\t.\t+\t.\tENSMUST00000082416.1\n",
      "chrM\tENSEMBL\texon\t11671\t11741\t.\t+\t.\tENSMUST00000082417.1\n",
      "chrM\tENSEMBL\texon\t11742\t13565\t.\t+\t.\tENSMUST00000082418.1\n",
      "chrM\tENSEMBL\texon\t14145\t15288\t.\t+\t.\tENSMUST00000082421.1\n",
      "chrM\tENSEMBL\texon\t15289\t15355\t.\t+\t.\tENSMUST00000082422.1\n"
     ]
    }
   ],
   "source": [
    "# 1st column : chromosome ID\n",
    "# 2nd column : data source name\n",
    "# 3rd column : gene type -> it should be 'exon'\n",
    "# 4th column : start position (1-based)\n",
    "# 5th column : end position (1-based)\n",
    "# 6th column : score (I don't know what it is)\n",
    "# 7th column : strand -> it shoud be '+'\n",
    "# 8th column : frame (I don't know what it is)\n",
    "# 9th column : transcript ID\n",
    "\n",
    "!head ./../data/binfo1-datapack1/gencode-plusexon.gtf; echo\n",
    "!tail ./../data/binfo1-datapack1/gencode-plusexon.gtf"
   ]
  },
  {
   "cell_type": "code",
   "execution_count": 12,
   "metadata": {},
   "outputs": [
    {
     "name": "stdout",
     "output_type": "stream",
     "text": [
      "chr1\tHAVANA\tstart_codon\t4878137\t4878139\t.\t+\t0\tENSMUST00000134384.8\tchr1\tHAVANA\texon\t4878011\t4878205\t.\t+\t.\tENSMUST00000134384.8\n",
      "chr1\tHAVANA\tstart_codon\t4878137\t4878139\t.\t+\t0\tENSMUST00000134384.8\tchr1\tHAVANA\texon\t4878046\t4878205\t.\t+\t.\tENSMUST00000027036.11\n",
      "chr1\tHAVANA\tstart_codon\t4878137\t4878139\t.\t+\t0\tENSMUST00000134384.8\tchr1\tHAVANA\texon\t4878053\t4878205\t.\t+\t.\tENSMUST00000150971.8\n",
      "chr1\tHAVANA\tstart_codon\t4878137\t4878139\t.\t+\t0\tENSMUST00000134384.8\tchr1\tHAVANA\texon\t4878119\t4878205\t.\t+\t.\tENSMUST00000119612.9\n",
      "chr1\tHAVANA\tstart_codon\t4878137\t4878139\t.\t+\t0\tENSMUST00000134384.8\tchr1\tHAVANA\texon\t4878121\t4878205\t.\t+\t.\tENSMUST00000137887.8\n",
      "chr1\tHAVANA\tstart_codon\t4878137\t4878139\t.\t+\t0\tENSMUST00000134384.8\tchr1\tHAVANA\texon\t4878134\t4878205\t.\t+\t.\tENSMUST00000115529.8\n",
      "chr1\tHAVANA\tstart_codon\t4878137\t4878139\t.\t+\t0\tENSMUST00000134384.8\tchr1\tHAVANA\texon\t4878115\t4878205\t.\t+\t.\tENSMUST00000155020.2\n",
      "chr1\tHAVANA\tstart_codon\t4878137\t4878139\t.\t+\t0\tENSMUST00000027036.11\tchr1\tHAVANA\texon\t4878011\t4878205\t.\t+\t.\tENSMUST00000134384.8\n",
      "chr1\tHAVANA\tstart_codon\t4878137\t4878139\t.\t+\t0\tENSMUST00000027036.11\tchr1\tHAVANA\texon\t4878046\t4878205\t.\t+\t.\tENSMUST00000027036.11\n",
      "chr1\tHAVANA\tstart_codon\t4878137\t4878139\t.\t+\t0\tENSMUST00000027036.11\tchr1\tHAVANA\texon\t4878053\t4878205\t.\t+\t.\tENSMUST00000150971.8\n"
     ]
    }
   ],
   "source": [
    "# Combine start_codon data with exon data using bedtools-intersect\n",
    "#\n",
    "# Quick introduction of bedtools in korean : http://www.incodom.kr/bedtools \n",
    "# Bedtools-intersect manual : https://bedtools.readthedocs.io/en/latest/content/tools/intersect.html\n",
    "#\n",
    "# [Options]\n",
    "# -a : file to combine (located at left side in result); To combine files, we need two files\n",
    "# -b : file to combine (located at right side in result); To combine files, we need two files\n",
    "# -wa : write the original entry in '-a' file for each overlap \n",
    "# -wb : write the original entry in '-b' file for each overlap\n",
    "#\n",
    "# let's take a look into how bedtools-intersect result looks like\n",
    "#\n",
    "# Total 18 columns exist\n",
    "# 1st ~ 9th column : entries for '-a' file\n",
    "# 10th ~ 18th column : entries for '-b' file\n",
    " \n",
    "!bedtools intersect -a ../data/binfo1-datapack1/gencode-start.gtf -b ../data/binfo1-datapack1/gencode-plusexon.gtf -wa -wb | head"
   ]
  },
  {
   "cell_type": "code",
   "execution_count": 6,
   "metadata": {},
   "outputs": [],
   "source": [
    "# Combine start_codon data with exon data using bedtools-intersect\n",
    "#\n",
    "# $10 for awk : 10th column ; 1st column of '-b' file ; name of chromosome\n",
    "# $13 for awk : 13th column ; 4th column of '-b' file ; start position of exon\n",
    "# $14 for awk : 14th column ; 5th column of '-b' file ; end position of exon\n",
    "# $18 for awk : 18th column ; 9th column of '-b' file ; transcript id of corresponding exon\n",
    "# $4 for awk : 4th column ; 4th column of '-a' file ; start position of start_codon\n",
    "# $16 for awk : 16th column ; 7th column of '-b' file ; strand\n",
    "#\n",
    "# to make [start, end] --> (start-1, end], `$13-1` and `$4-1` calculation has been done. (It makes length calculation easier)\n",
    "#\n",
    "# sort -k option explanation : https://sidepower.tistory.com/24\n",
    "\n",
    "!bedtools intersect -a ../data/binfo1-datapack1/gencode-start.gtf -b ../data/binfo1-datapack1/gencode-plusexon.gtf -wa -wb | \\\n",
    "    awk -F '\\t' -v OFS='\\t' '$9 == $18 {print $10, $13-1, $14, $18, $4-1, $16;}' | \\\n",
    "        sort -k1,1 -k2,3n -k4,4 > ../data/binfo1-datapack1/gencode-exons-containing-startcodon.bed"
   ]
  },
  {
   "cell_type": "code",
   "execution_count": 11,
   "metadata": {},
   "outputs": [
    {
     "name": "stdout",
     "output_type": "stream",
     "text": [
      "chr1\t4878010\t4878205\tENSMUST00000134384.8\t4878136\t+\n",
      "chr1\t4878045\t4878205\tENSMUST00000027036.11\t4878136\t+\n",
      "chr1\t4878052\t4878205\tENSMUST00000150971.8\t4878136\t+\n",
      "chr1\t4928036\t4928199\tENSMUST00000081551.14\t4928136\t+\n",
      "chr1\t5154639\t5154786\tENSMUST00000044369.13\t5154673\t+\n",
      "chr1\t5659227\t5659528\tENSMUST00000027038.11\t5659271\t+\n",
      "chr1\t5659257\t5659528\tENSMUST00000160777.8\t5659271\t+\n",
      "chr1\t6300182\t6300297\tENSMUST00000027040.13\t6300226\t+\n",
      "chr1\t6429441\t6429738\tENSMUST00000133144.4\t6429554\t+\n",
      "chr1\t6839121\t6839176\tENSMUST00000043578.13\t6839121\t+\n",
      "\n",
      "chrY\t80939672\t80939804\tENSMUST00000185340.2\t80939686\t+\n",
      "chrY\t81470683\t81470815\tENSMUST00000187135.2\t81470697\t+\n",
      "chrY\t82237903\t82238035\tENSMUST00000185636.2\t82237917\t+\n",
      "chrY\t83043623\t83043755\tENSMUST00000187165.2\t83043637\t+\n",
      "chrY\t84109956\t84110088\tENSMUST00000185776.7\t84109970\t+\n",
      "chrY\t84759361\t84759493\tENSMUST00000186110.2\t84759375\t+\n",
      "chrY\t86074448\t86074580\tENSMUST00000188754.2\t86074462\t+\n",
      "chrY\t87129500\t87129632\tENSMUST00000189543.7\t87129514\t+\n",
      "chrY\t87563647\t87563779\tENSMUST00000186493.2\t87563661\t+\n",
      "chrY\t88065992\t88066124\tENSMUST00000187146.2\t88066006\t+\n"
     ]
    }
   ],
   "source": [
    "# 1st column : chromosome ID\n",
    "# 2nd column : start position of exon (0-based)\n",
    "# 3rd column : end position of exon (1-based)\n",
    "# 4th column : transcript id\n",
    "# 5th column : start position of start codon in exon (0-based) -> [start_exon] < [start_start_codon] < [end_exon]\n",
    "# 6th column : strand (+ for forward, - for reverse)\n",
    "\n",
    "!head ../data/binfo1-datapack1/gencode-exons-containing-startcodon.bed; echo\n",
    "!tail ../data/binfo1-datapack1/gencode-exons-containing-startcodon.bed"
   ]
  },
  {
   "cell_type": "code",
   "execution_count": 15,
   "metadata": {},
   "outputs": [
    {
     "name": "stdout",
     "output_type": "stream",
     "text": [
      "@HD\tVN:1.0\tSO:coordinate\n",
      "@PG\tID:GSNAP\tPN:gsnap\tVN:2021-03-08\tCL:gsnap.avx2 -D refs/GRCm39.gmap -d GRCm39 -c gencode --gunzip -t 20 --force-single-end -A sam -m 0.1 clipped/RPF-siLuc.fastq.gz\n",
      "@PG\tID:samtools\tPN:samtools\tPP:GSNAP\tVN:1.15.1\tCL:samtools view -H ./../data/binfo1-datapack1/RPF-siLuc.bam\n",
      "@SQ\tSN:chr1\tLN:195154279\n",
      "@SQ\tSN:chr2\tLN:181755017\n",
      "@SQ\tSN:chr3\tLN:159745316\n",
      "@SQ\tSN:chr4\tLN:156860686\n",
      "@SQ\tSN:chr5\tLN:151758149\n",
      "@SQ\tSN:chr6\tLN:149588044\n",
      "@SQ\tSN:chr7\tLN:144995196\n",
      "\n",
      "SRR458756.15904977\t0\tchr1\t3176535\t1\t15S15M\t*\t0\t0\tGGCGGTCGCGCGCACCCTCCCCCGCACTCC\t##############################\tMD:Z:15\tNH:i:8\tHI:i:1\tNM:i:0\tSM:i:1\tXQ:i:40\tX2:i:40\tXO:Z:UM\tXS:A:-\n",
      "SRR458756.9653884\t0\tchr1\t3196257\t3\t8M43061N17M2S\t*\t0\t0\tGGGTTCAGCATGAGGGGATTGTCTGGC\tGGGEGHHHHEHHHHHHHHHHGHHHHHH\tMD:Z:8G16\tNH:i:2\tHI:i:1\tNM:i:1\tSM:i:3\tXQ:i:40\tX2:i:40\tXO:Z:UM\tXS:A:+\n",
      "SRR458756.19028477\t0\tchr1\t3221527\t0\t31M\t*\t0\t0\tAAAGGTCCCAAAAAGCAGAGAGAAATATCTC\t@=@)=B?BBBBGGGEHHDHHDGBDDF@FEFH\tMD:Z:3T27\tNH:i:28\tHI:i:1\tNM:i:1\tSM:i:0\tXQ:i:40\tX2:i:40\tXO:Z:UM\n",
      "SRR458756.6443120\t0\tchr1\t3221543\t0\t30M\t*\t0\t0\tAGAGAGAAATATCTCTCTGGGCCTTATAGC\tGGGGGECECFDGGGGIIIIGDIIIIIIIII\tMD:Z:30\tNH:i:102\tHI:i:1\tNM:i:0\tSM:i:0\tXQ:i:40\tX2:i:40\tXO:Z:UM\tXS:A:-\n",
      "SRR458756.19417846\t0\tchr1\t3221543\t0\t31M\t*\t0\t0\tAGAGAGAAATATCTCTCTGGGCCTTATAGCA\tIIIIIGFFEGBGDGGIIIIIIIIIIHIHIII\tMD:Z:31\tNH:i:102\tHI:i:1\tNM:i:0\tSM:i:0\tXQ:i:40\tX2:i:40\tXO:Z:UM\tXS:A:-\n",
      "SRR458756.1523991\t0\tchr1\t3221546\t0\t32M\t*\t0\t0\tGAGAAATATCTCTCTGGGCCTTATAGCAGGAG\tIHIIIGGFGGIIIIIIIIIIIIHIHIIIGIHD\tMD:Z:32\tNH:i:98\tHI:i:1\tNM:i:0\tSM:i:0\tXQ:i:40\tX2:i:40\tXO:Z:UM\tXS:A:-\n",
      "SRR458756.7122577\t0\tchr1\t3221546\t0\t32M\t*\t0\t0\tGAGAAATATCTCTCTGGGCCTTATAGCAGGAG\tIIIIIGGEGFIIIIIIIIIIIIIIIIIIIFHH\tMD:Z:32\tNH:i:98\tHI:i:1\tNM:i:0\tSM:i:0\tXQ:i:40\tX2:i:40\tXO:Z:UM\tXS:A:-\n",
      "SRR458756.13469826\t0\tchr1\t3221546\t0\t32M\t*\t0\t0\tGAGAAATATCTCTCTGGGCCTTATAGCAGGAG\tIIIIIIIFIIIIIIIIIIIIIIIIIIIIIIGI\tMD:Z:32\tNH:i:98\tHI:i:1\tNM:i:0\tSM:i:0\tXQ:i:40\tX2:i:40\tXO:Z:UM\tXS:A:-\n",
      "SRR458756.8786031\t0\tchr1\t3221547\t0\t32M\t*\t0\t0\tAGAAATATCTCTCTGGGCCTTATAGCAGGAGT\tGGGGEGEGGGFHHHGEEBHHHBHB4D@GGEGE\tMD:Z:32\tNH:i:98\tHI:i:1\tNM:i:0\tSM:i:0\tXQ:i:40\tX2:i:40\tXO:Z:UM\tXS:A:-\n",
      "SRR458756.10204713\t0\tchr1\t3221547\t0\t33M\t*\t0\t0\tAGAAATATCTCTCTGGGCCTTATAGCAGGAGTA\tGEEECECCECGGGGGHIIIIIGIHIIHIHHHEE\tMD:Z:33\tNH:i:98\tHI:i:1\tNM:i:0\tSM:i:0\tXQ:i:40\tX2:i:40\tXO:Z:UM\tXS:A:-\n",
      "samtools view: writing to standard output failed: Broken pipe\n",
      "samtools view: error closing standard output: -1\n"
     ]
    }
   ],
   "source": [
    "# Quick samtools introduction in korean : https://hhj6212.github.io/biology/tech/2020/10/18/samtools.html\n",
    "# Quick samtools introduction in korean : http://www.incodom.kr/SAMtools\n",
    "#\n",
    "# samtools-view options\n",
    "# Ref : http://www.htslib.org/doc/samtools-view.html\n",
    "# \n",
    "# samtools-vew -F option introduction in korean : https://mopipe.tistory.com/150\n",
    "# samtools flag explanation : https://broadinstitute.github.io/picard/explain-flags.html\n",
    "\n",
    "# samtools test1 : samtools view with -H option (Show only Header section)\n",
    "!samtools view -H ./../data/binfo1-datapack1/RPF-siLuc.bam | head; echo\n",
    "\n",
    "# samtools test2 : samtools view with -F option (Show Alignment section with flag options)\n",
    "!samtools view -F20 ./../data/binfo1-datapack1/RPF-siLuc.bam | head"
   ]
  },
  {
   "cell_type": "code",
   "execution_count": 3,
   "metadata": {},
   "outputs": [],
   "source": [
    "# choose sequence(read) longer than 25nt from alignment file (BAM file)\n",
    "#\n",
    "# samtools-view options\n",
    "# -H : output headers only\n",
    "# -F : flag option - get every flags only except flags after -F\n",
    "# -b : output file format is 'bam'\n",
    "# -o : designate output file name\n",
    "#\n",
    "# bioawk options\n",
    "# -c : specify input format\n",
    "#\n",
    "# first line (showing headers only) won't affect result (same result even if you skip it)\n",
    "#\n",
    "# you must use a tool like samtools to look into bam file (since it's binary file)\n",
    "\n",
    "!(samtools view -H ./../data/binfo1-datapack1/RPF-siLuc.bam; \\\n",
    "    samtools view -F20 ./../data/binfo1-datapack1/RPF-siLuc.bam | \\\n",
    "        bioawk -c sam '{if (length($seq) >= 25) print $0}') | \\\n",
    "            samtools view -b -o ./../data/binfo1-datapack1/filtered-RPF-siLuc.bam"
   ]
  },
  {
   "cell_type": "code",
   "execution_count": 13,
   "metadata": {},
   "outputs": [
    {
     "name": "stdout",
     "output_type": "stream",
     "text": [
      "SRR458756.15904977\t0\tchr1\t3176535\t1\t15S15M\t*\t0\t0\tGGCGGTCGCGCGCACCCTCCCCCGCACTCC\t##############################\tMD:Z:15\tNH:i:8\tHI:i:1\tNM:i:0\tSM:i:1\tXQ:i:40\tX2:i:40\tXO:Z:UM\tXS:A:-\n",
      "SRR458756.9653884\t0\tchr1\t3196257\t3\t8M43061N17M2S\t*\t0\t0\tGGGTTCAGCATGAGGGGATTGTCTGGC\tGGGEGHHHHEHHHHHHHHHHGHHHHHH\tMD:Z:8G16\tNH:i:2\tHI:i:1\tNM:i:1\tSM:i:3\tXQ:i:40\tX2:i:40\tXO:Z:UM\tXS:A:+\n",
      "SRR458756.19028477\t0\tchr1\t3221527\t0\t31M\t*\t0\t0\tAAAGGTCCCAAAAAGCAGAGAGAAATATCTC\t@=@)=B?BBBBGGGEHHDHHDGBDDF@FEFH\tMD:Z:3T27\tNH:i:28\tHI:i:1\tNM:i:1\tSM:i:0\tXQ:i:40\tX2:i:40\tXO:Z:UM\n",
      "SRR458756.6443120\t0\tchr1\t3221543\t0\t30M\t*\t0\t0\tAGAGAGAAATATCTCTCTGGGCCTTATAGC\tGGGGGECECFDGGGGIIIIGDIIIIIIIII\tMD:Z:30\tNH:i:102\tHI:i:1\tNM:i:0\tSM:i:0\tXQ:i:40\tX2:i:40\tXO:Z:UM\tXS:A:-\n",
      "SRR458756.19417846\t0\tchr1\t3221543\t0\t31M\t*\t0\t0\tAGAGAGAAATATCTCTCTGGGCCTTATAGCA\tIIIIIGFFEGBGDGGIIIIIIIIIIHIHIII\tMD:Z:31\tNH:i:102\tHI:i:1\tNM:i:0\tSM:i:0\tXQ:i:40\tX2:i:40\tXO:Z:UM\tXS:A:-\n",
      "SRR458756.1523991\t0\tchr1\t3221546\t0\t32M\t*\t0\t0\tGAGAAATATCTCTCTGGGCCTTATAGCAGGAG\tIHIIIGGFGGIIIIIIIIIIIIHIHIIIGIHD\tMD:Z:32\tNH:i:98\tHI:i:1\tNM:i:0\tSM:i:0\tXQ:i:40\tX2:i:40\tXO:Z:UM\tXS:A:-\n",
      "SRR458756.7122577\t0\tchr1\t3221546\t0\t32M\t*\t0\t0\tGAGAAATATCTCTCTGGGCCTTATAGCAGGAG\tIIIIIGGEGFIIIIIIIIIIIIIIIIIIIFHH\tMD:Z:32\tNH:i:98\tHI:i:1\tNM:i:0\tSM:i:0\tXQ:i:40\tX2:i:40\tXO:Z:UM\tXS:A:-\n",
      "SRR458756.13469826\t0\tchr1\t3221546\t0\t32M\t*\t0\t0\tGAGAAATATCTCTCTGGGCCTTATAGCAGGAG\tIIIIIIIFIIIIIIIIIIIIIIIIIIIIIIGI\tMD:Z:32\tNH:i:98\tHI:i:1\tNM:i:0\tSM:i:0\tXQ:i:40\tX2:i:40\tXO:Z:UM\tXS:A:-\n",
      "SRR458756.8786031\t0\tchr1\t3221547\t0\t32M\t*\t0\t0\tAGAAATATCTCTCTGGGCCTTATAGCAGGAGT\tGGGGEGEGGGFHHHGEEBHHHBHB4D@GGEGE\tMD:Z:32\tNH:i:98\tHI:i:1\tNM:i:0\tSM:i:0\tXQ:i:40\tX2:i:40\tXO:Z:UM\tXS:A:-\n",
      "SRR458756.10204713\t0\tchr1\t3221547\t0\t33M\t*\t0\t0\tAGAAATATCTCTCTGGGCCTTATAGCAGGAGTA\tGEEECECCECGGGGGHIIIIIGIHIIHIHHHEE\tMD:Z:33\tNH:i:98\tHI:i:1\tNM:i:0\tSM:i:0\tXQ:i:40\tX2:i:40\tXO:Z:UM\tXS:A:-\n",
      "samtools view: writing to standard output failed: Broken pipe\n",
      "samtools view: error closing standard output: -1\n"
     ]
    }
   ],
   "source": [
    "# BAM/SAM file contains information about alignment of reads(sequences)\n",
    "#\n",
    "# Explanation of Alignment section of SAM file : https://genome.sph.umich.edu/wiki/SAM\n",
    "# Explanation of CIGAR string in korean : http://www.incodom.kr/CIGAR\n",
    "#\n",
    "# 1st column : QNAME ; query name ; same QNAME, same Group ; i.e. SRR458756.15904977\n",
    "# 2nd column : FLAG ; i.e. 0\n",
    "# 3rd column : RNAME ; sequence or chromosome number ; i.e. 1 (== chr1)\n",
    "# 4th column : POS ; leftmost position where read maps to the reference genome ; i.e. 3176535\n",
    "# 5th column : MAPQ ; mapping quality ; i.e. 1\n",
    "# 6th column : CIGAR ; CIGAR string ; i.e. 15S15M (15 soft clipped & 15 matched)\n",
    "# 7th column : MRNM/RNEXT ; reference sequence name of the next alignment in group ; i.e. *\n",
    "# 8th column : MPOS/PNEXT ; leftmost position where next alignment occurs in group ; i.e. 0\n",
    "# 9th column : ISIZE/TLEN ; group length ; i.e. 0\n",
    "# 10th column : SEQ ; query sequence for alignment ; i.e. GGCGGTCGCGCGCACCCTCCCCCGCACTCC\n",
    "# 11th column : QUAL ; query sequence quality ; each base in SEQ matches to each character of QUAL ; known as Phred Score ; i.e. ##############################\n",
    "# 12th column : TAGs ; optional field ; i.e. MD:Z:15\tNH:i:8\tHI:i:1\tNM:i:0\tSM:i:1\tXQ:i:40\tX2:i:40\tXO:Z:UM\tXS:A:-\n",
    "#\n",
    "# all of sequences(reads) shown below will have more than 25nt long bases\n",
    "\n",
    "!samtools view ./../data/binfo1-datapack1/filtered-RPF-siLuc.bam | head"
   ]
  },
  {
   "cell_type": "code",
   "execution_count": 5,
   "metadata": {},
   "outputs": [
    {
     "name": "stdout",
     "output_type": "stream",
     "text": [
      "chr1\t3176534\t3176535\t1\n",
      "chr1\t3196256\t3196257\t1\n",
      "chr1\t3221526\t3221527\t1\n",
      "chr1\t3221542\t3221543\t2\n",
      "chr1\t3221545\t3221546\t3\n",
      "chr1\t3221546\t3221547\t2\n",
      "chr1\t3221548\t3221550\t1\n",
      "chr1\t3221571\t3221572\t1\n",
      "chr1\t3221897\t3221898\t1\n",
      "chr1\t3221994\t3221995\t1\n",
      "\n",
      "MU069435.1\t28275\t28276\t1\n",
      "MU069435.1\t28332\t28333\t2\n",
      "MU069435.1\t28345\t28346\t1\n",
      "MU069435.1\t28477\t28478\t1\n",
      "MU069435.1\t28510\t28511\t4\n",
      "MU069435.1\t28511\t28512\t1\n",
      "MU069435.1\t31081\t31082\t1\n",
      "MU069435.1\t31083\t31084\t3\n",
      "MU069435.1\t31094\t31095\t1\n",
      "MU069435.1\t31098\t31100\t1\n"
     ]
    }
   ],
   "source": [
    "# bedtools-genomecov manual : https://bedtools.readthedocs.io/en/latest/content/tools/genomecov.html\n",
    "#\n",
    "# bedtools-genomecov options\n",
    "# -ibam : BAM file as input\n",
    "# -bg : report genome wide coverage as output in bedgraph format (coverage == mapping of reads)\n",
    "# -5 : calculate coverage of 5'-end position (not entire genome)\n",
    "#\n",
    "# bedtools-genomecov output\n",
    "# 1st column : chromosome (number)\n",
    "# 2nd column : start position in chromosome (0-based, half open)\n",
    "# 3rd column : end position in chromosome (0-based, half open)\n",
    "# 4th column : depth of coverage (depth of coverage == how many read are mapped)\n",
    "\n",
    "!bedtools genomecov -ibam ./../data/binfo1-datapack1/filtered-RPF-siLuc.bam -bg -5 > ./../data/binfo1-datapack1/fivepcounts-RPF-siLuc.bed\n",
    "\n",
    "!head ./../data/binfo1-datapack1/fivepcounts-RPF-siLuc.bed; echo\n",
    "!tail ./../data/binfo1-datapack1/fivepcounts-RPF-siLuc.bed"
   ]
  },
  {
   "cell_type": "code",
   "execution_count": 6,
   "metadata": {},
   "outputs": [
    {
     "name": "stdout",
     "output_type": "stream",
     "text": [
      "chr1\t4878048\t4878049\t1\tchr1\t4878010\t4878205\tENSMUST00000134384.8\t4878136\t+\n",
      "chr1\t4878048\t4878049\t1\tchr1\t4878045\t4878205\tENSMUST00000027036.11\t4878136\t+\n",
      "chr1\t4878077\t4878078\t1\tchr1\t4878010\t4878205\tENSMUST00000134384.8\t4878136\t+\n",
      "chr1\t4878077\t4878078\t1\tchr1\t4878045\t4878205\tENSMUST00000027036.11\t4878136\t+\n",
      "chr1\t4878077\t4878078\t1\tchr1\t4878052\t4878205\tENSMUST00000150971.8\t4878136\t+\n",
      "chr1\t4878101\t4878102\t4\tchr1\t4878010\t4878205\tENSMUST00000134384.8\t4878136\t+\n",
      "chr1\t4878101\t4878102\t4\tchr1\t4878045\t4878205\tENSMUST00000027036.11\t4878136\t+\n",
      "chr1\t4878101\t4878102\t4\tchr1\t4878052\t4878205\tENSMUST00000150971.8\t4878136\t+\n",
      "chr1\t4878103\t4878104\t1\tchr1\t4878010\t4878205\tENSMUST00000134384.8\t4878136\t+\n",
      "chr1\t4878103\t4878104\t1\tchr1\t4878045\t4878205\tENSMUST00000027036.11\t4878136\t+\n",
      "\n",
      "chrY\t84110030\t84110031\t1\tchrY\t84109956\t84110088\tENSMUST00000185776.7\t84109970\t+\n",
      "chrY\t84759363\t84759364\t1\tchrY\t84759361\t84759493\tENSMUST00000186110.2\t84759375\t+\n",
      "chrY\t84759435\t84759436\t1\tchrY\t84759361\t84759493\tENSMUST00000186110.2\t84759375\t+\n",
      "chrY\t86074450\t86074451\t1\tchrY\t86074448\t86074580\tENSMUST00000188754.2\t86074462\t+\n",
      "chrY\t86074522\t86074523\t1\tchrY\t86074448\t86074580\tENSMUST00000188754.2\t86074462\t+\n",
      "chrY\t87129502\t87129503\t1\tchrY\t87129500\t87129632\tENSMUST00000189543.7\t87129514\t+\n",
      "chrY\t87129574\t87129575\t1\tchrY\t87129500\t87129632\tENSMUST00000189543.7\t87129514\t+\n",
      "chrY\t87563721\t87563722\t1\tchrY\t87563647\t87563779\tENSMUST00000186493.2\t87563661\t+\n",
      "chrY\t88065994\t88065995\t1\tchrY\t88065992\t88066124\tENSMUST00000187146.2\t88066006\t+\n",
      "chrY\t88066066\t88066067\t1\tchrY\t88065992\t88066124\tENSMUST00000187146.2\t88066006\t+\n"
     ]
    }
   ],
   "source": [
    "# combine read count data with start_codon_exon data\n",
    "#\n",
    "# -nonamecheck : don't throw an error for the same chromosome with different naming convention. i.e. chr1 vs. chr01\n",
    "# Ref : https://daler.github.io/pybedtools/autodocs/pybedtools.bedtool.BedTool.intersect.html\n",
    "\n",
    "!bedtools intersect -a ./../data/binfo1-datapack1/fivepcounts-RPF-siLuc.bed -b ./../data/binfo1-datapack1/gencode-exons-containing-startcodon.bed \\\n",
    "    -wa -wb -nonamecheck > ./../data/binfo1-datapack1/fivepcounts-filtered-RPF-siLuc.txt\n",
    "\n",
    "!head ./../data/binfo1-datapack1/fivepcounts-filtered-RPF-siLuc.txt; echo\n",
    "!tail ./../data/binfo1-datapack1/fivepcounts-filtered-RPF-siLuc.txt"
   ]
  },
  {
   "cell_type": "code",
   "execution_count": null,
   "metadata": {},
   "outputs": [],
   "source": []
  }
 ],
 "metadata": {
  "interpreter": {
   "hash": "f99c6e046fbfd2e0777a706bb1a0b70937f9351fcbc917ec327ed7214b9d82a5"
  },
  "kernelspec": {
   "display_name": "Python ('bioinfo')",
   "language": "python",
   "name": "python3"
  },
  "language_info": {
   "codemirror_mode": {
    "name": "ipython",
    "version": 3
   },
   "file_extension": ".py",
   "mimetype": "text/x-python",
   "name": "python",
   "nbconvert_exporter": "python",
   "pygments_lexer": "ipython3",
   "version": "3.8.13"
  },
  "orig_nbformat": 4
 },
 "nbformat": 4,
 "nbformat_minor": 2
}
