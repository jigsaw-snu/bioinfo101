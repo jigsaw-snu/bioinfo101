{
 "cells": [
  {
   "cell_type": "code",
   "execution_count": 2,
   "metadata": {},
   "outputs": [
    {
     "name": "stdout",
     "output_type": "stream",
     "text": [
      "chr9\tENSEMBL\tgene\t106056039\t106056126\t.\t+\t.\tgene_id \"ENSMUSG00000065440.3\"; gene_type \"miRNA\"; gene_name \"Mirlet7g\"; level 3; mgi_id \"MGI:2676800\";\n",
      "chr9\tENSEMBL\ttranscript\t106056039\t106056126\t.\t+\t.\tgene_id \"ENSMUSG00000065440.3\"; transcript_id \"ENSMUST00000083506.3\"; gene_type \"miRNA\"; gene_name \"Mirlet7g\"; transcript_type \"miRNA\"; transcript_name \"Mirlet7g-201\"; level 3; transcript_support_level \"NA\"; mgi_id \"MGI:2676800\"; tag \"basic\";\n",
      "chr9\tENSEMBL\texon\t106056039\t106056126\t.\t+\t.\tgene_id \"ENSMUSG00000065440.3\"; transcript_id \"ENSMUST00000083506.3\"; gene_type \"miRNA\"; gene_name \"Mirlet7g\"; transcript_type \"miRNA\"; transcript_name \"Mirlet7g-201\"; exon_number 1; exon_id \"ENSMUSE00000522665.2\"; level 3; transcript_support_level \"NA\"; mgi_id \"MGI:2676800\"; tag \"basic\";\n"
     ]
    }
   ],
   "source": [
    "!ggrep -i mirlet7g ./../data/binfo1-datapack1/gencode.gtf"
   ]
  },
  {
   "cell_type": "code",
   "execution_count": 3,
   "metadata": {},
   "outputs": [
    {
     "name": "stdout",
     "output_type": "stream",
     "text": [
      "     163\n"
     ]
    }
   ],
   "source": [
    "# samtools view options\n",
    "# -b : output file format is 'bam' (binary version of file that contains sequenced reads mapped to reference genome)\n",
    "#      (notice that you can't look into bam file visually since it is binary file)\n",
    "# -o : designate output file name\n",
    "\n",
    "# Mirlet7g gene starts at 106056039 and ends at 106056126\n",
    "\n",
    "!samtools view -b -o ./../data/binfo1-datapack1/CLIP-let7g.bam ./../data/binfo1-datapack1/CLIP-35L33G.bam chr9:106056039-106056126\n",
    "!samtools view ./../data/binfo1-datapack1/CLIP-let7g.bam | wc -l"
   ]
  },
  {
   "cell_type": "code",
   "execution_count": 4,
   "metadata": {},
   "outputs": [
    {
     "name": "stdout",
     "output_type": "stream",
     "text": [
      "[mpileup] 1 samples in 1 input files\n",
      "   68548 ./../data/binfo1-datapack1/CLIP-let7g.pileup\n",
      "\n",
      "chr9\t106007092\tN\t9\t^Ga^Ia^Ha^Ia^Ga^Ga^Ha^Ia^Ia\t<IFIGGHII\n",
      "chr9\t106007093\tN\t9\tggggggggg\tAFGIEGDII\n",
      "chr9\t106007094\tN\t9\tccccccccc\tEHHIGAFEH\n",
      "chr9\t106007095\tN\t9\taaaaaaaaa\t?HDIFA>II\n",
      "chr9\t106007096\tN\t9\taaaaaaaaa\tEHHIG@CHH\n",
      "chr9\t106007097\tN\t9\tttttttttt\t=HGEGDFII\n",
      "chr9\t106007098\tN\t9\taaaaaaaaa\t?HHIGDEII\n",
      "chr9\t106007099\tN\t9\tg-2nng-2nng-2nng-2nng-2nng-2nng-2nng-2nng-2nn\t?IEHGEDII\n",
      "chr9\t106007100\tN\t9\t*********\t8IBIBC@EI\n",
      "chr9\t106007101\tN\t9\t*********\t8IBIBC@EI\n",
      "\n",
      "chr9\t106075630\tN\t9\taaaaaaaaa\tGIHIGGHII\n",
      "chr9\t106075631\tN\t9\tggggggggg\t=IFIE?GII\n",
      "chr9\t106075632\tN\t9\tggggggggg\t4HGIGCBHI\n",
      "chr9\t106075633\tN\t9\tggggggggg\t<IFIDADIH\n",
      "chr9\t106075634\tN\t9\tccccccccc\t?EEIDEGII\n",
      "chr9\t106075635\tN\t9\tttttttttt\t:GGFECDII\n",
      "chr9\t106075636\tN\t9\tccccccccc\t4IDIB?CGI\n",
      "chr9\t106075637\tN\t9\taaaaaaaaa\t7IGIGBCGI\n",
      "chr9\t106075638\tN\t9\tttttttttt\t7GGIGDEGI\n",
      "chr9\t106075639\tN\t9\tt$t$t$t$t$t$t$t$t$\t>IGFDDDGH\n"
     ]
    }
   ],
   "source": [
    "# samtools-mpileup output explanation\n",
    "# ref : http://samtools.sourceforge.net/pileup.shtml\n",
    "# col0 : which chromosome?\n",
    "# col1 : 1-based coordinate\n",
    "# col2 : reference base (if you didn't use FASTA file, then this will show up as 'N')\n",
    "# col3 : number of reads covering the site\n",
    "# col4 : read bases\n",
    "# col5 : base quality scores\n",
    "\n",
    "!samtools mpileup ./../data/binfo1-datapack1/CLIP-let7g.bam > ./../data/binfo1-datapack1/CLIP-let7g.pileup\n",
    "!wc -l ./../data/binfo1-datapack1/CLIP-let7g.pileup; echo\n",
    "!head ./../data/binfo1-datapack1/CLIP-let7g.pileup; echo\n",
    "!tail ./../data/binfo1-datapack1/CLIP-let7g.pileup"
   ]
  },
  {
   "cell_type": "code",
   "execution_count": 5,
   "metadata": {},
   "outputs": [
    {
     "name": "stdout",
     "output_type": "stream",
     "text": [
      "chr9\t106056039\tN\t9\t<<<<<<<<<\tBHEIG?DII\n",
      "chr9\t106056040\tN\t9\t<<<<<<<<<\tBHEIG?DII\n",
      "chr9\t106056041\tN\t9\t<<<<<<<<<\tBHEIG?DII\n",
      "chr9\t106056042\tN\t9\t<<<<<<<<<\tBHEIG?DII\n",
      "chr9\t106056043\tN\t9\t<<<<<<<<<\tBHEIG?DII\n",
      "chr9\t106056044\tN\t9\t<<<<<<<<<\tBHEIG?DII\n",
      "chr9\t106056045\tN\t32\t<<<<<<<<<^HT^DT^IT^GT^HT^HT^IT^GT^IT^HT^HT^IT^IT^HT^HT^GT^HT^GT^HT^HT^HT^IT^GT\tBHEIG?DIIG9GEGGIDGEGFGBG;DDGHDGG\n",
      "chr9\t106056046\tN\t32\t<<<<<<<<<GGGGGGGGGGGGGGGGGGGGGGG\tBHEIG?DIIG<GGGGIGGBGFG?G?GEGHHGG\n",
      "chr9\t106056047\tN\t32\t<<<<<<<<<AAAAAAAAAAAAAAAAAAAAAAA\tBHEIG?DIIG7GEGGI8GHGCG=D4GE@GHGG\n",
      "chr9\t106056048\tN\t32\t<<<<<<<<<GGGGGGGGGGGGGGGGGGGGGGG\tBHEIG?DIIG9GDGGIGGHEFGBG<GDGBHGG\n",
      "\n",
      "chr9\t106056117\tN\t138\t<<<<<<<<<CCCCCCCCCCCCCCCCCCCCCCCCCCCCCCCCCCCCCCCCCCCCCCCCCCCCCCCCCCCCCCCCCCCCCCCCCCCCCCCCCCCCCCCCCCCCCCCCCCCCCCCCCCCCCCCCCCCCCCCCCCCCCCCCC\tBHEIG?DIIHGHII:;HGIIDGGGIIBGEB?>H<GGIIIIDIIGFHIHH9IGG=GGHIDH?DGIBIIHHGGIEIGI8GIDHDG.GGHEDIIDIDGDHIDGIFGHG;DCDDHEE@I?CGG:IHGIBGIHIIDG@DHIGG\n",
      "chr9\t106056118\tN\t139\t<<<<<<<<<CCCCCCCCCCCCCCCCCCCCCCCCCCCCCCCCCCCCCCCCCCCCCCCCCCCCCCCCCCCCCCCCCCCCCCCCCCCCCCCCCCCCCCCCCCCCCCCCCCCCCCCCCCCCCCCCCCCCCCCCCCCCCCCCCC\tBHEIG?DIIHGHII3AHIIIDGGGIIB3EHFBH>GIIIIIIIIIHIIHHAIIGBDGHIDH?GIIGIIHHDIIHIGIGGI=BGG9GIHHHIIGI=IAIIGGIEHGIEBG@DHDE;IBDGG4IGGIGGIIIIGGGDGIH1G\n",
      "chr9\t106056119\tN\t138\t<<<<<<<<<TTTTTTTTTTTTTTTTTTTTTTTTTT$TTTT$TTTTTTTTTTTTTTT$TTTT$TTTTTTT$TTTTTTTTTTTTTTTTTTTTTTTTTTTTTTTTTTTTTTTTTTTTTTTTTTTTTTTTTTTTTTTTTTTTTTTTT\tBHEIG?DIIGEFII:/GIIEDDHDIIF>BH3<HBEGIHIGFIIIBIIBE:HHGD>EGGDH7BIIGGIHHDHIHDEIGEIDHGG;GIHGHHIGD:IGHD:GGEHH?3G87HD</I=DGG=IHHIHBIFII@<HDHHH1G\n",
      "chr9\t106056120\tN\t133\t<<<<<<<<<TTTTTTTTTTTTTTTTTTTTTTTTTTTT$TTTT$TTT$TTTTTTTTTT$TTTTTTTT$TTTTTTTTTTTT$T$TTTTTT$TTTT$TT$TTTTTTTTTTTTTTTTTTT$TTTTTTTTTTTTTTTTTTTTTTTTTTT\tBHEIG?DIIHFBII74BIIIGDIIIIA8DHECHBIIIIIIIIHIIHB?IDGGGFDH?GIIIIHH@GHHGEDDGIEHBEDIHHGIIGI:HBII8DIIHHIBDD;<HDD3HB?@G?HHIIHIIIIIB@HDHDH8G\n",
      "chr9\t106056121\tN\t118\t<<<<<<<<<GGGGGGGGGGGGGGGGGGGG$G$G$G$G$G$G$G$GGGGGG$GG$GGGG$GG$GGGG$G$GGG$GGG$GGG$GGGG$GGGGG$GGGGGGGGG$GGGGGG$GG$GGG$GGG$GGGG$G$GG$GGGGGG$GGGG$G$G$G$G$G$\tBHEIG?DIIB<EDI/7BHHFB<FGHI3?GG>HAIHIFEF@H<<2>D3EE;HBAIIIBH4IHG@DI>G482GGFHID:I9II@BH@>HE8@;<HGI:GGBIDEIBIGIIIE?G@EIH7G\n",
      "chr9\t106056122\tN\t88\t<<<<<<<<<C$C$C$C$C$C$C$C$C$C$C$C$C$CCCCCC$C$C$C$C$C$C$CCC$C$C$C$CC$C$CC$CC$C$C$C$C$C$C$C$C$C$C$C$C$C$CC$C$C$C$C$C$CC$CC$C$CCC$C$C$C$C$CCCCC$CCC$C\tBHEIG?DIIEEGIIC;GIHEGBIIIIB1=FII?FEIGGGHDBIG=HHIIEBHD>EIHIG=I:HGBIIEF?E;DB3HB<GIHIHHEADF\n",
      "chr9\t106056123\tN\t31\t<<<<<<<<<CCCCCCCCCCCCCCCCCCCCCC\tBHEIG?DIIIIII>GIGGIGGD>BIHHHIEH\n",
      "chr9\t106056124\tN\t31\t<<<<<<<<<AAAAAAAAAAAAAAAAAAAAAA\tBHEIG?DIIIIHIGGIGGGIG:9DDBIEGFH\n",
      "chr9\t106056125\tN\t31\t<<<<<<<<<GGGGGGGGGGGGGGGGGGGGGG\tBHEIG?DIIIIIIGGE@GFIGD;GIGIIFHD\n",
      "chr9\t106056126\tN\t30\t<<<<<<<<<GGGGGGGGGGGGGGGGGGGGG\tBHEIG?DIIIIGHGHIGHI>G;GGGIGIHG\n"
     ]
    }
   ],
   "source": [
    "# filter out reads mapped between [106056039, 106056126]\n",
    "\n",
    "!awk '$2 >= 106056039 && $2 <= 106056126 {print $0;}' ./../data/binfo1-datapack1/CLIP-let7g.pileup > ./../data/binfo1-datapack1/CLIP-let7g-gene.pileup\n",
    "!head ./../data/binfo1-datapack1/CLIP-let7g-gene.pileup; echo\n",
    "!tail ./../data/binfo1-datapack1/CLIP-let7g-gene.pileup"
   ]
  },
  {
   "cell_type": "code",
   "execution_count": 6,
   "metadata": {},
   "outputs": [
    {
     "name": "stdout",
     "output_type": "stream",
     "text": [
      "  chrom        pos _ref  count  basereads      quals\n",
      "0  chr9  106056039    N      9  <<<<<<<<<  BHEIG?DII\n",
      "1  chr9  106056040    N      9  <<<<<<<<<  BHEIG?DII\n",
      "2  chr9  106056041    N      9  <<<<<<<<<  BHEIG?DII\n",
      "3  chr9  106056042    N      9  <<<<<<<<<  BHEIG?DII\n",
      "4  chr9  106056043    N      9  <<<<<<<<<  BHEIG?DII \n",
      "\n",
      "   chrom        pos _ref  count  \\\n",
      "83  chr9  106056122    N     88   \n",
      "84  chr9  106056123    N     31   \n",
      "85  chr9  106056124    N     31   \n",
      "86  chr9  106056125    N     31   \n",
      "87  chr9  106056126    N     30   \n",
      "\n",
      "                                            basereads  \\\n",
      "83  <<<<<<<<<C$C$C$C$C$C$C$C$C$C$C$C$C$CCCCCC$C$C$...   \n",
      "84                    <<<<<<<<<CCCCCCCCCCCCCCCCCCCCCC   \n",
      "85                    <<<<<<<<<AAAAAAAAAAAAAAAAAAAAAA   \n",
      "86                    <<<<<<<<<GGGGGGGGGGGGGGGGGGGGGG   \n",
      "87                     <<<<<<<<<GGGGGGGGGGGGGGGGGGGGG   \n",
      "\n",
      "                                                quals  \n",
      "83  BHEIG?DIIEEGIIC;GIHEGBIIIIB1=FII?FEIGGGHDBIG=H...  \n",
      "84                    BHEIG?DIIIIII>GIGGIGGD>BIHHHIEH  \n",
      "85                    BHEIG?DIIIIHIGGIGGGIG:9DDBIEGFH  \n",
      "86                    BHEIG?DIIIIIIGGE@GFIGD;GIGIIFHD  \n",
      "87                     BHEIG?DIIIIGHGHIGHI>G;GGGIGIHG  \n"
     ]
    }
   ],
   "source": [
    "import pandas as pd\n",
    "\n",
    "pileup = pd.read_csv(\n",
    "    './../data/binfo1-datapack1/CLIP-let7g-gene.pileup',\n",
    "    sep='\\t',\n",
    "    names=['chrom', 'pos', '_ref', 'count', 'basereads', 'quals']\n",
    ")\n",
    "\n",
    "print(pileup.head(), '\\n')\n",
    "print(pileup.tail())"
   ]
  },
  {
   "cell_type": "code",
   "execution_count": 7,
   "metadata": {},
   "outputs": [],
   "source": [
    "import re\n",
    "\n",
    "removal = re.compile('[<>$*#^]')\n",
    "\n",
    "# apply + lambda expression in python\n",
    "# ref : https://wikidocs.net/46758\n",
    "\n",
    "# create new column named 'matches'\n",
    "pileup['matches'] = pileup['basereads'].apply(lambda x: removal.sub('', x))"
   ]
  },
  {
   "cell_type": "code",
   "execution_count": 8,
   "metadata": {},
   "outputs": [
    {
     "name": "stdout",
     "output_type": "stream",
     "text": [
      "  chrom        pos matches\n",
      "0  chr9  106056039        \n",
      "1  chr9  106056040        \n",
      "2  chr9  106056041        \n",
      "3  chr9  106056042        \n",
      "4  chr9  106056043         \n",
      "\n",
      "   chrom        pos                                            matches\n",
      "83  chr9  106056122  CCCCCCCCCCCCCCCCCCCCCCCCCCCCCCCCCCCCCCCCCCCCCC...\n",
      "84  chr9  106056123                             CCCCCCCCCCCCCCCCCCCCCC\n",
      "85  chr9  106056124                             AAAAAAAAAAAAAAAAAAAAAA\n",
      "86  chr9  106056125                             GGGGGGGGGGGGGGGGGGGGGG\n",
      "87  chr9  106056126                              GGGGGGGGGGGGGGGGGGGGG\n"
     ]
    }
   ],
   "source": [
    "print(pileup[['chrom', 'pos', 'matches']].head(), '\\n')\n",
    "print(pileup[['chrom', 'pos', 'matches']].tail())"
   ]
  },
  {
   "cell_type": "code",
   "execution_count": 9,
   "metadata": {},
   "outputs": [
    {
     "name": "stdout",
     "output_type": "stream",
     "text": [
      "chrom                                                     chr9\n",
      "pos                                                  106056094\n",
      "_ref                                                         N\n",
      "count                                                      126\n",
      "basereads    <<<<<<<<<GGGGGGAAAAAAAAGGGGGAAAAAAGCCGCAGGATGA...\n",
      "quals        BHEIG?DIIDIEHHCGHGIIEEHIHHGHIIIIG:AGGDH=HHIIII...\n",
      "matches      GGGGGGAAAAAAAAGGGGGAAAAAAGCCGCAGGATGAGGTGATAAG...\n",
      "Name: 55, dtype: object\n"
     ]
    }
   ],
   "source": [
    "print(\n",
    "    pileup[pileup['pos'] == 106056094].iloc[0]\n",
    ")"
   ]
  },
  {
   "cell_type": "code",
   "execution_count": 10,
   "metadata": {},
   "outputs": [
    {
     "name": "stdout",
     "output_type": "stream",
     "text": [
      "GGGGGGAAAAAAAAGGGGGAAAAAAGCCGCAGGATGAGGTGATAAGGGAGGGGTGAAGGGCGGTGAAGGGGAAAAGAGAAAGAAAAATAAAGGGGGAGTGGGAGGAAGAAGAGAATA\n"
     ]
    }
   ],
   "source": [
    "print(\n",
    "    pileup[pileup['pos'] == 106056094].iloc[0]['matches']\n",
    ")"
   ]
  },
  {
   "cell_type": "code",
   "execution_count": 11,
   "metadata": {},
   "outputs": [],
   "source": [
    "# copy data just in case\n",
    "pileup_cp = pileup.copy()"
   ]
  },
  {
   "cell_type": "code",
   "execution_count": 35,
   "metadata": {},
   "outputs": [],
   "source": [
    "# calculate shannon entropy (you may use built-in entropy function from scipy)\n",
    "# ref : https://stackoverflow.com/questions/15450192/fastest-way-to-compute-entropy-in-python\n",
    "\n",
    "import numpy as np\n",
    "import math\n",
    "\n",
    "def seq2entropy(seq):\n",
    "\n",
    "    blen = len(seq)\n",
    "    if blen < 2: return 0\n",
    "\n",
    "    bases, freqs = np.unique(list(seq), return_counts=True)\n",
    "    probs = freqs / blen\n",
    "    if np.count_nonzero(probs) < 2: return 0\n",
    "\n",
    "    info = [-prob * math.log(prob, 2) for prob in probs]\n",
    "\n",
    "    return sum(info)\n"
   ]
  },
  {
   "cell_type": "code",
   "execution_count": 37,
   "metadata": {},
   "outputs": [
    {
     "name": "stdout",
     "output_type": "stream",
     "text": [
      "  chrom        pos _ref  count  basereads      quals matches  entropy\n",
      "0  chr9  106056039    N      9  <<<<<<<<<  BHEIG?DII              0.0\n",
      "1  chr9  106056040    N      9  <<<<<<<<<  BHEIG?DII              0.0\n",
      "2  chr9  106056041    N      9  <<<<<<<<<  BHEIG?DII              0.0\n",
      "3  chr9  106056042    N      9  <<<<<<<<<  BHEIG?DII              0.0\n",
      "4  chr9  106056043    N      9  <<<<<<<<<  BHEIG?DII              0.0 \n",
      "\n",
      "   chrom        pos _ref  count  \\\n",
      "83  chr9  106056122    N     88   \n",
      "84  chr9  106056123    N     31   \n",
      "85  chr9  106056124    N     31   \n",
      "86  chr9  106056125    N     31   \n",
      "87  chr9  106056126    N     30   \n",
      "\n",
      "                                            basereads  \\\n",
      "83  <<<<<<<<<C$C$C$C$C$C$C$C$C$C$C$C$C$CCCCCC$C$C$...   \n",
      "84                    <<<<<<<<<CCCCCCCCCCCCCCCCCCCCCC   \n",
      "85                    <<<<<<<<<AAAAAAAAAAAAAAAAAAAAAA   \n",
      "86                    <<<<<<<<<GGGGGGGGGGGGGGGGGGGGGG   \n",
      "87                     <<<<<<<<<GGGGGGGGGGGGGGGGGGGGG   \n",
      "\n",
      "                                                quals  \\\n",
      "83  BHEIG?DIIEEGIIC;GIHEGBIIIIB1=FII?FEIGGGHDBIG=H...   \n",
      "84                    BHEIG?DIIIIII>GIGGIGGD>BIHHHIEH   \n",
      "85                    BHEIG?DIIIIHIGGIGGGIG:9DDBIEGFH   \n",
      "86                    BHEIG?DIIIIIIGGE@GFIGD;GIGIIFHD   \n",
      "87                     BHEIG?DIIIIGHGHIGHI>G;GGGIGIHG   \n",
      "\n",
      "                                              matches  entropy  \n",
      "83  CCCCCCCCCCCCCCCCCCCCCCCCCCCCCCCCCCCCCCCCCCCCCC...      0.0  \n",
      "84                             CCCCCCCCCCCCCCCCCCCCCC      0.0  \n",
      "85                             AAAAAAAAAAAAAAAAAAAAAA      0.0  \n",
      "86                             GGGGGGGGGGGGGGGGGGGGGG      0.0  \n",
      "87                              GGGGGGGGGGGGGGGGGGGGG      0.0   \n",
      "\n",
      "   chrom        pos _ref  count  \\\n",
      "6   chr9  106056045    N     32   \n",
      "30  chr9  106056069    N     32   \n",
      "33  chr9  106056072    N     40   \n",
      "37  chr9  106056076    N     45   \n",
      "45  chr9  106056084    N     43   \n",
      "\n",
      "                                            basereads  \\\n",
      "6   <<<<<<<<<^HT^DT^IT^GT^HT^HT^IT^GT^IT^HT^HT^IT^...   \n",
      "30                   <<<<<<<<<AAAAAAACAAAAAAAAAAAAAAA   \n",
      "33  <<<<<<<<<GGGGGGGGGGGGGGGGGGGGGGG^HG^HG^HG^IG^I...   \n",
      "37  <<<<<<<<<AAAAAAAAAAAAAAAAAAAAAAAAAAAAAAA^IA^IA...   \n",
      "45  <<<<<<<<<AAAAAAAAAAAAAAAAAAAAAAAAAAAAA^IA^IA^I...   \n",
      "\n",
      "                                            quals  \\\n",
      "6                BHEIG?DIIG9GEGGIDGEGFGBG;DDGHDGG   \n",
      "30               BHEIG?DIIG=IEGHIAIGGIIHBCGGHHHBD   \n",
      "33       BHEIG?DIIG=I=DGI3IGHFFGDCGG<HGICGHHIIHDH   \n",
      "37  BHEIG?DIIGBI?BHI@IDGIGBB>GEDDGDGGHHIHHBHIIHGH   \n",
      "45    BHEIG?DII@IEHGIIGHGHDGBFGHHHIHF@HIIIGIHIIID   \n",
      "\n",
      "                                           matches   entropy  \n",
      "6   HTDTITGTHTHTITGTITHTHTITITHTHTGTHTGTHTHTHTITGT  1.844973  \n",
      "30                         AAAAAAACAAAAAAAAAAAAAAA  0.258019  \n",
      "33         GGGGGGGGGGGGGGGGGGGGGGGHGHGHGIGIGHGGGHG  0.833873  \n",
      "37       AAAAAAAAAAAAAAAAAAAAAAAAAAAAAAAIAIAIAHAIA  0.622984  \n",
      "45         AAAAAAAAAAAAAAAAAAAAAAAAAAAAAIAIAIAIAHA  0.645050  \n"
     ]
    }
   ],
   "source": [
    "# add entropy column\n",
    "pileup['entropy'] = pileup['matches'].apply(seq2entropy)\n",
    "\n",
    "print(pileup.head(), '\\n')\n",
    "print(pileup.tail(), '\\n')\n",
    "print(pileup[pileup['entropy'] > 0.0].head())"
   ]
  },
  {
   "cell_type": "code",
   "execution_count": 67,
   "metadata": {},
   "outputs": [
    {
     "name": "stdout",
     "output_type": "stream",
     "text": [
      "  chrom  chromStart   chromEnd  dataValue\n",
      "0  chr9   106056039  106056048        0.0\n",
      "1  chr9   106056040  106056049        0.0\n",
      "2  chr9   106056041  106056050        0.0\n",
      "3  chr9   106056042  106056051        0.0\n",
      "4  chr9   106056043  106056052        0.0 \n",
      "\n",
      "    chrom  chromStart   chromEnd  dataValue\n",
      "83  chr9   106056122  106056267        0.0\n",
      "84  chr9   106056123  106056154        0.0\n",
      "85  chr9   106056124  106056155        0.0\n",
      "86  chr9   106056125  106056156        0.0\n",
      "87  chr9   106056126  106056156        0.0\n"
     ]
    }
   ],
   "source": [
    "# create bedgraph output\n",
    "# bedgraph format explain : https://genome.ucsc.edu/goldenPath/help/bedgraph.html\n",
    "# 0-based, half open coordinates --> [start, end+1) --> (end+1) - start == read size\n",
    "\n",
    "pileup_bed = pd.DataFrame(columns=['chrom', 'chromStart', 'chromEnd', 'dataValue'])\n",
    "pileup_bed['chrom'] = pileup['chrom']\n",
    "pileup_bed['chromStart'] = pileup['pos']\n",
    "pileup_bed['chromEnd'] = pileup['pos'] + (pileup['basereads'].apply(len))\n",
    "pileup_bed['dataValue'] = pileup['entropy']\n",
    "\n",
    "print(pileup_bed.head(), '\\n\\n', pileup_bed.tail())\n",
    "pileup_bed.to_csv('./../data/binfo1-datapack1/let7g-bedgraph.bedgraph', header=False, index=False, sep=' ')"
   ]
  },
  {
   "cell_type": "code",
   "execution_count": 68,
   "metadata": {},
   "outputs": [
    {
     "name": "stdout",
     "output_type": "stream",
     "text": [
      "track type=bedGraph name=\"Mirlet7g\" desciption=\"Mirlet7g BedGraph\" visibility=full\n",
      "chr9 106056039 106056048 0.0\n",
      "chr9 106056040 106056049 0.0\n",
      "chr9 106056041 106056050 0.0\n",
      "chr9 106056042 106056051 0.0\n",
      "chr9 106056043 106056052 0.0\n",
      "chr9 106056044 106056053 0.0\n",
      "chr9 106056045 106056123 1.8449730805551583\n",
      "chr9 106056046 106056078 0.0\n",
      "chr9 106056047 106056079 0.0\n"
     ]
    }
   ],
   "source": [
    "!gsed -i '1s/^/track type=bedGraph name=\"Mirlet7g\" desciption=\"Mirlet7g BedGraph\" visibility=full\\n/' ./../data/binfo1-datapack1/let7g-bedgraph.bedgraph\n",
    "\n",
    "!head ./../data/binfo1-datapack1/let7g-bedgraph.bedgraph"
   ]
  },
  {
   "cell_type": "code",
   "execution_count": 70,
   "metadata": {},
   "outputs": [
    {
     "data": {
      "image/png": "[encoded data removed]",
      "text/plain": [
       "<Figure size 432x288 with 1 Axes>"
      ]
     },
     "metadata": {
      "needs_background": "light"
     },
     "output_type": "display_data"
    }
   ],
   "source": [
    "# show UCSC browser screenshot\n",
    "# code ref : https://stackoverflow.com/questions/35286540/display-an-image-with-python\n",
    "\n",
    "import matplotlib.image as mpimg\n",
    "import matplotlib.pyplot as plt\n",
    "\n",
    "img = mpimg.imread('./../data/binfo1-datapack1/let7g_ucsc_screenshot.png')\n",
    "imgplot = plt.imshow(img)\n",
    "plt.show()"
   ]
  },
  {
   "cell_type": "markdown",
   "metadata": {},
   "source": [
    "#### Automation"
   ]
  },
  {
   "cell_type": "code",
   "execution_count": null,
   "metadata": {},
   "outputs": [],
   "source": [
    "import subprocess\n",
    "\n",
    "def read_entropy(gene_name, pos_start, pos_end):"
   ]
  },
  {
   "cell_type": "markdown",
   "metadata": {},
   "source": [
    "#### Mirlet7g"
   ]
  },
  {
   "cell_type": "code",
   "execution_count": 73,
   "metadata": {},
   "outputs": [
    {
     "name": "stdout",
     "output_type": "stream",
     "text": [
      "chr9\tENSEMBL\tgene\t106056039\t106056126\t.\t+\t.\tgene_id \"ENSMUSG00000065440.3\"; gene_type \"miRNA\"; gene_name \"Mirlet7g\"; level 3; mgi_id \"MGI:2676800\";\n",
      "chr9\tENSEMBL\ttranscript\t106056039\t106056126\t.\t+\t.\tgene_id \"ENSMUSG00000065440.3\"; transcript_id \"ENSMUST00000083506.3\"; gene_type \"miRNA\"; gene_name \"Mirlet7g\"; transcript_type \"miRNA\"; transcript_name \"Mirlet7g-201\"; level 3; transcript_support_level \"NA\"; mgi_id \"MGI:2676800\"; tag \"basic\";\n",
      "chr9\tENSEMBL\texon\t106056039\t106056126\t.\t+\t.\tgene_id \"ENSMUSG00000065440.3\"; transcript_id \"ENSMUST00000083506.3\"; gene_type \"miRNA\"; gene_name \"Mirlet7g\"; transcript_type \"miRNA\"; transcript_name \"Mirlet7g-201\"; exon_number 1; exon_id \"ENSMUSE00000522665.2\"; level 3; transcript_support_level \"NA\"; mgi_id \"MGI:2676800\"; tag \"basic\";\n"
     ]
    }
   ],
   "source": [
    "!ggrep -i mirlet7g ./../data/binfo1-datapack1/gencode.gtf"
   ]
  },
  {
   "cell_type": "code",
   "execution_count": null,
   "metadata": {},
   "outputs": [],
   "source": []
  },
  {
   "cell_type": "markdown",
   "metadata": {},
   "source": [
    "#### Mirlet7d"
   ]
  },
  {
   "cell_type": "code",
   "execution_count": 71,
   "metadata": {},
   "outputs": [
    {
     "name": "stdout",
     "output_type": "stream",
     "text": [
      "chr13\tENSEMBL\tgene\t48689488\t48689590\t.\t-\t.\tgene_id \"ENSMUSG00000065453.3\"; gene_type \"miRNA\"; gene_name \"Mirlet7d\"; level 3; mgi_id \"MGI:2676796\";\n",
      "chr13\tENSEMBL\ttranscript\t48689488\t48689590\t.\t-\t.\tgene_id \"ENSMUSG00000065453.3\"; transcript_id \"ENSMUST00000083519.3\"; gene_type \"miRNA\"; gene_name \"Mirlet7d\"; transcript_type \"miRNA\"; transcript_name \"Mirlet7d-201\"; level 3; transcript_support_level \"NA\"; mgi_id \"MGI:2676796\"; tag \"basic\";\n",
      "chr13\tENSEMBL\texon\t48689488\t48689590\t.\t-\t.\tgene_id \"ENSMUSG00000065453.3\"; transcript_id \"ENSMUST00000083519.3\"; gene_type \"miRNA\"; gene_name \"Mirlet7d\"; transcript_type \"miRNA\"; transcript_name \"Mirlet7d-201\"; exon_number 1; exon_id \"ENSMUSE00000522678.2\"; level 3; transcript_support_level \"NA\"; mgi_id \"MGI:2676796\"; tag \"basic\";\n"
     ]
    }
   ],
   "source": [
    "!ggrep -i mirlet7d ./../data/binfo1-datapack1/gencode.gtf"
   ]
  },
  {
   "cell_type": "code",
   "execution_count": null,
   "metadata": {},
   "outputs": [],
   "source": []
  },
  {
   "cell_type": "markdown",
   "metadata": {},
   "source": [
    "#### Mirlet7f-1"
   ]
  },
  {
   "cell_type": "code",
   "execution_count": 72,
   "metadata": {},
   "outputs": [
    {
     "name": "stdout",
     "output_type": "stream",
     "text": [
      "chr13\tENSEMBL\tgene\t48691305\t48691393\t.\t-\t.\tgene_id \"ENSMUSG00000105621.3\"; gene_type \"miRNA\"; gene_name \"Mirlet7f-1\"; level 3; mgi_id \"MGI:2676798\";\n",
      "chr13\tENSEMBL\ttranscript\t48691305\t48691393\t.\t-\t.\tgene_id \"ENSMUSG00000105621.3\"; transcript_id \"ENSMUST00000198652.3\"; gene_type \"miRNA\"; gene_name \"Mirlet7f-1\"; transcript_type \"miRNA\"; transcript_name \"Mirlet7f-1-201\"; level 3; transcript_support_level \"NA\"; mgi_id \"MGI:2676798\"; tag \"basic\";\n",
      "chr13\tENSEMBL\texon\t48691305\t48691393\t.\t-\t.\tgene_id \"ENSMUSG00000105621.3\"; transcript_id \"ENSMUST00000198652.3\"; gene_type \"miRNA\"; gene_name \"Mirlet7f-1\"; transcript_type \"miRNA\"; transcript_name \"Mirlet7f-1-201\"; exon_number 1; exon_id \"ENSMUSE00001348852.2\"; level 3; transcript_support_level \"NA\"; mgi_id \"MGI:2676798\"; tag \"basic\";\n"
     ]
    }
   ],
   "source": [
    "!ggrep -i mirlet7f-1 ./../data/binfo1-datapack1/gencode.gtf"
   ]
  },
  {
   "cell_type": "code",
   "execution_count": null,
   "metadata": {},
   "outputs": [],
   "source": []
  }
 ],
 "metadata": {
  "interpreter": {
   "hash": "f99c6e046fbfd2e0777a706bb1a0b70937f9351fcbc917ec327ed7214b9d82a5"
  },
  "kernelspec": {
   "display_name": "Python ('bioinfo')",
   "language": "python",
   "name": "python3"
  },
  "language_info": {
   "codemirror_mode": {
    "name": "ipython",
    "version": 3
   },
   "file_extension": ".py",
   "mimetype": "text/x-python",
   "name": "python",
   "nbconvert_exporter": "python",
   "pygments_lexer": "ipython3",
   "version": "3.8.13"
  },
  "orig_nbformat": 4
 },
 "nbformat": 4,
 "nbformat_minor": 2
}
